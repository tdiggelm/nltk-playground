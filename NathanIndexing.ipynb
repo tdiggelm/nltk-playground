{
 "metadata": {
  "name": "",
  "signature": "sha256:9772d89b4d932b3a7505d02bdaf63d78c8bc5cf3e6db18096200b9eac68b3a01"
 },
 "nbformat": 3,
 "nbformat_minor": 0,
 "worksheets": [
  {
   "cells": [
    {
     "cell_type": "code",
     "collapsed": false,
     "input": [
      "from vectorizer import *"
     ],
     "language": "python",
     "metadata": {},
     "outputs": [],
     "prompt_number": 8
    },
    {
     "cell_type": "code",
     "collapsed": false,
     "input": [
      "model = NathanModel(\"./reuters-cf.hnn\")"
     ],
     "language": "python",
     "metadata": {},
     "outputs": [],
     "prompt_number": 9
    },
    {
     "cell_type": "code",
     "collapsed": false,
     "input": [
      "list(model)[:10]"
     ],
     "language": "python",
     "metadata": {},
     "outputs": [
      {
       "metadata": {},
       "output_type": "pyout",
       "prompt_number": 14,
       "text": [
        "['asian',\n",
        " 'exporters',\n",
        " 'fear',\n",
        " 'damage',\n",
        " 'japan',\n",
        " 'rift',\n",
        " 'mounting',\n",
        " 'trade',\n",
        " 'friction',\n",
        " 'raised']"
       ]
      }
     ],
     "prompt_number": 14
    },
    {
     "cell_type": "code",
     "collapsed": false,
     "input": [
      "list(model.tags())[:10]"
     ],
     "language": "python",
     "metadata": {},
     "outputs": [
      {
       "metadata": {},
       "output_type": "pyout",
       "prompt_number": 17,
       "text": [
        "['doc:test/14826',\n",
        " 'doc:test/14828',\n",
        " 'doc:test/14829',\n",
        " 'doc:test/14832',\n",
        " 'doc:test/14833',\n",
        " 'doc:test/14839',\n",
        " 'doc:test/14840',\n",
        " 'doc:test/14841',\n",
        " 'doc:test/14842',\n",
        " 'doc:test/14843']"
       ]
      }
     ],
     "prompt_number": 17
    },
    {
     "cell_type": "code",
     "collapsed": false,
     "input": [
      "list(model.tags(\"cat:*\"))[:10]"
     ],
     "language": "python",
     "metadata": {},
     "outputs": [
      {
       "metadata": {},
       "output_type": "pyout",
       "prompt_number": 18,
       "text": [
        "['cat:trade',\n",
        " 'cat:tin',\n",
        " 'cat:tea',\n",
        " 'cat:grain',\n",
        " 'cat:groundnut',\n",
        " 'cat:groundnut-oil',\n",
        " 'cat:gold',\n",
        " 'cat:gas',\n",
        " 'cat:gnp',\n",
        " 'cat:crude']"
       ]
      }
     ],
     "prompt_number": 18
    },
    {
     "cell_type": "code",
     "collapsed": false,
     "input": [
      "corpus = model.corpus(\"cat:*\")"
     ],
     "language": "python",
     "metadata": {},
     "outputs": [],
     "prompt_number": 11
    },
    {
     "cell_type": "code",
     "collapsed": false,
     "input": [
      "index = SimilarityMatrix(corpus)"
     ],
     "language": "python",
     "metadata": {},
     "outputs": [],
     "prompt_number": 4
    },
    {
     "cell_type": "code",
     "collapsed": false,
     "input": [
      "corpus.translate(index[model.vectorize_terms(\"gold\")])[:15]"
     ],
     "language": "python",
     "metadata": {},
     "outputs": [
      {
       "metadata": {},
       "output_type": "pyout",
       "prompt_number": 23,
       "text": [
        "[('cat:gold', 0.48537408657462278),\n",
        " ('cat:silver', 0.1606405726538665),\n",
        " ('cat:lead', 0.065245159725682692),\n",
        " ('cat:zinc', 0.063371141170485923),\n",
        " ('cat:platinum', 0.048405193342550057),\n",
        " ('cat:strategic-metal', 0.025649444309098421),\n",
        " ('cat:copper', 0.022982281560059246),\n",
        " ('cat:palladium', 0.019813028829255661),\n",
        " ('cat:acq', 0.018433359640829022),\n",
        " ('cat:earn', 0.017326198199877522),\n",
        " ('cat:nickel', 0.011777385707576037),\n",
        " ('cat:money-fx', 0.0035410655966549259),\n",
        " ('cat:nat-gas', 0.0035407461964198292),\n",
        " ('cat:reserves', 0.0030990229113308184),\n",
        " ('cat:crude', 0.0027547413837740943)]"
       ]
      }
     ],
     "prompt_number": 23
    },
    {
     "cell_type": "code",
     "collapsed": false,
     "input": [
      "corpus.translate(index[model.vectorize_terms(\"metal\")])[:15]"
     ],
     "language": "python",
     "metadata": {},
     "outputs": [
      {
       "metadata": {},
       "output_type": "pyout",
       "prompt_number": 20,
       "text": [
        "[('cat:lead', 0.29583881161079273),\n",
        " ('cat:zinc', 0.26631853378832893),\n",
        " ('cat:copper', 0.16312658198023522),\n",
        " ('cat:alum', 0.086370555042939279),\n",
        " ('cat:nickel', 0.038837725326753288),\n",
        " ('cat:tin', 0.037507164050808249),\n",
        " ('cat:silver', 0.035130098098402576),\n",
        " ('cat:iron-steel', 0.017007129979942963),\n",
        " ('cat:gold', 0.013948860333247588),\n",
        " ('cat:wpi', 0.013559275501745986),\n",
        " ('cat:strategic-metal', 0.013442957357097036),\n",
        " ('cat:acq', 0.0068103947620269962),\n",
        " ('cat:ship', 0.0055364747103628072),\n",
        " ('cat:cotton', 0.0034238760440379336),\n",
        " ('cat:earn', 0.0027680381591749762)]"
       ]
      }
     ],
     "prompt_number": 20
    },
    {
     "cell_type": "code",
     "collapsed": false,
     "input": [
      "from gensim import corpora, models, similarities\n",
      "lsi = models.LsiModel(corpus)\n",
      "index_lsi = similarities.MatrixSimilarity(lsi[corpus])"
     ],
     "language": "python",
     "metadata": {},
     "outputs": [
      {
       "output_type": "stream",
       "stream": "stderr",
       "text": [
        "WARNING:gensim.models.lsimodel:no word id mapping provided; initializing from corpus, assuming identity\n"
       ]
      },
      {
       "output_type": "stream",
       "stream": "stderr",
       "text": [
        "WARNING:gensim.similarities.docsim:scanning corpus to determine the number of features (consider setting `num_features` explicitly)\n"
       ]
      }
     ],
     "prompt_number": 25
    },
    {
     "cell_type": "code",
     "collapsed": false,
     "input": [
      "corpus.translate(index_lsi[lsi[model.vectorize_terms(\"gold\")]])[:15]"
     ],
     "language": "python",
     "metadata": {},
     "outputs": [
      {
       "metadata": {},
       "output_type": "pyout",
       "prompt_number": 28,
       "text": [
        "[('cat:gold', 0.98913175),\n",
        " ('cat:silver', 0.32736549),\n",
        " ('cat:lead', 0.13296148),\n",
        " ('cat:zinc', 0.12914248),\n",
        " ('cat:platinum', 0.09864375),\n",
        " ('cat:strategic-metal', 0.052270394),\n",
        " ('cat:copper', 0.046835061),\n",
        " ('cat:palladium', 0.040376533),\n",
        " ('cat:acq', 0.037564859),\n",
        " ('cat:earn', 0.035308644),\n",
        " ('cat:nickel', 0.024000866),\n",
        " ('cat:money-fx', 0.0072162524),\n",
        " ('cat:nat-gas', 0.0072156009),\n",
        " ('cat:reserves', 0.0063154241),\n",
        " ('cat:crude', 0.0056138197)]"
       ]
      }
     ],
     "prompt_number": 28
    },
    {
     "cell_type": "code",
     "collapsed": false,
     "input": [
      "corpus.translate(index_lsi[lsi[model.vectorize_terms(\"metal\")]])[:15]"
     ],
     "language": "python",
     "metadata": {},
     "outputs": [
      {
       "metadata": {},
       "output_type": "pyout",
       "prompt_number": 27,
       "text": [
        "[('cat:lead', 0.85197276),\n",
        " ('cat:zinc', 0.76695865),\n",
        " ('cat:copper', 0.46978089),\n",
        " ('cat:alum', 0.24873465),\n",
        " ('cat:nickel', 0.11184694),\n",
        " ('cat:tin', 0.10801516),\n",
        " ('cat:silver', 0.10116968),\n",
        " ('cat:iron-steel', 0.048978068),\n",
        " ('cat:gold', 0.040170677),\n",
        " ('cat:wpi', 0.039048713),\n",
        " ('cat:strategic-metal', 0.038713772),\n",
        " ('cat:acq', 0.019612951),\n",
        " ('cat:ship', 0.015944235),\n",
        " ('cat:cotton', 0.0098602567),\n",
        " ('cat:earn', 0.0079715485)]"
       ]
      }
     ],
     "prompt_number": 27
    },
    {
     "cell_type": "code",
     "collapsed": false,
     "input": [
      "corpus.translate(index_lsi[lsi[model.vectorize_tag('doc:test/14829')]])"
     ],
     "language": "python",
     "metadata": {},
     "outputs": [
      {
       "metadata": {},
       "output_type": "pyout",
       "prompt_number": 29,
       "text": [
        "[('cat:nat-gas', 0.97749776),\n",
        " ('cat:crude', 0.33074489),\n",
        " ('cat:tin', 0.15548719),\n",
        " ('cat:trade', 0.040797573),\n",
        " ('cat:alum', 0.034866385),\n",
        " ('cat:gas', 0.032196525),\n",
        " ('cat:wpi', 0.02911108),\n",
        " ('cat:cpi', 0.021629902),\n",
        " ('cat:reserves', 0.014583208),\n",
        " ('cat:earn', 0.014034794),\n",
        " ('cat:gnp', 0.010851766),\n",
        " ('cat:money-fx', 0.0099279126),\n",
        " ('cat:cocoa', 0.0081897238),\n",
        " ('cat:interest', 0.0073415847),\n",
        " ('cat:grain', 0.0073130345),\n",
        " ('cat:wheat', 0.0068338304),\n",
        " ('cat:acq', 0.0066734096),\n",
        " ('cat:dlr', 0.0063444744),\n",
        " ('cat:veg-oil', 0.0060962723),\n",
        " ('cat:corn', 0.0058956654),\n",
        " ('cat:yen', 0.0057295314),\n",
        " ('cat:money-supply', 0.0057180701),\n",
        " ('cat:bop', 0.0055848025),\n",
        " ('cat:sugar', 0.0053805523),\n",
        " ('cat:jobs', 0.0033731116),\n",
        " ('cat:propane', 0.0032221419),\n",
        " ('cat:dmk', 0.0029125391),\n",
        " ('cat:ship', 0.0025504434),\n",
        " ('cat:heat', 0.001856468),\n",
        " ('cat:coffee', 0.0016600315),\n",
        " ('cat:sorghum', 0.0013535108),\n",
        " ('cat:rubber', 0.001250415),\n",
        " ('cat:oilseed', 0.0011422569),\n",
        " ('cat:sunseed', 0.0011283902),\n",
        " ('cat:carcass', 0.0010991351),\n",
        " ('cat:soybean', 0.0010969547),\n",
        " ('cat:groundnut', 0.0010341319),\n",
        " ('cat:iron-steel', 0.00093120494),\n",
        " ('cat:barley', 0.00090317521),\n",
        " ('cat:rice', 0.00083144056),\n",
        " ('cat:ipi', 0.0007130811),\n",
        " ('cat:livestock', 0.00066238595),\n",
        " ('cat:cotton', 0.00063474121),\n",
        " ('cat:fuel', 0.00044139958),\n",
        " ('cat:lumber', 0.00041392382),\n",
        " ('cat:zinc', 0.00040004533),\n",
        " ('cat:soy-oil', 0.00032972393),\n",
        " ('cat:soy-meal', 0.00032546936),\n",
        " ('cat:oat', 0.00029076333),\n",
        " ('cat:meal-feed', 0.00028581973),\n",
        " ('cat:rapeseed', 0.00025458541),\n",
        " ('cat:copper', 0.00023602672),\n",
        " ('cat:income', 0.00020850638),\n",
        " ('cat:palm-oil', 0.00020686854),\n",
        " ('cat:gold', 0.0001915452),\n",
        " ('cat:nzdlr', 0.00017246038),\n",
        " ('cat:strategic-metal', 0.00013804925),\n",
        " ('cat:retail', 0.00012735164),\n",
        " ('cat:lead', 0.0001064047),\n",
        " ('cat:tea', 0.0001018045),\n",
        " ('cat:dfl', 9.5952208e-05),\n",
        " ('cat:pet-chem', 9.5325238e-05),\n",
        " ('cat:cpu', 7.4135045e-05),\n",
        " ('cat:lin-oil', 6.9082198e-05),\n",
        " ('cat:jet', 5.8480135e-05),\n",
        " ('cat:silver', 5.7514862e-05),\n",
        " ('cat:sun-meal', 4.1860734e-05),\n",
        " ('cat:sun-oil', 4.0776533e-05),\n",
        " ('cat:rape-oil', 4.0575847e-05),\n",
        " ('cat:groundnut-oil', 3.5448003e-05),\n",
        " ('cat:lei', 3.4185156e-05),\n",
        " ('cat:housing', 3.3597236e-05),\n",
        " ('cat:orange', 2.84287e-05),\n",
        " ('cat:hog', 2.6195139e-05),\n",
        " ('cat:coconut-oil', 2.2314436e-05),\n",
        " ('cat:rand', 2.1931441e-05),\n",
        " ('cat:cotton-oil', 1.6327773e-05),\n",
        " ('cat:platinum', 1.3999987e-05),\n",
        " ('cat:l-cattle', 6.9390744e-06),\n",
        " ('cat:nickel', 6.5181771e-06),\n",
        " ('cat:instal-debt', 4.3166492e-06),\n",
        " ('cat:naphtha', 3.7598475e-06),\n",
        " ('cat:palmkernel', 2.981832e-06),\n",
        " ('cat:potato', 2.8763711e-06),\n",
        " ('cat:rye', 2.7752212e-06),\n",
        " ('cat:copra-cake', 1.5134319e-06),\n",
        " ('cat:coconut', 1.1594966e-06),\n",
        " ('cat:nkr', 8.7032163e-07),\n",
        " ('cat:castor-oil', 5.943557e-07),\n",
        " ('cat:palladium', 6.6764983e-08)]"
       ]
      }
     ],
     "prompt_number": 29
    },
    {
     "cell_type": "code",
     "collapsed": false,
     "input": [],
     "language": "python",
     "metadata": {},
     "outputs": []
    }
   ],
   "metadata": {}
  }
 ]
}