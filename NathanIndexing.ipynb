{
 "metadata": {
  "name": "",
  "signature": "sha256:aebb1ffb880b7be92743399da2abd1080d43ec92f2e46a6044be3708963fb1b2"
 },
 "nbformat": 3,
 "nbformat_minor": 0,
 "worksheets": [
  {
   "cells": [
    {
     "cell_type": "code",
     "collapsed": false,
     "input": [
      "from vectorizer import *"
     ],
     "language": "python",
     "metadata": {},
     "outputs": [],
     "prompt_number": 8
    },
    {
     "cell_type": "code",
     "collapsed": false,
     "input": [
      "model = NathanModel(\"./reuters-cf.hnn\")"
     ],
     "language": "python",
     "metadata": {},
     "outputs": [],
     "prompt_number": 9
    },
    {
     "cell_type": "code",
     "collapsed": false,
     "input": [
      "list(model)[:10]"
     ],
     "language": "python",
     "metadata": {},
     "outputs": [
      {
       "metadata": {},
       "output_type": "pyout",
       "prompt_number": 14,
       "text": [
        "['asian',\n",
        " 'exporters',\n",
        " 'fear',\n",
        " 'damage',\n",
        " 'japan',\n",
        " 'rift',\n",
        " 'mounting',\n",
        " 'trade',\n",
        " 'friction',\n",
        " 'raised']"
       ]
      }
     ],
     "prompt_number": 14
    },
    {
     "cell_type": "code",
     "collapsed": false,
     "input": [
      "list(model.tags())[:10]"
     ],
     "language": "python",
     "metadata": {},
     "outputs": [
      {
       "metadata": {},
       "output_type": "pyout",
       "prompt_number": 17,
       "text": [
        "['doc:test/14826',\n",
        " 'doc:test/14828',\n",
        " 'doc:test/14829',\n",
        " 'doc:test/14832',\n",
        " 'doc:test/14833',\n",
        " 'doc:test/14839',\n",
        " 'doc:test/14840',\n",
        " 'doc:test/14841',\n",
        " 'doc:test/14842',\n",
        " 'doc:test/14843']"
       ]
      }
     ],
     "prompt_number": 17
    },
    {
     "cell_type": "code",
     "collapsed": false,
     "input": [
      "list(model.tags(\"cat:*\"))[:10]"
     ],
     "language": "python",
     "metadata": {},
     "outputs": [
      {
       "metadata": {},
       "output_type": "pyout",
       "prompt_number": 18,
       "text": [
        "['cat:trade',\n",
        " 'cat:tin',\n",
        " 'cat:tea',\n",
        " 'cat:grain',\n",
        " 'cat:groundnut',\n",
        " 'cat:groundnut-oil',\n",
        " 'cat:gold',\n",
        " 'cat:gas',\n",
        " 'cat:gnp',\n",
        " 'cat:crude']"
       ]
      }
     ],
     "prompt_number": 18
    },
    {
     "cell_type": "code",
     "collapsed": false,
     "input": [
      "corpus = model.corpus(\"cat:*\")"
     ],
     "language": "python",
     "metadata": {},
     "outputs": [],
     "prompt_number": 11
    },
    {
     "cell_type": "code",
     "collapsed": false,
     "input": [
      "index = SimilarityMatrix(corpus)"
     ],
     "language": "python",
     "metadata": {},
     "outputs": [],
     "prompt_number": 4
    },
    {
     "cell_type": "code",
     "collapsed": false,
     "input": [
      "corpus.translate(index[model.vectorize_terms(\"gold\")])[:15]"
     ],
     "language": "python",
     "metadata": {},
     "outputs": [
      {
       "metadata": {},
       "output_type": "pyout",
       "prompt_number": 30,
       "text": [
        "[('cat:gold', 0.48512992983491754),\n",
        " ('cat:silver', 0.16056469693301384),\n",
        " ('cat:lead', 0.0652159726496329),\n",
        " ('cat:zinc', 0.063347009546603009),\n",
        " ('cat:platinum', 0.048231482737759353),\n",
        " ('cat:strategic-metal', 0.02558447611978993),\n",
        " ('cat:copper', 0.022903059203624364),\n",
        " ('cat:palladium', 0.01968295952878556),\n",
        " ('cat:acq', 0.018399553958949436),\n",
        " ('cat:earn', 0.017312549972277602),\n",
        " ('cat:nickel', 0.011699111876440493),\n",
        " ('cat:money-fx', 0.0035297117828994675),\n",
        " ('cat:nat-gas', 0.003524859019688107),\n",
        " ('cat:reserves', 0.0030730453398722947),\n",
        " ('cat:crude', 0.0027464469607742154)]"
       ]
      }
     ],
     "prompt_number": 30
    },
    {
     "cell_type": "code",
     "collapsed": false,
     "input": [
      "corpus.translate(index[model.vectorize_terms(\"metal\")])[:15]"
     ],
     "language": "python",
     "metadata": {},
     "outputs": [
      {
       "metadata": {},
       "output_type": "pyout",
       "prompt_number": 16,
       "text": [
        "[('cat:lead', 0.29583881161079273),\n",
        " ('cat:zinc', 0.26631853378832893),\n",
        " ('cat:copper', 0.16312658198023522),\n",
        " ('cat:alum', 0.086370555042939279),\n",
        " ('cat:nickel', 0.038837725326753288),\n",
        " ('cat:tin', 0.037507164050808249),\n",
        " ('cat:silver', 0.035130098098402576),\n",
        " ('cat:iron-steel', 0.017007129979942963),\n",
        " ('cat:gold', 0.013948860333247588),\n",
        " ('cat:wpi', 0.013559275501745986),\n",
        " ('cat:strategic-metal', 0.013442957357097036),\n",
        " ('cat:acq', 0.0068103947620269962),\n",
        " ('cat:ship', 0.0055364747103628072),\n",
        " ('cat:cotton', 0.0034238760440379336),\n",
        " ('cat:earn', 0.0027680381591749762)]"
       ]
      }
     ],
     "prompt_number": 16
    },
    {
     "cell_type": "code",
     "collapsed": false,
     "input": [
      "from gensim import corpora, models, similarities\n",
      "lsi = models.LsiModel(corpus)\n",
      "index_lsi = similarities.MatrixSimilarity(lsi[corpus])"
     ],
     "language": "python",
     "metadata": {},
     "outputs": [
      {
       "output_type": "stream",
       "stream": "stderr",
       "text": [
        "WARNING:gensim.models.lsimodel:no word id mapping provided; initializing from corpus, assuming identity\n"
       ]
      },
      {
       "output_type": "stream",
       "stream": "stderr",
       "text": [
        "WARNING:gensim.similarities.docsim:scanning corpus to determine the number of features (consider setting `num_features` explicitly)\n"
       ]
      }
     ],
     "prompt_number": 17
    },
    {
     "cell_type": "code",
     "collapsed": false,
     "input": [
      "corpus.translate(index_lsi[lsi[model.vectorize_terms(\"gold\")]])[:15]"
     ],
     "language": "python",
     "metadata": {},
     "outputs": [
      {
       "metadata": {},
       "output_type": "pyout",
       "prompt_number": 21,
       "text": [
        "[('cat:gold', 0.98913175),\n",
        " ('cat:silver', 0.32736549),\n",
        " ('cat:lead', 0.13296148),\n",
        " ('cat:zinc', 0.12914248),\n",
        " ('cat:platinum', 0.09864375),\n",
        " ('cat:strategic-metal', 0.052270394),\n",
        " ('cat:copper', 0.046835061),\n",
        " ('cat:palladium', 0.040376533),\n",
        " ('cat:acq', 0.037564859),\n",
        " ('cat:earn', 0.035308644),\n",
        " ('cat:nickel', 0.024000866),\n",
        " ('cat:money-fx', 0.0072162524),\n",
        " ('cat:nat-gas', 0.0072156009),\n",
        " ('cat:reserves', 0.0063154241),\n",
        " ('cat:crude', 0.0056138197)]"
       ]
      }
     ],
     "prompt_number": 21
    },
    {
     "cell_type": "code",
     "collapsed": false,
     "input": [
      "corpus.translate(index_lsi[lsi[model.vectorize_terms(\"metal\")]])[:15]"
     ],
     "language": "python",
     "metadata": {},
     "outputs": [
      {
       "metadata": {},
       "output_type": "pyout",
       "prompt_number": 22,
       "text": [
        "[('cat:lead', 0.85197276),\n",
        " ('cat:zinc', 0.76695865),\n",
        " ('cat:copper', 0.46978089),\n",
        " ('cat:alum', 0.24873465),\n",
        " ('cat:nickel', 0.11184694),\n",
        " ('cat:tin', 0.10801516),\n",
        " ('cat:silver', 0.10116968),\n",
        " ('cat:iron-steel', 0.048978068),\n",
        " ('cat:gold', 0.040170677),\n",
        " ('cat:wpi', 0.039048713),\n",
        " ('cat:strategic-metal', 0.038713772),\n",
        " ('cat:acq', 0.019612951),\n",
        " ('cat:ship', 0.015944235),\n",
        " ('cat:cotton', 0.0098602567),\n",
        " ('cat:earn', 0.0079715485)]"
       ]
      }
     ],
     "prompt_number": 22
    },
    {
     "cell_type": "code",
     "collapsed": false,
     "input": [],
     "language": "python",
     "metadata": {},
     "outputs": []
    }
   ],
   "metadata": {}
  }
 ]
}