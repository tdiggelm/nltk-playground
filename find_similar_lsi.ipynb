{
 "metadata": {
  "name": "",
  "signature": "sha256:f9b72a538d3d6b00a5f1c505cf6ddc11daeef933ca30523aa8c2689640b9f861"
 },
 "nbformat": 3,
 "nbformat_minor": 0,
 "worksheets": [
  {
   "cells": [
    {
     "cell_type": "code",
     "collapsed": false,
     "input": [
      "import logging\n",
      "logging.basicConfig(format='%(asctime)s : %(levelname)s : %(message)s', level=logging.DEBUG)"
     ],
     "language": "python",
     "metadata": {},
     "outputs": [],
     "prompt_number": 1
    },
    {
     "cell_type": "code",
     "collapsed": false,
     "input": [
      "%matplotlib inline\n",
      "import matplotlib.pyplot as plt\n",
      "import numpy as np\n",
      "from vectorizer import *\n",
      "from gensim import corpora, models, similarities\n",
      "from nltk.corpus import reuters"
     ],
     "language": "python",
     "metadata": {},
     "outputs": [],
     "prompt_number": 2
    },
    {
     "cell_type": "code",
     "collapsed": false,
     "input": [
      "%%capture\n",
      "model = NathanModel(\"./reuters-cf.hnn\")\n",
      "corpus = model.corpus(\"doc:*\")"
     ],
     "language": "python",
     "metadata": {},
     "outputs": [],
     "prompt_number": 3
    },
    {
     "cell_type": "code",
     "collapsed": false,
     "input": [
      "try:\n",
      "    logging.warning(\"loading lsi model...\")\n",
      "    lsi = models.LsiModel.load(\"./lsi.model\")\n",
      "except:\n",
      "    logging.warning(\"creating lsi model...\")\n",
      "    lsi = models.LsiModel(corpus, num_topics=80,chunksize=2000)\n",
      "    lsi.save(\"./lsi.model\")"
     ],
     "language": "python",
     "metadata": {},
     "outputs": [
      {
       "output_type": "stream",
       "stream": "stderr",
       "text": [
        "WARNING:root:loading lsi model...\n"
       ]
      }
     ],
     "prompt_number": 4
    },
    {
     "cell_type": "code",
     "collapsed": false,
     "input": [
      "try:\n",
      "    logging.warning(\"loading index model...\")\n",
      "    index = similarities.MatrixSimilarity.load(\"./index.model\")\n",
      "except:\n",
      "    logging.warning(\"creating index model...\")\n",
      "    index = similarities.MatrixSimilarity(lsi[corpus], num_features=80, chunksize=2000)\n",
      "    index.save(\"./index.model\")"
     ],
     "language": "python",
     "metadata": {},
     "outputs": [
      {
       "output_type": "stream",
       "stream": "stderr",
       "text": [
        "WARNING:root:loading index model...\n"
       ]
      }
     ],
     "prompt_number": 33
    },
    {
     "cell_type": "code",
     "collapsed": false,
     "input": [
      "def match_categories(fileid):\n",
      "    matches = index[lsi[model.transform_sents(reuters.sents(fileid))]]\n",
      "    return [(cat[4:], score) for cat, score in corpus.translate_similarities(matches)]\n",
      "\n",
      "def test_acc(fileid):\n",
      "    matches = index[lsi[model.transform_sents(reuters.sents(fileid))]]\n",
      "    fileid_match, _ = corpus.translate_similarities(matches)[0]\n",
      "    print(fileid, fileid_match)\n",
      "    return 1 if fileid == fileid_match[4:] else 0\n",
      "\n",
      "def print_matches(sim_vec):\n",
      "    matches = corpus.translate_similarities(index[lsi[sim_vec]])\n",
      "    for fileid, score in matches[:10]:\n",
      "        fileid = fileid[4:]\n",
      "        categories = reuters.categories(fileid)\n",
      "        text = reuters.raw(fileid)\n",
      "        print(\"FILE:       %s\" % fileid)\n",
      "        print(\"SCORE:      %0.2f\" % score)\n",
      "        print(\"CATEGORIES: %s\" % \", \".join(categories))\n",
      "        print(text[:250] + \"...\" if len(text) > 250 else \"\")\n",
      "        print()\n",
      "        \n",
      "def match_file(fileid):\n",
      "    print(\"MATCHES FOR %s\" % fileid)\n",
      "    print('-' * 80)\n",
      "    print()\n",
      "    print_matches(model.transform_tag(\"doc:%s\" % fileid))\n",
      "    \n",
      "def match_url(url):\n",
      "    print(\"MATCHES FOR %s\" % url)\n",
      "    print('-' * 80)\n",
      "    print()\n",
      "    print_matches(model.transform_url(url))\n",
      "    \n",
      "def match_text(text):\n",
      "    print(\"MATCHES FOR '%s...'\" % text[:50])\n",
      "    print('-' * 80)\n",
      "    print()\n",
      "    print_matches(model.transform_text(text))\n",
      "    \n",
      "def match_terms(*terms):\n",
      "    print(\"MATCHES FOR '%s\" % \"', '\".join(terms) + \"'\")\n",
      "    print('-' * 80)\n",
      "    print()\n",
      "    print_matches(model.transform_terms(*terms))\n",
      "\n",
      "testids = [fileid for fileid in reuters.fileids() if fileid.startswith(\"test\")]\n",
      "\n",
      "repoids = [fileid for fileid in reuters.fileids() if fileid.startswith(\"training\")]"
     ],
     "language": "python",
     "metadata": {},
     "outputs": [],
     "prompt_number": 34
    },
    {
     "cell_type": "code",
     "collapsed": false,
     "input": [
      "%%capture\n",
      "a_s = np.array([test_acc(fileid) for fileid in repoids[:100]])"
     ],
     "language": "python",
     "metadata": {},
     "outputs": []
    },
    {
     "cell_type": "code",
     "collapsed": false,
     "input": [
      "plt.hist(a_s);\n",
      "plt.axvline(a_s.mean(), color='r', linestyle='solid', linewidth=1);\n",
      "print(\"accuracy: %s\" % a_s.mean())"
     ],
     "language": "python",
     "metadata": {},
     "outputs": []
    },
    {
     "cell_type": "code",
     "collapsed": false,
     "input": [
      "match_file(repoids[2])"
     ],
     "language": "python",
     "metadata": {},
     "outputs": []
    },
    {
     "cell_type": "code",
     "collapsed": false,
     "input": [
      "match_terms(\"metal\", \"shiny\")"
     ],
     "language": "python",
     "metadata": {},
     "outputs": []
    },
    {
     "cell_type": "code",
     "collapsed": false,
     "input": [
      "match_terms(\"metal\")"
     ],
     "language": "python",
     "metadata": {},
     "outputs": []
    },
    {
     "cell_type": "code",
     "collapsed": false,
     "input": [
      "match_url(\"http://en.wikipedia.org/wiki/Gold\")"
     ],
     "language": "python",
     "metadata": {},
     "outputs": []
    },
    {
     "cell_type": "code",
     "collapsed": false,
     "input": [
      "match_text(\"\"\"Gold is a chemical element with the symbol Au and atomic number 79. It is a dense, soft, malleable and ductile metal with a bright yellow color and luster, the properties of which remain without tarnishing when exposed to air or water. Chemically, gold is a transition metal and a group 11 element. It is one of the least reactive chemical elements, and is solid under standard conditions. The metal therefore occurs often in free elemental (native) form, as nuggets or grains, in rocks, in veins and in alluvial deposits. Less commonly, it occurs in minerals as gold compounds, such as with tellurium as calaverite, sylvanite, or krennerite.\"\"\")"
     ],
     "language": "python",
     "metadata": {},
     "outputs": []
    },
    {
     "cell_type": "code",
     "collapsed": false,
     "input": [
      "def associate_all(vocab,limit=None):\n",
      "    size = len(vocab)\n",
      "    for i, term in enumerate(vocab):\n",
      "        if not limit is None and i >= limit:\n",
      "            raise StopIteration()\n",
      "        if i % 10 == 0:\n",
      "            print(\"processing %s of %s words...\" % (i, size))\n",
      "        yield model.transform_terms(term)"
     ],
     "language": "python",
     "metadata": {},
     "outputs": []
    },
    {
     "cell_type": "code",
     "collapsed": false,
     "input": [
      "mat=vstack(lil_matrix(m) for m in associate_all(model.vocab))"
     ],
     "language": "python",
     "metadata": {},
     "outputs": []
    },
    {
     "cell_type": "code",
     "collapsed": false,
     "input": [
      "import pickle\n",
      "with open('terms.dat', 'wb') as outfile:\n",
      "    pickle.dump(mat, outfile, pickle.HIGHEST_PROTOCOL)"
     ],
     "language": "python",
     "metadata": {},
     "outputs": []
    },
    {
     "cell_type": "code",
     "collapsed": false,
     "input": [
      "import pickle\n",
      "with open('terms.dat', 'rb') as infile:\n",
      "    mat = pickle.load(infile)"
     ],
     "language": "python",
     "metadata": {},
     "outputs": [],
     "prompt_number": 6
    },
    {
     "cell_type": "code",
     "collapsed": false,
     "input": [
      "from numpy.linalg import norm\n",
      "mean=[1*model.transform_terms(\"computer\").A[0],-1*model.transform_terms(\"apple\").A[0], 1*model.transform_terms(\"finance\").A[0]]\n",
      "sims = np.array(mean).mean(axis=0)*mat\n",
      "sims = sims/norm(sims)\n",
      "model.vocab.translate(sims)"
     ],
     "language": "python",
     "metadata": {},
     "outputs": []
    },
    {
     "cell_type": "code",
     "collapsed": false,
     "input": [
      "from numpy import float32 as REAL\n",
      "from numpy.linalg import norm\n",
      "def similar_to(positive, negative=[]):\n",
      "    mean = []\n",
      "    positive = (1 * model.transform_terms(v).A[0] for v in positive)\n",
      "    negative = (-1 * model.transform_terms(v).A[0] for v in negative)\n",
      "    mean = [v for v in chain(positive, negative)]\n",
      "    mean = np.array(mean).mean(axis=0).astype(REAL)\n",
      "    mean = mean / norm(mean)\n",
      "    sims =  mat * mean\n",
      "    #sims = sims / norm(sims)\n",
      "    return sims"
     ],
     "language": "python",
     "metadata": {},
     "outputs": [],
     "prompt_number": 60
    },
    {
     "cell_type": "code",
     "collapsed": false,
     "input": [
      "feat = similar_to(positive=[\"metal\"],negative=[\"gold\"])"
     ],
     "language": "python",
     "metadata": {},
     "outputs": [],
     "prompt_number": 69
    },
    {
     "cell_type": "code",
     "collapsed": false,
     "input": [
      "model.vocab.translate(score for _, score in lsi[list(enumerate(feat))])[:10]"
     ],
     "language": "python",
     "metadata": {},
     "outputs": [
      {
       "metadata": {},
       "output_type": "pyout",
       "prompt_number": 80,
       "text": [
        "[('mln', 0.065987071910603337),\n",
        " ('electronics', 0.055817360719644521),\n",
        " ('loss', 0.051153114634401954),\n",
        " ('goods', 0.037179327767293338),\n",
        " ('new', 0.033528382256490886),\n",
        " ('dlrs', 0.033117422241836829),\n",
        " ('firms', 0.029438836757897976),\n",
        " ('might', 0.027280321077237026),\n",
        " ('semiconductors', 0.024865113119557185),\n",
        " ('april', 0.024607295560874348)]"
       ]
      }
     ],
     "prompt_number": 80
    },
    {
     "cell_type": "code",
     "collapsed": false,
     "input": [
      "model.vocab.translate(feat)[:10]"
     ],
     "language": "python",
     "metadata": {},
     "outputs": [
      {
       "metadata": {},
       "output_type": "pyout",
       "prompt_number": 75,
       "text": [
        "[('metal', 0.70279364168132996),\n",
        " ('asturiana', 0.49595814764424345),\n",
        " ('austmet', 0.37931590660891285),\n",
        " ('nlgt', 0.23944485098944485),\n",
        " ('zinc', 0.12707147562512813),\n",
        " ('lme', 0.11481943547635928),\n",
        " ('traders', 0.10764430767044879),\n",
        " ('recruited', 0.099206373337834441),\n",
        " ('kaws', 0.098639523837221812),\n",
        " ('fabricating', 0.09793370396661108)]"
       ]
      }
     ],
     "prompt_number": 75
    },
    {
     "cell_type": "code",
     "collapsed": false,
     "input": [
      "def doesnt_match(*words):\n",
      "    vectors = vstack(lil_matrix(model.transform_terms(word)) for word in words).astype(REAL)\n",
      "    mean = vectors.mean(axis=0).astype(REAL)\n",
      "    mean = mean / norm(mean)\n",
      "    dists = (vectors.mean(axis=0) * vectors.T).A[0]\n",
      "    return sorted(zip(dists, words))"
     ],
     "language": "python",
     "metadata": {},
     "outputs": [],
     "prompt_number": 97
    },
    {
     "cell_type": "code",
     "collapsed": false,
     "input": [
      "doesnt_match(\"gold\",\"silver\",\"apple\",\"copper\")[0][1]"
     ],
     "language": "python",
     "metadata": {},
     "outputs": [
      {
       "metadata": {},
       "output_type": "pyout",
       "prompt_number": 102,
       "text": [
        "'apple'"
       ]
      }
     ],
     "prompt_number": 102
    },
    {
     "cell_type": "code",
     "collapsed": false,
     "input": [
      "from numpy import dot\n",
      "def similarity(w1, w2):\n",
      "    v1 = model.transform_terms(w1).A[0]\n",
      "    v1 = v1 / norm(v1)\n",
      "    v2 = model.transform_terms(w2).A[0]\n",
      "    v2 = v2 / norm(v2)\n",
      "    return dot(v1, v2)"
     ],
     "language": "python",
     "metadata": {},
     "outputs": [],
     "prompt_number": 111
    },
    {
     "cell_type": "code",
     "collapsed": false,
     "input": [
      "[similarity(\"gold\", \"gold\"),\n",
      " similarity(\"gold\", \"silver\"),\n",
      " similarity(\"gold\", \"metal\"),\n",
      " similarity(\"gold\", \"usa\"),\n",
      " similarity(\"gold\", \"apple\")]"
     ],
     "language": "python",
     "metadata": {},
     "outputs": [
      {
       "metadata": {},
       "output_type": "pyout",
       "prompt_number": 114,
       "text": [
        "[0.99999999999999956,\n",
        " 0.12355243521975397,\n",
        " 0.012163006504960298,\n",
        " 1.818525068268266e-05,\n",
        " 2.3652124708877784e-07]"
       ]
      }
     ],
     "prompt_number": 114
    },
    {
     "cell_type": "code",
     "collapsed": false,
     "input": [
      "doesnt_match(\"usa\",\"microsoft\",\"switzerland\",\"germany\",\"england\")[0][1]"
     ],
     "language": "python",
     "metadata": {},
     "outputs": [
      {
       "metadata": {},
       "output_type": "pyout",
       "prompt_number": 117,
       "text": [
        "'microsoft'"
       ]
      }
     ],
     "prompt_number": 117
    },
    {
     "cell_type": "code",
     "collapsed": false,
     "input": [],
     "language": "python",
     "metadata": {},
     "outputs": []
    }
   ],
   "metadata": {}
  }
 ]
}