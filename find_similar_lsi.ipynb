{
 "metadata": {
  "name": "",
  "signature": "sha256:6a605e625a5e9a9e9e9b582afbbe62108850f1f948e2894e5742c24eae32e4d9"
 },
 "nbformat": 3,
 "nbformat_minor": 0,
 "worksheets": [
  {
   "cells": [
    {
     "cell_type": "code",
     "collapsed": false,
     "input": [
      "import logging\n",
      "logging.basicConfig(format='%(asctime)s : %(levelname)s : %(message)s', level=logging.DEBUG)"
     ],
     "language": "python",
     "metadata": {},
     "outputs": []
    },
    {
     "cell_type": "code",
     "collapsed": false,
     "input": [
      "%matplotlib inline\n",
      "import matplotlib.pyplot as plt\n",
      "import numpy as np\n",
      "from vectorizer import *\n",
      "from gensim import corpora, models, similarities\n",
      "from nltk.corpus import reuters"
     ],
     "language": "python",
     "metadata": {},
     "outputs": []
    },
    {
     "cell_type": "code",
     "collapsed": false,
     "input": [
      "%%capture\n",
      "model = NathanModel(\"./reuters-cf.hnn\")\n",
      "corpus = model.corpus(\"doc:*\")"
     ],
     "language": "python",
     "metadata": {},
     "outputs": []
    },
    {
     "cell_type": "code",
     "collapsed": false,
     "input": [
      "try:\n",
      "    logging.warning(\"loading lsi model...\")\n",
      "    lsi = models.LsiModel.load(\"./lsi.model\")\n",
      "except:\n",
      "    logging.warning(\"creating lsi model...\")\n",
      "    lsi = models.LsiModel(corpus, num_topics=80,chunksize=2000)\n",
      "    lsi.save(\"./lsi.model\")"
     ],
     "language": "python",
     "metadata": {},
     "outputs": []
    },
    {
     "cell_type": "code",
     "collapsed": false,
     "input": [
      "try:\n",
      "    logging.warning(\"loading index model...\")\n",
      "    index = similarities.MatrixSimilarity.load(\"./index.model\")\n",
      "except:\n",
      "    logging.warning(\"creating index model...\")\n",
      "    index = similarities.MatrixSimilarity(lsi[corpus], num_features=80, chunksize=2000)\n",
      "    index.save(\"./index.model\")"
     ],
     "language": "python",
     "metadata": {},
     "outputs": []
    },
    {
     "cell_type": "code",
     "collapsed": false,
     "input": [
      "def match_categories(fileid):\n",
      "    matches = index[lsi[model.transform_sents(reuters.sents(fileid))]]\n",
      "    return [(cat[4:], score) for cat, score in corpus.translate_similarities(matches)]\n",
      "\n",
      "def test_acc(fileid):\n",
      "    matches = index[lsi[model.transform_sents(reuters.sents(fileid))]]\n",
      "    fileid_match, _ = corpus.translate_similarities(matches)[0]\n",
      "    print(fileid, fileid_match)\n",
      "    return 1 if fileid == fileid_match[4:] else 0\n",
      "\n",
      "def print_matches(sim_vec):\n",
      "    matches = corpus.translate_similarities(index[lsi[sim_vec]])\n",
      "    for fileid, score in matches[:10]:\n",
      "        fileid = fileid[4:]\n",
      "        categories = reuters.categories(fileid)\n",
      "        text = reuters.raw(fileid)\n",
      "        print(\"FILE:       %s\" % fileid)\n",
      "        print(\"SCORE:      %0.2f\" % score)\n",
      "        print(\"CATEGORIES: %s\" % \", \".join(categories))\n",
      "        print(text[:250] + \"...\" if len(text) > 250 else \"\")\n",
      "        print()\n",
      "        \n",
      "def match_file(fileid):\n",
      "    print(\"MATCHES FOR %s\" % fileid)\n",
      "    print('-' * 80)\n",
      "    print()\n",
      "    print_matches(model.transform_tag(\"doc:%s\" % fileid))\n",
      "    \n",
      "def match_url(url):\n",
      "    print(\"MATCHES FOR %s\" % url)\n",
      "    print('-' * 80)\n",
      "    print()\n",
      "    print_matches(model.transform_url(url))\n",
      "    \n",
      "def match_text(text):\n",
      "    print(\"MATCHES FOR '%s...'\" % text[:50])\n",
      "    print('-' * 80)\n",
      "    print()\n",
      "    print_matches(model.transform_text(text))\n",
      "    \n",
      "def match_terms(*terms):\n",
      "    print(\"MATCHES FOR '%s\" % \"', '\".join(terms) + \"'\")\n",
      "    print('-' * 80)\n",
      "    print()\n",
      "    print_matches(model.transform_terms(*terms))\n",
      "\n",
      "testids = [fileid for fileid in reuters.fileids() if fileid.startswith(\"test\")]\n",
      "\n",
      "repoids = [fileid for fileid in reuters.fileids() if fileid.startswith(\"training\")]"
     ],
     "language": "python",
     "metadata": {},
     "outputs": [],
     "prompt_number": 68
    },
    {
     "cell_type": "code",
     "collapsed": false,
     "input": [
      "%%capture\n",
      "a_s = np.array([test_acc(fileid) for fileid in repoids[:100]])"
     ],
     "language": "python",
     "metadata": {},
     "outputs": []
    },
    {
     "cell_type": "code",
     "collapsed": false,
     "input": [
      "plt.hist(a_s);\n",
      "plt.axvline(a_s.mean(), color='r', linestyle='solid', linewidth=1);\n",
      "print(\"accuracy: %s\" % a_s.mean())"
     ],
     "language": "python",
     "metadata": {},
     "outputs": []
    },
    {
     "cell_type": "code",
     "collapsed": false,
     "input": [
      "match_file(repoids[2])"
     ],
     "language": "python",
     "metadata": {},
     "outputs": []
    },
    {
     "cell_type": "code",
     "collapsed": false,
     "input": [
      "match_terms(\"metal\", \"shiny\")"
     ],
     "language": "python",
     "metadata": {},
     "outputs": []
    },
    {
     "cell_type": "code",
     "collapsed": false,
     "input": [
      "match_terms(\"metal\")"
     ],
     "language": "python",
     "metadata": {},
     "outputs": []
    },
    {
     "cell_type": "code",
     "collapsed": false,
     "input": [
      "match_url(\"http://en.wikipedia.org/wiki/Gold\")"
     ],
     "language": "python",
     "metadata": {},
     "outputs": []
    },
    {
     "cell_type": "code",
     "collapsed": false,
     "input": [
      "match_text(\"\"\"Gold is a chemical element with the symbol Au and atomic number 79. It is a dense, soft, malleable and ductile metal with a bright yellow color and luster, the properties of which remain without tarnishing when exposed to air or water. Chemically, gold is a transition metal and a group 11 element. It is one of the least reactive chemical elements, and is solid under standard conditions. The metal therefore occurs often in free elemental (native) form, as nuggets or grains, in rocks, in veins and in alluvial deposits. Less commonly, it occurs in minerals as gold compounds, such as with tellurium as calaverite, sylvanite, or krennerite.\"\"\")"
     ],
     "language": "python",
     "metadata": {},
     "outputs": []
    },
    {
     "cell_type": "code",
     "collapsed": false,
     "input": [
      "def associate_all(vocab,limit=None):\n",
      "    size = len(vocab)\n",
      "    for i, term in enumerate(vocab):\n",
      "        if not limit is None and i >= limit:\n",
      "            raise StopIteration()\n",
      "        if i % 10 == 0:\n",
      "            print(\"processing %s of %s words...\" % (i, size))\n",
      "        yield csr_matrix(model.transform_terms(term))"
     ],
     "language": "python",
     "metadata": {},
     "outputs": []
    },
    {
     "cell_type": "code",
     "collapsed": false,
     "input": [
      "mat=vstack(associate_all(model.vocab))"
     ],
     "language": "python",
     "metadata": {},
     "outputs": []
    },
    {
     "cell_type": "code",
     "collapsed": false,
     "input": [
      "import pickle\n",
      "with open('terms.dat', 'wb') as outfile:\n",
      "    pickle.dump(mat, outfile, pickle.HIGHEST_PROTOCOL)"
     ],
     "language": "python",
     "metadata": {},
     "outputs": []
    },
    {
     "cell_type": "code",
     "collapsed": false,
     "input": [
      "import pickle\n",
      "with open('terms.dat', 'rb') as infile:\n",
      "    mat = pickle.load(infile)"
     ],
     "language": "python",
     "metadata": {},
     "outputs": []
    },
    {
     "cell_type": "code",
     "collapsed": false,
     "input": [
      "from nltk.corpus import reuters\n",
      "# find best matching terms for a file\n",
      "model.vocab.translate((mat*model.transform_tag(\"doc:\"+reuters.fileids(categories=\"gold\")[1]).T).T.A[0])[:10]"
     ],
     "language": "python",
     "metadata": {},
     "outputs": [
      {
       "metadata": {},
       "output_type": "pyout",
       "prompt_number": 67,
       "text": [
        "[('suisse', 0.60750822566241336),\n",
        " ('confirmation', 0.41181226384212211),\n",
        " ('belgium', 0.39613187110384251),\n",
        " ('warrants', 0.1719781638246444),\n",
        " ('credit', 0.07136318698037647),\n",
        " ('swiss', 0.055373455488532876),\n",
        " ('franc', 0.038077288866216343),\n",
        " ('boston', 0.028158356613607952),\n",
        " ('germany', 0.025337240448998145),\n",
        " ('gold', 0.021776993489705115)]"
       ]
      }
     ],
     "prompt_number": 67
    },
    {
     "cell_type": "code",
     "collapsed": false,
     "input": [
      "# find similar terms for \"gold\" => gunnar is a gold mining company\n",
      "#   -> in comparison to a straight asso in nathan, for all the words in the vocabulary the associations are computed and stored\n",
      "#      in a matrix, then the resulting list of either a keywords or asso is dot multiplied by the matrix to find best matching\n",
      "#      terms for the feature vector\n",
      "model.vocab.translate((mat*model.transform_terms(\"gold\").T).T.A[0])[:10]"
     ],
     "language": "python",
     "metadata": {},
     "outputs": [
      {
       "metadata": {},
       "output_type": "pyout",
       "prompt_number": 85,
       "text": [
        "[('gold', 1.0000000000000024),\n",
        " ('gunnar', 0.53301296005101773),\n",
        " ('tyranex', 0.53003448377351092),\n",
        " ('tyranite', 0.53003448377351092),\n",
        " ('kgs', 0.35408979618076719),\n",
        " ('gldf', 0.35267768067416161),\n",
        " ('cove', 0.29760525911782226),\n",
        " ('rand', 0.28814962427519913),\n",
        " ('echo', 0.28195703703603786),\n",
        " ('mccoy', 0.2378104682356971)]"
       ]
      }
     ],
     "prompt_number": 85
    },
    {
     "cell_type": "code",
     "collapsed": false,
     "input": [
      "list(model.ds.associate(\"gold\"))[:10]"
     ],
     "language": "python",
     "metadata": {},
     "outputs": [
      {
       "metadata": {},
       "output_type": "pyout",
       "prompt_number": 88,
       "text": [
        "[('gunnar', 429, 1025),\n",
        " ('kgs', 409, 869),\n",
        " ('gldf', 409, 637),\n",
        " ('tyranex', 375, 900),\n",
        " ('tyranite', 375, 900),\n",
        " ('tunnel', 306, 673),\n",
        " ('rgld', 306, 454),\n",
        " ('usmx', 306, 454),\n",
        " ('pgul', 306, 454),\n",
        " ('spokane', 306, 454)]"
       ]
      }
     ],
     "prompt_number": 88
    },
    {
     "cell_type": "code",
     "collapsed": false,
     "input": [
      "match_terms(\"suisse\",\"belgium\",\"confirmation\",\"boston\",\"germany\")"
     ],
     "language": "python",
     "metadata": {},
     "outputs": [
      {
       "output_type": "stream",
       "stream": "stdout",
       "text": [
        "MATCHES FOR 'suisse', 'belgium', 'confirmation', 'boston', 'germany'\n",
        "--------------------------------------------------------------------------------\n",
        "\n",
        "FILE:       test/15411"
       ]
      },
      {
       "output_type": "stream",
       "stream": "stdout",
       "text": [
        "\n",
        "SCORE:      0.90\n",
        "CATEGORIES: gold\n",
        "\n",
        "\n",
        "FILE:       training/901\n",
        "SCORE:      0.67\n",
        "CATEGORIES: interest\n",
        "\n",
        "\n",
        "FILE:       training/900\n",
        "SCORE:      0.66\n",
        "CATEGORIES: interest\n",
        "\n",
        "\n",
        "FILE:       training/3839\n",
        "SCORE:      0.58\n",
        "CATEGORIES: acq\n",
        "FIRST BOSTON &lt;FBC> SWISS AFFILIATE BOOSTS STAKE\n",
        "  First\n",
        "  Boston, the Swiss affiliate of First Boston Inc, said it raised\n",
        "  its stake in the company to 11,262,307 shares, or 35.5 pct of\n",
        "  the total, from 10,262,307 shares, or 32.8 pct.\n",
        "      In a ...\n",
        "\n",
        "FILE:       test/18644\n",
        "SCORE:      0.47\n",
        "CATEGORIES: acq\n",
        "\n",
        "\n",
        "FILE:       test/18658\n",
        "SCORE:      0.47\n",
        "CATEGORIES: acq\n",
        "LIBERTY FINANCIAL ANNOUNCES MERGER WITH EQUIMARK\n",
        "  Liberty Financial Group Inc, the\n",
        "  parent of Liberty Savings Bank said it has signed a definitive\n",
        "  agreement to be acquired by Equimark Corp &lt;EQK>, the parent of\n",
        "  Equibank, for 48 dlrs a share o...\n",
        "\n",
        "FILE:       training/201\n",
        "SCORE:      0.44\n",
        "CATEGORIES: earn\n",
        "MAIL BOXES ETC &lt;MAIL> 3RD QTR JAN 31 NET\n",
        "  Shr 23 cts vs 18 cts\n",
        "      Net 509,144 vs 277,834\n",
        "      Revs 2,258,341 vs 1,328,634\n",
        "      Avg shrs 2,177,553 vs 1,564,605\n",
        "      Nine mths\n",
        "      Shr 55 cts vs 42 cts\n",
        "      Net 1,150,633 vs 649,914\n",
        "      Re...\n",
        "\n",
        "FILE:       training/9232\n",
        "SCORE:      0.41\n",
        "CATEGORIES: earn\n",
        "OLSON &lt;OLSN> TO HAVE LOSS FROM EGG UNIT SALE\n",
        "  Olson Industries Inc said\n",
        "  it is in final negotiations on the sale of its remaining egg\n",
        "  operations and expects the sale to generate a charge of about\n",
        "  two mln dlrs against 1987 net income.\n",
        "      T...\n",
        "\n",
        "FILE:       test/16350\n",
        "SCORE:      0.41\n",
        "CATEGORIES: earn\n",
        "SCOTT AND STRINGFELLOW &lt;SCOT.O> 3RD QTR MAR 31\n",
        "  Shr 37 cts vs 37 cts\n",
        "      Net 687,888 vs 441,659\n",
        "      Revs 7.9 mln vs 6.8 mln\n",
        "      Nine months\n",
        "      Shr 1.12 dlrs vs 1.07 dlrs\n",
        "      Net 1.8 mln vs 1.3 mln\n",
        "      Revs 23.2 mln vs 19.7 mln\n",
        "      ...\n",
        "\n",
        "FILE:       test/15357\n",
        "SCORE:      0.41\n",
        "CATEGORIES: coffee\n",
        "COLOMBIA COFFEE REGISTRATIONS REMAIN OPEN\n",
        "  Colombia's coffee export registrations\n",
        "  remain open and there are no plans to close them since a new\n",
        "  marketing policy means an unlimited amount can be registered,\n",
        "  Gilberto Arango, president of the priv...\n",
        "\n"
       ]
      }
     ],
     "prompt_number": 77
    },
    {
     "cell_type": "code",
     "collapsed": false,
     "input": [
      "from numpy.linalg import norm\n",
      "mean=[1*model.transform_terms(\"computer\").A[0],-1*model.transform_terms(\"apple\").A[0], 1*model.transform_terms(\"finance\").A[0]]\n",
      "sims = np.array(mean).mean(axis=0)*mat\n",
      "sims = sims/norm(sims)\n",
      "model.vocab.translate(sims)"
     ],
     "language": "python",
     "metadata": {},
     "outputs": []
    },
    {
     "cell_type": "code",
     "collapsed": false,
     "input": [
      "from numpy import float32 as REAL\n",
      "from numpy.linalg import norm\n",
      "def similar_to(positive, negative=[]):\n",
      "    mean = []\n",
      "    positive = (1 * model.transform_terms(v).A[0] for v in positive)\n",
      "    negative = (-1 * model.transform_terms(v).A[0] for v in negative)\n",
      "    mean = [v for v in chain(positive, negative)]\n",
      "    mean = np.array(mean).mean(axis=0).astype(REAL)\n",
      "    mean = mean / norm(mean)\n",
      "    sims =  mat * mean\n",
      "    #sims = sims / norm(sims)\n",
      "    return sims"
     ],
     "language": "python",
     "metadata": {},
     "outputs": []
    },
    {
     "cell_type": "code",
     "collapsed": false,
     "input": [
      "feat = similar_to(positive=[\"metal\"],negative=[\"gold\"])"
     ],
     "language": "python",
     "metadata": {},
     "outputs": []
    },
    {
     "cell_type": "code",
     "collapsed": false,
     "input": [
      "model.vocab.translate(score for _, score in lsi[list(enumerate(feat))])[:10]"
     ],
     "language": "python",
     "metadata": {},
     "outputs": []
    },
    {
     "cell_type": "code",
     "collapsed": false,
     "input": [
      "model.vocab.translate(feat)[:10]"
     ],
     "language": "python",
     "metadata": {},
     "outputs": []
    },
    {
     "cell_type": "code",
     "collapsed": false,
     "input": [
      "from numpy import float32 as REAL\n",
      "def doesnt_match(*words):\n",
      "    vectors = vstack(lil_matrix(model.transform_terms(word)) for word in words).astype(REAL)\n",
      "    mean = vectors.mean(axis=0).astype(REAL)\n",
      "    mean = mean / norm(mean)\n",
      "    dists = (vectors.mean(axis=0) * vectors.T).A[0]\n",
      "    return sorted(zip(dists, words))"
     ],
     "language": "python",
     "metadata": {},
     "outputs": []
    },
    {
     "cell_type": "code",
     "collapsed": false,
     "input": [
      "doesnt_match(\"gold\",\"silver\",\"apple\",\"copper\")[0][1]"
     ],
     "language": "python",
     "metadata": {},
     "outputs": []
    },
    {
     "cell_type": "code",
     "collapsed": false,
     "input": [
      "from numpy import dot\n",
      "def similarity(w1, w2):\n",
      "    v1 = model.transform_terms(w1).A[0]\n",
      "    v1 = v1 / norm(v1)\n",
      "    v2 = model.transform_terms(w2).A[0]\n",
      "    v2 = v2 / norm(v2)\n",
      "    return dot(v1, v2)"
     ],
     "language": "python",
     "metadata": {},
     "outputs": []
    },
    {
     "cell_type": "code",
     "collapsed": false,
     "input": [
      "[similarity(\"gold\", \"gold\"),\n",
      " similarity(\"gold\", \"silver\"),\n",
      " similarity(\"gold\", \"metal\"),\n",
      " similarity(\"gold\", \"usa\"),\n",
      " similarity(\"gold\", \"apple\")]"
     ],
     "language": "python",
     "metadata": {},
     "outputs": []
    },
    {
     "cell_type": "code",
     "collapsed": false,
     "input": [
      "doesnt_match(\"usa\",\"microsoft\",\"switzerland\",\"germany\",\"england\")[0][1]"
     ],
     "language": "python",
     "metadata": {},
     "outputs": []
    },
    {
     "cell_type": "code",
     "collapsed": false,
     "input": [
      "doesnt_match(\"orange\",\"banana\",\"apple\",\"copper\")"
     ],
     "language": "python",
     "metadata": {},
     "outputs": []
    },
    {
     "cell_type": "code",
     "collapsed": false,
     "input": [],
     "language": "python",
     "metadata": {},
     "outputs": []
    }
   ],
   "metadata": {}
  }
 ]
}