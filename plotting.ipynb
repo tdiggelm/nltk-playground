{
 "metadata": {
  "name": "",
  "signature": "sha256:4c0c1ca643d2ff88b413db76eb9f751dd10bba97b5050ff85392c8560b8ea04b"
 },
 "nbformat": 3,
 "nbformat_minor": 0,
 "worksheets": [
  {
   "cells": [
    {
     "cell_type": "code",
     "collapsed": false,
     "input": [
      "%matplotlib inline\n",
      "from testing import *\n",
      "from nltk.corpus import brown"
     ],
     "language": "python",
     "metadata": {},
     "outputs": [],
     "prompt_number": 7
    },
    {
     "cell_type": "code",
     "collapsed": false,
     "input": [
      "ds = Dataspace(\"./brown.hnn\")"
     ],
     "language": "python",
     "metadata": {},
     "outputs": [],
     "prompt_number": 8
    },
    {
     "cell_type": "code",
     "collapsed": false,
     "input": [
      "for category in brown.categories():\n",
      "    print(\"%s\\n%s\\n\" % (category.upper(), ds.keywords_for(category,limit=10)))"
     ],
     "language": "python",
     "metadata": {},
     "outputs": [
      {
       "output_type": "stream",
       "stream": "stdout",
       "text": [
        "ADVENTURE\n",
        "      quant  vicinity  plausibility\n",
        "0    barton        12           171\n",
        "1   brannon        12           171\n",
        "2      jess        12           171\n",
        "3     ramey        12           171\n",
        "4    matsuo        12           171\n",
        "5  tilghman        12           171\n",
        "6   nicolas        12           169\n",
        "7  langford        12           169\n",
        "8  lalaurie        12           169\n",
        "9    jess's        12           166\n",
        "\n",
        "[10 rows x 3 columns]\n",
        "\n",
        "BELLES_LETTRES\n",
        "         quant  vicinity  plausibility\n",
        "0     faulkner         7           130\n",
        "1        plato         7           130\n",
        "2    aristotle         7           130\n",
        "3      oedipus         7           130\n",
        "4       miriam         7           130\n",
        "5     sandburg         7           130\n",
        "6  bang-jensen         7           130\n",
        "7       steele         7           130\n",
        "8       hearst         7           130\n",
        "9     woodruff         7           130\n",
        "\n",
        "[10 rows x 3 columns]\n"
       ]
      },
      {
       "output_type": "stream",
       "stream": "stdout",
       "text": [
        "\n",
        "EDITORIAL\n",
        "      quant  vicinity  plausibility\n",
        "0    podger        19           215\n",
        "1   cannery        19           209\n",
        "2  autistic        19           209\n",
        "3  trujillo        19           207\n",
        "4  megatons        19           198\n",
        "5  connally        19           187\n",
        "6       cdc        19           178\n",
        "7    dekalb        19           167\n",
        "8     lenin        19           167\n",
        "9     faget        19           154\n",
        "\n",
        "[10 rows x 3 columns]\n"
       ]
      },
      {
       "output_type": "stream",
       "stream": "stdout",
       "text": [
        "\n",
        "FICTION\n",
        "      quant  vicinity  plausibility\n",
        "0    scotty        13           178\n",
        "1      kate        13           178\n",
        "2    stevie        13           176\n",
        "3    andrei        13           176\n",
        "4     styka        13           176\n",
        "5       ada        13           176\n",
        "6   juanita        13           174\n",
        "7     ludie        13           173\n",
        "8  argiento        13           173\n",
        "9      hino        13           173\n",
        "\n",
        "[10 rows x 3 columns]\n"
       ]
      },
      {
       "output_type": "stream",
       "stream": "stdout",
       "text": [
        "\n",
        "GOVERNMENT\n",
        "           quant  vicinity  plausibility\n",
        "0     petitioner        19           215\n",
        "1            sba        19           215\n",
        "2       pursuant        19           215\n",
        "3        skywave        19           215\n",
        "4         sharpe        19           215\n",
        "5       carleton        19           215\n",
        "6     subsection        19           209\n",
        "7         rupees        19           209\n",
        "8  export-import        19           209\n",
        "9      nighttime        19           209\n",
        "\n",
        "[10 rows x 3 columns]\n"
       ]
      },
      {
       "output_type": "stream",
       "stream": "stdout",
       "text": [
        "\n",
        "HOBBIES\n",
        "        quant  vicinity  plausibility\n",
        "0       sauce        13           178\n",
        "1  milligrams        13           178\n",
        "2     camping        13           176\n",
        "3    cylinder        13           176\n",
        "4       grams        13           176\n",
        "5      tappet        13           174\n",
        "6     battens        13           174\n",
        "7     pansies        13           173\n",
        "8     tappets        13           173\n",
        "9     oersted        13           173\n",
        "\n",
        "[10 rows x 3 columns]\n"
       ]
      },
      {
       "output_type": "stream",
       "stream": "stdout",
       "text": [
        "\n",
        "HUMOR\n",
        "       quant  vicinity  plausibility\n",
        "0      letch        53           360\n",
        "1      barco        53           356\n",
        "2   moreland        53           356\n",
        "3      welch        53           349\n",
        "4      viola        53           338\n",
        "5    crombie        53           338\n",
        "6      blatz        53           323\n",
        "7    barco's        53           313\n",
        "8  workbench        53           313\n",
        "9     radish        53           313\n",
        "\n",
        "[10 rows x 3 columns]\n"
       ]
      },
      {
       "output_type": "stream",
       "stream": "stdout",
       "text": [
        "\n",
        "LEARNED\n",
        "           quant  vicinity  plausibility\n",
        "0          input         7           130\n",
        "1          shear         7           130\n",
        "2              t         7           130\n",
        "3          onset         7           130\n",
        "4       emission         7           130\n",
        "5              q         7           130\n",
        "6          anode         7           130\n",
        "7      substrate         7           130\n",
        "8     reactivity         7           130\n",
        "9  tetrachloride         7           130\n",
        "\n",
        "[10 rows x 3 columns]\n"
       ]
      },
      {
       "output_type": "stream",
       "stream": "stdout",
       "text": [
        "\n",
        "LORE\n",
        "           quant  vicinity  plausibility\n",
        "0  anti-semitism        11           164\n",
        "1           fogg        11           164\n",
        "2       o'banion        11           164\n",
        "3        tsunami        11           164\n",
        "4        palfrey        11           164\n",
        "5         borden        11           164\n",
        "6        bridget        11           164\n",
        "7         giffen        11           162\n",
        "8         lizzie        11           162\n",
        "9          upton        11           162\n",
        "\n",
        "[10 rows x 3 columns]\n"
       ]
      },
      {
       "output_type": "stream",
       "stream": "stdout",
       "text": [
        "\n",
        "MYSTERY\n",
        "      quant  vicinity  plausibility\n",
        "0    rourke        14           185\n",
        "1    shayne        14           185\n",
        "2       tim        14           185\n",
        "3    skyros        14           185\n",
        "4     maude        14           185\n",
        "5      hoag        14           185\n",
        "6  killpath        14           185\n",
        "7      alec        14           185\n",
        "8     haney        14           185\n",
        "9     angie        14           183\n",
        "\n",
        "[10 rows x 3 columns]\n"
       ]
      },
      {
       "output_type": "stream",
       "stream": "stdout",
       "text": [
        "\n",
        "NEWS\n",
        "       quant  vicinity  plausibility\n",
        "0     mantle        12           171\n",
        "1      maris        12           171\n",
        "2   kowalski        12           169\n",
        "3      emory        12           166\n",
        "4         ap        12           164\n",
        "5    barnett        12           161\n",
        "6     moritz        12           161\n",
        "7  hillsboro        12           161\n",
        "8   hawksley        12           157\n",
        "9   halfback        12           157\n",
        "\n",
        "[10 rows x 3 columns]\n"
       ]
      },
      {
       "output_type": "stream",
       "stream": "stdout",
       "text": [
        "\n",
        "RELIGION\n",
        "          quant  vicinity  plausibility\n",
        "0           shu        33           284\n",
        "1      irenaeus        33           275\n",
        "2          yang        33           272\n",
        "3      mahayana        33           267\n",
        "4       saviour        33           255\n",
        "5           han        33           255\n",
        "6           yin        33           247\n",
        "7    guideposts        33           247\n",
        "8    bultmann's        33           235\n",
        "9  disobedience        33           235\n",
        "\n",
        "[10 rows x 3 columns]\n"
       ]
      },
      {
       "output_type": "stream",
       "stream": "stdout",
       "text": [
        "\n",
        "REVIEWS\n",
        "      quant  vicinity  plausibility\n",
        "0   comedie        32           271\n",
        "1    sansom        32           268\n",
        "2    larkin        32           257\n",
        "3       op.        32           243\n",
        "4    kennan        32           231\n",
        "5  galaxies        32           231\n",
        "6  clerfayt        32           231\n",
        "7   booking        32           217\n",
        "8   thurber        32           217\n",
        "9   rodgers        32           217\n",
        "\n",
        "[10 rows x 3 columns]\n"
       ]
      },
      {
       "output_type": "stream",
       "stream": "stdout",
       "text": [
        "\n",
        "ROMANCE\n",
        "     quant  vicinity  plausibility\n",
        "0   maggie        12           171\n",
        "1  spencer        12           171\n",
        "2    cathy        12           171\n",
        "3  johnnie        12           171\n",
        "4  dolores        12           171\n",
        "5   bobbie        12           171\n",
        "6  theresa        12           171\n",
        "7   deegan        12           171\n",
        "8     cady        12           171\n",
        "9   freddy        12           171\n",
        "\n",
        "[10 rows x 3 columns]\n"
       ]
      },
      {
       "output_type": "stream",
       "stream": "stdout",
       "text": [
        "\n",
        "SCIENCE_FICTION\n",
        "      quant  vicinity  plausibility\n",
        "0  ekstrohm        59           380\n",
        "1     helva        59           380\n",
        "2  b'dikkat        59           380\n",
        "3  hesperus        59           357\n",
        "4     jubal        59           341\n",
        "5  half-man        59           341\n",
        "6     nogol        59           330\n",
        "7   helva's        59           330\n",
        "8     digby        59           314\n",
        "9   macneff        59           314\n",
        "\n",
        "[10 rows x 3 columns]\n"
       ]
      },
      {
       "output_type": "stream",
       "stream": "stdout",
       "text": [
        "\n"
       ]
      }
     ],
     "prompt_number": 14
    },
    {
     "cell_type": "code",
     "collapsed": false,
     "input": [],
     "language": "python",
     "metadata": {},
     "outputs": []
    }
   ],
   "metadata": {}
  }
 ]
}