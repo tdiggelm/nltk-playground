{
 "metadata": {
  "name": "",
  "signature": "sha256:58195f24beb81aa6c6b03a48e4281f4e8eadd9b5ccecdef03a5e76b5604fe6ae"
 },
 "nbformat": 3,
 "nbformat_minor": 0,
 "worksheets": [
  {
   "cells": [
    {
     "cell_type": "code",
     "collapsed": false,
     "input": [
      "%matplotlib inline\n",
      "import matplotlib.pyplot as plt\n",
      "import numpy as np\n",
      "from vectorizer import *\n",
      "from nltk.corpus import reuters"
     ],
     "language": "python",
     "metadata": {},
     "outputs": [],
     "prompt_number": 4
    },
    {
     "cell_type": "code",
     "collapsed": false,
     "input": [
      "model = NathanModel(\"./reuters-training_only.hnn\")\n",
      "corpus = model.corpus(\"cat:*\")\n",
      "sim = corpus.similarity_matrix()"
     ],
     "language": "python",
     "metadata": {},
     "outputs": [
      {
       "output_type": "stream",
       "stream": "stdout",
       "text": [
        "SimilarityMatrix: inserting vector 0 of 90...\n",
        "SimilarityMatrix: inserting vector 10 of 90..."
       ]
      },
      {
       "output_type": "stream",
       "stream": "stdout",
       "text": [
        "\n",
        "SimilarityMatrix: inserting vector 20 of 90..."
       ]
      },
      {
       "output_type": "stream",
       "stream": "stdout",
       "text": [
        "\n",
        "SimilarityMatrix: inserting vector 30 of 90..."
       ]
      },
      {
       "output_type": "stream",
       "stream": "stdout",
       "text": [
        "\n",
        "SimilarityMatrix: inserting vector 40 of 90..."
       ]
      },
      {
       "output_type": "stream",
       "stream": "stdout",
       "text": [
        "\n",
        "SimilarityMatrix: inserting vector 50 of 90..."
       ]
      },
      {
       "output_type": "stream",
       "stream": "stdout",
       "text": [
        "\n",
        "SimilarityMatrix: inserting vector 60 of 90..."
       ]
      },
      {
       "output_type": "stream",
       "stream": "stdout",
       "text": [
        "\n",
        "SimilarityMatrix: inserting vector 70 of 90..."
       ]
      },
      {
       "output_type": "stream",
       "stream": "stdout",
       "text": [
        "\n",
        "SimilarityMatrix: inserting vector 80 of 90..."
       ]
      },
      {
       "output_type": "stream",
       "stream": "stdout",
       "text": [
        "\n"
       ]
      }
     ],
     "prompt_number": 10
    },
    {
     "cell_type": "code",
     "collapsed": false,
     "input": [
      "def test_acc(sim, fileid):\n",
      "    def accuracy(m, p):\n",
      "        return sum(1 if m_i in p else 0 for m_i in m)/len(m)\n",
      "    m=reuters.categories(fileid); \n",
      "    simr = sim[model.vectorize_sents(reuters.sents(fileid))]\n",
      "    simr = corpus.translate_similarities(simr)\n",
      "    p=[cat[4:] for cat, score in simr[:len(m)]]\n",
      "    return accuracy(m, p)\n",
      "\n",
      "testids = [fileid for fileid in reuters.fileids() if fileid.startswith(\"test\")]"
     ],
     "language": "python",
     "metadata": {},
     "outputs": [],
     "prompt_number": 11
    },
    {
     "cell_type": "code",
     "collapsed": false,
     "input": [
      "%%capture\n",
      "a_s = np.array([test_acc(sim, fileid) for fileid in testids[:2000]])"
     ],
     "language": "python",
     "metadata": {},
     "outputs": [],
     "prompt_number": 12
    },
    {
     "cell_type": "code",
     "collapsed": false,
     "input": [
      "plt.hist(a_s);\n",
      "plt.axvline(a_s.mean(), color='r', linestyle='solid', linewidth=1);"
     ],
     "language": "python",
     "metadata": {},
     "outputs": [
      {
       "metadata": {},
       "output_type": "display_data",
       "png": "[encoded data removed]",
       "text": [
        "<matplotlib.figure.Figure at 0x7fe57e6dccf8>"
       ]
      }
     ],
     "prompt_number": 36
    },
    {
     "cell_type": "code",
     "collapsed": false,
     "input": [],
     "language": "python",
     "metadata": {},
     "outputs": []
    }
   ],
   "metadata": {}
  }
 ]
}