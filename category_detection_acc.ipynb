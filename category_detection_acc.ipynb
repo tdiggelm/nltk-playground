{
 "metadata": {
  "name": "",
  "signature": "sha256:29152f44e5b58fbbffedcd041ceda3f765b0404c71552dff592718e1ecbe9235"
 },
 "nbformat": 3,
 "nbformat_minor": 0,
 "worksheets": [
  {
   "cells": [
    {
     "cell_type": "code",
     "collapsed": false,
     "input": [
      "%matplotlib inline\n",
      "import matplotlib.pyplot as plt\n",
      "import numpy as np\n",
      "from vectorizer import *\n",
      "from nltk.corpus import reuters"
     ],
     "language": "python",
     "metadata": {},
     "outputs": [],
     "prompt_number": 1
    },
    {
     "cell_type": "code",
     "collapsed": false,
     "input": [
      "model = NathanModel(\"./reuters-training_only.hnn\")\n",
      "corpus = model.corpus(\"cat:*\")\n",
      "sim = corpus.similarity_matrix()"
     ],
     "language": "python",
     "metadata": {},
     "outputs": [
      {
       "output_type": "stream",
       "stream": "stdout",
       "text": [
        "SimilarityMatrix: inserting vector 0 of 90...\n",
        "SimilarityMatrix: inserting vector 10 of 90..."
       ]
      },
      {
       "output_type": "stream",
       "stream": "stdout",
       "text": [
        "\n",
        "SimilarityMatrix: inserting vector 20 of 90..."
       ]
      },
      {
       "output_type": "stream",
       "stream": "stdout",
       "text": [
        "\n",
        "SimilarityMatrix: inserting vector 30 of 90..."
       ]
      },
      {
       "output_type": "stream",
       "stream": "stdout",
       "text": [
        "\n",
        "SimilarityMatrix: inserting vector 40 of 90..."
       ]
      },
      {
       "output_type": "stream",
       "stream": "stdout",
       "text": [
        "\n",
        "SimilarityMatrix: inserting vector 50 of 90..."
       ]
      },
      {
       "output_type": "stream",
       "stream": "stdout",
       "text": [
        "\n",
        "SimilarityMatrix: inserting vector 60 of 90..."
       ]
      },
      {
       "output_type": "stream",
       "stream": "stdout",
       "text": [
        "\n",
        "SimilarityMatrix: inserting vector 70 of 90..."
       ]
      },
      {
       "output_type": "stream",
       "stream": "stdout",
       "text": [
        "\n",
        "SimilarityMatrix: inserting vector 80 of 90..."
       ]
      },
      {
       "output_type": "stream",
       "stream": "stdout",
       "text": [
        "\n"
       ]
      }
     ],
     "prompt_number": 2
    },
    {
     "cell_type": "code",
     "collapsed": false,
     "input": [
      "def match_categories(fileid):\n",
      "    matches = sim[model.transform_sents(reuters.sents(fileid))]\n",
      "    return [(cat[4:], score) for cat, score in corpus.translate_similarities(matches)]\n",
      "\n",
      "def accuracy(m, p):\n",
      "    p = [category for category, _ in p[:len(m)]]\n",
      "    return sum(1 if m_i in p else 0 for m_i in m)/len(m)\n",
      "\n",
      "def test_acc(fileid):\n",
      "    p = match_categories(fileid)\n",
      "    m = reuters.categories(fileid) \n",
      "    return accuracy(m, p)\n",
      "\n",
      "def print_matches(fileid):\n",
      "    categories = reuters.categories(fileid)\n",
      "    matches = match_categories(fileid)\n",
      "    suggested = [\"%s (%0.2f)\" % (cat, score) for cat, score in matches]\n",
      "    print(\"FILE:       %s\" % fileid)\n",
      "    print(\"CATEGORIES: %s\" % \", \".join(categories))\n",
      "    print(\"SUGGESTED:  %s\" % \", \".join(suggested[:max(len(categories), 5)]) + \", ...\")\n",
      "    print(\"ACCURACY:   %s\" % accuracy(categories, matches))\n",
      "    print(reuters.raw(fileid))\n",
      "\n",
      "testids = [fileid for fileid in reuters.fileids() if fileid.startswith(\"test\")]"
     ],
     "language": "python",
     "metadata": {},
     "outputs": [],
     "prompt_number": 3
    },
    {
     "cell_type": "code",
     "collapsed": false,
     "input": [
      "%%capture\n",
      "a_s = np.array([test_acc(fileid) for fileid in testids[:1000]])"
     ],
     "language": "python",
     "metadata": {},
     "outputs": [],
     "prompt_number": 4
    },
    {
     "cell_type": "code",
     "collapsed": false,
     "input": [
      "plt.hist(a_s);\n",
      "plt.axvline(a_s.mean(), color='r', linestyle='solid', linewidth=1);"
     ],
     "language": "python",
     "metadata": {},
     "outputs": [
      {
       "metadata": {},
       "output_type": "display_data",
       "png": "[encoded data removed]",
       "text": [
        "<matplotlib.figure.Figure at 0x7f920af51c18>"
       ]
      }
     ],
     "prompt_number": 5
    },
    {
     "cell_type": "code",
     "collapsed": false,
     "input": [
      "print_matches(testids[0])"
     ],
     "language": "python",
     "metadata": {},
     "outputs": [
      {
       "output_type": "stream",
       "stream": "stdout",
       "text": [
        "FILE:       test/14826\n",
        "CATEGORIES: trade\n",
        "SUGGESTED:  trade (0.04), bop (0.03), dlr (0.02), gnp (0.02), money-fx (0.01), ...\n",
        "ACCURACY:   1.0\n",
        "ASIAN EXPORTERS FEAR DAMAGE FROM U.S.-JAPAN RIFT\n",
        "  Mounting trade friction between the\n",
        "  U.S. And Japan has raised fears among many of Asia's exporting\n",
        "  nations that the row could inflict far-reaching economic\n",
        "  damage, businessmen and officials said.\n",
        "      They told Reuter correspondents in Asian capitals a U.S.\n",
        "  Move against Japan might boost protectionist sentiment in the\n",
        "  U.S. And lead to curbs on American imports of their products.\n",
        "      But some exporters said that while the conflict would hurt\n",
        "  them in the long-run, in the short-term Tokyo's loss might be\n",
        "  their gain.\n",
        "      The U.S. Has said it will impose 300 mln dlrs of tariffs on\n",
        "  imports of Japanese electronics goods on April 17, in\n",
        "  retaliation for Japan's alleged failure to stick to a pact not\n",
        "  to sell semiconductors on world markets at below cost.\n",
        "      Unofficial Japanese estimates put the impact of the tariffs\n",
        "  at 10 billion dlrs and spokesmen for major electronics firms\n",
        "  said they would virtually halt exports of products hit by the\n",
        "  new taxes.\n",
        "      \"We wouldn't be able to do business,\" said a spokesman for\n",
        "  leading Japanese electronics firm Matsushita Electric\n",
        "  Industrial Co Ltd &lt;MC.T>.\n",
        "      \"If the tariffs remain in place for any length of time\n",
        "  beyond a few months it will mean the complete erosion of\n",
        "  exports (of goods subject to tariffs) to the U.S.,\" said Tom\n",
        "  Murtha, a stock analyst at the Tokyo office of broker &lt;James\n",
        "  Capel and Co>.\n",
        "      In Taiwan, businessmen and officials are also worried.\n",
        "      \"We are aware of the seriousness of the U.S. Threat against\n",
        "  Japan because it serves as a warning to us,\" said a senior\n",
        "  Taiwanese trade official who asked not to be named.\n",
        "      Taiwan had a trade trade surplus of 15.6 billion dlrs last\n",
        "  year, 95 pct of it with the U.S.\n",
        "      The surplus helped swell Taiwan's foreign exchange reserves\n",
        "  to 53 billion dlrs, among the world's largest.\n",
        "      \"We must quickly open our markets, remove trade barriers and\n",
        "  cut import tariffs to allow imports of U.S. Products, if we\n",
        "  want to defuse problems from possible U.S. Retaliation,\" said\n",
        "  Paul Sheen, chairman of textile exporters &lt;Taiwan Safe Group>.\n",
        "      A senior official of South Korea's trade promotion\n",
        "  association said the trade dispute between the U.S. And Japan\n",
        "  might also lead to pressure on South Korea, whose chief exports\n",
        "  are similar to those of Japan.\n",
        "      Last year South Korea had a trade surplus of 7.1 billion\n",
        "  dlrs with the U.S., Up from 4.9 billion dlrs in 1985.\n",
        "      In Malaysia, trade officers and businessmen said tough\n",
        "  curbs against Japan might allow hard-hit producers of\n",
        "  semiconductors in third countries to expand their sales to the\n",
        "  U.S.\n",
        "      In Hong Kong, where newspapers have alleged Japan has been\n",
        "  selling below-cost semiconductors, some electronics\n",
        "  manufacturers share that view. But other businessmen said such\n",
        "  a short-term commercial advantage would be outweighed by\n",
        "  further U.S. Pressure to block imports.\n",
        "      \"That is a very short-term view,\" said Lawrence Mills,\n",
        "  director-general of the Federation of Hong Kong Industry.\n",
        "      \"If the whole purpose is to prevent imports, one day it will\n",
        "  be extended to other sources. Much more serious for Hong Kong\n",
        "  is the disadvantage of action restraining trade,\" he said.\n",
        "      The U.S. Last year was Hong Kong's biggest export market,\n",
        "  accounting for over 30 pct of domestically produced exports.\n",
        "      The Australian government is awaiting the outcome of trade\n",
        "  talks between the U.S. And Japan with interest and concern,\n",
        "  Industry Minister John Button said in Canberra last Friday.\n",
        "      \"This kind of deterioration in trade relations between two\n",
        "  countries which are major trading partners of ours is a very\n",
        "  serious matter,\" Button said.\n",
        "      He said Australia's concerns centred on coal and beef,\n",
        "  Australia's two largest exports to Japan and also significant\n",
        "  U.S. Exports to that country.\n",
        "      Meanwhile U.S.-Japanese diplomatic manoeuvres to solve the\n",
        "  trade stand-off continue.\n",
        "      Japan's ruling Liberal Democratic Party yesterday outlined\n",
        "  a package of economic measures to boost the Japanese economy.\n",
        "      The measures proposed include a large supplementary budget\n",
        "  and record public works spending in the first half of the\n",
        "  financial year.\n",
        "      They also call for stepped-up spending as an emergency\n",
        "  measure to stimulate the economy despite Prime Minister\n",
        "  Yasuhiro Nakasone's avowed fiscal reform program.\n",
        "      Deputy U.S. Trade Representative Michael Smith and Makoto\n",
        "  Kuroda, Japan's deputy minister of International Trade and\n",
        "  Industry (MITI), are due to meet in Washington this week in an\n",
        "  effort to end the dispute.\n",
        "  \n",
        "\n",
        "\n"
       ]
      }
     ],
     "prompt_number": 6
    },
    {
     "cell_type": "code",
     "collapsed": false,
     "input": [],
     "language": "python",
     "metadata": {},
     "outputs": []
    }
   ],
   "metadata": {}
  }
 ]
}