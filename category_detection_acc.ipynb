{
 "metadata": {
  "name": "",
  "signature": "sha256:c76e3dabea9f30a759b9d36931f49b7cb038559be96eeb9258261c90c83d958f"
 },
 "nbformat": 3,
 "nbformat_minor": 0,
 "worksheets": [
  {
   "cells": [
    {
     "cell_type": "code",
     "collapsed": false,
     "input": [
      "%matplotlib inline\n",
      "import matplotlib.pyplot as plt\n",
      "import numpy as np\n",
      "from vectorizer import *\n",
      "from nltk.corpus import reuters"
     ],
     "language": "python",
     "metadata": {},
     "outputs": [],
     "prompt_number": 2
    },
    {
     "cell_type": "code",
     "collapsed": false,
     "input": [
      "model = NathanModel(\"./reuters-training_only.hnn\")\n",
      "corpus = model.corpus(\"cat:*\")\n",
      "sim = corpus.similarity_matrix()"
     ],
     "language": "python",
     "metadata": {},
     "outputs": [
      {
       "output_type": "stream",
       "stream": "stdout",
       "text": [
        "SimilarityMatrix: inserting vector 0 of 90...\n",
        "SimilarityMatrix: inserting vector 10 of 90..."
       ]
      },
      {
       "output_type": "stream",
       "stream": "stdout",
       "text": [
        "\n",
        "SimilarityMatrix: inserting vector 20 of 90..."
       ]
      },
      {
       "output_type": "stream",
       "stream": "stdout",
       "text": [
        "\n",
        "SimilarityMatrix: inserting vector 30 of 90..."
       ]
      },
      {
       "output_type": "stream",
       "stream": "stdout",
       "text": [
        "\n",
        "SimilarityMatrix: inserting vector 40 of 90..."
       ]
      },
      {
       "output_type": "stream",
       "stream": "stdout",
       "text": [
        "\n",
        "SimilarityMatrix: inserting vector 50 of 90..."
       ]
      },
      {
       "output_type": "stream",
       "stream": "stdout",
       "text": [
        "\n",
        "SimilarityMatrix: inserting vector 60 of 90..."
       ]
      },
      {
       "output_type": "stream",
       "stream": "stdout",
       "text": [
        "\n",
        "SimilarityMatrix: inserting vector 70 of 90..."
       ]
      },
      {
       "output_type": "stream",
       "stream": "stdout",
       "text": [
        "\n",
        "SimilarityMatrix: inserting vector 80 of 90..."
       ]
      },
      {
       "output_type": "stream",
       "stream": "stdout",
       "text": [
        "\n"
       ]
      }
     ],
     "prompt_number": 3
    },
    {
     "cell_type": "code",
     "collapsed": false,
     "input": [
      "def match_categories(fileid):\n",
      "    matches = sim[model.transform_sents(reuters.sents(fileid))]\n",
      "    return [(cat[4:], score) for cat, score in matches.translate()]\n",
      "\n",
      "def accuracy(m, p):\n",
      "    p = [category for category, _ in p[:len(m)]]\n",
      "    return sum(1 if m_i in p else 0 for m_i in m)/len(m)\n",
      "\n",
      "def test_acc(fileid):\n",
      "    p = match_categories(fileid)\n",
      "    m = reuters.categories(fileid) \n",
      "    return accuracy(m, p)\n",
      "\n",
      "def print_matches(fileid):\n",
      "    categories = reuters.categories(fileid)\n",
      "    matches = match_categories(fileid)\n",
      "    suggested = [\"%s (%0.2f)\" % (cat, score) for cat, score in matches]\n",
      "    print(\"FILE:       %s\" % fileid)\n",
      "    print(\"CATEGORIES: %s\" % \", \".join(categories))\n",
      "    print(\"SUGGESTED:  %s\" % \", \".join(suggested[:max(len(categories), 5)]) + \", ...\")\n",
      "    print(\"ACCURACY:   %s\" % accuracy(categories, matches))\n",
      "    print(reuters.raw(fileid))\n",
      "\n",
      "testids = [fileid for fileid in reuters.fileids() if fileid.startswith(\"test\")]"
     ],
     "language": "python",
     "metadata": {},
     "outputs": [],
     "prompt_number": 4
    },
    {
     "cell_type": "code",
     "collapsed": false,
     "input": [
      "%%capture\n",
      "a_s = np.array([test_acc(fileid) for fileid in testids[:1000]])"
     ],
     "language": "python",
     "metadata": {},
     "outputs": [],
     "prompt_number": 6
    },
    {
     "cell_type": "code",
     "collapsed": false,
     "input": [
      "plt.hist(a_s);\n",
      "plt.axvline(a_s.mean(), color='r', linestyle='solid', linewidth=1);"
     ],
     "language": "python",
     "metadata": {},
     "outputs": [
      {
       "metadata": {},
       "output_type": "display_data",
       "png": "[encoded data removed]",
       "text": [
        "<matplotlib.figure.Figure at 0x7f280b9afa20>"
       ]
      }
     ],
     "prompt_number": 7
    },
    {
     "cell_type": "code",
     "collapsed": false,
     "input": [
      "print_matches(testids[5])"
     ],
     "language": "python",
     "metadata": {},
     "outputs": [
      {
       "output_type": "stream",
       "stream": "stdout",
       "text": [
        "FILE:       test/14839\n",
        "CATEGORIES: ship\n",
        "SUGGESTED:  ship (0.02), wheat (0.02), grain (0.01), carcass (0.00), livestock (0.00), ...\n",
        "ACCURACY:   1.0\n",
        "AUSTRALIAN FOREIGN SHIP BAN ENDS BUT NSW PORTS HIT\n",
        "  Tug crews in New South Wales (NSW),\n",
        "  Victoria and Western Australia yesterday lifted their ban on\n",
        "  foreign-flag ships carrying containers but NSW ports are still\n",
        "  being disrupted by a separate dispute, shipping sources said.\n",
        "      The ban, imposed a week ago over a pay claim, had prevented\n",
        "  the movement in or out of port of nearly 20 vessels, they said.\n",
        "      The pay dispute went before a hearing of the Arbitration\n",
        "  Commission today.\n",
        "      Meanwhile, disruption began today to cargo handling in the\n",
        "  ports of Sydney, Newcastle and Port Kembla, they said.\n",
        "      The industrial action at the NSW ports is part of the week\n",
        "  of action called by the NSW Trades and Labour Council to\n",
        "  protest changes to the state's workers' compensation laws.\n",
        "      The shipping sources said the various port unions appear to\n",
        "  be taking it in turn to work for a short time at the start of\n",
        "  each shift and then to walk off.\n",
        "      Cargo handling in the ports has been disrupted, with\n",
        "  container movements most affected, but has not stopped\n",
        "  altogether, they said.\n",
        "      They said they could not say how long the disruption will\n",
        "  go on and what effect it will have on shipping movements.\n",
        "  \n",
        "\n",
        "\n"
       ]
      }
     ],
     "prompt_number": 12
    },
    {
     "cell_type": "code",
     "collapsed": false,
     "input": [],
     "language": "python",
     "metadata": {},
     "outputs": []
    }
   ],
   "metadata": {}
  }
 ]
}