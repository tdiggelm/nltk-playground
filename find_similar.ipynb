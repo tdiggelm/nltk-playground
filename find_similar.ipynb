{
 "metadata": {
  "name": "",
  "signature": "sha256:f5391ea9662b3c386c541651c36582608f75cc84684907e4706605dd947cb750"
 },
 "nbformat": 3,
 "nbformat_minor": 0,
 "worksheets": [
  {
   "cells": [
    {
     "cell_type": "code",
     "collapsed": false,
     "input": [
      "%matplotlib inline\n",
      "import matplotlib.pyplot as plt\n",
      "import numpy as np\n",
      "from vectorizer import *\n",
      "from nltk.corpus import reuters"
     ],
     "language": "python",
     "metadata": {},
     "outputs": [],
     "prompt_number": 73
    },
    {
     "cell_type": "code",
     "collapsed": false,
     "input": [
      "%%capture\n",
      "#model = NathanModel(\"./reuters-training_only.hnn\")\n",
      "model = NathanModel(\"./reuters-cf.hnn\")\n",
      "corpus = model.corpus(\"doc:*\")\n",
      "sim = corpus.similarity_matrix()"
     ],
     "language": "python",
     "metadata": {},
     "outputs": [
      {
       "output_type": "stream",
       "stream": "stdout",
       "text": [
        "SimilarityMatrix: inserting vector 0 of 10788...\n",
        "SimilarityMatrix: inserting vector 10 of 10788..."
       ]
      },
      {
       "output_type": "stream",
       "stream": "stdout",
       "text": [
        "\n",
        "SimilarityMatrix: inserting vector 20 of 10788..."
       ]
      },
      {
       "output_type": "stream",
       "stream": "stdout",
       "text": [
        "\n",
        "SimilarityMatrix: inserting vector 30 of 10788..."
       ]
      },
      {
       "output_type": "stream",
       "stream": "stdout",
       "text": [
        "\n",
        "SimilarityMatrix: inserting vector 40 of 10788..."
       ]
      },
      {
       "output_type": "stream",
       "stream": "stdout",
       "text": [
        "\n",
        "SimilarityMatrix: inserting vector 50 of 10788..."
       ]
      },
      {
       "output_type": "stream",
       "stream": "stdout",
       "text": [
        "\n",
        "SimilarityMatrix: inserting vector 60 of 10788..."
       ]
      },
      {
       "output_type": "stream",
       "stream": "stdout",
       "text": [
        "\n",
        "SimilarityMatrix: inserting vector 70 of 10788..."
       ]
      },
      {
       "output_type": "stream",
       "stream": "stdout",
       "text": [
        "\n",
        "SimilarityMatrix: inserting vector 80 of 10788..."
       ]
      },
      {
       "output_type": "stream",
       "stream": "stdout",
       "text": [
        "\n",
        "SimilarityMatrix: inserting vector 90 of 10788..."
       ]
      },
      {
       "output_type": "stream",
       "stream": "stdout",
       "text": [
        "\n",
        "SimilarityMatrix: inserting vector 100 of 10788..."
       ]
      },
      {
       "output_type": "stream",
       "stream": "stdout",
       "text": [
        "\n",
        "SimilarityMatrix: inserting vector 110 of 10788..."
       ]
      },
      {
       "output_type": "stream",
       "stream": "stdout",
       "text": [
        "\n",
        "SimilarityMatrix: inserting vector 120 of 10788..."
       ]
      },
      {
       "output_type": "stream",
       "stream": "stdout",
       "text": [
        "\n",
        "SimilarityMatrix: inserting vector 130 of 10788..."
       ]
      },
      {
       "output_type": "stream",
       "stream": "stdout",
       "text": [
        "\n",
        "SimilarityMatrix: inserting vector 140 of 10788..."
       ]
      },
      {
       "output_type": "stream",
       "stream": "stdout",
       "text": [
        "\n",
        "SimilarityMatrix: inserting vector 150 of 10788..."
       ]
      },
      {
       "output_type": "stream",
       "stream": "stdout",
       "text": [
        "\n",
        "SimilarityMatrix: inserting vector 160 of 10788..."
       ]
      },
      {
       "output_type": "stream",
       "stream": "stdout",
       "text": [
        "\n",
        "SimilarityMatrix: inserting vector 170 of 10788..."
       ]
      },
      {
       "output_type": "stream",
       "stream": "stdout",
       "text": [
        "\n",
        "SimilarityMatrix: inserting vector 180 of 10788..."
       ]
      },
      {
       "output_type": "stream",
       "stream": "stdout",
       "text": [
        "\n",
        "SimilarityMatrix: inserting vector 190 of 10788..."
       ]
      },
      {
       "output_type": "stream",
       "stream": "stdout",
       "text": [
        "\n",
        "SimilarityMatrix: inserting vector 200 of 10788..."
       ]
      },
      {
       "output_type": "stream",
       "stream": "stdout",
       "text": [
        "\n",
        "SimilarityMatrix: inserting vector 210 of 10788..."
       ]
      },
      {
       "output_type": "stream",
       "stream": "stdout",
       "text": [
        "\n",
        "SimilarityMatrix: inserting vector 220 of 10788..."
       ]
      },
      {
       "output_type": "stream",
       "stream": "stdout",
       "text": [
        "\n",
        "SimilarityMatrix: inserting vector 230 of 10788..."
       ]
      },
      {
       "output_type": "stream",
       "stream": "stdout",
       "text": [
        "\n",
        "SimilarityMatrix: inserting vector 240 of 10788..."
       ]
      },
      {
       "output_type": "stream",
       "stream": "stdout",
       "text": [
        "\n",
        "SimilarityMatrix: inserting vector 250 of 10788..."
       ]
      },
      {
       "output_type": "stream",
       "stream": "stdout",
       "text": [
        "\n",
        "SimilarityMatrix: inserting vector 260 of 10788..."
       ]
      },
      {
       "output_type": "stream",
       "stream": "stdout",
       "text": [
        "\n",
        "SimilarityMatrix: inserting vector 270 of 10788..."
       ]
      },
      {
       "output_type": "stream",
       "stream": "stdout",
       "text": [
        "\n",
        "SimilarityMatrix: inserting vector 280 of 10788..."
       ]
      },
      {
       "output_type": "stream",
       "stream": "stdout",
       "text": [
        "\n",
        "SimilarityMatrix: inserting vector 290 of 10788..."
       ]
      },
      {
       "output_type": "stream",
       "stream": "stdout",
       "text": [
        "\n",
        "SimilarityMatrix: inserting vector 300 of 10788..."
       ]
      },
      {
       "output_type": "stream",
       "stream": "stdout",
       "text": [
        "\n",
        "SimilarityMatrix: inserting vector 310 of 10788..."
       ]
      },
      {
       "output_type": "stream",
       "stream": "stdout",
       "text": [
        "\n",
        "SimilarityMatrix: inserting vector 320 of 10788..."
       ]
      },
      {
       "output_type": "stream",
       "stream": "stdout",
       "text": [
        "\n",
        "SimilarityMatrix: inserting vector 330 of 10788..."
       ]
      },
      {
       "output_type": "stream",
       "stream": "stdout",
       "text": [
        "\n",
        "SimilarityMatrix: inserting vector 340 of 10788..."
       ]
      },
      {
       "output_type": "stream",
       "stream": "stdout",
       "text": [
        "\n",
        "SimilarityMatrix: inserting vector 350 of 10788..."
       ]
      },
      {
       "output_type": "stream",
       "stream": "stdout",
       "text": [
        "\n",
        "SimilarityMatrix: inserting vector 360 of 10788..."
       ]
      },
      {
       "output_type": "stream",
       "stream": "stdout",
       "text": [
        "\n",
        "SimilarityMatrix: inserting vector 370 of 10788..."
       ]
      },
      {
       "output_type": "stream",
       "stream": "stdout",
       "text": [
        "\n",
        "SimilarityMatrix: inserting vector 380 of 10788..."
       ]
      },
      {
       "output_type": "stream",
       "stream": "stdout",
       "text": [
        "\n",
        "SimilarityMatrix: inserting vector 390 of 10788..."
       ]
      },
      {
       "output_type": "stream",
       "stream": "stdout",
       "text": [
        "\n",
        "SimilarityMatrix: inserting vector 400 of 10788..."
       ]
      },
      {
       "output_type": "stream",
       "stream": "stdout",
       "text": [
        "\n",
        "SimilarityMatrix: inserting vector 410 of 10788..."
       ]
      },
      {
       "output_type": "stream",
       "stream": "stdout",
       "text": [
        "\n",
        "SimilarityMatrix: inserting vector 420 of 10788..."
       ]
      },
      {
       "output_type": "stream",
       "stream": "stdout",
       "text": [
        "\n",
        "SimilarityMatrix: inserting vector 430 of 10788..."
       ]
      },
      {
       "output_type": "stream",
       "stream": "stdout",
       "text": [
        "\n",
        "SimilarityMatrix: inserting vector 440 of 10788..."
       ]
      },
      {
       "output_type": "stream",
       "stream": "stdout",
       "text": [
        "\n",
        "SimilarityMatrix: inserting vector 450 of 10788..."
       ]
      },
      {
       "output_type": "stream",
       "stream": "stdout",
       "text": [
        "\n",
        "SimilarityMatrix: inserting vector 460 of 10788..."
       ]
      },
      {
       "output_type": "stream",
       "stream": "stdout",
       "text": [
        "\n",
        "SimilarityMatrix: inserting vector 470 of 10788..."
       ]
      },
      {
       "output_type": "stream",
       "stream": "stdout",
       "text": [
        "\n",
        "SimilarityMatrix: inserting vector 480 of 10788..."
       ]
      },
      {
       "output_type": "stream",
       "stream": "stdout",
       "text": [
        "\n",
        "SimilarityMatrix: inserting vector 490 of 10788..."
       ]
      },
      {
       "output_type": "stream",
       "stream": "stdout",
       "text": [
        "\n",
        "SimilarityMatrix: inserting vector 500 of 10788..."
       ]
      },
      {
       "output_type": "stream",
       "stream": "stdout",
       "text": [
        "\n",
        "SimilarityMatrix: inserting vector 510 of 10788..."
       ]
      },
      {
       "output_type": "stream",
       "stream": "stdout",
       "text": [
        "\n",
        "SimilarityMatrix: inserting vector 520 of 10788..."
       ]
      },
      {
       "output_type": "stream",
       "stream": "stdout",
       "text": [
        "\n",
        "SimilarityMatrix: inserting vector 530 of 10788..."
       ]
      },
      {
       "output_type": "stream",
       "stream": "stdout",
       "text": [
        "\n",
        "SimilarityMatrix: inserting vector 540 of 10788..."
       ]
      },
      {
       "output_type": "stream",
       "stream": "stdout",
       "text": [
        "\n",
        "SimilarityMatrix: inserting vector 550 of 10788..."
       ]
      },
      {
       "output_type": "stream",
       "stream": "stdout",
       "text": [
        "\n",
        "SimilarityMatrix: inserting vector 560 of 10788..."
       ]
      },
      {
       "output_type": "stream",
       "stream": "stdout",
       "text": [
        "\n",
        "SimilarityMatrix: inserting vector 570 of 10788..."
       ]
      },
      {
       "output_type": "stream",
       "stream": "stdout",
       "text": [
        "\n",
        "SimilarityMatrix: inserting vector 580 of 10788..."
       ]
      },
      {
       "output_type": "stream",
       "stream": "stdout",
       "text": [
        "\n",
        "SimilarityMatrix: inserting vector 590 of 10788..."
       ]
      },
      {
       "output_type": "stream",
       "stream": "stdout",
       "text": [
        "\n",
        "SimilarityMatrix: inserting vector 600 of 10788..."
       ]
      },
      {
       "output_type": "stream",
       "stream": "stdout",
       "text": [
        "\n",
        "SimilarityMatrix: inserting vector 610 of 10788..."
       ]
      },
      {
       "output_type": "stream",
       "stream": "stdout",
       "text": [
        "\n",
        "SimilarityMatrix: inserting vector 620 of 10788..."
       ]
      },
      {
       "output_type": "stream",
       "stream": "stdout",
       "text": [
        "\n",
        "SimilarityMatrix: inserting vector 630 of 10788..."
       ]
      },
      {
       "output_type": "stream",
       "stream": "stdout",
       "text": [
        "\n",
        "SimilarityMatrix: inserting vector 640 of 10788..."
       ]
      },
      {
       "output_type": "stream",
       "stream": "stdout",
       "text": [
        "\n",
        "SimilarityMatrix: inserting vector 650 of 10788..."
       ]
      },
      {
       "output_type": "stream",
       "stream": "stdout",
       "text": [
        "\n",
        "SimilarityMatrix: inserting vector 660 of 10788..."
       ]
      },
      {
       "output_type": "stream",
       "stream": "stdout",
       "text": [
        "\n",
        "SimilarityMatrix: inserting vector 670 of 10788..."
       ]
      },
      {
       "output_type": "stream",
       "stream": "stdout",
       "text": [
        "\n",
        "SimilarityMatrix: inserting vector 680 of 10788..."
       ]
      },
      {
       "output_type": "stream",
       "stream": "stdout",
       "text": [
        "\n",
        "SimilarityMatrix: inserting vector 690 of 10788..."
       ]
      },
      {
       "output_type": "stream",
       "stream": "stdout",
       "text": [
        "\n",
        "SimilarityMatrix: inserting vector 700 of 10788..."
       ]
      },
      {
       "output_type": "stream",
       "stream": "stdout",
       "text": [
        "\n",
        "SimilarityMatrix: inserting vector 710 of 10788..."
       ]
      },
      {
       "output_type": "stream",
       "stream": "stdout",
       "text": [
        "\n",
        "SimilarityMatrix: inserting vector 720 of 10788..."
       ]
      },
      {
       "output_type": "stream",
       "stream": "stdout",
       "text": [
        "\n",
        "SimilarityMatrix: inserting vector 730 of 10788..."
       ]
      },
      {
       "output_type": "stream",
       "stream": "stdout",
       "text": [
        "\n",
        "SimilarityMatrix: inserting vector 740 of 10788..."
       ]
      },
      {
       "output_type": "stream",
       "stream": "stdout",
       "text": [
        "\n",
        "SimilarityMatrix: inserting vector 750 of 10788..."
       ]
      },
      {
       "output_type": "stream",
       "stream": "stdout",
       "text": [
        "\n",
        "SimilarityMatrix: inserting vector 760 of 10788..."
       ]
      },
      {
       "output_type": "stream",
       "stream": "stdout",
       "text": [
        "\n",
        "SimilarityMatrix: inserting vector 770 of 10788..."
       ]
      },
      {
       "output_type": "stream",
       "stream": "stdout",
       "text": [
        "\n",
        "SimilarityMatrix: inserting vector 780 of 10788..."
       ]
      },
      {
       "output_type": "stream",
       "stream": "stdout",
       "text": [
        "\n",
        "SimilarityMatrix: inserting vector 790 of 10788..."
       ]
      },
      {
       "output_type": "stream",
       "stream": "stdout",
       "text": [
        "\n",
        "SimilarityMatrix: inserting vector 800 of 10788..."
       ]
      },
      {
       "output_type": "stream",
       "stream": "stdout",
       "text": [
        "\n",
        "SimilarityMatrix: inserting vector 810 of 10788..."
       ]
      },
      {
       "output_type": "stream",
       "stream": "stdout",
       "text": [
        "\n",
        "SimilarityMatrix: inserting vector 820 of 10788..."
       ]
      },
      {
       "output_type": "stream",
       "stream": "stdout",
       "text": [
        "\n",
        "SimilarityMatrix: inserting vector 830 of 10788..."
       ]
      },
      {
       "output_type": "stream",
       "stream": "stdout",
       "text": [
        "\n",
        "SimilarityMatrix: inserting vector 840 of 10788..."
       ]
      },
      {
       "output_type": "stream",
       "stream": "stdout",
       "text": [
        "\n",
        "SimilarityMatrix: inserting vector 850 of 10788..."
       ]
      },
      {
       "output_type": "stream",
       "stream": "stdout",
       "text": [
        "\n",
        "SimilarityMatrix: inserting vector 860 of 10788..."
       ]
      },
      {
       "output_type": "stream",
       "stream": "stdout",
       "text": [
        "\n",
        "SimilarityMatrix: inserting vector 870 of 10788..."
       ]
      },
      {
       "output_type": "stream",
       "stream": "stdout",
       "text": [
        "\n",
        "SimilarityMatrix: inserting vector 880 of 10788..."
       ]
      },
      {
       "output_type": "stream",
       "stream": "stdout",
       "text": [
        "\n",
        "SimilarityMatrix: inserting vector 890 of 10788..."
       ]
      },
      {
       "output_type": "stream",
       "stream": "stdout",
       "text": [
        "\n",
        "SimilarityMatrix: inserting vector 900 of 10788..."
       ]
      },
      {
       "output_type": "stream",
       "stream": "stdout",
       "text": [
        "\n",
        "SimilarityMatrix: inserting vector 910 of 10788..."
       ]
      },
      {
       "output_type": "stream",
       "stream": "stdout",
       "text": [
        "\n",
        "SimilarityMatrix: inserting vector 920 of 10788..."
       ]
      },
      {
       "output_type": "stream",
       "stream": "stdout",
       "text": [
        "\n",
        "SimilarityMatrix: inserting vector 930 of 10788..."
       ]
      },
      {
       "output_type": "stream",
       "stream": "stdout",
       "text": [
        "\n",
        "SimilarityMatrix: inserting vector 940 of 10788..."
       ]
      },
      {
       "output_type": "stream",
       "stream": "stdout",
       "text": [
        "\n",
        "SimilarityMatrix: inserting vector 950 of 10788..."
       ]
      },
      {
       "output_type": "stream",
       "stream": "stdout",
       "text": [
        "\n",
        "SimilarityMatrix: inserting vector 960 of 10788..."
       ]
      },
      {
       "output_type": "stream",
       "stream": "stdout",
       "text": [
        "\n",
        "SimilarityMatrix: inserting vector 970 of 10788..."
       ]
      },
      {
       "output_type": "stream",
       "stream": "stdout",
       "text": [
        "\n",
        "SimilarityMatrix: inserting vector 980 of 10788..."
       ]
      },
      {
       "output_type": "stream",
       "stream": "stdout",
       "text": [
        "\n",
        "SimilarityMatrix: inserting vector 990 of 10788..."
       ]
      },
      {
       "output_type": "stream",
       "stream": "stdout",
       "text": [
        "\n",
        "SimilarityMatrix: inserting vector 1000 of 10788..."
       ]
      },
      {
       "output_type": "stream",
       "stream": "stdout",
       "text": [
        "\n",
        "SimilarityMatrix: inserting vector 1010 of 10788..."
       ]
      },
      {
       "output_type": "stream",
       "stream": "stdout",
       "text": [
        "\n",
        "SimilarityMatrix: inserting vector 1020 of 10788..."
       ]
      },
      {
       "output_type": "stream",
       "stream": "stdout",
       "text": [
        "\n",
        "SimilarityMatrix: inserting vector 1030 of 10788..."
       ]
      },
      {
       "output_type": "stream",
       "stream": "stdout",
       "text": [
        "\n",
        "SimilarityMatrix: inserting vector 1040 of 10788..."
       ]
      },
      {
       "output_type": "stream",
       "stream": "stdout",
       "text": [
        "\n",
        "SimilarityMatrix: inserting vector 1050 of 10788..."
       ]
      },
      {
       "output_type": "stream",
       "stream": "stdout",
       "text": [
        "\n",
        "SimilarityMatrix: inserting vector 1060 of 10788..."
       ]
      },
      {
       "output_type": "stream",
       "stream": "stdout",
       "text": [
        "\n",
        "SimilarityMatrix: inserting vector 1070 of 10788..."
       ]
      },
      {
       "output_type": "stream",
       "stream": "stdout",
       "text": [
        "\n",
        "SimilarityMatrix: inserting vector 1080 of 10788..."
       ]
      },
      {
       "output_type": "stream",
       "stream": "stdout",
       "text": [
        "\n",
        "SimilarityMatrix: inserting vector 1090 of 10788..."
       ]
      },
      {
       "output_type": "stream",
       "stream": "stdout",
       "text": [
        "\n",
        "SimilarityMatrix: inserting vector 1100 of 10788..."
       ]
      },
      {
       "output_type": "stream",
       "stream": "stdout",
       "text": [
        "\n",
        "SimilarityMatrix: inserting vector 1110 of 10788..."
       ]
      },
      {
       "output_type": "stream",
       "stream": "stdout",
       "text": [
        "\n",
        "SimilarityMatrix: inserting vector 1120 of 10788..."
       ]
      },
      {
       "output_type": "stream",
       "stream": "stdout",
       "text": [
        "\n",
        "SimilarityMatrix: inserting vector 1130 of 10788..."
       ]
      },
      {
       "output_type": "stream",
       "stream": "stdout",
       "text": [
        "\n",
        "SimilarityMatrix: inserting vector 1140 of 10788..."
       ]
      },
      {
       "output_type": "stream",
       "stream": "stdout",
       "text": [
        "\n",
        "SimilarityMatrix: inserting vector 1150 of 10788..."
       ]
      },
      {
       "output_type": "stream",
       "stream": "stdout",
       "text": [
        "\n",
        "SimilarityMatrix: inserting vector 1160 of 10788..."
       ]
      },
      {
       "output_type": "stream",
       "stream": "stdout",
       "text": [
        "\n",
        "SimilarityMatrix: inserting vector 1170 of 10788..."
       ]
      },
      {
       "output_type": "stream",
       "stream": "stdout",
       "text": [
        "\n",
        "SimilarityMatrix: inserting vector 1180 of 10788..."
       ]
      },
      {
       "output_type": "stream",
       "stream": "stdout",
       "text": [
        "\n",
        "SimilarityMatrix: inserting vector 1190 of 10788..."
       ]
      },
      {
       "output_type": "stream",
       "stream": "stdout",
       "text": [
        "\n",
        "SimilarityMatrix: inserting vector 1200 of 10788..."
       ]
      },
      {
       "output_type": "stream",
       "stream": "stdout",
       "text": [
        "\n",
        "SimilarityMatrix: inserting vector 1210 of 10788..."
       ]
      },
      {
       "output_type": "stream",
       "stream": "stdout",
       "text": [
        "\n",
        "SimilarityMatrix: inserting vector 1220 of 10788..."
       ]
      },
      {
       "output_type": "stream",
       "stream": "stdout",
       "text": [
        "\n",
        "SimilarityMatrix: inserting vector 1230 of 10788..."
       ]
      },
      {
       "output_type": "stream",
       "stream": "stdout",
       "text": [
        "\n",
        "SimilarityMatrix: inserting vector 1240 of 10788..."
       ]
      },
      {
       "output_type": "stream",
       "stream": "stdout",
       "text": [
        "\n",
        "SimilarityMatrix: inserting vector 1250 of 10788..."
       ]
      },
      {
       "output_type": "stream",
       "stream": "stdout",
       "text": [
        "\n",
        "SimilarityMatrix: inserting vector 1260 of 10788..."
       ]
      },
      {
       "output_type": "stream",
       "stream": "stdout",
       "text": [
        "\n",
        "SimilarityMatrix: inserting vector 1270 of 10788..."
       ]
      },
      {
       "output_type": "stream",
       "stream": "stdout",
       "text": [
        "\n",
        "SimilarityMatrix: inserting vector 1280 of 10788..."
       ]
      },
      {
       "output_type": "stream",
       "stream": "stdout",
       "text": [
        "\n",
        "SimilarityMatrix: inserting vector 1290 of 10788..."
       ]
      },
      {
       "output_type": "stream",
       "stream": "stdout",
       "text": [
        "\n",
        "SimilarityMatrix: inserting vector 1300 of 10788..."
       ]
      },
      {
       "output_type": "stream",
       "stream": "stdout",
       "text": [
        "\n",
        "SimilarityMatrix: inserting vector 1310 of 10788..."
       ]
      },
      {
       "output_type": "stream",
       "stream": "stdout",
       "text": [
        "\n",
        "SimilarityMatrix: inserting vector 1320 of 10788..."
       ]
      },
      {
       "output_type": "stream",
       "stream": "stdout",
       "text": [
        "\n",
        "SimilarityMatrix: inserting vector 1330 of 10788..."
       ]
      },
      {
       "output_type": "stream",
       "stream": "stdout",
       "text": [
        "\n",
        "SimilarityMatrix: inserting vector 1340 of 10788..."
       ]
      },
      {
       "output_type": "stream",
       "stream": "stdout",
       "text": [
        "\n",
        "SimilarityMatrix: inserting vector 1350 of 10788..."
       ]
      },
      {
       "output_type": "stream",
       "stream": "stdout",
       "text": [
        "\n",
        "SimilarityMatrix: inserting vector 1360 of 10788..."
       ]
      },
      {
       "output_type": "stream",
       "stream": "stdout",
       "text": [
        "\n",
        "SimilarityMatrix: inserting vector 1370 of 10788..."
       ]
      },
      {
       "output_type": "stream",
       "stream": "stdout",
       "text": [
        "\n",
        "SimilarityMatrix: inserting vector 1380 of 10788..."
       ]
      },
      {
       "output_type": "stream",
       "stream": "stdout",
       "text": [
        "\n",
        "SimilarityMatrix: inserting vector 1390 of 10788..."
       ]
      },
      {
       "output_type": "stream",
       "stream": "stdout",
       "text": [
        "\n",
        "SimilarityMatrix: inserting vector 1400 of 10788..."
       ]
      },
      {
       "output_type": "stream",
       "stream": "stdout",
       "text": [
        "\n",
        "SimilarityMatrix: inserting vector 1410 of 10788..."
       ]
      },
      {
       "output_type": "stream",
       "stream": "stdout",
       "text": [
        "\n",
        "SimilarityMatrix: inserting vector 1420 of 10788..."
       ]
      },
      {
       "output_type": "stream",
       "stream": "stdout",
       "text": [
        "\n",
        "SimilarityMatrix: inserting vector 1430 of 10788..."
       ]
      },
      {
       "output_type": "stream",
       "stream": "stdout",
       "text": [
        "\n",
        "SimilarityMatrix: inserting vector 1440 of 10788..."
       ]
      },
      {
       "output_type": "stream",
       "stream": "stdout",
       "text": [
        "\n",
        "SimilarityMatrix: inserting vector 1450 of 10788..."
       ]
      },
      {
       "output_type": "stream",
       "stream": "stdout",
       "text": [
        "\n",
        "SimilarityMatrix: inserting vector 1460 of 10788..."
       ]
      },
      {
       "output_type": "stream",
       "stream": "stdout",
       "text": [
        "\n",
        "SimilarityMatrix: inserting vector 1470 of 10788..."
       ]
      },
      {
       "output_type": "stream",
       "stream": "stdout",
       "text": [
        "\n",
        "SimilarityMatrix: inserting vector 1480 of 10788..."
       ]
      },
      {
       "output_type": "stream",
       "stream": "stdout",
       "text": [
        "\n",
        "SimilarityMatrix: inserting vector 1490 of 10788..."
       ]
      },
      {
       "output_type": "stream",
       "stream": "stdout",
       "text": [
        "\n",
        "SimilarityMatrix: inserting vector 1500 of 10788..."
       ]
      },
      {
       "output_type": "stream",
       "stream": "stdout",
       "text": [
        "\n",
        "SimilarityMatrix: inserting vector 1510 of 10788..."
       ]
      },
      {
       "output_type": "stream",
       "stream": "stdout",
       "text": [
        "\n",
        "SimilarityMatrix: inserting vector 1520 of 10788..."
       ]
      },
      {
       "output_type": "stream",
       "stream": "stdout",
       "text": [
        "\n",
        "SimilarityMatrix: inserting vector 1530 of 10788..."
       ]
      },
      {
       "output_type": "stream",
       "stream": "stdout",
       "text": [
        "\n",
        "SimilarityMatrix: inserting vector 1540 of 10788..."
       ]
      },
      {
       "output_type": "stream",
       "stream": "stdout",
       "text": [
        "\n",
        "SimilarityMatrix: inserting vector 1550 of 10788..."
       ]
      },
      {
       "output_type": "stream",
       "stream": "stdout",
       "text": [
        "\n",
        "SimilarityMatrix: inserting vector 1560 of 10788..."
       ]
      },
      {
       "output_type": "stream",
       "stream": "stdout",
       "text": [
        "\n",
        "SimilarityMatrix: inserting vector 1570 of 10788..."
       ]
      },
      {
       "output_type": "stream",
       "stream": "stdout",
       "text": [
        "\n",
        "SimilarityMatrix: inserting vector 1580 of 10788..."
       ]
      },
      {
       "output_type": "stream",
       "stream": "stdout",
       "text": [
        "\n",
        "SimilarityMatrix: inserting vector 1590 of 10788..."
       ]
      },
      {
       "output_type": "stream",
       "stream": "stdout",
       "text": [
        "\n",
        "SimilarityMatrix: inserting vector 1600 of 10788..."
       ]
      },
      {
       "output_type": "stream",
       "stream": "stdout",
       "text": [
        "\n",
        "SimilarityMatrix: inserting vector 1610 of 10788..."
       ]
      },
      {
       "output_type": "stream",
       "stream": "stdout",
       "text": [
        "\n",
        "SimilarityMatrix: inserting vector 1620 of 10788..."
       ]
      },
      {
       "output_type": "stream",
       "stream": "stdout",
       "text": [
        "\n",
        "SimilarityMatrix: inserting vector 1630 of 10788..."
       ]
      },
      {
       "output_type": "stream",
       "stream": "stdout",
       "text": [
        "\n",
        "SimilarityMatrix: inserting vector 1640 of 10788..."
       ]
      },
      {
       "output_type": "stream",
       "stream": "stdout",
       "text": [
        "\n",
        "SimilarityMatrix: inserting vector 1650 of 10788..."
       ]
      },
      {
       "output_type": "stream",
       "stream": "stdout",
       "text": [
        "\n",
        "SimilarityMatrix: inserting vector 1660 of 10788..."
       ]
      },
      {
       "output_type": "stream",
       "stream": "stdout",
       "text": [
        "\n",
        "SimilarityMatrix: inserting vector 1670 of 10788..."
       ]
      },
      {
       "output_type": "stream",
       "stream": "stdout",
       "text": [
        "\n",
        "SimilarityMatrix: inserting vector 1680 of 10788..."
       ]
      },
      {
       "output_type": "stream",
       "stream": "stdout",
       "text": [
        "\n",
        "SimilarityMatrix: inserting vector 1690 of 10788..."
       ]
      },
      {
       "output_type": "stream",
       "stream": "stdout",
       "text": [
        "\n",
        "SimilarityMatrix: inserting vector 1700 of 10788..."
       ]
      },
      {
       "output_type": "stream",
       "stream": "stdout",
       "text": [
        "\n",
        "SimilarityMatrix: inserting vector 1710 of 10788..."
       ]
      },
      {
       "output_type": "stream",
       "stream": "stdout",
       "text": [
        "\n",
        "SimilarityMatrix: inserting vector 1720 of 10788..."
       ]
      },
      {
       "output_type": "stream",
       "stream": "stdout",
       "text": [
        "\n",
        "SimilarityMatrix: inserting vector 1730 of 10788..."
       ]
      },
      {
       "output_type": "stream",
       "stream": "stdout",
       "text": [
        "\n",
        "SimilarityMatrix: inserting vector 1740 of 10788..."
       ]
      },
      {
       "output_type": "stream",
       "stream": "stdout",
       "text": [
        "\n",
        "SimilarityMatrix: inserting vector 1750 of 10788..."
       ]
      },
      {
       "output_type": "stream",
       "stream": "stdout",
       "text": [
        "\n",
        "SimilarityMatrix: inserting vector 1760 of 10788..."
       ]
      },
      {
       "output_type": "stream",
       "stream": "stdout",
       "text": [
        "\n",
        "SimilarityMatrix: inserting vector 1770 of 10788..."
       ]
      },
      {
       "output_type": "stream",
       "stream": "stdout",
       "text": [
        "\n",
        "SimilarityMatrix: inserting vector 1780 of 10788..."
       ]
      },
      {
       "output_type": "stream",
       "stream": "stdout",
       "text": [
        "\n",
        "SimilarityMatrix: inserting vector 1790 of 10788..."
       ]
      },
      {
       "output_type": "stream",
       "stream": "stdout",
       "text": [
        "\n",
        "SimilarityMatrix: inserting vector 1800 of 10788..."
       ]
      },
      {
       "output_type": "stream",
       "stream": "stdout",
       "text": [
        "\n",
        "SimilarityMatrix: inserting vector 1810 of 10788..."
       ]
      },
      {
       "output_type": "stream",
       "stream": "stdout",
       "text": [
        "\n",
        "SimilarityMatrix: inserting vector 1820 of 10788..."
       ]
      },
      {
       "output_type": "stream",
       "stream": "stdout",
       "text": [
        "\n",
        "SimilarityMatrix: inserting vector 1830 of 10788..."
       ]
      },
      {
       "output_type": "stream",
       "stream": "stdout",
       "text": [
        "\n",
        "SimilarityMatrix: inserting vector 1840 of 10788..."
       ]
      },
      {
       "output_type": "stream",
       "stream": "stdout",
       "text": [
        "\n",
        "SimilarityMatrix: inserting vector 1850 of 10788..."
       ]
      },
      {
       "output_type": "stream",
       "stream": "stdout",
       "text": [
        "\n",
        "SimilarityMatrix: inserting vector 1860 of 10788..."
       ]
      },
      {
       "output_type": "stream",
       "stream": "stdout",
       "text": [
        "\n",
        "SimilarityMatrix: inserting vector 1870 of 10788..."
       ]
      },
      {
       "output_type": "stream",
       "stream": "stdout",
       "text": [
        "\n",
        "SimilarityMatrix: inserting vector 1880 of 10788..."
       ]
      },
      {
       "output_type": "stream",
       "stream": "stdout",
       "text": [
        "\n",
        "SimilarityMatrix: inserting vector 1890 of 10788..."
       ]
      },
      {
       "output_type": "stream",
       "stream": "stdout",
       "text": [
        "\n",
        "SimilarityMatrix: inserting vector 1900 of 10788..."
       ]
      },
      {
       "output_type": "stream",
       "stream": "stdout",
       "text": [
        "\n",
        "SimilarityMatrix: inserting vector 1910 of 10788..."
       ]
      },
      {
       "output_type": "stream",
       "stream": "stdout",
       "text": [
        "\n",
        "SimilarityMatrix: inserting vector 1920 of 10788..."
       ]
      },
      {
       "output_type": "stream",
       "stream": "stdout",
       "text": [
        "\n",
        "SimilarityMatrix: inserting vector 1930 of 10788..."
       ]
      },
      {
       "output_type": "stream",
       "stream": "stdout",
       "text": [
        "\n",
        "SimilarityMatrix: inserting vector 1940 of 10788..."
       ]
      },
      {
       "output_type": "stream",
       "stream": "stdout",
       "text": [
        "\n",
        "SimilarityMatrix: inserting vector 1950 of 10788..."
       ]
      },
      {
       "output_type": "stream",
       "stream": "stdout",
       "text": [
        "\n",
        "SimilarityMatrix: inserting vector 1960 of 10788..."
       ]
      },
      {
       "output_type": "stream",
       "stream": "stdout",
       "text": [
        "\n",
        "SimilarityMatrix: inserting vector 1970 of 10788..."
       ]
      },
      {
       "output_type": "stream",
       "stream": "stdout",
       "text": [
        "\n",
        "SimilarityMatrix: inserting vector 1980 of 10788..."
       ]
      },
      {
       "output_type": "stream",
       "stream": "stdout",
       "text": [
        "\n",
        "SimilarityMatrix: inserting vector 1990 of 10788..."
       ]
      },
      {
       "output_type": "stream",
       "stream": "stdout",
       "text": [
        "\n",
        "SimilarityMatrix: inserting vector 2000 of 10788..."
       ]
      },
      {
       "output_type": "stream",
       "stream": "stdout",
       "text": [
        "\n",
        "SimilarityMatrix: inserting vector 2010 of 10788..."
       ]
      },
      {
       "output_type": "stream",
       "stream": "stdout",
       "text": [
        "\n",
        "SimilarityMatrix: inserting vector 2020 of 10788..."
       ]
      },
      {
       "output_type": "stream",
       "stream": "stdout",
       "text": [
        "\n",
        "SimilarityMatrix: inserting vector 2030 of 10788..."
       ]
      },
      {
       "output_type": "stream",
       "stream": "stdout",
       "text": [
        "\n",
        "SimilarityMatrix: inserting vector 2040 of 10788..."
       ]
      },
      {
       "output_type": "stream",
       "stream": "stdout",
       "text": [
        "\n",
        "SimilarityMatrix: inserting vector 2050 of 10788..."
       ]
      },
      {
       "output_type": "stream",
       "stream": "stdout",
       "text": [
        "\n",
        "SimilarityMatrix: inserting vector 2060 of 10788..."
       ]
      },
      {
       "output_type": "stream",
       "stream": "stdout",
       "text": [
        "\n",
        "SimilarityMatrix: inserting vector 2070 of 10788..."
       ]
      },
      {
       "output_type": "stream",
       "stream": "stdout",
       "text": [
        "\n",
        "SimilarityMatrix: inserting vector 2080 of 10788..."
       ]
      },
      {
       "output_type": "stream",
       "stream": "stdout",
       "text": [
        "\n",
        "SimilarityMatrix: inserting vector 2090 of 10788..."
       ]
      },
      {
       "output_type": "stream",
       "stream": "stdout",
       "text": [
        "\n",
        "SimilarityMatrix: inserting vector 2100 of 10788..."
       ]
      },
      {
       "output_type": "stream",
       "stream": "stdout",
       "text": [
        "\n",
        "SimilarityMatrix: inserting vector 2110 of 10788..."
       ]
      },
      {
       "output_type": "stream",
       "stream": "stdout",
       "text": [
        "\n",
        "SimilarityMatrix: inserting vector 2120 of 10788..."
       ]
      },
      {
       "output_type": "stream",
       "stream": "stdout",
       "text": [
        "\n",
        "SimilarityMatrix: inserting vector 2130 of 10788..."
       ]
      },
      {
       "output_type": "stream",
       "stream": "stdout",
       "text": [
        "\n",
        "SimilarityMatrix: inserting vector 2140 of 10788..."
       ]
      },
      {
       "output_type": "stream",
       "stream": "stdout",
       "text": [
        "\n",
        "SimilarityMatrix: inserting vector 2150 of 10788..."
       ]
      },
      {
       "output_type": "stream",
       "stream": "stdout",
       "text": [
        "\n",
        "SimilarityMatrix: inserting vector 2160 of 10788..."
       ]
      },
      {
       "output_type": "stream",
       "stream": "stdout",
       "text": [
        "\n",
        "SimilarityMatrix: inserting vector 2170 of 10788..."
       ]
      },
      {
       "output_type": "stream",
       "stream": "stdout",
       "text": [
        "\n",
        "SimilarityMatrix: inserting vector 2180 of 10788..."
       ]
      },
      {
       "output_type": "stream",
       "stream": "stdout",
       "text": [
        "\n",
        "SimilarityMatrix: inserting vector 2190 of 10788..."
       ]
      },
      {
       "output_type": "stream",
       "stream": "stdout",
       "text": [
        "\n",
        "SimilarityMatrix: inserting vector 2200 of 10788..."
       ]
      },
      {
       "output_type": "stream",
       "stream": "stdout",
       "text": [
        "\n",
        "SimilarityMatrix: inserting vector 2210 of 10788..."
       ]
      },
      {
       "output_type": "stream",
       "stream": "stdout",
       "text": [
        "\n",
        "SimilarityMatrix: inserting vector 2220 of 10788..."
       ]
      },
      {
       "output_type": "stream",
       "stream": "stdout",
       "text": [
        "\n",
        "SimilarityMatrix: inserting vector 2230 of 10788..."
       ]
      },
      {
       "output_type": "stream",
       "stream": "stdout",
       "text": [
        "\n",
        "SimilarityMatrix: inserting vector 2240 of 10788..."
       ]
      },
      {
       "output_type": "stream",
       "stream": "stdout",
       "text": [
        "\n",
        "SimilarityMatrix: inserting vector 2250 of 10788..."
       ]
      },
      {
       "output_type": "stream",
       "stream": "stdout",
       "text": [
        "\n",
        "SimilarityMatrix: inserting vector 2260 of 10788..."
       ]
      },
      {
       "output_type": "stream",
       "stream": "stdout",
       "text": [
        "\n",
        "SimilarityMatrix: inserting vector 2270 of 10788..."
       ]
      },
      {
       "output_type": "stream",
       "stream": "stdout",
       "text": [
        "\n",
        "SimilarityMatrix: inserting vector 2280 of 10788..."
       ]
      },
      {
       "output_type": "stream",
       "stream": "stdout",
       "text": [
        "\n",
        "SimilarityMatrix: inserting vector 2290 of 10788..."
       ]
      },
      {
       "output_type": "stream",
       "stream": "stdout",
       "text": [
        "\n",
        "SimilarityMatrix: inserting vector 2300 of 10788..."
       ]
      },
      {
       "output_type": "stream",
       "stream": "stdout",
       "text": [
        "\n",
        "SimilarityMatrix: inserting vector 2310 of 10788..."
       ]
      },
      {
       "output_type": "stream",
       "stream": "stdout",
       "text": [
        "\n",
        "SimilarityMatrix: inserting vector 2320 of 10788..."
       ]
      },
      {
       "output_type": "stream",
       "stream": "stdout",
       "text": [
        "\n",
        "SimilarityMatrix: inserting vector 2330 of 10788..."
       ]
      },
      {
       "output_type": "stream",
       "stream": "stdout",
       "text": [
        "\n",
        "SimilarityMatrix: inserting vector 2340 of 10788..."
       ]
      },
      {
       "output_type": "stream",
       "stream": "stdout",
       "text": [
        "\n",
        "SimilarityMatrix: inserting vector 2350 of 10788..."
       ]
      },
      {
       "output_type": "stream",
       "stream": "stdout",
       "text": [
        "\n",
        "SimilarityMatrix: inserting vector 2360 of 10788..."
       ]
      },
      {
       "output_type": "stream",
       "stream": "stdout",
       "text": [
        "\n",
        "SimilarityMatrix: inserting vector 2370 of 10788..."
       ]
      },
      {
       "output_type": "stream",
       "stream": "stdout",
       "text": [
        "\n",
        "SimilarityMatrix: inserting vector 2380 of 10788..."
       ]
      },
      {
       "output_type": "stream",
       "stream": "stdout",
       "text": [
        "\n",
        "SimilarityMatrix: inserting vector 2390 of 10788..."
       ]
      },
      {
       "output_type": "stream",
       "stream": "stdout",
       "text": [
        "\n",
        "SimilarityMatrix: inserting vector 2400 of 10788..."
       ]
      },
      {
       "output_type": "stream",
       "stream": "stdout",
       "text": [
        "\n",
        "SimilarityMatrix: inserting vector 2410 of 10788..."
       ]
      },
      {
       "output_type": "stream",
       "stream": "stdout",
       "text": [
        "\n",
        "SimilarityMatrix: inserting vector 2420 of 10788..."
       ]
      },
      {
       "output_type": "stream",
       "stream": "stdout",
       "text": [
        "\n",
        "SimilarityMatrix: inserting vector 2430 of 10788..."
       ]
      },
      {
       "output_type": "stream",
       "stream": "stdout",
       "text": [
        "\n",
        "SimilarityMatrix: inserting vector 2440 of 10788..."
       ]
      },
      {
       "output_type": "stream",
       "stream": "stdout",
       "text": [
        "\n",
        "SimilarityMatrix: inserting vector 2450 of 10788..."
       ]
      },
      {
       "output_type": "stream",
       "stream": "stdout",
       "text": [
        "\n",
        "SimilarityMatrix: inserting vector 2460 of 10788..."
       ]
      },
      {
       "output_type": "stream",
       "stream": "stdout",
       "text": [
        "\n",
        "SimilarityMatrix: inserting vector 2470 of 10788..."
       ]
      },
      {
       "output_type": "stream",
       "stream": "stdout",
       "text": [
        "\n",
        "SimilarityMatrix: inserting vector 2480 of 10788..."
       ]
      },
      {
       "output_type": "stream",
       "stream": "stdout",
       "text": [
        "\n",
        "SimilarityMatrix: inserting vector 2490 of 10788..."
       ]
      },
      {
       "output_type": "stream",
       "stream": "stdout",
       "text": [
        "\n",
        "SimilarityMatrix: inserting vector 2500 of 10788..."
       ]
      },
      {
       "output_type": "stream",
       "stream": "stdout",
       "text": [
        "\n",
        "SimilarityMatrix: inserting vector 2510 of 10788..."
       ]
      },
      {
       "output_type": "stream",
       "stream": "stdout",
       "text": [
        "\n",
        "SimilarityMatrix: inserting vector 2520 of 10788..."
       ]
      },
      {
       "output_type": "stream",
       "stream": "stdout",
       "text": [
        "\n",
        "SimilarityMatrix: inserting vector 2530 of 10788..."
       ]
      },
      {
       "output_type": "stream",
       "stream": "stdout",
       "text": [
        "\n",
        "SimilarityMatrix: inserting vector 2540 of 10788..."
       ]
      },
      {
       "output_type": "stream",
       "stream": "stdout",
       "text": [
        "\n",
        "SimilarityMatrix: inserting vector 2550 of 10788..."
       ]
      },
      {
       "output_type": "stream",
       "stream": "stdout",
       "text": [
        "\n",
        "SimilarityMatrix: inserting vector 2560 of 10788..."
       ]
      },
      {
       "output_type": "stream",
       "stream": "stdout",
       "text": [
        "\n",
        "SimilarityMatrix: inserting vector 2570 of 10788..."
       ]
      },
      {
       "output_type": "stream",
       "stream": "stdout",
       "text": [
        "\n",
        "SimilarityMatrix: inserting vector 2580 of 10788..."
       ]
      },
      {
       "output_type": "stream",
       "stream": "stdout",
       "text": [
        "\n",
        "SimilarityMatrix: inserting vector 2590 of 10788..."
       ]
      },
      {
       "output_type": "stream",
       "stream": "stdout",
       "text": [
        "\n",
        "SimilarityMatrix: inserting vector 2600 of 10788..."
       ]
      },
      {
       "output_type": "stream",
       "stream": "stdout",
       "text": [
        "\n",
        "SimilarityMatrix: inserting vector 2610 of 10788..."
       ]
      },
      {
       "output_type": "stream",
       "stream": "stdout",
       "text": [
        "\n",
        "SimilarityMatrix: inserting vector 2620 of 10788..."
       ]
      },
      {
       "output_type": "stream",
       "stream": "stdout",
       "text": [
        "\n",
        "SimilarityMatrix: inserting vector 2630 of 10788..."
       ]
      },
      {
       "output_type": "stream",
       "stream": "stdout",
       "text": [
        "\n",
        "SimilarityMatrix: inserting vector 2640 of 10788..."
       ]
      },
      {
       "output_type": "stream",
       "stream": "stdout",
       "text": [
        "\n",
        "SimilarityMatrix: inserting vector 2650 of 10788..."
       ]
      },
      {
       "output_type": "stream",
       "stream": "stdout",
       "text": [
        "\n",
        "SimilarityMatrix: inserting vector 2660 of 10788..."
       ]
      },
      {
       "output_type": "stream",
       "stream": "stdout",
       "text": [
        "\n",
        "SimilarityMatrix: inserting vector 2670 of 10788..."
       ]
      },
      {
       "output_type": "stream",
       "stream": "stdout",
       "text": [
        "\n",
        "SimilarityMatrix: inserting vector 2680 of 10788..."
       ]
      },
      {
       "output_type": "stream",
       "stream": "stdout",
       "text": [
        "\n",
        "SimilarityMatrix: inserting vector 2690 of 10788..."
       ]
      },
      {
       "output_type": "stream",
       "stream": "stdout",
       "text": [
        "\n",
        "SimilarityMatrix: inserting vector 2700 of 10788..."
       ]
      },
      {
       "output_type": "stream",
       "stream": "stdout",
       "text": [
        "\n",
        "SimilarityMatrix: inserting vector 2710 of 10788..."
       ]
      },
      {
       "output_type": "stream",
       "stream": "stdout",
       "text": [
        "\n",
        "SimilarityMatrix: inserting vector 2720 of 10788..."
       ]
      },
      {
       "output_type": "stream",
       "stream": "stdout",
       "text": [
        "\n",
        "SimilarityMatrix: inserting vector 2730 of 10788..."
       ]
      },
      {
       "output_type": "stream",
       "stream": "stdout",
       "text": [
        "\n",
        "SimilarityMatrix: inserting vector 2740 of 10788..."
       ]
      },
      {
       "output_type": "stream",
       "stream": "stdout",
       "text": [
        "\n",
        "SimilarityMatrix: inserting vector 2750 of 10788..."
       ]
      },
      {
       "output_type": "stream",
       "stream": "stdout",
       "text": [
        "\n",
        "SimilarityMatrix: inserting vector 2760 of 10788..."
       ]
      },
      {
       "output_type": "stream",
       "stream": "stdout",
       "text": [
        "\n",
        "SimilarityMatrix: inserting vector 2770 of 10788..."
       ]
      },
      {
       "output_type": "stream",
       "stream": "stdout",
       "text": [
        "\n",
        "SimilarityMatrix: inserting vector 2780 of 10788..."
       ]
      },
      {
       "output_type": "stream",
       "stream": "stdout",
       "text": [
        "\n",
        "SimilarityMatrix: inserting vector 2790 of 10788..."
       ]
      },
      {
       "output_type": "stream",
       "stream": "stdout",
       "text": [
        "\n",
        "SimilarityMatrix: inserting vector 2800 of 10788..."
       ]
      },
      {
       "output_type": "stream",
       "stream": "stdout",
       "text": [
        "\n",
        "SimilarityMatrix: inserting vector 2810 of 10788..."
       ]
      },
      {
       "output_type": "stream",
       "stream": "stdout",
       "text": [
        "\n",
        "SimilarityMatrix: inserting vector 2820 of 10788..."
       ]
      },
      {
       "output_type": "stream",
       "stream": "stdout",
       "text": [
        "\n",
        "SimilarityMatrix: inserting vector 2830 of 10788..."
       ]
      },
      {
       "output_type": "stream",
       "stream": "stdout",
       "text": [
        "\n",
        "SimilarityMatrix: inserting vector 2840 of 10788..."
       ]
      },
      {
       "output_type": "stream",
       "stream": "stdout",
       "text": [
        "\n",
        "SimilarityMatrix: inserting vector 2850 of 10788..."
       ]
      },
      {
       "output_type": "stream",
       "stream": "stdout",
       "text": [
        "\n",
        "SimilarityMatrix: inserting vector 2860 of 10788..."
       ]
      },
      {
       "output_type": "stream",
       "stream": "stdout",
       "text": [
        "\n",
        "SimilarityMatrix: inserting vector 2870 of 10788..."
       ]
      },
      {
       "output_type": "stream",
       "stream": "stdout",
       "text": [
        "\n",
        "SimilarityMatrix: inserting vector 2880 of 10788..."
       ]
      },
      {
       "output_type": "stream",
       "stream": "stdout",
       "text": [
        "\n",
        "SimilarityMatrix: inserting vector 2890 of 10788..."
       ]
      },
      {
       "output_type": "stream",
       "stream": "stdout",
       "text": [
        "\n",
        "SimilarityMatrix: inserting vector 2900 of 10788..."
       ]
      },
      {
       "output_type": "stream",
       "stream": "stdout",
       "text": [
        "\n",
        "SimilarityMatrix: inserting vector 2910 of 10788..."
       ]
      },
      {
       "output_type": "stream",
       "stream": "stdout",
       "text": [
        "\n",
        "SimilarityMatrix: inserting vector 2920 of 10788..."
       ]
      },
      {
       "output_type": "stream",
       "stream": "stdout",
       "text": [
        "\n",
        "SimilarityMatrix: inserting vector 2930 of 10788..."
       ]
      },
      {
       "output_type": "stream",
       "stream": "stdout",
       "text": [
        "\n",
        "SimilarityMatrix: inserting vector 2940 of 10788..."
       ]
      },
      {
       "output_type": "stream",
       "stream": "stdout",
       "text": [
        "\n",
        "SimilarityMatrix: inserting vector 2950 of 10788..."
       ]
      },
      {
       "output_type": "stream",
       "stream": "stdout",
       "text": [
        "\n",
        "SimilarityMatrix: inserting vector 2960 of 10788..."
       ]
      },
      {
       "output_type": "stream",
       "stream": "stdout",
       "text": [
        "\n",
        "SimilarityMatrix: inserting vector 2970 of 10788..."
       ]
      },
      {
       "output_type": "stream",
       "stream": "stdout",
       "text": [
        "\n",
        "SimilarityMatrix: inserting vector 2980 of 10788..."
       ]
      },
      {
       "output_type": "stream",
       "stream": "stdout",
       "text": [
        "\n",
        "SimilarityMatrix: inserting vector 2990 of 10788..."
       ]
      },
      {
       "output_type": "stream",
       "stream": "stdout",
       "text": [
        "\n",
        "SimilarityMatrix: inserting vector 3000 of 10788..."
       ]
      },
      {
       "output_type": "stream",
       "stream": "stdout",
       "text": [
        "\n",
        "SimilarityMatrix: inserting vector 3010 of 10788..."
       ]
      },
      {
       "output_type": "stream",
       "stream": "stdout",
       "text": [
        "\n",
        "SimilarityMatrix: inserting vector 3020 of 10788..."
       ]
      },
      {
       "output_type": "stream",
       "stream": "stdout",
       "text": [
        "\n",
        "SimilarityMatrix: inserting vector 3030 of 10788..."
       ]
      },
      {
       "output_type": "stream",
       "stream": "stdout",
       "text": [
        "\n",
        "SimilarityMatrix: inserting vector 3040 of 10788..."
       ]
      },
      {
       "output_type": "stream",
       "stream": "stdout",
       "text": [
        "\n",
        "SimilarityMatrix: inserting vector 3050 of 10788..."
       ]
      },
      {
       "output_type": "stream",
       "stream": "stdout",
       "text": [
        "\n",
        "SimilarityMatrix: inserting vector 3060 of 10788..."
       ]
      },
      {
       "output_type": "stream",
       "stream": "stdout",
       "text": [
        "\n",
        "SimilarityMatrix: inserting vector 3070 of 10788..."
       ]
      },
      {
       "output_type": "stream",
       "stream": "stdout",
       "text": [
        "\n",
        "SimilarityMatrix: inserting vector 3080 of 10788..."
       ]
      },
      {
       "output_type": "stream",
       "stream": "stdout",
       "text": [
        "\n",
        "SimilarityMatrix: inserting vector 3090 of 10788..."
       ]
      },
      {
       "output_type": "stream",
       "stream": "stdout",
       "text": [
        "\n",
        "SimilarityMatrix: inserting vector 3100 of 10788..."
       ]
      },
      {
       "output_type": "stream",
       "stream": "stdout",
       "text": [
        "\n",
        "SimilarityMatrix: inserting vector 3110 of 10788..."
       ]
      },
      {
       "output_type": "stream",
       "stream": "stdout",
       "text": [
        "\n",
        "SimilarityMatrix: inserting vector 3120 of 10788..."
       ]
      },
      {
       "output_type": "stream",
       "stream": "stdout",
       "text": [
        "\n",
        "SimilarityMatrix: inserting vector 3130 of 10788..."
       ]
      },
      {
       "output_type": "stream",
       "stream": "stdout",
       "text": [
        "\n",
        "SimilarityMatrix: inserting vector 3140 of 10788..."
       ]
      },
      {
       "output_type": "stream",
       "stream": "stdout",
       "text": [
        "\n",
        "SimilarityMatrix: inserting vector 3150 of 10788..."
       ]
      },
      {
       "output_type": "stream",
       "stream": "stdout",
       "text": [
        "\n",
        "SimilarityMatrix: inserting vector 3160 of 10788..."
       ]
      },
      {
       "output_type": "stream",
       "stream": "stdout",
       "text": [
        "\n",
        "SimilarityMatrix: inserting vector 3170 of 10788..."
       ]
      },
      {
       "output_type": "stream",
       "stream": "stdout",
       "text": [
        "\n",
        "SimilarityMatrix: inserting vector 3180 of 10788..."
       ]
      },
      {
       "output_type": "stream",
       "stream": "stdout",
       "text": [
        "\n",
        "SimilarityMatrix: inserting vector 3190 of 10788..."
       ]
      },
      {
       "output_type": "stream",
       "stream": "stdout",
       "text": [
        "\n",
        "SimilarityMatrix: inserting vector 3200 of 10788..."
       ]
      },
      {
       "output_type": "stream",
       "stream": "stdout",
       "text": [
        "\n",
        "SimilarityMatrix: inserting vector 3210 of 10788..."
       ]
      },
      {
       "output_type": "stream",
       "stream": "stdout",
       "text": [
        "\n",
        "SimilarityMatrix: inserting vector 3220 of 10788..."
       ]
      },
      {
       "output_type": "stream",
       "stream": "stdout",
       "text": [
        "\n",
        "SimilarityMatrix: inserting vector 3230 of 10788..."
       ]
      },
      {
       "output_type": "stream",
       "stream": "stdout",
       "text": [
        "\n",
        "SimilarityMatrix: inserting vector 3240 of 10788..."
       ]
      },
      {
       "output_type": "stream",
       "stream": "stdout",
       "text": [
        "\n",
        "SimilarityMatrix: inserting vector 3250 of 10788..."
       ]
      },
      {
       "output_type": "stream",
       "stream": "stdout",
       "text": [
        "\n",
        "SimilarityMatrix: inserting vector 3260 of 10788..."
       ]
      },
      {
       "output_type": "stream",
       "stream": "stdout",
       "text": [
        "\n",
        "SimilarityMatrix: inserting vector 3270 of 10788..."
       ]
      },
      {
       "output_type": "stream",
       "stream": "stdout",
       "text": [
        "\n",
        "SimilarityMatrix: inserting vector 3280 of 10788..."
       ]
      },
      {
       "output_type": "stream",
       "stream": "stdout",
       "text": [
        "\n",
        "SimilarityMatrix: inserting vector 3290 of 10788..."
       ]
      },
      {
       "output_type": "stream",
       "stream": "stdout",
       "text": [
        "\n",
        "SimilarityMatrix: inserting vector 3300 of 10788..."
       ]
      },
      {
       "output_type": "stream",
       "stream": "stdout",
       "text": [
        "\n",
        "SimilarityMatrix: inserting vector 3310 of 10788..."
       ]
      },
      {
       "output_type": "stream",
       "stream": "stdout",
       "text": [
        "\n",
        "SimilarityMatrix: inserting vector 3320 of 10788..."
       ]
      },
      {
       "output_type": "stream",
       "stream": "stdout",
       "text": [
        "\n",
        "SimilarityMatrix: inserting vector 3330 of 10788..."
       ]
      },
      {
       "output_type": "stream",
       "stream": "stdout",
       "text": [
        "\n",
        "SimilarityMatrix: inserting vector 3340 of 10788..."
       ]
      },
      {
       "output_type": "stream",
       "stream": "stdout",
       "text": [
        "\n",
        "SimilarityMatrix: inserting vector 3350 of 10788..."
       ]
      },
      {
       "output_type": "stream",
       "stream": "stdout",
       "text": [
        "\n",
        "SimilarityMatrix: inserting vector 3360 of 10788..."
       ]
      },
      {
       "output_type": "stream",
       "stream": "stdout",
       "text": [
        "\n",
        "SimilarityMatrix: inserting vector 3370 of 10788..."
       ]
      },
      {
       "output_type": "stream",
       "stream": "stdout",
       "text": [
        "\n",
        "SimilarityMatrix: inserting vector 3380 of 10788..."
       ]
      },
      {
       "output_type": "stream",
       "stream": "stdout",
       "text": [
        "\n",
        "SimilarityMatrix: inserting vector 3390 of 10788..."
       ]
      },
      {
       "output_type": "stream",
       "stream": "stdout",
       "text": [
        "\n",
        "SimilarityMatrix: inserting vector 3400 of 10788..."
       ]
      },
      {
       "output_type": "stream",
       "stream": "stdout",
       "text": [
        "\n",
        "SimilarityMatrix: inserting vector 3410 of 10788..."
       ]
      },
      {
       "output_type": "stream",
       "stream": "stdout",
       "text": [
        "\n",
        "SimilarityMatrix: inserting vector 3420 of 10788..."
       ]
      },
      {
       "output_type": "stream",
       "stream": "stdout",
       "text": [
        "\n",
        "SimilarityMatrix: inserting vector 3430 of 10788..."
       ]
      },
      {
       "output_type": "stream",
       "stream": "stdout",
       "text": [
        "\n",
        "SimilarityMatrix: inserting vector 3440 of 10788..."
       ]
      },
      {
       "output_type": "stream",
       "stream": "stdout",
       "text": [
        "\n",
        "SimilarityMatrix: inserting vector 3450 of 10788..."
       ]
      },
      {
       "output_type": "stream",
       "stream": "stdout",
       "text": [
        "\n",
        "SimilarityMatrix: inserting vector 3460 of 10788..."
       ]
      },
      {
       "output_type": "stream",
       "stream": "stdout",
       "text": [
        "\n",
        "SimilarityMatrix: inserting vector 3470 of 10788..."
       ]
      },
      {
       "output_type": "stream",
       "stream": "stdout",
       "text": [
        "\n",
        "SimilarityMatrix: inserting vector 3480 of 10788..."
       ]
      },
      {
       "output_type": "stream",
       "stream": "stdout",
       "text": [
        "\n",
        "SimilarityMatrix: inserting vector 3490 of 10788..."
       ]
      },
      {
       "output_type": "stream",
       "stream": "stdout",
       "text": [
        "\n",
        "SimilarityMatrix: inserting vector 3500 of 10788..."
       ]
      },
      {
       "output_type": "stream",
       "stream": "stdout",
       "text": [
        "\n",
        "SimilarityMatrix: inserting vector 3510 of 10788..."
       ]
      },
      {
       "output_type": "stream",
       "stream": "stdout",
       "text": [
        "\n",
        "SimilarityMatrix: inserting vector 3520 of 10788..."
       ]
      },
      {
       "output_type": "stream",
       "stream": "stdout",
       "text": [
        "\n",
        "SimilarityMatrix: inserting vector 3530 of 10788..."
       ]
      },
      {
       "output_type": "stream",
       "stream": "stdout",
       "text": [
        "\n",
        "SimilarityMatrix: inserting vector 3540 of 10788..."
       ]
      },
      {
       "output_type": "stream",
       "stream": "stdout",
       "text": [
        "\n",
        "SimilarityMatrix: inserting vector 3550 of 10788..."
       ]
      },
      {
       "output_type": "stream",
       "stream": "stdout",
       "text": [
        "\n",
        "SimilarityMatrix: inserting vector 3560 of 10788..."
       ]
      },
      {
       "output_type": "stream",
       "stream": "stdout",
       "text": [
        "\n",
        "SimilarityMatrix: inserting vector 3570 of 10788..."
       ]
      },
      {
       "output_type": "stream",
       "stream": "stdout",
       "text": [
        "\n",
        "SimilarityMatrix: inserting vector 3580 of 10788..."
       ]
      },
      {
       "output_type": "stream",
       "stream": "stdout",
       "text": [
        "\n",
        "SimilarityMatrix: inserting vector 3590 of 10788..."
       ]
      },
      {
       "output_type": "stream",
       "stream": "stdout",
       "text": [
        "\n",
        "SimilarityMatrix: inserting vector 3600 of 10788..."
       ]
      },
      {
       "output_type": "stream",
       "stream": "stdout",
       "text": [
        "\n",
        "SimilarityMatrix: inserting vector 3610 of 10788..."
       ]
      },
      {
       "output_type": "stream",
       "stream": "stdout",
       "text": [
        "\n",
        "SimilarityMatrix: inserting vector 3620 of 10788..."
       ]
      },
      {
       "output_type": "stream",
       "stream": "stdout",
       "text": [
        "\n",
        "SimilarityMatrix: inserting vector 3630 of 10788..."
       ]
      },
      {
       "output_type": "stream",
       "stream": "stdout",
       "text": [
        "\n",
        "SimilarityMatrix: inserting vector 3640 of 10788..."
       ]
      },
      {
       "output_type": "stream",
       "stream": "stdout",
       "text": [
        "\n",
        "SimilarityMatrix: inserting vector 3650 of 10788..."
       ]
      },
      {
       "output_type": "stream",
       "stream": "stdout",
       "text": [
        "\n",
        "SimilarityMatrix: inserting vector 3660 of 10788..."
       ]
      },
      {
       "output_type": "stream",
       "stream": "stdout",
       "text": [
        "\n",
        "SimilarityMatrix: inserting vector 3670 of 10788..."
       ]
      },
      {
       "output_type": "stream",
       "stream": "stdout",
       "text": [
        "\n",
        "SimilarityMatrix: inserting vector 3680 of 10788..."
       ]
      },
      {
       "output_type": "stream",
       "stream": "stdout",
       "text": [
        "\n",
        "SimilarityMatrix: inserting vector 3690 of 10788..."
       ]
      },
      {
       "output_type": "stream",
       "stream": "stdout",
       "text": [
        "\n",
        "SimilarityMatrix: inserting vector 3700 of 10788..."
       ]
      },
      {
       "output_type": "stream",
       "stream": "stdout",
       "text": [
        "\n",
        "SimilarityMatrix: inserting vector 3710 of 10788..."
       ]
      },
      {
       "output_type": "stream",
       "stream": "stdout",
       "text": [
        "\n",
        "SimilarityMatrix: inserting vector 3720 of 10788..."
       ]
      },
      {
       "output_type": "stream",
       "stream": "stdout",
       "text": [
        "\n",
        "SimilarityMatrix: inserting vector 3730 of 10788..."
       ]
      },
      {
       "output_type": "stream",
       "stream": "stdout",
       "text": [
        "\n",
        "SimilarityMatrix: inserting vector 3740 of 10788..."
       ]
      },
      {
       "output_type": "stream",
       "stream": "stdout",
       "text": [
        "\n",
        "SimilarityMatrix: inserting vector 3750 of 10788..."
       ]
      },
      {
       "output_type": "stream",
       "stream": "stdout",
       "text": [
        "\n",
        "SimilarityMatrix: inserting vector 3760 of 10788..."
       ]
      },
      {
       "output_type": "stream",
       "stream": "stdout",
       "text": [
        "\n",
        "SimilarityMatrix: inserting vector 3770 of 10788..."
       ]
      },
      {
       "output_type": "stream",
       "stream": "stdout",
       "text": [
        "\n",
        "SimilarityMatrix: inserting vector 3780 of 10788..."
       ]
      },
      {
       "output_type": "stream",
       "stream": "stdout",
       "text": [
        "\n",
        "SimilarityMatrix: inserting vector 3790 of 10788..."
       ]
      },
      {
       "output_type": "stream",
       "stream": "stdout",
       "text": [
        "\n",
        "SimilarityMatrix: inserting vector 3800 of 10788..."
       ]
      },
      {
       "output_type": "stream",
       "stream": "stdout",
       "text": [
        "\n",
        "SimilarityMatrix: inserting vector 3810 of 10788..."
       ]
      },
      {
       "output_type": "stream",
       "stream": "stdout",
       "text": [
        "\n",
        "SimilarityMatrix: inserting vector 3820 of 10788..."
       ]
      },
      {
       "output_type": "stream",
       "stream": "stdout",
       "text": [
        "\n",
        "SimilarityMatrix: inserting vector 3830 of 10788..."
       ]
      },
      {
       "output_type": "stream",
       "stream": "stdout",
       "text": [
        "\n",
        "SimilarityMatrix: inserting vector 3840 of 10788..."
       ]
      },
      {
       "output_type": "stream",
       "stream": "stdout",
       "text": [
        "\n",
        "SimilarityMatrix: inserting vector 3850 of 10788..."
       ]
      },
      {
       "output_type": "stream",
       "stream": "stdout",
       "text": [
        "\n",
        "SimilarityMatrix: inserting vector 3860 of 10788..."
       ]
      },
      {
       "output_type": "stream",
       "stream": "stdout",
       "text": [
        "\n",
        "SimilarityMatrix: inserting vector 3870 of 10788..."
       ]
      },
      {
       "output_type": "stream",
       "stream": "stdout",
       "text": [
        "\n",
        "SimilarityMatrix: inserting vector 3880 of 10788..."
       ]
      },
      {
       "output_type": "stream",
       "stream": "stdout",
       "text": [
        "\n",
        "SimilarityMatrix: inserting vector 3890 of 10788..."
       ]
      },
      {
       "output_type": "stream",
       "stream": "stdout",
       "text": [
        "\n",
        "SimilarityMatrix: inserting vector 3900 of 10788..."
       ]
      },
      {
       "output_type": "stream",
       "stream": "stdout",
       "text": [
        "\n",
        "SimilarityMatrix: inserting vector 3910 of 10788..."
       ]
      },
      {
       "output_type": "stream",
       "stream": "stdout",
       "text": [
        "\n",
        "SimilarityMatrix: inserting vector 3920 of 10788..."
       ]
      },
      {
       "output_type": "stream",
       "stream": "stdout",
       "text": [
        "\n",
        "SimilarityMatrix: inserting vector 3930 of 10788..."
       ]
      },
      {
       "output_type": "stream",
       "stream": "stdout",
       "text": [
        "\n",
        "SimilarityMatrix: inserting vector 3940 of 10788..."
       ]
      },
      {
       "output_type": "stream",
       "stream": "stdout",
       "text": [
        "\n",
        "SimilarityMatrix: inserting vector 3950 of 10788..."
       ]
      },
      {
       "output_type": "stream",
       "stream": "stdout",
       "text": [
        "\n",
        "SimilarityMatrix: inserting vector 3960 of 10788..."
       ]
      },
      {
       "output_type": "stream",
       "stream": "stdout",
       "text": [
        "\n",
        "SimilarityMatrix: inserting vector 3970 of 10788..."
       ]
      },
      {
       "output_type": "stream",
       "stream": "stdout",
       "text": [
        "\n",
        "SimilarityMatrix: inserting vector 3980 of 10788..."
       ]
      },
      {
       "output_type": "stream",
       "stream": "stdout",
       "text": [
        "\n",
        "SimilarityMatrix: inserting vector 3990 of 10788..."
       ]
      },
      {
       "output_type": "stream",
       "stream": "stdout",
       "text": [
        "\n",
        "SimilarityMatrix: inserting vector 4000 of 10788..."
       ]
      },
      {
       "output_type": "stream",
       "stream": "stdout",
       "text": [
        "\n",
        "SimilarityMatrix: inserting vector 4010 of 10788..."
       ]
      },
      {
       "output_type": "stream",
       "stream": "stdout",
       "text": [
        "\n",
        "SimilarityMatrix: inserting vector 4020 of 10788..."
       ]
      },
      {
       "output_type": "stream",
       "stream": "stdout",
       "text": [
        "\n",
        "SimilarityMatrix: inserting vector 4030 of 10788..."
       ]
      },
      {
       "output_type": "stream",
       "stream": "stdout",
       "text": [
        "\n",
        "SimilarityMatrix: inserting vector 4040 of 10788..."
       ]
      },
      {
       "output_type": "stream",
       "stream": "stdout",
       "text": [
        "\n",
        "SimilarityMatrix: inserting vector 4050 of 10788..."
       ]
      },
      {
       "output_type": "stream",
       "stream": "stdout",
       "text": [
        "\n",
        "SimilarityMatrix: inserting vector 4060 of 10788..."
       ]
      },
      {
       "output_type": "stream",
       "stream": "stdout",
       "text": [
        "\n",
        "SimilarityMatrix: inserting vector 4070 of 10788..."
       ]
      },
      {
       "output_type": "stream",
       "stream": "stdout",
       "text": [
        "\n",
        "SimilarityMatrix: inserting vector 4080 of 10788..."
       ]
      },
      {
       "output_type": "stream",
       "stream": "stdout",
       "text": [
        "\n",
        "SimilarityMatrix: inserting vector 4090 of 10788..."
       ]
      },
      {
       "output_type": "stream",
       "stream": "stdout",
       "text": [
        "\n",
        "SimilarityMatrix: inserting vector 4100 of 10788..."
       ]
      },
      {
       "output_type": "stream",
       "stream": "stdout",
       "text": [
        "\n",
        "SimilarityMatrix: inserting vector 4110 of 10788..."
       ]
      },
      {
       "output_type": "stream",
       "stream": "stdout",
       "text": [
        "\n",
        "SimilarityMatrix: inserting vector 4120 of 10788..."
       ]
      },
      {
       "output_type": "stream",
       "stream": "stdout",
       "text": [
        "\n",
        "SimilarityMatrix: inserting vector 4130 of 10788..."
       ]
      },
      {
       "output_type": "stream",
       "stream": "stdout",
       "text": [
        "\n",
        "SimilarityMatrix: inserting vector 4140 of 10788..."
       ]
      },
      {
       "output_type": "stream",
       "stream": "stdout",
       "text": [
        "\n",
        "SimilarityMatrix: inserting vector 4150 of 10788..."
       ]
      },
      {
       "output_type": "stream",
       "stream": "stdout",
       "text": [
        "\n",
        "SimilarityMatrix: inserting vector 4160 of 10788..."
       ]
      },
      {
       "output_type": "stream",
       "stream": "stdout",
       "text": [
        "\n",
        "SimilarityMatrix: inserting vector 4170 of 10788..."
       ]
      },
      {
       "output_type": "stream",
       "stream": "stdout",
       "text": [
        "\n",
        "SimilarityMatrix: inserting vector 4180 of 10788..."
       ]
      },
      {
       "output_type": "stream",
       "stream": "stdout",
       "text": [
        "\n",
        "SimilarityMatrix: inserting vector 4190 of 10788..."
       ]
      },
      {
       "output_type": "stream",
       "stream": "stdout",
       "text": [
        "\n",
        "SimilarityMatrix: inserting vector 4200 of 10788..."
       ]
      },
      {
       "output_type": "stream",
       "stream": "stdout",
       "text": [
        "\n",
        "SimilarityMatrix: inserting vector 4210 of 10788..."
       ]
      },
      {
       "output_type": "stream",
       "stream": "stdout",
       "text": [
        "\n",
        "SimilarityMatrix: inserting vector 4220 of 10788..."
       ]
      },
      {
       "output_type": "stream",
       "stream": "stdout",
       "text": [
        "\n",
        "SimilarityMatrix: inserting vector 4230 of 10788..."
       ]
      },
      {
       "output_type": "stream",
       "stream": "stdout",
       "text": [
        "\n",
        "SimilarityMatrix: inserting vector 4240 of 10788..."
       ]
      },
      {
       "output_type": "stream",
       "stream": "stdout",
       "text": [
        "\n",
        "SimilarityMatrix: inserting vector 4250 of 10788..."
       ]
      },
      {
       "output_type": "stream",
       "stream": "stdout",
       "text": [
        "\n",
        "SimilarityMatrix: inserting vector 4260 of 10788..."
       ]
      },
      {
       "output_type": "stream",
       "stream": "stdout",
       "text": [
        "\n",
        "SimilarityMatrix: inserting vector 4270 of 10788..."
       ]
      },
      {
       "output_type": "stream",
       "stream": "stdout",
       "text": [
        "\n",
        "SimilarityMatrix: inserting vector 4280 of 10788..."
       ]
      },
      {
       "output_type": "stream",
       "stream": "stdout",
       "text": [
        "\n",
        "SimilarityMatrix: inserting vector 4290 of 10788..."
       ]
      },
      {
       "output_type": "stream",
       "stream": "stdout",
       "text": [
        "\n",
        "SimilarityMatrix: inserting vector 4300 of 10788..."
       ]
      },
      {
       "output_type": "stream",
       "stream": "stdout",
       "text": [
        "\n",
        "SimilarityMatrix: inserting vector 4310 of 10788..."
       ]
      },
      {
       "output_type": "stream",
       "stream": "stdout",
       "text": [
        "\n",
        "SimilarityMatrix: inserting vector 4320 of 10788..."
       ]
      },
      {
       "output_type": "stream",
       "stream": "stdout",
       "text": [
        "\n",
        "SimilarityMatrix: inserting vector 4330 of 10788..."
       ]
      },
      {
       "output_type": "stream",
       "stream": "stdout",
       "text": [
        "\n",
        "SimilarityMatrix: inserting vector 4340 of 10788..."
       ]
      },
      {
       "output_type": "stream",
       "stream": "stdout",
       "text": [
        "\n",
        "SimilarityMatrix: inserting vector 4350 of 10788..."
       ]
      },
      {
       "output_type": "stream",
       "stream": "stdout",
       "text": [
        "\n",
        "SimilarityMatrix: inserting vector 4360 of 10788..."
       ]
      },
      {
       "output_type": "stream",
       "stream": "stdout",
       "text": [
        "\n",
        "SimilarityMatrix: inserting vector 4370 of 10788..."
       ]
      },
      {
       "output_type": "stream",
       "stream": "stdout",
       "text": [
        "\n",
        "SimilarityMatrix: inserting vector 4380 of 10788..."
       ]
      },
      {
       "output_type": "stream",
       "stream": "stdout",
       "text": [
        "\n",
        "SimilarityMatrix: inserting vector 4390 of 10788..."
       ]
      },
      {
       "output_type": "stream",
       "stream": "stdout",
       "text": [
        "\n",
        "SimilarityMatrix: inserting vector 4400 of 10788..."
       ]
      },
      {
       "output_type": "stream",
       "stream": "stdout",
       "text": [
        "\n",
        "SimilarityMatrix: inserting vector 4410 of 10788..."
       ]
      },
      {
       "output_type": "stream",
       "stream": "stdout",
       "text": [
        "\n",
        "SimilarityMatrix: inserting vector 4420 of 10788..."
       ]
      },
      {
       "output_type": "stream",
       "stream": "stdout",
       "text": [
        "\n",
        "SimilarityMatrix: inserting vector 4430 of 10788..."
       ]
      },
      {
       "output_type": "stream",
       "stream": "stdout",
       "text": [
        "\n",
        "SimilarityMatrix: inserting vector 4440 of 10788..."
       ]
      },
      {
       "output_type": "stream",
       "stream": "stdout",
       "text": [
        "\n",
        "SimilarityMatrix: inserting vector 4450 of 10788..."
       ]
      },
      {
       "output_type": "stream",
       "stream": "stdout",
       "text": [
        "\n",
        "SimilarityMatrix: inserting vector 4460 of 10788..."
       ]
      },
      {
       "output_type": "stream",
       "stream": "stdout",
       "text": [
        "\n",
        "SimilarityMatrix: inserting vector 4470 of 10788..."
       ]
      },
      {
       "output_type": "stream",
       "stream": "stdout",
       "text": [
        "\n",
        "SimilarityMatrix: inserting vector 4480 of 10788..."
       ]
      },
      {
       "output_type": "stream",
       "stream": "stdout",
       "text": [
        "\n",
        "SimilarityMatrix: inserting vector 4490 of 10788..."
       ]
      },
      {
       "output_type": "stream",
       "stream": "stdout",
       "text": [
        "\n",
        "SimilarityMatrix: inserting vector 4500 of 10788..."
       ]
      },
      {
       "output_type": "stream",
       "stream": "stdout",
       "text": [
        "\n",
        "SimilarityMatrix: inserting vector 4510 of 10788..."
       ]
      },
      {
       "output_type": "stream",
       "stream": "stdout",
       "text": [
        "\n",
        "SimilarityMatrix: inserting vector 4520 of 10788..."
       ]
      },
      {
       "output_type": "stream",
       "stream": "stdout",
       "text": [
        "\n",
        "SimilarityMatrix: inserting vector 4530 of 10788..."
       ]
      },
      {
       "output_type": "stream",
       "stream": "stdout",
       "text": [
        "\n",
        "SimilarityMatrix: inserting vector 4540 of 10788..."
       ]
      },
      {
       "output_type": "stream",
       "stream": "stdout",
       "text": [
        "\n",
        "SimilarityMatrix: inserting vector 4550 of 10788..."
       ]
      },
      {
       "output_type": "stream",
       "stream": "stdout",
       "text": [
        "\n",
        "SimilarityMatrix: inserting vector 4560 of 10788..."
       ]
      },
      {
       "output_type": "stream",
       "stream": "stdout",
       "text": [
        "\n",
        "SimilarityMatrix: inserting vector 4570 of 10788..."
       ]
      },
      {
       "output_type": "stream",
       "stream": "stdout",
       "text": [
        "\n",
        "SimilarityMatrix: inserting vector 4580 of 10788..."
       ]
      },
      {
       "output_type": "stream",
       "stream": "stdout",
       "text": [
        "\n",
        "SimilarityMatrix: inserting vector 4590 of 10788..."
       ]
      },
      {
       "output_type": "stream",
       "stream": "stdout",
       "text": [
        "\n",
        "SimilarityMatrix: inserting vector 4600 of 10788..."
       ]
      },
      {
       "output_type": "stream",
       "stream": "stdout",
       "text": [
        "\n",
        "SimilarityMatrix: inserting vector 4610 of 10788..."
       ]
      },
      {
       "output_type": "stream",
       "stream": "stdout",
       "text": [
        "\n",
        "SimilarityMatrix: inserting vector 4620 of 10788..."
       ]
      },
      {
       "output_type": "stream",
       "stream": "stdout",
       "text": [
        "\n",
        "SimilarityMatrix: inserting vector 4630 of 10788..."
       ]
      },
      {
       "output_type": "stream",
       "stream": "stdout",
       "text": [
        "\n",
        "SimilarityMatrix: inserting vector 4640 of 10788..."
       ]
      },
      {
       "output_type": "stream",
       "stream": "stdout",
       "text": [
        "\n",
        "SimilarityMatrix: inserting vector 4650 of 10788..."
       ]
      },
      {
       "output_type": "stream",
       "stream": "stdout",
       "text": [
        "\n",
        "SimilarityMatrix: inserting vector 4660 of 10788..."
       ]
      },
      {
       "output_type": "stream",
       "stream": "stdout",
       "text": [
        "\n",
        "SimilarityMatrix: inserting vector 4670 of 10788..."
       ]
      },
      {
       "output_type": "stream",
       "stream": "stdout",
       "text": [
        "\n",
        "SimilarityMatrix: inserting vector 4680 of 10788..."
       ]
      },
      {
       "output_type": "stream",
       "stream": "stdout",
       "text": [
        "\n",
        "SimilarityMatrix: inserting vector 4690 of 10788..."
       ]
      },
      {
       "output_type": "stream",
       "stream": "stdout",
       "text": [
        "\n",
        "SimilarityMatrix: inserting vector 4700 of 10788..."
       ]
      },
      {
       "output_type": "stream",
       "stream": "stdout",
       "text": [
        "\n",
        "SimilarityMatrix: inserting vector 4710 of 10788..."
       ]
      },
      {
       "output_type": "stream",
       "stream": "stdout",
       "text": [
        "\n",
        "SimilarityMatrix: inserting vector 4720 of 10788..."
       ]
      },
      {
       "output_type": "stream",
       "stream": "stdout",
       "text": [
        "\n",
        "SimilarityMatrix: inserting vector 4730 of 10788..."
       ]
      },
      {
       "output_type": "stream",
       "stream": "stdout",
       "text": [
        "\n",
        "SimilarityMatrix: inserting vector 4740 of 10788..."
       ]
      },
      {
       "output_type": "stream",
       "stream": "stdout",
       "text": [
        "\n",
        "SimilarityMatrix: inserting vector 4750 of 10788..."
       ]
      },
      {
       "output_type": "stream",
       "stream": "stdout",
       "text": [
        "\n",
        "SimilarityMatrix: inserting vector 4760 of 10788..."
       ]
      },
      {
       "output_type": "stream",
       "stream": "stdout",
       "text": [
        "\n",
        "SimilarityMatrix: inserting vector 4770 of 10788..."
       ]
      },
      {
       "output_type": "stream",
       "stream": "stdout",
       "text": [
        "\n",
        "SimilarityMatrix: inserting vector 4780 of 10788..."
       ]
      },
      {
       "output_type": "stream",
       "stream": "stdout",
       "text": [
        "\n",
        "SimilarityMatrix: inserting vector 4790 of 10788..."
       ]
      },
      {
       "output_type": "stream",
       "stream": "stdout",
       "text": [
        "\n",
        "SimilarityMatrix: inserting vector 4800 of 10788..."
       ]
      },
      {
       "output_type": "stream",
       "stream": "stdout",
       "text": [
        "\n",
        "SimilarityMatrix: inserting vector 4810 of 10788..."
       ]
      },
      {
       "output_type": "stream",
       "stream": "stdout",
       "text": [
        "\n",
        "SimilarityMatrix: inserting vector 4820 of 10788..."
       ]
      },
      {
       "output_type": "stream",
       "stream": "stdout",
       "text": [
        "\n",
        "SimilarityMatrix: inserting vector 4830 of 10788..."
       ]
      },
      {
       "output_type": "stream",
       "stream": "stdout",
       "text": [
        "\n",
        "SimilarityMatrix: inserting vector 4840 of 10788..."
       ]
      },
      {
       "output_type": "stream",
       "stream": "stdout",
       "text": [
        "\n",
        "SimilarityMatrix: inserting vector 4850 of 10788..."
       ]
      },
      {
       "output_type": "stream",
       "stream": "stdout",
       "text": [
        "\n",
        "SimilarityMatrix: inserting vector 4860 of 10788..."
       ]
      },
      {
       "output_type": "stream",
       "stream": "stdout",
       "text": [
        "\n",
        "SimilarityMatrix: inserting vector 4870 of 10788..."
       ]
      },
      {
       "output_type": "stream",
       "stream": "stdout",
       "text": [
        "\n",
        "SimilarityMatrix: inserting vector 4880 of 10788..."
       ]
      },
      {
       "output_type": "stream",
       "stream": "stdout",
       "text": [
        "\n",
        "SimilarityMatrix: inserting vector 4890 of 10788..."
       ]
      },
      {
       "output_type": "stream",
       "stream": "stdout",
       "text": [
        "\n",
        "SimilarityMatrix: inserting vector 4900 of 10788..."
       ]
      },
      {
       "output_type": "stream",
       "stream": "stdout",
       "text": [
        "\n",
        "SimilarityMatrix: inserting vector 4910 of 10788..."
       ]
      },
      {
       "output_type": "stream",
       "stream": "stdout",
       "text": [
        "\n",
        "SimilarityMatrix: inserting vector 4920 of 10788..."
       ]
      },
      {
       "output_type": "stream",
       "stream": "stdout",
       "text": [
        "\n",
        "SimilarityMatrix: inserting vector 4930 of 10788..."
       ]
      },
      {
       "output_type": "stream",
       "stream": "stdout",
       "text": [
        "\n",
        "SimilarityMatrix: inserting vector 4940 of 10788..."
       ]
      },
      {
       "output_type": "stream",
       "stream": "stdout",
       "text": [
        "\n",
        "SimilarityMatrix: inserting vector 4950 of 10788..."
       ]
      },
      {
       "output_type": "stream",
       "stream": "stdout",
       "text": [
        "\n",
        "SimilarityMatrix: inserting vector 4960 of 10788..."
       ]
      },
      {
       "output_type": "stream",
       "stream": "stdout",
       "text": [
        "\n",
        "SimilarityMatrix: inserting vector 4970 of 10788..."
       ]
      },
      {
       "output_type": "stream",
       "stream": "stdout",
       "text": [
        "\n",
        "SimilarityMatrix: inserting vector 4980 of 10788..."
       ]
      },
      {
       "output_type": "stream",
       "stream": "stdout",
       "text": [
        "\n",
        "SimilarityMatrix: inserting vector 4990 of 10788..."
       ]
      },
      {
       "output_type": "stream",
       "stream": "stdout",
       "text": [
        "\n",
        "SimilarityMatrix: inserting vector 5000 of 10788..."
       ]
      },
      {
       "output_type": "stream",
       "stream": "stdout",
       "text": [
        "\n",
        "SimilarityMatrix: inserting vector 5010 of 10788..."
       ]
      },
      {
       "output_type": "stream",
       "stream": "stdout",
       "text": [
        "\n",
        "SimilarityMatrix: inserting vector 5020 of 10788..."
       ]
      },
      {
       "output_type": "stream",
       "stream": "stdout",
       "text": [
        "\n",
        "SimilarityMatrix: inserting vector 5030 of 10788..."
       ]
      },
      {
       "output_type": "stream",
       "stream": "stdout",
       "text": [
        "\n",
        "SimilarityMatrix: inserting vector 5040 of 10788..."
       ]
      },
      {
       "output_type": "stream",
       "stream": "stdout",
       "text": [
        "\n",
        "SimilarityMatrix: inserting vector 5050 of 10788..."
       ]
      },
      {
       "output_type": "stream",
       "stream": "stdout",
       "text": [
        "\n",
        "SimilarityMatrix: inserting vector 5060 of 10788..."
       ]
      },
      {
       "output_type": "stream",
       "stream": "stdout",
       "text": [
        "\n",
        "SimilarityMatrix: inserting vector 5070 of 10788..."
       ]
      },
      {
       "output_type": "stream",
       "stream": "stdout",
       "text": [
        "\n",
        "SimilarityMatrix: inserting vector 5080 of 10788..."
       ]
      },
      {
       "output_type": "stream",
       "stream": "stdout",
       "text": [
        "\n",
        "SimilarityMatrix: inserting vector 5090 of 10788..."
       ]
      },
      {
       "output_type": "stream",
       "stream": "stdout",
       "text": [
        "\n",
        "SimilarityMatrix: inserting vector 5100 of 10788..."
       ]
      },
      {
       "output_type": "stream",
       "stream": "stdout",
       "text": [
        "\n",
        "SimilarityMatrix: inserting vector 5110 of 10788..."
       ]
      },
      {
       "output_type": "stream",
       "stream": "stdout",
       "text": [
        "\n",
        "SimilarityMatrix: inserting vector 5120 of 10788..."
       ]
      },
      {
       "output_type": "stream",
       "stream": "stdout",
       "text": [
        "\n",
        "SimilarityMatrix: inserting vector 5130 of 10788..."
       ]
      },
      {
       "output_type": "stream",
       "stream": "stdout",
       "text": [
        "\n",
        "SimilarityMatrix: inserting vector 5140 of 10788..."
       ]
      },
      {
       "output_type": "stream",
       "stream": "stdout",
       "text": [
        "\n",
        "SimilarityMatrix: inserting vector 5150 of 10788..."
       ]
      },
      {
       "output_type": "stream",
       "stream": "stdout",
       "text": [
        "\n",
        "SimilarityMatrix: inserting vector 5160 of 10788..."
       ]
      },
      {
       "output_type": "stream",
       "stream": "stdout",
       "text": [
        "\n",
        "SimilarityMatrix: inserting vector 5170 of 10788..."
       ]
      },
      {
       "output_type": "stream",
       "stream": "stdout",
       "text": [
        "\n",
        "SimilarityMatrix: inserting vector 5180 of 10788..."
       ]
      },
      {
       "output_type": "stream",
       "stream": "stdout",
       "text": [
        "\n",
        "SimilarityMatrix: inserting vector 5190 of 10788..."
       ]
      },
      {
       "output_type": "stream",
       "stream": "stdout",
       "text": [
        "\n",
        "SimilarityMatrix: inserting vector 5200 of 10788..."
       ]
      },
      {
       "output_type": "stream",
       "stream": "stdout",
       "text": [
        "\n",
        "SimilarityMatrix: inserting vector 5210 of 10788..."
       ]
      },
      {
       "output_type": "stream",
       "stream": "stdout",
       "text": [
        "\n",
        "SimilarityMatrix: inserting vector 5220 of 10788..."
       ]
      },
      {
       "output_type": "stream",
       "stream": "stdout",
       "text": [
        "\n",
        "SimilarityMatrix: inserting vector 5230 of 10788..."
       ]
      },
      {
       "output_type": "stream",
       "stream": "stdout",
       "text": [
        "\n",
        "SimilarityMatrix: inserting vector 5240 of 10788..."
       ]
      },
      {
       "output_type": "stream",
       "stream": "stdout",
       "text": [
        "\n",
        "SimilarityMatrix: inserting vector 5250 of 10788..."
       ]
      },
      {
       "output_type": "stream",
       "stream": "stdout",
       "text": [
        "\n",
        "SimilarityMatrix: inserting vector 5260 of 10788..."
       ]
      },
      {
       "output_type": "stream",
       "stream": "stdout",
       "text": [
        "\n",
        "SimilarityMatrix: inserting vector 5270 of 10788..."
       ]
      },
      {
       "output_type": "stream",
       "stream": "stdout",
       "text": [
        "\n",
        "SimilarityMatrix: inserting vector 5280 of 10788..."
       ]
      },
      {
       "output_type": "stream",
       "stream": "stdout",
       "text": [
        "\n",
        "SimilarityMatrix: inserting vector 5290 of 10788..."
       ]
      },
      {
       "output_type": "stream",
       "stream": "stdout",
       "text": [
        "\n",
        "SimilarityMatrix: inserting vector 5300 of 10788..."
       ]
      },
      {
       "output_type": "stream",
       "stream": "stdout",
       "text": [
        "\n",
        "SimilarityMatrix: inserting vector 5310 of 10788..."
       ]
      },
      {
       "output_type": "stream",
       "stream": "stdout",
       "text": [
        "\n",
        "SimilarityMatrix: inserting vector 5320 of 10788..."
       ]
      },
      {
       "output_type": "stream",
       "stream": "stdout",
       "text": [
        "\n",
        "SimilarityMatrix: inserting vector 5330 of 10788..."
       ]
      },
      {
       "output_type": "stream",
       "stream": "stdout",
       "text": [
        "\n",
        "SimilarityMatrix: inserting vector 5340 of 10788..."
       ]
      },
      {
       "output_type": "stream",
       "stream": "stdout",
       "text": [
        "\n",
        "SimilarityMatrix: inserting vector 5350 of 10788..."
       ]
      },
      {
       "output_type": "stream",
       "stream": "stdout",
       "text": [
        "\n",
        "SimilarityMatrix: inserting vector 5360 of 10788..."
       ]
      },
      {
       "output_type": "stream",
       "stream": "stdout",
       "text": [
        "\n",
        "SimilarityMatrix: inserting vector 5370 of 10788..."
       ]
      },
      {
       "output_type": "stream",
       "stream": "stdout",
       "text": [
        "\n",
        "SimilarityMatrix: inserting vector 5380 of 10788..."
       ]
      },
      {
       "output_type": "stream",
       "stream": "stdout",
       "text": [
        "\n",
        "SimilarityMatrix: inserting vector 5390 of 10788..."
       ]
      },
      {
       "output_type": "stream",
       "stream": "stdout",
       "text": [
        "\n",
        "SimilarityMatrix: inserting vector 5400 of 10788..."
       ]
      },
      {
       "output_type": "stream",
       "stream": "stdout",
       "text": [
        "\n",
        "SimilarityMatrix: inserting vector 5410 of 10788..."
       ]
      },
      {
       "output_type": "stream",
       "stream": "stdout",
       "text": [
        "\n",
        "SimilarityMatrix: inserting vector 5420 of 10788..."
       ]
      },
      {
       "output_type": "stream",
       "stream": "stdout",
       "text": [
        "\n",
        "SimilarityMatrix: inserting vector 5430 of 10788..."
       ]
      },
      {
       "output_type": "stream",
       "stream": "stdout",
       "text": [
        "\n",
        "SimilarityMatrix: inserting vector 5440 of 10788..."
       ]
      },
      {
       "output_type": "stream",
       "stream": "stdout",
       "text": [
        "\n",
        "SimilarityMatrix: inserting vector 5450 of 10788..."
       ]
      },
      {
       "output_type": "stream",
       "stream": "stdout",
       "text": [
        "\n",
        "SimilarityMatrix: inserting vector 5460 of 10788..."
       ]
      },
      {
       "output_type": "stream",
       "stream": "stdout",
       "text": [
        "\n",
        "SimilarityMatrix: inserting vector 5470 of 10788..."
       ]
      },
      {
       "output_type": "stream",
       "stream": "stdout",
       "text": [
        "\n",
        "SimilarityMatrix: inserting vector 5480 of 10788..."
       ]
      },
      {
       "output_type": "stream",
       "stream": "stdout",
       "text": [
        "\n",
        "SimilarityMatrix: inserting vector 5490 of 10788..."
       ]
      },
      {
       "output_type": "stream",
       "stream": "stdout",
       "text": [
        "\n",
        "SimilarityMatrix: inserting vector 5500 of 10788..."
       ]
      },
      {
       "output_type": "stream",
       "stream": "stdout",
       "text": [
        "\n",
        "SimilarityMatrix: inserting vector 5510 of 10788..."
       ]
      },
      {
       "output_type": "stream",
       "stream": "stdout",
       "text": [
        "\n",
        "SimilarityMatrix: inserting vector 5520 of 10788..."
       ]
      },
      {
       "output_type": "stream",
       "stream": "stdout",
       "text": [
        "\n",
        "SimilarityMatrix: inserting vector 5530 of 10788..."
       ]
      },
      {
       "output_type": "stream",
       "stream": "stdout",
       "text": [
        "\n",
        "SimilarityMatrix: inserting vector 5540 of 10788..."
       ]
      },
      {
       "output_type": "stream",
       "stream": "stdout",
       "text": [
        "\n",
        "SimilarityMatrix: inserting vector 5550 of 10788..."
       ]
      },
      {
       "output_type": "stream",
       "stream": "stdout",
       "text": [
        "\n",
        "SimilarityMatrix: inserting vector 5560 of 10788..."
       ]
      },
      {
       "output_type": "stream",
       "stream": "stdout",
       "text": [
        "\n",
        "SimilarityMatrix: inserting vector 5570 of 10788..."
       ]
      },
      {
       "output_type": "stream",
       "stream": "stdout",
       "text": [
        "\n",
        "SimilarityMatrix: inserting vector 5580 of 10788..."
       ]
      },
      {
       "output_type": "stream",
       "stream": "stdout",
       "text": [
        "\n",
        "SimilarityMatrix: inserting vector 5590 of 10788..."
       ]
      },
      {
       "output_type": "stream",
       "stream": "stdout",
       "text": [
        "\n",
        "SimilarityMatrix: inserting vector 5600 of 10788..."
       ]
      },
      {
       "output_type": "stream",
       "stream": "stdout",
       "text": [
        "\n",
        "SimilarityMatrix: inserting vector 5610 of 10788..."
       ]
      },
      {
       "output_type": "stream",
       "stream": "stdout",
       "text": [
        "\n",
        "SimilarityMatrix: inserting vector 5620 of 10788..."
       ]
      },
      {
       "output_type": "stream",
       "stream": "stdout",
       "text": [
        "\n",
        "SimilarityMatrix: inserting vector 5630 of 10788..."
       ]
      },
      {
       "output_type": "stream",
       "stream": "stdout",
       "text": [
        "\n",
        "SimilarityMatrix: inserting vector 5640 of 10788..."
       ]
      },
      {
       "output_type": "stream",
       "stream": "stdout",
       "text": [
        "\n",
        "SimilarityMatrix: inserting vector 5650 of 10788..."
       ]
      },
      {
       "output_type": "stream",
       "stream": "stdout",
       "text": [
        "\n",
        "SimilarityMatrix: inserting vector 5660 of 10788..."
       ]
      },
      {
       "output_type": "stream",
       "stream": "stdout",
       "text": [
        "\n",
        "SimilarityMatrix: inserting vector 5670 of 10788..."
       ]
      },
      {
       "output_type": "stream",
       "stream": "stdout",
       "text": [
        "\n",
        "SimilarityMatrix: inserting vector 5680 of 10788..."
       ]
      },
      {
       "output_type": "stream",
       "stream": "stdout",
       "text": [
        "\n",
        "SimilarityMatrix: inserting vector 5690 of 10788..."
       ]
      },
      {
       "output_type": "stream",
       "stream": "stdout",
       "text": [
        "\n",
        "SimilarityMatrix: inserting vector 5700 of 10788..."
       ]
      },
      {
       "output_type": "stream",
       "stream": "stdout",
       "text": [
        "\n",
        "SimilarityMatrix: inserting vector 5710 of 10788..."
       ]
      },
      {
       "output_type": "stream",
       "stream": "stdout",
       "text": [
        "\n",
        "SimilarityMatrix: inserting vector 5720 of 10788..."
       ]
      },
      {
       "output_type": "stream",
       "stream": "stdout",
       "text": [
        "\n",
        "SimilarityMatrix: inserting vector 5730 of 10788..."
       ]
      },
      {
       "output_type": "stream",
       "stream": "stdout",
       "text": [
        "\n",
        "SimilarityMatrix: inserting vector 5740 of 10788..."
       ]
      },
      {
       "output_type": "stream",
       "stream": "stdout",
       "text": [
        "\n",
        "SimilarityMatrix: inserting vector 5750 of 10788..."
       ]
      },
      {
       "output_type": "stream",
       "stream": "stdout",
       "text": [
        "\n",
        "SimilarityMatrix: inserting vector 5760 of 10788..."
       ]
      },
      {
       "output_type": "stream",
       "stream": "stdout",
       "text": [
        "\n",
        "SimilarityMatrix: inserting vector 5770 of 10788..."
       ]
      },
      {
       "output_type": "stream",
       "stream": "stdout",
       "text": [
        "\n",
        "SimilarityMatrix: inserting vector 5780 of 10788..."
       ]
      },
      {
       "output_type": "stream",
       "stream": "stdout",
       "text": [
        "\n",
        "SimilarityMatrix: inserting vector 5790 of 10788..."
       ]
      },
      {
       "output_type": "stream",
       "stream": "stdout",
       "text": [
        "\n",
        "SimilarityMatrix: inserting vector 5800 of 10788..."
       ]
      },
      {
       "output_type": "stream",
       "stream": "stdout",
       "text": [
        "\n",
        "SimilarityMatrix: inserting vector 5810 of 10788..."
       ]
      },
      {
       "output_type": "stream",
       "stream": "stdout",
       "text": [
        "\n",
        "SimilarityMatrix: inserting vector 5820 of 10788..."
       ]
      },
      {
       "output_type": "stream",
       "stream": "stdout",
       "text": [
        "\n",
        "SimilarityMatrix: inserting vector 5830 of 10788..."
       ]
      },
      {
       "output_type": "stream",
       "stream": "stdout",
       "text": [
        "\n",
        "SimilarityMatrix: inserting vector 5840 of 10788..."
       ]
      },
      {
       "output_type": "stream",
       "stream": "stdout",
       "text": [
        "\n",
        "SimilarityMatrix: inserting vector 5850 of 10788..."
       ]
      },
      {
       "output_type": "stream",
       "stream": "stdout",
       "text": [
        "\n",
        "SimilarityMatrix: inserting vector 5860 of 10788..."
       ]
      },
      {
       "output_type": "stream",
       "stream": "stdout",
       "text": [
        "\n",
        "SimilarityMatrix: inserting vector 5870 of 10788..."
       ]
      },
      {
       "output_type": "stream",
       "stream": "stdout",
       "text": [
        "\n",
        "SimilarityMatrix: inserting vector 5880 of 10788..."
       ]
      },
      {
       "output_type": "stream",
       "stream": "stdout",
       "text": [
        "\n",
        "SimilarityMatrix: inserting vector 5890 of 10788..."
       ]
      },
      {
       "output_type": "stream",
       "stream": "stdout",
       "text": [
        "\n",
        "SimilarityMatrix: inserting vector 5900 of 10788..."
       ]
      },
      {
       "output_type": "stream",
       "stream": "stdout",
       "text": [
        "\n",
        "SimilarityMatrix: inserting vector 5910 of 10788..."
       ]
      },
      {
       "output_type": "stream",
       "stream": "stdout",
       "text": [
        "\n",
        "SimilarityMatrix: inserting vector 5920 of 10788..."
       ]
      },
      {
       "output_type": "stream",
       "stream": "stdout",
       "text": [
        "\n",
        "SimilarityMatrix: inserting vector 5930 of 10788..."
       ]
      },
      {
       "output_type": "stream",
       "stream": "stdout",
       "text": [
        "\n",
        "SimilarityMatrix: inserting vector 5940 of 10788..."
       ]
      },
      {
       "output_type": "stream",
       "stream": "stdout",
       "text": [
        "\n",
        "SimilarityMatrix: inserting vector 5950 of 10788..."
       ]
      },
      {
       "output_type": "stream",
       "stream": "stdout",
       "text": [
        "\n",
        "SimilarityMatrix: inserting vector 5960 of 10788..."
       ]
      },
      {
       "output_type": "stream",
       "stream": "stdout",
       "text": [
        "\n",
        "SimilarityMatrix: inserting vector 5970 of 10788..."
       ]
      },
      {
       "output_type": "stream",
       "stream": "stdout",
       "text": [
        "\n",
        "SimilarityMatrix: inserting vector 5980 of 10788..."
       ]
      },
      {
       "output_type": "stream",
       "stream": "stdout",
       "text": [
        "\n",
        "SimilarityMatrix: inserting vector 5990 of 10788..."
       ]
      },
      {
       "output_type": "stream",
       "stream": "stdout",
       "text": [
        "\n",
        "SimilarityMatrix: inserting vector 6000 of 10788..."
       ]
      },
      {
       "output_type": "stream",
       "stream": "stdout",
       "text": [
        "\n",
        "SimilarityMatrix: inserting vector 6010 of 10788..."
       ]
      },
      {
       "output_type": "stream",
       "stream": "stdout",
       "text": [
        "\n",
        "SimilarityMatrix: inserting vector 6020 of 10788..."
       ]
      },
      {
       "output_type": "stream",
       "stream": "stdout",
       "text": [
        "\n",
        "SimilarityMatrix: inserting vector 6030 of 10788..."
       ]
      },
      {
       "output_type": "stream",
       "stream": "stdout",
       "text": [
        "\n",
        "SimilarityMatrix: inserting vector 6040 of 10788..."
       ]
      },
      {
       "output_type": "stream",
       "stream": "stdout",
       "text": [
        "\n",
        "SimilarityMatrix: inserting vector 6050 of 10788..."
       ]
      },
      {
       "output_type": "stream",
       "stream": "stdout",
       "text": [
        "\n",
        "SimilarityMatrix: inserting vector 6060 of 10788..."
       ]
      },
      {
       "output_type": "stream",
       "stream": "stdout",
       "text": [
        "\n",
        "SimilarityMatrix: inserting vector 6070 of 10788..."
       ]
      },
      {
       "output_type": "stream",
       "stream": "stdout",
       "text": [
        "\n",
        "SimilarityMatrix: inserting vector 6080 of 10788..."
       ]
      },
      {
       "output_type": "stream",
       "stream": "stdout",
       "text": [
        "\n",
        "SimilarityMatrix: inserting vector 6090 of 10788..."
       ]
      },
      {
       "output_type": "stream",
       "stream": "stdout",
       "text": [
        "\n",
        "SimilarityMatrix: inserting vector 6100 of 10788..."
       ]
      },
      {
       "output_type": "stream",
       "stream": "stdout",
       "text": [
        "\n",
        "SimilarityMatrix: inserting vector 6110 of 10788..."
       ]
      },
      {
       "output_type": "stream",
       "stream": "stdout",
       "text": [
        "\n",
        "SimilarityMatrix: inserting vector 6120 of 10788..."
       ]
      },
      {
       "output_type": "stream",
       "stream": "stdout",
       "text": [
        "\n",
        "SimilarityMatrix: inserting vector 6130 of 10788..."
       ]
      },
      {
       "output_type": "stream",
       "stream": "stdout",
       "text": [
        "\n",
        "SimilarityMatrix: inserting vector 6140 of 10788..."
       ]
      },
      {
       "output_type": "stream",
       "stream": "stdout",
       "text": [
        "\n",
        "SimilarityMatrix: inserting vector 6150 of 10788..."
       ]
      },
      {
       "output_type": "stream",
       "stream": "stdout",
       "text": [
        "\n",
        "SimilarityMatrix: inserting vector 6160 of 10788..."
       ]
      },
      {
       "output_type": "stream",
       "stream": "stdout",
       "text": [
        "\n",
        "SimilarityMatrix: inserting vector 6170 of 10788..."
       ]
      },
      {
       "output_type": "stream",
       "stream": "stdout",
       "text": [
        "\n",
        "SimilarityMatrix: inserting vector 6180 of 10788..."
       ]
      },
      {
       "output_type": "stream",
       "stream": "stdout",
       "text": [
        "\n",
        "SimilarityMatrix: inserting vector 6190 of 10788..."
       ]
      },
      {
       "output_type": "stream",
       "stream": "stdout",
       "text": [
        "\n",
        "SimilarityMatrix: inserting vector 6200 of 10788..."
       ]
      },
      {
       "output_type": "stream",
       "stream": "stdout",
       "text": [
        "\n",
        "SimilarityMatrix: inserting vector 6210 of 10788..."
       ]
      },
      {
       "output_type": "stream",
       "stream": "stdout",
       "text": [
        "\n",
        "SimilarityMatrix: inserting vector 6220 of 10788..."
       ]
      },
      {
       "output_type": "stream",
       "stream": "stdout",
       "text": [
        "\n",
        "SimilarityMatrix: inserting vector 6230 of 10788..."
       ]
      },
      {
       "output_type": "stream",
       "stream": "stdout",
       "text": [
        "\n",
        "SimilarityMatrix: inserting vector 6240 of 10788..."
       ]
      },
      {
       "output_type": "stream",
       "stream": "stdout",
       "text": [
        "\n",
        "SimilarityMatrix: inserting vector 6250 of 10788..."
       ]
      },
      {
       "output_type": "stream",
       "stream": "stdout",
       "text": [
        "\n",
        "SimilarityMatrix: inserting vector 6260 of 10788..."
       ]
      },
      {
       "output_type": "stream",
       "stream": "stdout",
       "text": [
        "\n",
        "SimilarityMatrix: inserting vector 6270 of 10788..."
       ]
      },
      {
       "output_type": "stream",
       "stream": "stdout",
       "text": [
        "\n",
        "SimilarityMatrix: inserting vector 6280 of 10788..."
       ]
      },
      {
       "output_type": "stream",
       "stream": "stdout",
       "text": [
        "\n",
        "SimilarityMatrix: inserting vector 6290 of 10788..."
       ]
      },
      {
       "output_type": "stream",
       "stream": "stdout",
       "text": [
        "\n",
        "SimilarityMatrix: inserting vector 6300 of 10788..."
       ]
      },
      {
       "output_type": "stream",
       "stream": "stdout",
       "text": [
        "\n",
        "SimilarityMatrix: inserting vector 6310 of 10788..."
       ]
      },
      {
       "output_type": "stream",
       "stream": "stdout",
       "text": [
        "\n",
        "SimilarityMatrix: inserting vector 6320 of 10788..."
       ]
      },
      {
       "output_type": "stream",
       "stream": "stdout",
       "text": [
        "\n",
        "SimilarityMatrix: inserting vector 6330 of 10788..."
       ]
      },
      {
       "output_type": "stream",
       "stream": "stdout",
       "text": [
        "\n",
        "SimilarityMatrix: inserting vector 6340 of 10788..."
       ]
      },
      {
       "output_type": "stream",
       "stream": "stdout",
       "text": [
        "\n",
        "SimilarityMatrix: inserting vector 6350 of 10788..."
       ]
      },
      {
       "output_type": "stream",
       "stream": "stdout",
       "text": [
        "\n",
        "SimilarityMatrix: inserting vector 6360 of 10788..."
       ]
      },
      {
       "output_type": "stream",
       "stream": "stdout",
       "text": [
        "\n",
        "SimilarityMatrix: inserting vector 6370 of 10788..."
       ]
      },
      {
       "output_type": "stream",
       "stream": "stdout",
       "text": [
        "\n",
        "SimilarityMatrix: inserting vector 6380 of 10788..."
       ]
      },
      {
       "output_type": "stream",
       "stream": "stdout",
       "text": [
        "\n",
        "SimilarityMatrix: inserting vector 6390 of 10788..."
       ]
      },
      {
       "output_type": "stream",
       "stream": "stdout",
       "text": [
        "\n",
        "SimilarityMatrix: inserting vector 6400 of 10788..."
       ]
      },
      {
       "output_type": "stream",
       "stream": "stdout",
       "text": [
        "\n",
        "SimilarityMatrix: inserting vector 6410 of 10788..."
       ]
      },
      {
       "output_type": "stream",
       "stream": "stdout",
       "text": [
        "\n",
        "SimilarityMatrix: inserting vector 6420 of 10788..."
       ]
      },
      {
       "output_type": "stream",
       "stream": "stdout",
       "text": [
        "\n",
        "SimilarityMatrix: inserting vector 6430 of 10788..."
       ]
      },
      {
       "output_type": "stream",
       "stream": "stdout",
       "text": [
        "\n",
        "SimilarityMatrix: inserting vector 6440 of 10788..."
       ]
      },
      {
       "output_type": "stream",
       "stream": "stdout",
       "text": [
        "\n",
        "SimilarityMatrix: inserting vector 6450 of 10788..."
       ]
      },
      {
       "output_type": "stream",
       "stream": "stdout",
       "text": [
        "\n",
        "SimilarityMatrix: inserting vector 6460 of 10788..."
       ]
      },
      {
       "output_type": "stream",
       "stream": "stdout",
       "text": [
        "\n",
        "SimilarityMatrix: inserting vector 6470 of 10788..."
       ]
      },
      {
       "output_type": "stream",
       "stream": "stdout",
       "text": [
        "\n",
        "SimilarityMatrix: inserting vector 6480 of 10788..."
       ]
      },
      {
       "output_type": "stream",
       "stream": "stdout",
       "text": [
        "\n",
        "SimilarityMatrix: inserting vector 6490 of 10788..."
       ]
      },
      {
       "output_type": "stream",
       "stream": "stdout",
       "text": [
        "\n",
        "SimilarityMatrix: inserting vector 6500 of 10788..."
       ]
      },
      {
       "output_type": "stream",
       "stream": "stdout",
       "text": [
        "\n",
        "SimilarityMatrix: inserting vector 6510 of 10788..."
       ]
      },
      {
       "output_type": "stream",
       "stream": "stdout",
       "text": [
        "\n",
        "SimilarityMatrix: inserting vector 6520 of 10788..."
       ]
      },
      {
       "output_type": "stream",
       "stream": "stdout",
       "text": [
        "\n",
        "SimilarityMatrix: inserting vector 6530 of 10788..."
       ]
      },
      {
       "output_type": "stream",
       "stream": "stdout",
       "text": [
        "\n",
        "SimilarityMatrix: inserting vector 6540 of 10788..."
       ]
      },
      {
       "output_type": "stream",
       "stream": "stdout",
       "text": [
        "\n",
        "SimilarityMatrix: inserting vector 6550 of 10788..."
       ]
      },
      {
       "output_type": "stream",
       "stream": "stdout",
       "text": [
        "\n",
        "SimilarityMatrix: inserting vector 6560 of 10788..."
       ]
      },
      {
       "output_type": "stream",
       "stream": "stdout",
       "text": [
        "\n",
        "SimilarityMatrix: inserting vector 6570 of 10788..."
       ]
      },
      {
       "output_type": "stream",
       "stream": "stdout",
       "text": [
        "\n",
        "SimilarityMatrix: inserting vector 6580 of 10788..."
       ]
      },
      {
       "output_type": "stream",
       "stream": "stdout",
       "text": [
        "\n",
        "SimilarityMatrix: inserting vector 6590 of 10788..."
       ]
      },
      {
       "output_type": "stream",
       "stream": "stdout",
       "text": [
        "\n",
        "SimilarityMatrix: inserting vector 6600 of 10788..."
       ]
      },
      {
       "output_type": "stream",
       "stream": "stdout",
       "text": [
        "\n",
        "SimilarityMatrix: inserting vector 6610 of 10788..."
       ]
      },
      {
       "output_type": "stream",
       "stream": "stdout",
       "text": [
        "\n",
        "SimilarityMatrix: inserting vector 6620 of 10788..."
       ]
      },
      {
       "output_type": "stream",
       "stream": "stdout",
       "text": [
        "\n",
        "SimilarityMatrix: inserting vector 6630 of 10788..."
       ]
      },
      {
       "output_type": "stream",
       "stream": "stdout",
       "text": [
        "\n",
        "SimilarityMatrix: inserting vector 6640 of 10788..."
       ]
      },
      {
       "output_type": "stream",
       "stream": "stdout",
       "text": [
        "\n",
        "SimilarityMatrix: inserting vector 6650 of 10788..."
       ]
      },
      {
       "output_type": "stream",
       "stream": "stdout",
       "text": [
        "\n",
        "SimilarityMatrix: inserting vector 6660 of 10788..."
       ]
      },
      {
       "output_type": "stream",
       "stream": "stdout",
       "text": [
        "\n",
        "SimilarityMatrix: inserting vector 6670 of 10788..."
       ]
      },
      {
       "output_type": "stream",
       "stream": "stdout",
       "text": [
        "\n",
        "SimilarityMatrix: inserting vector 6680 of 10788..."
       ]
      },
      {
       "output_type": "stream",
       "stream": "stdout",
       "text": [
        "\n",
        "SimilarityMatrix: inserting vector 6690 of 10788..."
       ]
      },
      {
       "output_type": "stream",
       "stream": "stdout",
       "text": [
        "\n",
        "SimilarityMatrix: inserting vector 6700 of 10788..."
       ]
      },
      {
       "output_type": "stream",
       "stream": "stdout",
       "text": [
        "\n",
        "SimilarityMatrix: inserting vector 6710 of 10788..."
       ]
      },
      {
       "output_type": "stream",
       "stream": "stdout",
       "text": [
        "\n",
        "SimilarityMatrix: inserting vector 6720 of 10788..."
       ]
      },
      {
       "output_type": "stream",
       "stream": "stdout",
       "text": [
        "\n",
        "SimilarityMatrix: inserting vector 6730 of 10788..."
       ]
      },
      {
       "output_type": "stream",
       "stream": "stdout",
       "text": [
        "\n",
        "SimilarityMatrix: inserting vector 6740 of 10788..."
       ]
      },
      {
       "output_type": "stream",
       "stream": "stdout",
       "text": [
        "\n",
        "SimilarityMatrix: inserting vector 6750 of 10788..."
       ]
      },
      {
       "output_type": "stream",
       "stream": "stdout",
       "text": [
        "\n",
        "SimilarityMatrix: inserting vector 6760 of 10788..."
       ]
      },
      {
       "output_type": "stream",
       "stream": "stdout",
       "text": [
        "\n",
        "SimilarityMatrix: inserting vector 6770 of 10788..."
       ]
      },
      {
       "output_type": "stream",
       "stream": "stdout",
       "text": [
        "\n",
        "SimilarityMatrix: inserting vector 6780 of 10788..."
       ]
      },
      {
       "output_type": "stream",
       "stream": "stdout",
       "text": [
        "\n",
        "SimilarityMatrix: inserting vector 6790 of 10788..."
       ]
      },
      {
       "output_type": "stream",
       "stream": "stdout",
       "text": [
        "\n",
        "SimilarityMatrix: inserting vector 6800 of 10788..."
       ]
      },
      {
       "output_type": "stream",
       "stream": "stdout",
       "text": [
        "\n",
        "SimilarityMatrix: inserting vector 6810 of 10788..."
       ]
      },
      {
       "output_type": "stream",
       "stream": "stdout",
       "text": [
        "\n",
        "SimilarityMatrix: inserting vector 6820 of 10788..."
       ]
      },
      {
       "output_type": "stream",
       "stream": "stdout",
       "text": [
        "\n",
        "SimilarityMatrix: inserting vector 6830 of 10788..."
       ]
      },
      {
       "output_type": "stream",
       "stream": "stdout",
       "text": [
        "\n",
        "SimilarityMatrix: inserting vector 6840 of 10788..."
       ]
      },
      {
       "output_type": "stream",
       "stream": "stdout",
       "text": [
        "\n",
        "SimilarityMatrix: inserting vector 6850 of 10788..."
       ]
      },
      {
       "output_type": "stream",
       "stream": "stdout",
       "text": [
        "\n",
        "SimilarityMatrix: inserting vector 6860 of 10788..."
       ]
      },
      {
       "output_type": "stream",
       "stream": "stdout",
       "text": [
        "\n",
        "SimilarityMatrix: inserting vector 6870 of 10788..."
       ]
      },
      {
       "output_type": "stream",
       "stream": "stdout",
       "text": [
        "\n",
        "SimilarityMatrix: inserting vector 6880 of 10788..."
       ]
      },
      {
       "output_type": "stream",
       "stream": "stdout",
       "text": [
        "\n",
        "SimilarityMatrix: inserting vector 6890 of 10788..."
       ]
      },
      {
       "output_type": "stream",
       "stream": "stdout",
       "text": [
        "\n",
        "SimilarityMatrix: inserting vector 6900 of 10788..."
       ]
      },
      {
       "output_type": "stream",
       "stream": "stdout",
       "text": [
        "\n",
        "SimilarityMatrix: inserting vector 6910 of 10788..."
       ]
      },
      {
       "output_type": "stream",
       "stream": "stdout",
       "text": [
        "\n",
        "SimilarityMatrix: inserting vector 6920 of 10788..."
       ]
      },
      {
       "output_type": "stream",
       "stream": "stdout",
       "text": [
        "\n",
        "SimilarityMatrix: inserting vector 6930 of 10788..."
       ]
      },
      {
       "output_type": "stream",
       "stream": "stdout",
       "text": [
        "\n",
        "SimilarityMatrix: inserting vector 6940 of 10788..."
       ]
      },
      {
       "output_type": "stream",
       "stream": "stdout",
       "text": [
        "\n",
        "SimilarityMatrix: inserting vector 6950 of 10788..."
       ]
      },
      {
       "output_type": "stream",
       "stream": "stdout",
       "text": [
        "\n",
        "SimilarityMatrix: inserting vector 6960 of 10788..."
       ]
      },
      {
       "output_type": "stream",
       "stream": "stdout",
       "text": [
        "\n",
        "SimilarityMatrix: inserting vector 6970 of 10788..."
       ]
      },
      {
       "output_type": "stream",
       "stream": "stdout",
       "text": [
        "\n",
        "SimilarityMatrix: inserting vector 6980 of 10788..."
       ]
      },
      {
       "output_type": "stream",
       "stream": "stdout",
       "text": [
        "\n",
        "SimilarityMatrix: inserting vector 6990 of 10788..."
       ]
      },
      {
       "output_type": "stream",
       "stream": "stdout",
       "text": [
        "\n",
        "SimilarityMatrix: inserting vector 7000 of 10788..."
       ]
      },
      {
       "output_type": "stream",
       "stream": "stdout",
       "text": [
        "\n",
        "SimilarityMatrix: inserting vector 7010 of 10788..."
       ]
      },
      {
       "output_type": "stream",
       "stream": "stdout",
       "text": [
        "\n",
        "SimilarityMatrix: inserting vector 7020 of 10788..."
       ]
      },
      {
       "output_type": "stream",
       "stream": "stdout",
       "text": [
        "\n",
        "SimilarityMatrix: inserting vector 7030 of 10788..."
       ]
      },
      {
       "output_type": "stream",
       "stream": "stdout",
       "text": [
        "\n",
        "SimilarityMatrix: inserting vector 7040 of 10788..."
       ]
      },
      {
       "output_type": "stream",
       "stream": "stdout",
       "text": [
        "\n",
        "SimilarityMatrix: inserting vector 7050 of 10788..."
       ]
      },
      {
       "output_type": "stream",
       "stream": "stdout",
       "text": [
        "\n",
        "SimilarityMatrix: inserting vector 7060 of 10788..."
       ]
      },
      {
       "output_type": "stream",
       "stream": "stdout",
       "text": [
        "\n",
        "SimilarityMatrix: inserting vector 7070 of 10788..."
       ]
      },
      {
       "output_type": "stream",
       "stream": "stdout",
       "text": [
        "\n",
        "SimilarityMatrix: inserting vector 7080 of 10788..."
       ]
      },
      {
       "output_type": "stream",
       "stream": "stdout",
       "text": [
        "\n",
        "SimilarityMatrix: inserting vector 7090 of 10788..."
       ]
      },
      {
       "output_type": "stream",
       "stream": "stdout",
       "text": [
        "\n",
        "SimilarityMatrix: inserting vector 7100 of 10788..."
       ]
      },
      {
       "output_type": "stream",
       "stream": "stdout",
       "text": [
        "\n",
        "SimilarityMatrix: inserting vector 7110 of 10788..."
       ]
      },
      {
       "output_type": "stream",
       "stream": "stdout",
       "text": [
        "\n",
        "SimilarityMatrix: inserting vector 7120 of 10788..."
       ]
      },
      {
       "output_type": "stream",
       "stream": "stdout",
       "text": [
        "\n",
        "SimilarityMatrix: inserting vector 7130 of 10788..."
       ]
      },
      {
       "output_type": "stream",
       "stream": "stdout",
       "text": [
        "\n",
        "SimilarityMatrix: inserting vector 7140 of 10788..."
       ]
      },
      {
       "output_type": "stream",
       "stream": "stdout",
       "text": [
        "\n",
        "SimilarityMatrix: inserting vector 7150 of 10788..."
       ]
      },
      {
       "output_type": "stream",
       "stream": "stdout",
       "text": [
        "\n",
        "SimilarityMatrix: inserting vector 7160 of 10788..."
       ]
      },
      {
       "output_type": "stream",
       "stream": "stdout",
       "text": [
        "\n",
        "SimilarityMatrix: inserting vector 7170 of 10788..."
       ]
      },
      {
       "output_type": "stream",
       "stream": "stdout",
       "text": [
        "\n",
        "SimilarityMatrix: inserting vector 7180 of 10788..."
       ]
      },
      {
       "output_type": "stream",
       "stream": "stdout",
       "text": [
        "\n",
        "SimilarityMatrix: inserting vector 7190 of 10788..."
       ]
      },
      {
       "output_type": "stream",
       "stream": "stdout",
       "text": [
        "\n",
        "SimilarityMatrix: inserting vector 7200 of 10788..."
       ]
      },
      {
       "output_type": "stream",
       "stream": "stdout",
       "text": [
        "\n",
        "SimilarityMatrix: inserting vector 7210 of 10788..."
       ]
      },
      {
       "output_type": "stream",
       "stream": "stdout",
       "text": [
        "\n",
        "SimilarityMatrix: inserting vector 7220 of 10788..."
       ]
      },
      {
       "output_type": "stream",
       "stream": "stdout",
       "text": [
        "\n",
        "SimilarityMatrix: inserting vector 7230 of 10788..."
       ]
      },
      {
       "output_type": "stream",
       "stream": "stdout",
       "text": [
        "\n",
        "SimilarityMatrix: inserting vector 7240 of 10788..."
       ]
      },
      {
       "output_type": "stream",
       "stream": "stdout",
       "text": [
        "\n",
        "SimilarityMatrix: inserting vector 7250 of 10788..."
       ]
      },
      {
       "output_type": "stream",
       "stream": "stdout",
       "text": [
        "\n",
        "SimilarityMatrix: inserting vector 7260 of 10788..."
       ]
      },
      {
       "output_type": "stream",
       "stream": "stdout",
       "text": [
        "\n",
        "SimilarityMatrix: inserting vector 7270 of 10788..."
       ]
      },
      {
       "output_type": "stream",
       "stream": "stdout",
       "text": [
        "\n",
        "SimilarityMatrix: inserting vector 7280 of 10788..."
       ]
      },
      {
       "output_type": "stream",
       "stream": "stdout",
       "text": [
        "\n",
        "SimilarityMatrix: inserting vector 7290 of 10788..."
       ]
      },
      {
       "output_type": "stream",
       "stream": "stdout",
       "text": [
        "\n",
        "SimilarityMatrix: inserting vector 7300 of 10788..."
       ]
      },
      {
       "output_type": "stream",
       "stream": "stdout",
       "text": [
        "\n",
        "SimilarityMatrix: inserting vector 7310 of 10788..."
       ]
      },
      {
       "output_type": "stream",
       "stream": "stdout",
       "text": [
        "\n",
        "SimilarityMatrix: inserting vector 7320 of 10788..."
       ]
      },
      {
       "output_type": "stream",
       "stream": "stdout",
       "text": [
        "\n",
        "SimilarityMatrix: inserting vector 7330 of 10788..."
       ]
      },
      {
       "output_type": "stream",
       "stream": "stdout",
       "text": [
        "\n",
        "SimilarityMatrix: inserting vector 7340 of 10788..."
       ]
      },
      {
       "output_type": "stream",
       "stream": "stdout",
       "text": [
        "\n",
        "SimilarityMatrix: inserting vector 7350 of 10788..."
       ]
      },
      {
       "output_type": "stream",
       "stream": "stdout",
       "text": [
        "\n",
        "SimilarityMatrix: inserting vector 7360 of 10788..."
       ]
      },
      {
       "output_type": "stream",
       "stream": "stdout",
       "text": [
        "\n",
        "SimilarityMatrix: inserting vector 7370 of 10788..."
       ]
      },
      {
       "output_type": "stream",
       "stream": "stdout",
       "text": [
        "\n",
        "SimilarityMatrix: inserting vector 7380 of 10788..."
       ]
      },
      {
       "output_type": "stream",
       "stream": "stdout",
       "text": [
        "\n",
        "SimilarityMatrix: inserting vector 7390 of 10788..."
       ]
      },
      {
       "output_type": "stream",
       "stream": "stdout",
       "text": [
        "\n",
        "SimilarityMatrix: inserting vector 7400 of 10788..."
       ]
      },
      {
       "output_type": "stream",
       "stream": "stdout",
       "text": [
        "\n",
        "SimilarityMatrix: inserting vector 7410 of 10788..."
       ]
      },
      {
       "output_type": "stream",
       "stream": "stdout",
       "text": [
        "\n",
        "SimilarityMatrix: inserting vector 7420 of 10788..."
       ]
      },
      {
       "output_type": "stream",
       "stream": "stdout",
       "text": [
        "\n",
        "SimilarityMatrix: inserting vector 7430 of 10788..."
       ]
      },
      {
       "output_type": "stream",
       "stream": "stdout",
       "text": [
        "\n",
        "SimilarityMatrix: inserting vector 7440 of 10788..."
       ]
      },
      {
       "output_type": "stream",
       "stream": "stdout",
       "text": [
        "\n",
        "SimilarityMatrix: inserting vector 7450 of 10788..."
       ]
      },
      {
       "output_type": "stream",
       "stream": "stdout",
       "text": [
        "\n",
        "SimilarityMatrix: inserting vector 7460 of 10788..."
       ]
      },
      {
       "output_type": "stream",
       "stream": "stdout",
       "text": [
        "\n",
        "SimilarityMatrix: inserting vector 7470 of 10788..."
       ]
      },
      {
       "output_type": "stream",
       "stream": "stdout",
       "text": [
        "\n",
        "SimilarityMatrix: inserting vector 7480 of 10788..."
       ]
      },
      {
       "output_type": "stream",
       "stream": "stdout",
       "text": [
        "\n",
        "SimilarityMatrix: inserting vector 7490 of 10788..."
       ]
      },
      {
       "output_type": "stream",
       "stream": "stdout",
       "text": [
        "\n",
        "SimilarityMatrix: inserting vector 7500 of 10788..."
       ]
      },
      {
       "output_type": "stream",
       "stream": "stdout",
       "text": [
        "\n",
        "SimilarityMatrix: inserting vector 7510 of 10788..."
       ]
      },
      {
       "output_type": "stream",
       "stream": "stdout",
       "text": [
        "\n",
        "SimilarityMatrix: inserting vector 7520 of 10788..."
       ]
      },
      {
       "output_type": "stream",
       "stream": "stdout",
       "text": [
        "\n",
        "SimilarityMatrix: inserting vector 7530 of 10788..."
       ]
      },
      {
       "output_type": "stream",
       "stream": "stdout",
       "text": [
        "\n",
        "SimilarityMatrix: inserting vector 7540 of 10788..."
       ]
      },
      {
       "output_type": "stream",
       "stream": "stdout",
       "text": [
        "\n",
        "SimilarityMatrix: inserting vector 7550 of 10788..."
       ]
      },
      {
       "output_type": "stream",
       "stream": "stdout",
       "text": [
        "\n",
        "SimilarityMatrix: inserting vector 7560 of 10788..."
       ]
      },
      {
       "output_type": "stream",
       "stream": "stdout",
       "text": [
        "\n",
        "SimilarityMatrix: inserting vector 7570 of 10788..."
       ]
      },
      {
       "output_type": "stream",
       "stream": "stdout",
       "text": [
        "\n",
        "SimilarityMatrix: inserting vector 7580 of 10788..."
       ]
      },
      {
       "output_type": "stream",
       "stream": "stdout",
       "text": [
        "\n",
        "SimilarityMatrix: inserting vector 7590 of 10788..."
       ]
      },
      {
       "output_type": "stream",
       "stream": "stdout",
       "text": [
        "\n",
        "SimilarityMatrix: inserting vector 7600 of 10788..."
       ]
      },
      {
       "output_type": "stream",
       "stream": "stdout",
       "text": [
        "\n",
        "SimilarityMatrix: inserting vector 7610 of 10788..."
       ]
      },
      {
       "output_type": "stream",
       "stream": "stdout",
       "text": [
        "\n",
        "SimilarityMatrix: inserting vector 7620 of 10788..."
       ]
      },
      {
       "output_type": "stream",
       "stream": "stdout",
       "text": [
        "\n",
        "SimilarityMatrix: inserting vector 7630 of 10788..."
       ]
      },
      {
       "output_type": "stream",
       "stream": "stdout",
       "text": [
        "\n",
        "SimilarityMatrix: inserting vector 7640 of 10788..."
       ]
      },
      {
       "output_type": "stream",
       "stream": "stdout",
       "text": [
        "\n",
        "SimilarityMatrix: inserting vector 7650 of 10788..."
       ]
      },
      {
       "output_type": "stream",
       "stream": "stdout",
       "text": [
        "\n",
        "SimilarityMatrix: inserting vector 7660 of 10788..."
       ]
      },
      {
       "output_type": "stream",
       "stream": "stdout",
       "text": [
        "\n",
        "SimilarityMatrix: inserting vector 7670 of 10788..."
       ]
      },
      {
       "output_type": "stream",
       "stream": "stdout",
       "text": [
        "\n",
        "SimilarityMatrix: inserting vector 7680 of 10788..."
       ]
      },
      {
       "output_type": "stream",
       "stream": "stdout",
       "text": [
        "\n",
        "SimilarityMatrix: inserting vector 7690 of 10788..."
       ]
      },
      {
       "output_type": "stream",
       "stream": "stdout",
       "text": [
        "\n",
        "SimilarityMatrix: inserting vector 7700 of 10788..."
       ]
      },
      {
       "output_type": "stream",
       "stream": "stdout",
       "text": [
        "\n",
        "SimilarityMatrix: inserting vector 7710 of 10788..."
       ]
      },
      {
       "output_type": "stream",
       "stream": "stdout",
       "text": [
        "\n",
        "SimilarityMatrix: inserting vector 7720 of 10788..."
       ]
      },
      {
       "output_type": "stream",
       "stream": "stdout",
       "text": [
        "\n",
        "SimilarityMatrix: inserting vector 7730 of 10788..."
       ]
      },
      {
       "output_type": "stream",
       "stream": "stdout",
       "text": [
        "\n",
        "SimilarityMatrix: inserting vector 7740 of 10788..."
       ]
      },
      {
       "output_type": "stream",
       "stream": "stdout",
       "text": [
        "\n",
        "SimilarityMatrix: inserting vector 7750 of 10788..."
       ]
      },
      {
       "output_type": "stream",
       "stream": "stdout",
       "text": [
        "\n",
        "SimilarityMatrix: inserting vector 7760 of 10788..."
       ]
      },
      {
       "output_type": "stream",
       "stream": "stdout",
       "text": [
        "\n",
        "SimilarityMatrix: inserting vector 7770 of 10788..."
       ]
      },
      {
       "output_type": "stream",
       "stream": "stdout",
       "text": [
        "\n",
        "SimilarityMatrix: inserting vector 7780 of 10788..."
       ]
      },
      {
       "output_type": "stream",
       "stream": "stdout",
       "text": [
        "\n",
        "SimilarityMatrix: inserting vector 7790 of 10788..."
       ]
      },
      {
       "output_type": "stream",
       "stream": "stdout",
       "text": [
        "\n",
        "SimilarityMatrix: inserting vector 7800 of 10788..."
       ]
      },
      {
       "output_type": "stream",
       "stream": "stdout",
       "text": [
        "\n",
        "SimilarityMatrix: inserting vector 7810 of 10788..."
       ]
      },
      {
       "output_type": "stream",
       "stream": "stdout",
       "text": [
        "\n",
        "SimilarityMatrix: inserting vector 7820 of 10788..."
       ]
      },
      {
       "output_type": "stream",
       "stream": "stdout",
       "text": [
        "\n",
        "SimilarityMatrix: inserting vector 7830 of 10788..."
       ]
      },
      {
       "output_type": "stream",
       "stream": "stdout",
       "text": [
        "\n",
        "SimilarityMatrix: inserting vector 7840 of 10788..."
       ]
      },
      {
       "output_type": "stream",
       "stream": "stdout",
       "text": [
        "\n",
        "SimilarityMatrix: inserting vector 7850 of 10788..."
       ]
      },
      {
       "output_type": "stream",
       "stream": "stdout",
       "text": [
        "\n",
        "SimilarityMatrix: inserting vector 7860 of 10788..."
       ]
      },
      {
       "output_type": "stream",
       "stream": "stdout",
       "text": [
        "\n",
        "SimilarityMatrix: inserting vector 7870 of 10788..."
       ]
      },
      {
       "output_type": "stream",
       "stream": "stdout",
       "text": [
        "\n",
        "SimilarityMatrix: inserting vector 7880 of 10788..."
       ]
      },
      {
       "output_type": "stream",
       "stream": "stdout",
       "text": [
        "\n",
        "SimilarityMatrix: inserting vector 7890 of 10788..."
       ]
      },
      {
       "output_type": "stream",
       "stream": "stdout",
       "text": [
        "\n",
        "SimilarityMatrix: inserting vector 7900 of 10788..."
       ]
      },
      {
       "output_type": "stream",
       "stream": "stdout",
       "text": [
        "\n",
        "SimilarityMatrix: inserting vector 7910 of 10788..."
       ]
      },
      {
       "output_type": "stream",
       "stream": "stdout",
       "text": [
        "\n",
        "SimilarityMatrix: inserting vector 7920 of 10788..."
       ]
      },
      {
       "output_type": "stream",
       "stream": "stdout",
       "text": [
        "\n",
        "SimilarityMatrix: inserting vector 7930 of 10788..."
       ]
      },
      {
       "output_type": "stream",
       "stream": "stdout",
       "text": [
        "\n",
        "SimilarityMatrix: inserting vector 7940 of 10788..."
       ]
      },
      {
       "output_type": "stream",
       "stream": "stdout",
       "text": [
        "\n",
        "SimilarityMatrix: inserting vector 7950 of 10788..."
       ]
      },
      {
       "output_type": "stream",
       "stream": "stdout",
       "text": [
        "\n",
        "SimilarityMatrix: inserting vector 7960 of 10788..."
       ]
      },
      {
       "output_type": "stream",
       "stream": "stdout",
       "text": [
        "\n",
        "SimilarityMatrix: inserting vector 7970 of 10788..."
       ]
      },
      {
       "output_type": "stream",
       "stream": "stdout",
       "text": [
        "\n",
        "SimilarityMatrix: inserting vector 7980 of 10788..."
       ]
      },
      {
       "output_type": "stream",
       "stream": "stdout",
       "text": [
        "\n",
        "SimilarityMatrix: inserting vector 7990 of 10788..."
       ]
      },
      {
       "output_type": "stream",
       "stream": "stdout",
       "text": [
        "\n",
        "SimilarityMatrix: inserting vector 8000 of 10788..."
       ]
      },
      {
       "output_type": "stream",
       "stream": "stdout",
       "text": [
        "\n",
        "SimilarityMatrix: inserting vector 8010 of 10788..."
       ]
      },
      {
       "output_type": "stream",
       "stream": "stdout",
       "text": [
        "\n",
        "SimilarityMatrix: inserting vector 8020 of 10788..."
       ]
      },
      {
       "output_type": "stream",
       "stream": "stdout",
       "text": [
        "\n",
        "SimilarityMatrix: inserting vector 8030 of 10788..."
       ]
      },
      {
       "output_type": "stream",
       "stream": "stdout",
       "text": [
        "\n",
        "SimilarityMatrix: inserting vector 8040 of 10788..."
       ]
      },
      {
       "output_type": "stream",
       "stream": "stdout",
       "text": [
        "\n",
        "SimilarityMatrix: inserting vector 8050 of 10788..."
       ]
      },
      {
       "output_type": "stream",
       "stream": "stdout",
       "text": [
        "\n",
        "SimilarityMatrix: inserting vector 8060 of 10788..."
       ]
      },
      {
       "output_type": "stream",
       "stream": "stdout",
       "text": [
        "\n",
        "SimilarityMatrix: inserting vector 8070 of 10788..."
       ]
      },
      {
       "output_type": "stream",
       "stream": "stdout",
       "text": [
        "\n",
        "SimilarityMatrix: inserting vector 8080 of 10788..."
       ]
      },
      {
       "output_type": "stream",
       "stream": "stdout",
       "text": [
        "\n",
        "SimilarityMatrix: inserting vector 8090 of 10788..."
       ]
      },
      {
       "output_type": "stream",
       "stream": "stdout",
       "text": [
        "\n",
        "SimilarityMatrix: inserting vector 8100 of 10788..."
       ]
      },
      {
       "output_type": "stream",
       "stream": "stdout",
       "text": [
        "\n",
        "SimilarityMatrix: inserting vector 8110 of 10788..."
       ]
      },
      {
       "output_type": "stream",
       "stream": "stdout",
       "text": [
        "\n",
        "SimilarityMatrix: inserting vector 8120 of 10788..."
       ]
      },
      {
       "output_type": "stream",
       "stream": "stdout",
       "text": [
        "\n",
        "SimilarityMatrix: inserting vector 8130 of 10788..."
       ]
      },
      {
       "output_type": "stream",
       "stream": "stdout",
       "text": [
        "\n",
        "SimilarityMatrix: inserting vector 8140 of 10788..."
       ]
      },
      {
       "output_type": "stream",
       "stream": "stdout",
       "text": [
        "\n",
        "SimilarityMatrix: inserting vector 8150 of 10788..."
       ]
      },
      {
       "output_type": "stream",
       "stream": "stdout",
       "text": [
        "\n",
        "SimilarityMatrix: inserting vector 8160 of 10788..."
       ]
      },
      {
       "output_type": "stream",
       "stream": "stdout",
       "text": [
        "\n",
        "SimilarityMatrix: inserting vector 8170 of 10788..."
       ]
      },
      {
       "output_type": "stream",
       "stream": "stdout",
       "text": [
        "\n",
        "SimilarityMatrix: inserting vector 8180 of 10788..."
       ]
      },
      {
       "output_type": "stream",
       "stream": "stdout",
       "text": [
        "\n",
        "SimilarityMatrix: inserting vector 8190 of 10788..."
       ]
      },
      {
       "output_type": "stream",
       "stream": "stdout",
       "text": [
        "\n",
        "SimilarityMatrix: inserting vector 8200 of 10788..."
       ]
      },
      {
       "output_type": "stream",
       "stream": "stdout",
       "text": [
        "\n",
        "SimilarityMatrix: inserting vector 8210 of 10788..."
       ]
      },
      {
       "output_type": "stream",
       "stream": "stdout",
       "text": [
        "\n",
        "SimilarityMatrix: inserting vector 8220 of 10788..."
       ]
      },
      {
       "output_type": "stream",
       "stream": "stdout",
       "text": [
        "\n",
        "SimilarityMatrix: inserting vector 8230 of 10788..."
       ]
      },
      {
       "output_type": "stream",
       "stream": "stdout",
       "text": [
        "\n",
        "SimilarityMatrix: inserting vector 8240 of 10788..."
       ]
      },
      {
       "output_type": "stream",
       "stream": "stdout",
       "text": [
        "\n",
        "SimilarityMatrix: inserting vector 8250 of 10788..."
       ]
      },
      {
       "output_type": "stream",
       "stream": "stdout",
       "text": [
        "\n",
        "SimilarityMatrix: inserting vector 8260 of 10788..."
       ]
      },
      {
       "output_type": "stream",
       "stream": "stdout",
       "text": [
        "\n",
        "SimilarityMatrix: inserting vector 8270 of 10788..."
       ]
      },
      {
       "output_type": "stream",
       "stream": "stdout",
       "text": [
        "\n",
        "SimilarityMatrix: inserting vector 8280 of 10788..."
       ]
      },
      {
       "output_type": "stream",
       "stream": "stdout",
       "text": [
        "\n",
        "SimilarityMatrix: inserting vector 8290 of 10788..."
       ]
      },
      {
       "output_type": "stream",
       "stream": "stdout",
       "text": [
        "\n",
        "SimilarityMatrix: inserting vector 8300 of 10788..."
       ]
      },
      {
       "output_type": "stream",
       "stream": "stdout",
       "text": [
        "\n",
        "SimilarityMatrix: inserting vector 8310 of 10788..."
       ]
      },
      {
       "output_type": "stream",
       "stream": "stdout",
       "text": [
        "\n",
        "SimilarityMatrix: inserting vector 8320 of 10788..."
       ]
      },
      {
       "output_type": "stream",
       "stream": "stdout",
       "text": [
        "\n",
        "SimilarityMatrix: inserting vector 8330 of 10788..."
       ]
      },
      {
       "output_type": "stream",
       "stream": "stdout",
       "text": [
        "\n",
        "SimilarityMatrix: inserting vector 8340 of 10788..."
       ]
      },
      {
       "output_type": "stream",
       "stream": "stdout",
       "text": [
        "\n",
        "SimilarityMatrix: inserting vector 8350 of 10788..."
       ]
      },
      {
       "output_type": "stream",
       "stream": "stdout",
       "text": [
        "\n",
        "SimilarityMatrix: inserting vector 8360 of 10788..."
       ]
      },
      {
       "output_type": "stream",
       "stream": "stdout",
       "text": [
        "\n",
        "SimilarityMatrix: inserting vector 8370 of 10788..."
       ]
      },
      {
       "output_type": "stream",
       "stream": "stdout",
       "text": [
        "\n",
        "SimilarityMatrix: inserting vector 8380 of 10788..."
       ]
      },
      {
       "output_type": "stream",
       "stream": "stdout",
       "text": [
        "\n",
        "SimilarityMatrix: inserting vector 8390 of 10788..."
       ]
      },
      {
       "output_type": "stream",
       "stream": "stdout",
       "text": [
        "\n",
        "SimilarityMatrix: inserting vector 8400 of 10788..."
       ]
      },
      {
       "output_type": "stream",
       "stream": "stdout",
       "text": [
        "\n",
        "SimilarityMatrix: inserting vector 8410 of 10788..."
       ]
      },
      {
       "output_type": "stream",
       "stream": "stdout",
       "text": [
        "\n",
        "SimilarityMatrix: inserting vector 8420 of 10788..."
       ]
      },
      {
       "output_type": "stream",
       "stream": "stdout",
       "text": [
        "\n",
        "SimilarityMatrix: inserting vector 8430 of 10788..."
       ]
      },
      {
       "output_type": "stream",
       "stream": "stdout",
       "text": [
        "\n",
        "SimilarityMatrix: inserting vector 8440 of 10788..."
       ]
      },
      {
       "output_type": "stream",
       "stream": "stdout",
       "text": [
        "\n",
        "SimilarityMatrix: inserting vector 8450 of 10788..."
       ]
      },
      {
       "output_type": "stream",
       "stream": "stdout",
       "text": [
        "\n",
        "SimilarityMatrix: inserting vector 8460 of 10788..."
       ]
      },
      {
       "output_type": "stream",
       "stream": "stdout",
       "text": [
        "\n",
        "SimilarityMatrix: inserting vector 8470 of 10788..."
       ]
      },
      {
       "output_type": "stream",
       "stream": "stdout",
       "text": [
        "\n",
        "SimilarityMatrix: inserting vector 8480 of 10788..."
       ]
      },
      {
       "output_type": "stream",
       "stream": "stdout",
       "text": [
        "\n",
        "SimilarityMatrix: inserting vector 8490 of 10788..."
       ]
      },
      {
       "output_type": "stream",
       "stream": "stdout",
       "text": [
        "\n",
        "SimilarityMatrix: inserting vector 8500 of 10788..."
       ]
      },
      {
       "output_type": "stream",
       "stream": "stdout",
       "text": [
        "\n",
        "SimilarityMatrix: inserting vector 8510 of 10788..."
       ]
      },
      {
       "output_type": "stream",
       "stream": "stdout",
       "text": [
        "\n",
        "SimilarityMatrix: inserting vector 8520 of 10788..."
       ]
      },
      {
       "output_type": "stream",
       "stream": "stdout",
       "text": [
        "\n",
        "SimilarityMatrix: inserting vector 8530 of 10788..."
       ]
      },
      {
       "output_type": "stream",
       "stream": "stdout",
       "text": [
        "\n",
        "SimilarityMatrix: inserting vector 8540 of 10788..."
       ]
      },
      {
       "output_type": "stream",
       "stream": "stdout",
       "text": [
        "\n",
        "SimilarityMatrix: inserting vector 8550 of 10788..."
       ]
      },
      {
       "output_type": "stream",
       "stream": "stdout",
       "text": [
        "\n",
        "SimilarityMatrix: inserting vector 8560 of 10788..."
       ]
      },
      {
       "output_type": "stream",
       "stream": "stdout",
       "text": [
        "\n",
        "SimilarityMatrix: inserting vector 8570 of 10788..."
       ]
      },
      {
       "output_type": "stream",
       "stream": "stdout",
       "text": [
        "\n",
        "SimilarityMatrix: inserting vector 8580 of 10788..."
       ]
      },
      {
       "output_type": "stream",
       "stream": "stdout",
       "text": [
        "\n",
        "SimilarityMatrix: inserting vector 8590 of 10788..."
       ]
      },
      {
       "output_type": "stream",
       "stream": "stdout",
       "text": [
        "\n",
        "SimilarityMatrix: inserting vector 8600 of 10788..."
       ]
      },
      {
       "output_type": "stream",
       "stream": "stdout",
       "text": [
        "\n",
        "SimilarityMatrix: inserting vector 8610 of 10788..."
       ]
      },
      {
       "output_type": "stream",
       "stream": "stdout",
       "text": [
        "\n",
        "SimilarityMatrix: inserting vector 8620 of 10788..."
       ]
      },
      {
       "output_type": "stream",
       "stream": "stdout",
       "text": [
        "\n",
        "SimilarityMatrix: inserting vector 8630 of 10788..."
       ]
      },
      {
       "output_type": "stream",
       "stream": "stdout",
       "text": [
        "\n",
        "SimilarityMatrix: inserting vector 8640 of 10788..."
       ]
      },
      {
       "output_type": "stream",
       "stream": "stdout",
       "text": [
        "\n",
        "SimilarityMatrix: inserting vector 8650 of 10788..."
       ]
      },
      {
       "output_type": "stream",
       "stream": "stdout",
       "text": [
        "\n",
        "SimilarityMatrix: inserting vector 8660 of 10788..."
       ]
      },
      {
       "output_type": "stream",
       "stream": "stdout",
       "text": [
        "\n",
        "SimilarityMatrix: inserting vector 8670 of 10788..."
       ]
      },
      {
       "output_type": "stream",
       "stream": "stdout",
       "text": [
        "\n",
        "SimilarityMatrix: inserting vector 8680 of 10788..."
       ]
      },
      {
       "output_type": "stream",
       "stream": "stdout",
       "text": [
        "\n",
        "SimilarityMatrix: inserting vector 8690 of 10788..."
       ]
      },
      {
       "output_type": "stream",
       "stream": "stdout",
       "text": [
        "\n",
        "SimilarityMatrix: inserting vector 8700 of 10788..."
       ]
      },
      {
       "output_type": "stream",
       "stream": "stdout",
       "text": [
        "\n",
        "SimilarityMatrix: inserting vector 8710 of 10788..."
       ]
      },
      {
       "output_type": "stream",
       "stream": "stdout",
       "text": [
        "\n",
        "SimilarityMatrix: inserting vector 8720 of 10788..."
       ]
      },
      {
       "output_type": "stream",
       "stream": "stdout",
       "text": [
        "\n",
        "SimilarityMatrix: inserting vector 8730 of 10788..."
       ]
      },
      {
       "output_type": "stream",
       "stream": "stdout",
       "text": [
        "\n",
        "SimilarityMatrix: inserting vector 8740 of 10788..."
       ]
      },
      {
       "output_type": "stream",
       "stream": "stdout",
       "text": [
        "\n",
        "SimilarityMatrix: inserting vector 8750 of 10788..."
       ]
      },
      {
       "output_type": "stream",
       "stream": "stdout",
       "text": [
        "\n",
        "SimilarityMatrix: inserting vector 8760 of 10788..."
       ]
      },
      {
       "output_type": "stream",
       "stream": "stdout",
       "text": [
        "\n",
        "SimilarityMatrix: inserting vector 8770 of 10788..."
       ]
      },
      {
       "output_type": "stream",
       "stream": "stdout",
       "text": [
        "\n",
        "SimilarityMatrix: inserting vector 8780 of 10788..."
       ]
      },
      {
       "output_type": "stream",
       "stream": "stdout",
       "text": [
        "\n",
        "SimilarityMatrix: inserting vector 8790 of 10788..."
       ]
      },
      {
       "output_type": "stream",
       "stream": "stdout",
       "text": [
        "\n",
        "SimilarityMatrix: inserting vector 8800 of 10788..."
       ]
      },
      {
       "output_type": "stream",
       "stream": "stdout",
       "text": [
        "\n",
        "SimilarityMatrix: inserting vector 8810 of 10788..."
       ]
      },
      {
       "output_type": "stream",
       "stream": "stdout",
       "text": [
        "\n",
        "SimilarityMatrix: inserting vector 8820 of 10788..."
       ]
      },
      {
       "output_type": "stream",
       "stream": "stdout",
       "text": [
        "\n",
        "SimilarityMatrix: inserting vector 8830 of 10788..."
       ]
      },
      {
       "output_type": "stream",
       "stream": "stdout",
       "text": [
        "\n",
        "SimilarityMatrix: inserting vector 8840 of 10788..."
       ]
      },
      {
       "output_type": "stream",
       "stream": "stdout",
       "text": [
        "\n",
        "SimilarityMatrix: inserting vector 8850 of 10788..."
       ]
      },
      {
       "output_type": "stream",
       "stream": "stdout",
       "text": [
        "\n",
        "SimilarityMatrix: inserting vector 8860 of 10788..."
       ]
      },
      {
       "output_type": "stream",
       "stream": "stdout",
       "text": [
        "\n",
        "SimilarityMatrix: inserting vector 8870 of 10788..."
       ]
      },
      {
       "output_type": "stream",
       "stream": "stdout",
       "text": [
        "\n",
        "SimilarityMatrix: inserting vector 8880 of 10788..."
       ]
      },
      {
       "output_type": "stream",
       "stream": "stdout",
       "text": [
        "\n",
        "SimilarityMatrix: inserting vector 8890 of 10788..."
       ]
      },
      {
       "output_type": "stream",
       "stream": "stdout",
       "text": [
        "\n",
        "SimilarityMatrix: inserting vector 8900 of 10788..."
       ]
      },
      {
       "output_type": "stream",
       "stream": "stdout",
       "text": [
        "\n",
        "SimilarityMatrix: inserting vector 8910 of 10788..."
       ]
      },
      {
       "output_type": "stream",
       "stream": "stdout",
       "text": [
        "\n",
        "SimilarityMatrix: inserting vector 8920 of 10788..."
       ]
      },
      {
       "output_type": "stream",
       "stream": "stdout",
       "text": [
        "\n",
        "SimilarityMatrix: inserting vector 8930 of 10788..."
       ]
      },
      {
       "output_type": "stream",
       "stream": "stdout",
       "text": [
        "\n",
        "SimilarityMatrix: inserting vector 8940 of 10788..."
       ]
      },
      {
       "output_type": "stream",
       "stream": "stdout",
       "text": [
        "\n",
        "SimilarityMatrix: inserting vector 8950 of 10788..."
       ]
      },
      {
       "output_type": "stream",
       "stream": "stdout",
       "text": [
        "\n",
        "SimilarityMatrix: inserting vector 8960 of 10788..."
       ]
      },
      {
       "output_type": "stream",
       "stream": "stdout",
       "text": [
        "\n",
        "SimilarityMatrix: inserting vector 8970 of 10788..."
       ]
      },
      {
       "output_type": "stream",
       "stream": "stdout",
       "text": [
        "\n",
        "SimilarityMatrix: inserting vector 8980 of 10788..."
       ]
      },
      {
       "output_type": "stream",
       "stream": "stdout",
       "text": [
        "\n",
        "SimilarityMatrix: inserting vector 8990 of 10788..."
       ]
      },
      {
       "output_type": "stream",
       "stream": "stdout",
       "text": [
        "\n",
        "SimilarityMatrix: inserting vector 9000 of 10788..."
       ]
      },
      {
       "output_type": "stream",
       "stream": "stdout",
       "text": [
        "\n",
        "SimilarityMatrix: inserting vector 9010 of 10788..."
       ]
      },
      {
       "output_type": "stream",
       "stream": "stdout",
       "text": [
        "\n",
        "SimilarityMatrix: inserting vector 9020 of 10788..."
       ]
      },
      {
       "output_type": "stream",
       "stream": "stdout",
       "text": [
        "\n",
        "SimilarityMatrix: inserting vector 9030 of 10788..."
       ]
      },
      {
       "output_type": "stream",
       "stream": "stdout",
       "text": [
        "\n",
        "SimilarityMatrix: inserting vector 9040 of 10788..."
       ]
      },
      {
       "output_type": "stream",
       "stream": "stdout",
       "text": [
        "\n",
        "SimilarityMatrix: inserting vector 9050 of 10788..."
       ]
      },
      {
       "output_type": "stream",
       "stream": "stdout",
       "text": [
        "\n",
        "SimilarityMatrix: inserting vector 9060 of 10788..."
       ]
      },
      {
       "output_type": "stream",
       "stream": "stdout",
       "text": [
        "\n",
        "SimilarityMatrix: inserting vector 9070 of 10788..."
       ]
      },
      {
       "output_type": "stream",
       "stream": "stdout",
       "text": [
        "\n",
        "SimilarityMatrix: inserting vector 9080 of 10788..."
       ]
      },
      {
       "output_type": "stream",
       "stream": "stdout",
       "text": [
        "\n",
        "SimilarityMatrix: inserting vector 9090 of 10788..."
       ]
      },
      {
       "output_type": "stream",
       "stream": "stdout",
       "text": [
        "\n",
        "SimilarityMatrix: inserting vector 9100 of 10788..."
       ]
      },
      {
       "output_type": "stream",
       "stream": "stdout",
       "text": [
        "\n",
        "SimilarityMatrix: inserting vector 9110 of 10788..."
       ]
      },
      {
       "output_type": "stream",
       "stream": "stdout",
       "text": [
        "\n",
        "SimilarityMatrix: inserting vector 9120 of 10788..."
       ]
      },
      {
       "output_type": "stream",
       "stream": "stdout",
       "text": [
        "\n",
        "SimilarityMatrix: inserting vector 9130 of 10788..."
       ]
      },
      {
       "output_type": "stream",
       "stream": "stdout",
       "text": [
        "\n",
        "SimilarityMatrix: inserting vector 9140 of 10788..."
       ]
      },
      {
       "output_type": "stream",
       "stream": "stdout",
       "text": [
        "\n",
        "SimilarityMatrix: inserting vector 9150 of 10788..."
       ]
      },
      {
       "output_type": "stream",
       "stream": "stdout",
       "text": [
        "\n",
        "SimilarityMatrix: inserting vector 9160 of 10788..."
       ]
      },
      {
       "output_type": "stream",
       "stream": "stdout",
       "text": [
        "\n",
        "SimilarityMatrix: inserting vector 9170 of 10788..."
       ]
      },
      {
       "output_type": "stream",
       "stream": "stdout",
       "text": [
        "\n",
        "SimilarityMatrix: inserting vector 9180 of 10788..."
       ]
      },
      {
       "output_type": "stream",
       "stream": "stdout",
       "text": [
        "\n",
        "SimilarityMatrix: inserting vector 9190 of 10788..."
       ]
      },
      {
       "output_type": "stream",
       "stream": "stdout",
       "text": [
        "\n",
        "SimilarityMatrix: inserting vector 9200 of 10788..."
       ]
      },
      {
       "output_type": "stream",
       "stream": "stdout",
       "text": [
        "\n",
        "SimilarityMatrix: inserting vector 9210 of 10788..."
       ]
      },
      {
       "output_type": "stream",
       "stream": "stdout",
       "text": [
        "\n",
        "SimilarityMatrix: inserting vector 9220 of 10788..."
       ]
      },
      {
       "output_type": "stream",
       "stream": "stdout",
       "text": [
        "\n",
        "SimilarityMatrix: inserting vector 9230 of 10788..."
       ]
      },
      {
       "output_type": "stream",
       "stream": "stdout",
       "text": [
        "\n",
        "SimilarityMatrix: inserting vector 9240 of 10788..."
       ]
      },
      {
       "output_type": "stream",
       "stream": "stdout",
       "text": [
        "\n",
        "SimilarityMatrix: inserting vector 9250 of 10788..."
       ]
      },
      {
       "output_type": "stream",
       "stream": "stdout",
       "text": [
        "\n",
        "SimilarityMatrix: inserting vector 9260 of 10788..."
       ]
      },
      {
       "output_type": "stream",
       "stream": "stdout",
       "text": [
        "\n",
        "SimilarityMatrix: inserting vector 9270 of 10788..."
       ]
      },
      {
       "output_type": "stream",
       "stream": "stdout",
       "text": [
        "\n",
        "SimilarityMatrix: inserting vector 9280 of 10788..."
       ]
      },
      {
       "output_type": "stream",
       "stream": "stdout",
       "text": [
        "\n",
        "SimilarityMatrix: inserting vector 9290 of 10788..."
       ]
      },
      {
       "output_type": "stream",
       "stream": "stdout",
       "text": [
        "\n",
        "SimilarityMatrix: inserting vector 9300 of 10788..."
       ]
      },
      {
       "output_type": "stream",
       "stream": "stdout",
       "text": [
        "\n",
        "SimilarityMatrix: inserting vector 9310 of 10788..."
       ]
      },
      {
       "output_type": "stream",
       "stream": "stdout",
       "text": [
        "\n",
        "SimilarityMatrix: inserting vector 9320 of 10788..."
       ]
      },
      {
       "output_type": "stream",
       "stream": "stdout",
       "text": [
        "\n",
        "SimilarityMatrix: inserting vector 9330 of 10788..."
       ]
      },
      {
       "output_type": "stream",
       "stream": "stdout",
       "text": [
        "\n",
        "SimilarityMatrix: inserting vector 9340 of 10788..."
       ]
      },
      {
       "output_type": "stream",
       "stream": "stdout",
       "text": [
        "\n",
        "SimilarityMatrix: inserting vector 9350 of 10788..."
       ]
      },
      {
       "output_type": "stream",
       "stream": "stdout",
       "text": [
        "\n",
        "SimilarityMatrix: inserting vector 9360 of 10788..."
       ]
      },
      {
       "output_type": "stream",
       "stream": "stdout",
       "text": [
        "\n",
        "SimilarityMatrix: inserting vector 9370 of 10788..."
       ]
      },
      {
       "output_type": "stream",
       "stream": "stdout",
       "text": [
        "\n",
        "SimilarityMatrix: inserting vector 9380 of 10788..."
       ]
      },
      {
       "output_type": "stream",
       "stream": "stdout",
       "text": [
        "\n",
        "SimilarityMatrix: inserting vector 9390 of 10788..."
       ]
      },
      {
       "output_type": "stream",
       "stream": "stdout",
       "text": [
        "\n",
        "SimilarityMatrix: inserting vector 9400 of 10788..."
       ]
      },
      {
       "output_type": "stream",
       "stream": "stdout",
       "text": [
        "\n",
        "SimilarityMatrix: inserting vector 9410 of 10788..."
       ]
      },
      {
       "output_type": "stream",
       "stream": "stdout",
       "text": [
        "\n",
        "SimilarityMatrix: inserting vector 9420 of 10788..."
       ]
      },
      {
       "output_type": "stream",
       "stream": "stdout",
       "text": [
        "\n",
        "SimilarityMatrix: inserting vector 9430 of 10788..."
       ]
      },
      {
       "output_type": "stream",
       "stream": "stdout",
       "text": [
        "\n",
        "SimilarityMatrix: inserting vector 9440 of 10788..."
       ]
      },
      {
       "output_type": "stream",
       "stream": "stdout",
       "text": [
        "\n",
        "SimilarityMatrix: inserting vector 9450 of 10788..."
       ]
      },
      {
       "output_type": "stream",
       "stream": "stdout",
       "text": [
        "\n",
        "SimilarityMatrix: inserting vector 9460 of 10788..."
       ]
      },
      {
       "output_type": "stream",
       "stream": "stdout",
       "text": [
        "\n",
        "SimilarityMatrix: inserting vector 9470 of 10788..."
       ]
      },
      {
       "output_type": "stream",
       "stream": "stdout",
       "text": [
        "\n",
        "SimilarityMatrix: inserting vector 9480 of 10788..."
       ]
      },
      {
       "output_type": "stream",
       "stream": "stdout",
       "text": [
        "\n",
        "SimilarityMatrix: inserting vector 9490 of 10788..."
       ]
      },
      {
       "output_type": "stream",
       "stream": "stdout",
       "text": [
        "\n",
        "SimilarityMatrix: inserting vector 9500 of 10788..."
       ]
      },
      {
       "output_type": "stream",
       "stream": "stdout",
       "text": [
        "\n",
        "SimilarityMatrix: inserting vector 9510 of 10788..."
       ]
      },
      {
       "output_type": "stream",
       "stream": "stdout",
       "text": [
        "\n",
        "SimilarityMatrix: inserting vector 9520 of 10788..."
       ]
      },
      {
       "output_type": "stream",
       "stream": "stdout",
       "text": [
        "\n",
        "SimilarityMatrix: inserting vector 9530 of 10788..."
       ]
      },
      {
       "output_type": "stream",
       "stream": "stdout",
       "text": [
        "\n",
        "SimilarityMatrix: inserting vector 9540 of 10788..."
       ]
      },
      {
       "output_type": "stream",
       "stream": "stdout",
       "text": [
        "\n",
        "SimilarityMatrix: inserting vector 9550 of 10788..."
       ]
      },
      {
       "output_type": "stream",
       "stream": "stdout",
       "text": [
        "\n",
        "SimilarityMatrix: inserting vector 9560 of 10788..."
       ]
      },
      {
       "output_type": "stream",
       "stream": "stdout",
       "text": [
        "\n",
        "SimilarityMatrix: inserting vector 9570 of 10788..."
       ]
      },
      {
       "output_type": "stream",
       "stream": "stdout",
       "text": [
        "\n",
        "SimilarityMatrix: inserting vector 9580 of 10788..."
       ]
      },
      {
       "output_type": "stream",
       "stream": "stdout",
       "text": [
        "\n",
        "SimilarityMatrix: inserting vector 9590 of 10788..."
       ]
      },
      {
       "output_type": "stream",
       "stream": "stdout",
       "text": [
        "\n",
        "SimilarityMatrix: inserting vector 9600 of 10788..."
       ]
      },
      {
       "output_type": "stream",
       "stream": "stdout",
       "text": [
        "\n",
        "SimilarityMatrix: inserting vector 9610 of 10788..."
       ]
      },
      {
       "output_type": "stream",
       "stream": "stdout",
       "text": [
        "\n",
        "SimilarityMatrix: inserting vector 9620 of 10788..."
       ]
      },
      {
       "output_type": "stream",
       "stream": "stdout",
       "text": [
        "\n",
        "SimilarityMatrix: inserting vector 9630 of 10788..."
       ]
      },
      {
       "output_type": "stream",
       "stream": "stdout",
       "text": [
        "\n",
        "SimilarityMatrix: inserting vector 9640 of 10788..."
       ]
      },
      {
       "output_type": "stream",
       "stream": "stdout",
       "text": [
        "\n",
        "SimilarityMatrix: inserting vector 9650 of 10788..."
       ]
      },
      {
       "output_type": "stream",
       "stream": "stdout",
       "text": [
        "\n",
        "SimilarityMatrix: inserting vector 9660 of 10788..."
       ]
      },
      {
       "output_type": "stream",
       "stream": "stdout",
       "text": [
        "\n",
        "SimilarityMatrix: inserting vector 9670 of 10788..."
       ]
      },
      {
       "output_type": "stream",
       "stream": "stdout",
       "text": [
        "\n",
        "SimilarityMatrix: inserting vector 9680 of 10788..."
       ]
      },
      {
       "output_type": "stream",
       "stream": "stdout",
       "text": [
        "\n",
        "SimilarityMatrix: inserting vector 9690 of 10788..."
       ]
      },
      {
       "output_type": "stream",
       "stream": "stdout",
       "text": [
        "\n",
        "SimilarityMatrix: inserting vector 9700 of 10788..."
       ]
      },
      {
       "output_type": "stream",
       "stream": "stdout",
       "text": [
        "\n",
        "SimilarityMatrix: inserting vector 9710 of 10788..."
       ]
      },
      {
       "output_type": "stream",
       "stream": "stdout",
       "text": [
        "\n",
        "SimilarityMatrix: inserting vector 9720 of 10788..."
       ]
      },
      {
       "output_type": "stream",
       "stream": "stdout",
       "text": [
        "\n",
        "SimilarityMatrix: inserting vector 9730 of 10788..."
       ]
      },
      {
       "output_type": "stream",
       "stream": "stdout",
       "text": [
        "\n",
        "SimilarityMatrix: inserting vector 9740 of 10788..."
       ]
      },
      {
       "output_type": "stream",
       "stream": "stdout",
       "text": [
        "\n",
        "SimilarityMatrix: inserting vector 9750 of 10788..."
       ]
      },
      {
       "output_type": "stream",
       "stream": "stdout",
       "text": [
        "\n",
        "SimilarityMatrix: inserting vector 9760 of 10788..."
       ]
      },
      {
       "output_type": "stream",
       "stream": "stdout",
       "text": [
        "\n",
        "SimilarityMatrix: inserting vector 9770 of 10788..."
       ]
      },
      {
       "output_type": "stream",
       "stream": "stdout",
       "text": [
        "\n",
        "SimilarityMatrix: inserting vector 9780 of 10788..."
       ]
      },
      {
       "output_type": "stream",
       "stream": "stdout",
       "text": [
        "\n",
        "SimilarityMatrix: inserting vector 9790 of 10788..."
       ]
      },
      {
       "output_type": "stream",
       "stream": "stdout",
       "text": [
        "\n",
        "SimilarityMatrix: inserting vector 9800 of 10788..."
       ]
      },
      {
       "output_type": "stream",
       "stream": "stdout",
       "text": [
        "\n",
        "SimilarityMatrix: inserting vector 9810 of 10788..."
       ]
      },
      {
       "output_type": "stream",
       "stream": "stdout",
       "text": [
        "\n",
        "SimilarityMatrix: inserting vector 9820 of 10788..."
       ]
      },
      {
       "output_type": "stream",
       "stream": "stdout",
       "text": [
        "\n",
        "SimilarityMatrix: inserting vector 9830 of 10788..."
       ]
      },
      {
       "output_type": "stream",
       "stream": "stdout",
       "text": [
        "\n",
        "SimilarityMatrix: inserting vector 9840 of 10788..."
       ]
      },
      {
       "output_type": "stream",
       "stream": "stdout",
       "text": [
        "\n",
        "SimilarityMatrix: inserting vector 9850 of 10788..."
       ]
      },
      {
       "output_type": "stream",
       "stream": "stdout",
       "text": [
        "\n",
        "SimilarityMatrix: inserting vector 9860 of 10788..."
       ]
      },
      {
       "output_type": "stream",
       "stream": "stdout",
       "text": [
        "\n",
        "SimilarityMatrix: inserting vector 9870 of 10788..."
       ]
      },
      {
       "output_type": "stream",
       "stream": "stdout",
       "text": [
        "\n",
        "SimilarityMatrix: inserting vector 9880 of 10788..."
       ]
      },
      {
       "output_type": "stream",
       "stream": "stdout",
       "text": [
        "\n",
        "SimilarityMatrix: inserting vector 9890 of 10788..."
       ]
      },
      {
       "output_type": "stream",
       "stream": "stdout",
       "text": [
        "\n",
        "SimilarityMatrix: inserting vector 9900 of 10788..."
       ]
      },
      {
       "output_type": "stream",
       "stream": "stdout",
       "text": [
        "\n",
        "SimilarityMatrix: inserting vector 9910 of 10788..."
       ]
      },
      {
       "output_type": "stream",
       "stream": "stdout",
       "text": [
        "\n",
        "SimilarityMatrix: inserting vector 9920 of 10788..."
       ]
      },
      {
       "output_type": "stream",
       "stream": "stdout",
       "text": [
        "\n",
        "SimilarityMatrix: inserting vector 9930 of 10788..."
       ]
      },
      {
       "output_type": "stream",
       "stream": "stdout",
       "text": [
        "\n",
        "SimilarityMatrix: inserting vector 9940 of 10788..."
       ]
      },
      {
       "output_type": "stream",
       "stream": "stdout",
       "text": [
        "\n",
        "SimilarityMatrix: inserting vector 9950 of 10788..."
       ]
      },
      {
       "output_type": "stream",
       "stream": "stdout",
       "text": [
        "\n",
        "SimilarityMatrix: inserting vector 9960 of 10788..."
       ]
      },
      {
       "output_type": "stream",
       "stream": "stdout",
       "text": [
        "\n",
        "SimilarityMatrix: inserting vector 9970 of 10788..."
       ]
      },
      {
       "output_type": "stream",
       "stream": "stdout",
       "text": [
        "\n",
        "SimilarityMatrix: inserting vector 9980 of 10788..."
       ]
      },
      {
       "output_type": "stream",
       "stream": "stdout",
       "text": [
        "\n",
        "SimilarityMatrix: inserting vector 9990 of 10788..."
       ]
      },
      {
       "output_type": "stream",
       "stream": "stdout",
       "text": [
        "\n",
        "SimilarityMatrix: inserting vector 10000 of 10788..."
       ]
      },
      {
       "output_type": "stream",
       "stream": "stdout",
       "text": [
        "\n",
        "SimilarityMatrix: inserting vector 10010 of 10788..."
       ]
      },
      {
       "output_type": "stream",
       "stream": "stdout",
       "text": [
        "\n",
        "SimilarityMatrix: inserting vector 10020 of 10788..."
       ]
      },
      {
       "output_type": "stream",
       "stream": "stdout",
       "text": [
        "\n",
        "SimilarityMatrix: inserting vector 10030 of 10788..."
       ]
      },
      {
       "output_type": "stream",
       "stream": "stdout",
       "text": [
        "\n",
        "SimilarityMatrix: inserting vector 10040 of 10788..."
       ]
      },
      {
       "output_type": "stream",
       "stream": "stdout",
       "text": [
        "\n",
        "SimilarityMatrix: inserting vector 10050 of 10788..."
       ]
      },
      {
       "output_type": "stream",
       "stream": "stdout",
       "text": [
        "\n",
        "SimilarityMatrix: inserting vector 10060 of 10788..."
       ]
      },
      {
       "output_type": "stream",
       "stream": "stdout",
       "text": [
        "\n",
        "SimilarityMatrix: inserting vector 10070 of 10788..."
       ]
      },
      {
       "output_type": "stream",
       "stream": "stdout",
       "text": [
        "\n",
        "SimilarityMatrix: inserting vector 10080 of 10788..."
       ]
      },
      {
       "output_type": "stream",
       "stream": "stdout",
       "text": [
        "\n",
        "SimilarityMatrix: inserting vector 10090 of 10788..."
       ]
      },
      {
       "output_type": "stream",
       "stream": "stdout",
       "text": [
        "\n",
        "SimilarityMatrix: inserting vector 10100 of 10788..."
       ]
      },
      {
       "output_type": "stream",
       "stream": "stdout",
       "text": [
        "\n",
        "SimilarityMatrix: inserting vector 10110 of 10788..."
       ]
      },
      {
       "output_type": "stream",
       "stream": "stdout",
       "text": [
        "\n",
        "SimilarityMatrix: inserting vector 10120 of 10788..."
       ]
      },
      {
       "output_type": "stream",
       "stream": "stdout",
       "text": [
        "\n",
        "SimilarityMatrix: inserting vector 10130 of 10788..."
       ]
      },
      {
       "output_type": "stream",
       "stream": "stdout",
       "text": [
        "\n",
        "SimilarityMatrix: inserting vector 10140 of 10788..."
       ]
      },
      {
       "output_type": "stream",
       "stream": "stdout",
       "text": [
        "\n",
        "SimilarityMatrix: inserting vector 10150 of 10788..."
       ]
      },
      {
       "output_type": "stream",
       "stream": "stdout",
       "text": [
        "\n",
        "SimilarityMatrix: inserting vector 10160 of 10788..."
       ]
      },
      {
       "output_type": "stream",
       "stream": "stdout",
       "text": [
        "\n",
        "SimilarityMatrix: inserting vector 10170 of 10788..."
       ]
      },
      {
       "output_type": "stream",
       "stream": "stdout",
       "text": [
        "\n",
        "SimilarityMatrix: inserting vector 10180 of 10788..."
       ]
      },
      {
       "output_type": "stream",
       "stream": "stdout",
       "text": [
        "\n",
        "SimilarityMatrix: inserting vector 10190 of 10788..."
       ]
      },
      {
       "output_type": "stream",
       "stream": "stdout",
       "text": [
        "\n",
        "SimilarityMatrix: inserting vector 10200 of 10788..."
       ]
      },
      {
       "output_type": "stream",
       "stream": "stdout",
       "text": [
        "\n",
        "SimilarityMatrix: inserting vector 10210 of 10788..."
       ]
      },
      {
       "output_type": "stream",
       "stream": "stdout",
       "text": [
        "\n",
        "SimilarityMatrix: inserting vector 10220 of 10788..."
       ]
      },
      {
       "output_type": "stream",
       "stream": "stdout",
       "text": [
        "\n",
        "SimilarityMatrix: inserting vector 10230 of 10788..."
       ]
      },
      {
       "output_type": "stream",
       "stream": "stdout",
       "text": [
        "\n",
        "SimilarityMatrix: inserting vector 10240 of 10788..."
       ]
      },
      {
       "output_type": "stream",
       "stream": "stdout",
       "text": [
        "\n",
        "SimilarityMatrix: inserting vector 10250 of 10788..."
       ]
      },
      {
       "output_type": "stream",
       "stream": "stdout",
       "text": [
        "\n",
        "SimilarityMatrix: inserting vector 10260 of 10788..."
       ]
      },
      {
       "output_type": "stream",
       "stream": "stdout",
       "text": [
        "\n",
        "SimilarityMatrix: inserting vector 10270 of 10788..."
       ]
      },
      {
       "output_type": "stream",
       "stream": "stdout",
       "text": [
        "\n",
        "SimilarityMatrix: inserting vector 10280 of 10788..."
       ]
      },
      {
       "output_type": "stream",
       "stream": "stdout",
       "text": [
        "\n",
        "SimilarityMatrix: inserting vector 10290 of 10788..."
       ]
      },
      {
       "output_type": "stream",
       "stream": "stdout",
       "text": [
        "\n",
        "SimilarityMatrix: inserting vector 10300 of 10788..."
       ]
      },
      {
       "output_type": "stream",
       "stream": "stdout",
       "text": [
        "\n",
        "SimilarityMatrix: inserting vector 10310 of 10788..."
       ]
      },
      {
       "output_type": "stream",
       "stream": "stdout",
       "text": [
        "\n",
        "SimilarityMatrix: inserting vector 10320 of 10788..."
       ]
      },
      {
       "output_type": "stream",
       "stream": "stdout",
       "text": [
        "\n",
        "SimilarityMatrix: inserting vector 10330 of 10788..."
       ]
      },
      {
       "output_type": "stream",
       "stream": "stdout",
       "text": [
        "\n",
        "SimilarityMatrix: inserting vector 10340 of 10788..."
       ]
      },
      {
       "output_type": "stream",
       "stream": "stdout",
       "text": [
        "\n",
        "SimilarityMatrix: inserting vector 10350 of 10788..."
       ]
      },
      {
       "output_type": "stream",
       "stream": "stdout",
       "text": [
        "\n",
        "SimilarityMatrix: inserting vector 10360 of 10788..."
       ]
      },
      {
       "output_type": "stream",
       "stream": "stdout",
       "text": [
        "\n",
        "SimilarityMatrix: inserting vector 10370 of 10788..."
       ]
      },
      {
       "output_type": "stream",
       "stream": "stdout",
       "text": [
        "\n",
        "SimilarityMatrix: inserting vector 10380 of 10788..."
       ]
      },
      {
       "output_type": "stream",
       "stream": "stdout",
       "text": [
        "\n",
        "SimilarityMatrix: inserting vector 10390 of 10788..."
       ]
      },
      {
       "output_type": "stream",
       "stream": "stdout",
       "text": [
        "\n",
        "SimilarityMatrix: inserting vector 10400 of 10788..."
       ]
      },
      {
       "output_type": "stream",
       "stream": "stdout",
       "text": [
        "\n",
        "SimilarityMatrix: inserting vector 10410 of 10788..."
       ]
      },
      {
       "output_type": "stream",
       "stream": "stdout",
       "text": [
        "\n",
        "SimilarityMatrix: inserting vector 10420 of 10788..."
       ]
      },
      {
       "output_type": "stream",
       "stream": "stdout",
       "text": [
        "\n",
        "SimilarityMatrix: inserting vector 10430 of 10788..."
       ]
      },
      {
       "output_type": "stream",
       "stream": "stdout",
       "text": [
        "\n",
        "SimilarityMatrix: inserting vector 10440 of 10788..."
       ]
      },
      {
       "output_type": "stream",
       "stream": "stdout",
       "text": [
        "\n",
        "SimilarityMatrix: inserting vector 10450 of 10788..."
       ]
      },
      {
       "output_type": "stream",
       "stream": "stdout",
       "text": [
        "\n",
        "SimilarityMatrix: inserting vector 10460 of 10788..."
       ]
      },
      {
       "output_type": "stream",
       "stream": "stdout",
       "text": [
        "\n",
        "SimilarityMatrix: inserting vector 10470 of 10788..."
       ]
      },
      {
       "output_type": "stream",
       "stream": "stdout",
       "text": [
        "\n",
        "SimilarityMatrix: inserting vector 10480 of 10788..."
       ]
      },
      {
       "output_type": "stream",
       "stream": "stdout",
       "text": [
        "\n",
        "SimilarityMatrix: inserting vector 10490 of 10788..."
       ]
      },
      {
       "output_type": "stream",
       "stream": "stdout",
       "text": [
        "\n",
        "SimilarityMatrix: inserting vector 10500 of 10788..."
       ]
      },
      {
       "output_type": "stream",
       "stream": "stdout",
       "text": [
        "\n",
        "SimilarityMatrix: inserting vector 10510 of 10788..."
       ]
      },
      {
       "output_type": "stream",
       "stream": "stdout",
       "text": [
        "\n",
        "SimilarityMatrix: inserting vector 10520 of 10788..."
       ]
      },
      {
       "output_type": "stream",
       "stream": "stdout",
       "text": [
        "\n",
        "SimilarityMatrix: inserting vector 10530 of 10788..."
       ]
      },
      {
       "output_type": "stream",
       "stream": "stdout",
       "text": [
        "\n",
        "SimilarityMatrix: inserting vector 10540 of 10788..."
       ]
      },
      {
       "output_type": "stream",
       "stream": "stdout",
       "text": [
        "\n",
        "SimilarityMatrix: inserting vector 10550 of 10788..."
       ]
      },
      {
       "output_type": "stream",
       "stream": "stdout",
       "text": [
        "\n",
        "SimilarityMatrix: inserting vector 10560 of 10788..."
       ]
      },
      {
       "output_type": "stream",
       "stream": "stdout",
       "text": [
        "\n",
        "SimilarityMatrix: inserting vector 10570 of 10788..."
       ]
      },
      {
       "output_type": "stream",
       "stream": "stdout",
       "text": [
        "\n",
        "SimilarityMatrix: inserting vector 10580 of 10788..."
       ]
      },
      {
       "output_type": "stream",
       "stream": "stdout",
       "text": [
        "\n",
        "SimilarityMatrix: inserting vector 10590 of 10788..."
       ]
      },
      {
       "output_type": "stream",
       "stream": "stdout",
       "text": [
        "\n",
        "SimilarityMatrix: inserting vector 10600 of 10788..."
       ]
      },
      {
       "output_type": "stream",
       "stream": "stdout",
       "text": [
        "\n",
        "SimilarityMatrix: inserting vector 10610 of 10788..."
       ]
      },
      {
       "output_type": "stream",
       "stream": "stdout",
       "text": [
        "\n",
        "SimilarityMatrix: inserting vector 10620 of 10788..."
       ]
      },
      {
       "output_type": "stream",
       "stream": "stdout",
       "text": [
        "\n",
        "SimilarityMatrix: inserting vector 10630 of 10788..."
       ]
      },
      {
       "output_type": "stream",
       "stream": "stdout",
       "text": [
        "\n",
        "SimilarityMatrix: inserting vector 10640 of 10788..."
       ]
      },
      {
       "output_type": "stream",
       "stream": "stdout",
       "text": [
        "\n",
        "SimilarityMatrix: inserting vector 10650 of 10788..."
       ]
      },
      {
       "output_type": "stream",
       "stream": "stdout",
       "text": [
        "\n",
        "SimilarityMatrix: inserting vector 10660 of 10788..."
       ]
      },
      {
       "output_type": "stream",
       "stream": "stdout",
       "text": [
        "\n",
        "SimilarityMatrix: inserting vector 10670 of 10788..."
       ]
      },
      {
       "output_type": "stream",
       "stream": "stdout",
       "text": [
        "\n",
        "SimilarityMatrix: inserting vector 10680 of 10788..."
       ]
      },
      {
       "output_type": "stream",
       "stream": "stdout",
       "text": [
        "\n",
        "SimilarityMatrix: inserting vector 10690 of 10788..."
       ]
      },
      {
       "output_type": "stream",
       "stream": "stdout",
       "text": [
        "\n",
        "SimilarityMatrix: inserting vector 10700 of 10788..."
       ]
      },
      {
       "output_type": "stream",
       "stream": "stdout",
       "text": [
        "\n",
        "SimilarityMatrix: inserting vector 10710 of 10788..."
       ]
      },
      {
       "output_type": "stream",
       "stream": "stdout",
       "text": [
        "\n",
        "SimilarityMatrix: inserting vector 10720 of 10788..."
       ]
      },
      {
       "output_type": "stream",
       "stream": "stdout",
       "text": [
        "\n",
        "SimilarityMatrix: inserting vector 10730 of 10788..."
       ]
      },
      {
       "output_type": "stream",
       "stream": "stdout",
       "text": [
        "\n",
        "SimilarityMatrix: inserting vector 10740 of 10788..."
       ]
      },
      {
       "output_type": "stream",
       "stream": "stdout",
       "text": [
        "\n",
        "SimilarityMatrix: inserting vector 10750 of 10788..."
       ]
      },
      {
       "output_type": "stream",
       "stream": "stdout",
       "text": [
        "\n",
        "SimilarityMatrix: inserting vector 10760 of 10788..."
       ]
      },
      {
       "output_type": "stream",
       "stream": "stdout",
       "text": [
        "\n",
        "SimilarityMatrix: inserting vector 10770 of 10788..."
       ]
      },
      {
       "output_type": "stream",
       "stream": "stdout",
       "text": [
        "\n",
        "SimilarityMatrix: inserting vector 10780 of 10788..."
       ]
      },
      {
       "output_type": "stream",
       "stream": "stdout",
       "text": [
        "\n"
       ]
      }
     ],
     "prompt_number": 74
    },
    {
     "cell_type": "code",
     "collapsed": false,
     "input": [
      "def match_categories(fileid):\n",
      "    matches = sim[model.transform_sents(reuters.sents(fileid))]\n",
      "    return [(cat[4:], score) for cat, score in corpus.translate_similarities(matches)]\n",
      "\n",
      "def test_acc(fileid):\n",
      "    matches = sim[model.transform_sents(reuters.sents(fileid))]\n",
      "    fileid_match, _ = corpus.translate_similarities(matches)[0]\n",
      "    print(fileid, fileid_match)\n",
      "    return 1 if fileid == fileid_match[4:] else 0\n",
      "\n",
      "def print_matches(sim_vec):\n",
      "    matches = corpus.translate_similarities(sim[sim_vec])\n",
      "    for fileid, score in matches[:10]:\n",
      "        fileid = fileid[4:]\n",
      "        categories = reuters.categories(fileid)\n",
      "        text = reuters.raw(fileid)\n",
      "        print(\"FILE:       %s\" % fileid)\n",
      "        print(\"CATEGORIES: %s\" % \", \".join(categories))\n",
      "        print(text[:250] + \"...\" if len(text) > 250 else \"\")\n",
      "        print()\n",
      "        \n",
      "def match_file(fileid):\n",
      "    print(\"MATCHES FOR %s\" % fileid)\n",
      "    print('-' * 80)\n",
      "    print()\n",
      "    print_matches(model.transform_tag(\"doc:%s\" % fileid))\n",
      "    \n",
      "def match_url(url):\n",
      "    print(\"MATCHES FOR %s\" % url)\n",
      "    print('-' * 80)\n",
      "    print()\n",
      "    print_matches(model.transform_url(url))\n",
      "    \n",
      "def match_text(text):\n",
      "    print(\"MATCHES FOR '%s...'\" % text[:50])\n",
      "    print('-' * 80)\n",
      "    print()\n",
      "    print_matches(model.transform_text(text))\n",
      "    \n",
      "def match_terms(*terms):\n",
      "    print(\"MATCHES FOR '%s\" % \"', '\".join(terms) + \"'\")\n",
      "    print('-' * 80)\n",
      "    print()\n",
      "    print_matches(model.transform_terms(*terms))\n",
      "\n",
      "testids = [fileid for fileid in reuters.fileids() if fileid.startswith(\"test\")]\n",
      "\n",
      "repoids = [fileid for fileid in reuters.fileids() if fileid.startswith(\"training\")]"
     ],
     "language": "python",
     "metadata": {},
     "outputs": [],
     "prompt_number": 75
    },
    {
     "cell_type": "code",
     "collapsed": false,
     "input": [
      "%%capture\n",
      "a_s = np.array([test_acc(fileid) for fileid in repoids[:100]])"
     ],
     "language": "python",
     "metadata": {},
     "outputs": [],
     "prompt_number": 18
    },
    {
     "cell_type": "code",
     "collapsed": false,
     "input": [
      "plt.hist(a_s);\n",
      "plt.axvline(a_s.mean(), color='r', linestyle='solid', linewidth=1);\n",
      "print(\"accuracy: %s\" % a_s.mean())"
     ],
     "language": "python",
     "metadata": {},
     "outputs": [
      {
       "output_type": "stream",
       "stream": "stdout",
       "text": [
        "accuracy: 1.0\n"
       ]
      },
      {
       "metadata": {},
       "output_type": "display_data",
       "png": "[encoded data removed]",
       "text": [
        "<matplotlib.figure.Figure at 0x7f0c7a44b8d0>"
       ]
      }
     ],
     "prompt_number": 17
    },
    {
     "cell_type": "code",
     "collapsed": false,
     "input": [
      "match_file(repoids[2])"
     ],
     "language": "python",
     "metadata": {},
     "outputs": [
      {
       "output_type": "stream",
       "stream": "stdout",
       "text": [
        "MATCHES FOR training/100\n",
        "--------------------------------------------------------------------------------\n",
        "\n",
        "FILE:       training/100"
       ]
      },
      {
       "output_type": "stream",
       "stream": "stdout",
       "text": [
        "\n",
        "CATEGORIES: money-supply\n",
        "N.Z. TRADING BANK DEPOSIT GROWTH RISES SLIGHTLY\n",
        "  New Zealand's trading bank seasonally\n",
        "  adjusted deposit growth rose 2.6 pct in January compared with a\n",
        "  rise of 9.4 pct in December, the Reserve Bank said.\n",
        "      Year-on-year total deposits rose 30....\n",
        "\n",
        "FILE:       training/10262\n",
        "CATEGORIES: reserves\n",
        "N.Z. FOREIGN RESERVES FALL SLIGHTLY IN FEBRUARY\n",
        "  New Zealand's official foreign\n",
        "  reserves fell slightly to 7.13 billion N.Z. Dlrs in February\n",
        "  from 7.15 billion in January but were sharply above 2.85\n",
        "  billion in February 1986, the Reserve Bank sa...\n",
        "\n",
        "FILE:       training/48\n",
        "CATEGORIES: reserves\n",
        "N.Z. OFFICIAL FOREIGN RESERVES FALL IN JANUARY\n",
        "  New Zealand's official foreign\n",
        "  reserves fell to 7.15 billion N.Z. Dlrs in January from 7.20\n",
        "  billion dlrs in December and compared with 3.03 billion a year\n",
        "  ago period, the Reserve Bank said in its...\n",
        "\n",
        "FILE:       test/16063\n",
        "CATEGORIES: money-supply\n",
        "N.Z. TRADING BANK DEPOSIT GROWTH EASES SLIGHTLY\n",
        "  New Zealand's trading bank\n",
        "  seasonally adjusted deposit growth rose 2.1 pct in February\n",
        "  compared with a 2.6 pct rise in January, the Reserve Bank said.\n",
        "      Year-on-year total deposits rose 28.9 p...\n",
        "\n",
        "FILE:       training/5848\n",
        "CATEGORIES: ipi\n",
        "U.K. INDUSTRIAL OUTPUT RISES IN JANUARY\n",
        "  U.K. Industrial production rose a\n",
        "  provisional 0.4 pct in January after a 0.6 pct decline in\n",
        "  December 1986, figures from the Central Statistical Office\n",
        "  show.\n",
        "      The index for industrial production, ba...\n",
        "\n",
        "FILE:       training/13231\n",
        "CATEGORIES: interest\n",
        "HONG KONG BANKS RAISE PRIME ONE-HALF POINT TO 6.5 PCT\n",
        "  Hongkong and Shanghai Banking Corp and\n",
        "  Standard Chartered Bank raised their prime rate one-half point\n",
        "  to 6.5 pct, effective Tuesday, the Association of Banks said.\n",
        "      The association said...\n",
        "\n",
        "FILE:       training/14732\n",
        "CATEGORIES: crude, fuel, gas\n",
        "API SAYS DISTILLATE, GASOLINE STOCKS UP IN WEEK\n",
        "  Distillate fuel stocks held in\n",
        "  primary storage rose by 628,000 barrels in the week ended April\n",
        "  three to 106.96 mln barrels from a revised 106.33 mln the\n",
        "  previous week, the American Petroleum Ins...\n",
        "\n",
        "FILE:       training/1343\n",
        "CATEGORIES: crude\n",
        "API SAYS DISTILLATE, GAS STOCKS OFF IN WEEK\n",
        "  Distillate fuel stocks held in\n",
        "  primary storage fell by 4.4 mln barrels in the week ended Feb\n",
        "  27 to 127.10 mln barrels from 131.50 mln the previous week, the\n",
        "  American Petroleum Institute (API) said.\n",
        "...\n",
        "\n",
        "FILE:       training/6301\n",
        "CATEGORIES: crude\n",
        "API SAYS DISTILLATE, GAS STOCKS OFF IN WEEK\n",
        "  Distillate fuel stocks held in\n",
        "  primary storage fell by 7.35 mln barrels in the week ended\n",
        "  March 13 to 112.74 mln barrels from a revised 120.09 mln the\n",
        "  previous week, the American Petroleum Institute...\n",
        "\n",
        "FILE:       training/14126\n",
        "CATEGORIES: grain, wheat\n",
        "EC SOURCES SAY UK WHEAT PLAN YET TO BE APPROVED\n",
        "  The European Commission has not taken a\n",
        "  decision on applications from the British government for the\n",
        "  release of 200,000 tonnes of intervention feed wheat onto the\n",
        "  British market in May and June,...\n",
        "\n"
       ]
      }
     ],
     "prompt_number": 76
    },
    {
     "cell_type": "code",
     "collapsed": false,
     "input": [
      "match_terms(\"gold\")"
     ],
     "language": "python",
     "metadata": {},
     "outputs": [
      {
       "output_type": "stream",
       "stream": "stdout",
       "text": [
        "MATCHES FOR 'gold'\n",
        "--------------------------------------------------------------------------------\n",
        "\n",
        "FILE:       test/19802"
       ]
      },
      {
       "output_type": "stream",
       "stream": "stdout",
       "text": [
        "\n",
        "CATEGORIES: gold\n",
        "GUNNAR GOLD (GGG.TO) IN VENTURE AGREEMENT\n",
        "  Gunnar Gold Inc said it and Mill City\n",
        "  Gold Inc signed an option and joint venture agreement with\n",
        "  Tyranex Gold Inc on the Tyranite gold property in Ontario.\n",
        "      Gunnar said it and Mill City can earn a ...\n",
        "\n",
        "FILE:       test/19808\n",
        "CATEGORIES: gold\n",
        "GUNNAR GOLD IN VENTURE AGREEMENT\n",
        "  Gunnar Gold Inc said it and Mill City\n",
        "  Gold Inc signed an option and joint venture agreement with\n",
        "  Tyranex Gold Inc on the Tyranite gold property in Ontario.\n",
        "      Gunnar said it and Mill City can earn a 50 pct in...\n",
        "\n",
        "FILE:       training/13900\n",
        "CATEGORIES: earn\n",
        "GOLD FIELDS OF S. AFRICA PROFIT FALLS IN QUARTER\n",
        "  1ST QTR TO MARCH 31\n",
        "      Working profit 487.50 mln rand vs 559.59 mln\n",
        "      Tax 274.28 mln vs 302.15 mln\n",
        "      Net 264.32 mln vs 300.99 mln\n",
        "      Tonnes milled 3.74 mln vs 3.72 mln\n",
        "      Gold produc...\n",
        "\n",
        "FILE:       training/11638\n",
        "CATEGORIES: gold\n",
        "ECHO BAY &lt;ECO> HAS NEVADA GOLD DISCOVERY\n",
        "  Echo Bay Mines Ltd said it\n",
        "  discovered a gold deposit in the Cove area near its McCoy gold\n",
        "  mine in Nevada.\n",
        "      Echo Bay said it encountered gold in 39 of 42 drill holes\n",
        "  at Cove. It said seven holes...\n",
        "\n",
        "FILE:       training/11627\n",
        "CATEGORIES: gold\n",
        "ECHO BAY HAS NEVADA GOLD DISCOVERY\n",
        "  Echo Bay Mines Ltd said it\n",
        "  discovered a gold deposit in the Cove area near its McCoy gold\n",
        "  mine in Nevada.\n",
        "      Echo Bay said it encountered gold in 39 of 42 drill holes\n",
        "  at Cove. It said seven holes averaged...\n",
        "\n",
        "FILE:       test/19764\n",
        "CATEGORIES: gold, lead, silver, zinc\n",
        "U.S. MINERALS &lt;USMX.O> COMMISSIONS NEW GOLD MINE\n",
        "  U.S. Minerals Exploration Co said it and\n",
        "  Pegasus Gold Inc &lt;PGUL.O> of Spokane, Wash, officially\n",
        "  commissioned a new gold, zinc and lead producing mine.\n",
        "      U.S. Minerals said the new Monta...\n",
        "\n",
        "FILE:       training/5526\n",
        "CATEGORIES: gold\n",
        "LEVON RESOURCES &lt;LVNVF> GOLD ASSAYS IMPROVED\n",
        "  Levon Resources Ltd\n",
        "  said re-checked gold assays from the Howard tunnel on its\n",
        "  Congress, British Columbia property yielded higher gold grades\n",
        "  than those reported in January and February.\n",
        "      It...\n",
        "\n",
        "FILE:       training/5564\n",
        "CATEGORIES: gold\n",
        "LEVON RESOURCES REPORTS IMPROVED GOLD ASSAYS\n",
        "  Levon Resources Ltd\n",
        "  said re-checked gold assays from the Howard tunnel on its\n",
        "  Congress, British Columbia property yielded higher gold grades\n",
        "  than those reported in January and February.\n",
        "      It sa...\n",
        "\n",
        "FILE:       training/1082\n",
        "CATEGORIES: gold\n",
        "MORE GOLD DETECTED AT DOYON MINE\n",
        "  Lac Minerals Ltd and Cambior Inc said\n",
        "  they completed a second hole at their jointly owned Doyon mine\n",
        "  in Quebec, which showed two significant gold intersections.\n",
        "      One intersection graded 0.33 ounce gold per ...\n",
        "\n",
        "FILE:       training/1072\n",
        "CATEGORIES: gold\n",
        "LAC &lt;LAC> INTERSECTS MORE GOLD AT DOYON MINE\n",
        "  Lac Minerals Ltd and &lt;Cambior Inc> said\n",
        "  they completed a second hole at their jointly owned Doyon mine\n",
        "  in Quebec, which showed two significant gold intersections.\n",
        "      One intersection graded ...\n",
        "\n"
       ]
      }
     ],
     "prompt_number": 77
    },
    {
     "cell_type": "code",
     "collapsed": false,
     "input": [
      "match_terms(\"metal\")"
     ],
     "language": "python",
     "metadata": {},
     "outputs": [
      {
       "output_type": "stream",
       "stream": "stdout",
       "text": [
        "MATCHES FOR 'metal'\n",
        "--------------------------------------------------------------------------------\n",
        "\n",
        "FILE:       training/11751"
       ]
      },
      {
       "output_type": "stream",
       "stream": "stdout",
       "text": [
        "\n",
        "CATEGORIES: acq\n",
        "COMINCO &lt;CLT> SELLS STAKE IN CANADA METAL   Cominco Ltd said it   sold its 50 pct stake in Canada Metal Co Ltd to Canada Metal   senior management for an undisclosed sum.       Cominco said the sale was part of its previously announced   policy of...\n",
        "\n",
        "FILE:       training/3454\n",
        "CATEGORIES: copper, lead, zinc\n",
        "AUSTRALIAN METAL TRADER LINKS TO ASTURIANA DE ZINC   &lt;Metal Traders Australasia Ltd> said a   newly-formed subsidiary, the &lt;Austmet Ltd> group, has   negotiated an exclusive long-term contract with Spain's   &lt;Asturiana de Zinc> to market its...\n",
        "\n",
        "FILE:       training/11935\n",
        "CATEGORIES: lead\n",
        "\n",
        "\n",
        "FILE:       training/11958\n",
        "CATEGORIES: lead\n",
        "\n",
        "\n",
        "FILE:       training/272\n",
        "CATEGORIES: alum\n",
        "NIPPON LIGHT METAL CONTINUES ALUMINIUM OUTPUT CUT   Nippon Light Metal Co Ltd &lt;NLGT.T>, which   has annual capacity of 63,000 tonnes, will continue primary   aluminium production at a rate of 35,000 tonnes owing to low   domestic and world prices ...\n",
        "\n",
        "FILE:       training/10315\n",
        "CATEGORIES: iron-steel\n",
        "TWO JAPANESE STEELMAKERS' CAPITAL SPENDING FALLS   Kawasaki Steel Corp &lt;KAWS.T> said its   parent company's capital spending in the year from April 1 will   fall to 75 billion yen from 110 billion in the current year,   and Sumitomo Metal Industri...\n",
        "\n",
        "FILE:       training/11371\n",
        "CATEGORIES: alum\n",
        "LME LISTS BRAZILIAN ALUMINIUM BRAND   The London Metal Exchange (LME) has   listed the aluminium brand \"CBA' produced by Cia Brasileira de   Aluminio at its Mairinque, Sao Paulo, plant.       The brand will constitute good delivery from April 1, the ...\n",
        "\n",
        "FILE:       training/9059\n",
        "CATEGORIES: acq\n",
        "KIRSCHNER &lt;KMDC> COMPLETES PURCHASE   Kirschner Medical corp said it   completed the acquisition of Minnesota Mining and   Manufacturing's &lt;MMM> orthopedic metal implant line division.       The acquisition price is 12.0 mln dlrs in cash, a six...\n",
        "\n",
        "FILE:       training/9892\n",
        "CATEGORIES: alum\n",
        "ALUMINIUM SCRAP RECOVERY AND USAGE TO RISE   Aluminium scrap recovery and usage and   output of secondary metal will continue to rise, said Shearson   Lehman Brothers in a review of the secondary aluminium market   which details cost and demand facto...\n",
        "\n",
        "FILE:       training/5203\n",
        "CATEGORIES: acq\n",
        "BHP TO MERGE BHP MINERALS AND UTAH INTERNATIONAL   The Broken Hill Pty Co Ltd &lt;BRKN.S>   said it will merge its BHP Minerals division and &lt;Utah   International Inc> into a single business unit under a common   management structure.       The me...\n",
        "\n"
       ]
      }
     ],
     "prompt_number": 65
    },
    {
     "cell_type": "code",
     "collapsed": false,
     "input": [
      "match_url(\"http://en.wikipedia.org/wiki/Gold\")"
     ],
     "language": "python",
     "metadata": {},
     "outputs": [
      {
       "output_type": "stream",
       "stream": "stdout",
       "text": [
        "MATCHES FOR http://en.wikipedia.org/wiki/Gold\n",
        "--------------------------------------------------------------------------------\n",
        "\n",
        "FILE:       training/5388"
       ]
      },
      {
       "output_type": "stream",
       "stream": "stdout",
       "text": [
        "\n",
        "CATEGORIES: cpu\n",
        "CANADA MANUFACTURING UTILIZATION RATE RISES\n",
        "  Utilization of Canadian manufacturing\n",
        "  capacity rose to 77.2 pct in the fourth quarter of 1986 from 77\n",
        "  pct in the third quarter, Statistics Canada said.\n",
        "      \"Although the change was small, this marke...\n",
        "\n",
        "FILE:       training/10827\n",
        "CATEGORIES: gnp\n",
        "CANADA GDP UP 0.1 PCT IN JANUARY\n",
        "  Canada's gross domestic product rose 0.1\n",
        "  pct, seasonally adjusted, in January after gaining 1.0 pct in\n",
        "  December but falling 0.1 pct and 0.3 pct in November and\n",
        "  October, Statistics Canada said.\n",
        "      January's ...\n",
        "\n",
        "FILE:       test/21264\n",
        "CATEGORIES: earn\n",
        "\n",
        "\n",
        "FILE:       training/3577\n",
        "CATEGORIES: sugar\n",
        "AGENCY TO REVIEW JOHNSON/JOHNSON &lt;JNJ> SWEETNER\n",
        "  Johnson and Johnson said the U.S.\n",
        "  Food and Drug Administration has notified the company its food\n",
        "  additive petition for a high-intensity sweetener has been\n",
        "  formally accepted and now will be re...\n",
        "\n",
        "FILE:       training/6764\n",
        "CATEGORIES: interest\n",
        "HOUSE SUBCOMMITTEE VOTES CREDIT CARD RATE CAP\n",
        "  A House Banking subcommittee has\n",
        "  approved legislation to limit the interest rates charged by\n",
        "  banks and other credit card issuers.\n",
        "      The Consumer Affairs and Coinage subcommittee bill would\n",
        "  lim...\n",
        "\n",
        "FILE:       training/1528\n",
        "CATEGORIES: earn\n",
        "ELECTRO-NUCLEONICS INC &lt;ENUC> 2ND QTR DEC 31\n",
        "  Shr loss 1.77 dlrs vs profit 15 cts\n",
        "      Net loss 8,036,000 vs profit 576,000\n",
        "      Sales 16.2 mln vs 17.2 mln\n",
        "      Avg shrs 4,539,437 vs 3,816,580\n",
        "      1st half\n",
        "      Shr loss 1.96 dlrs vs profit ...\n",
        "\n",
        "FILE:       test/18489\n",
        "CATEGORIES: platinum, silver\n",
        "AUSTRALIA TO PRODUCE SILVER AND PLATINUM COINS\n",
        "  The Australian government has given\n",
        "  support in principle to the production of platinum and silver\n",
        "  bullion coins at the Perth Mint, Treasurer Paul Keating said.\n",
        "      This followed the success of th...\n",
        "\n",
        "FILE:       training/346\n",
        "CATEGORIES: strategic-metal\n",
        "EC OPENS ANTI-DUMPING ENQUIRY INTO SOVIET MERCURY\n",
        "  The European Community Commission said\n",
        "  it has opened an enquiry into allegations that the Soviet Union\n",
        "  is dumping mercury on the European market at below-cost prices.\n",
        "      The Commission said i...\n",
        "\n",
        "FILE:       test/16749\n",
        "CATEGORIES: sugar\n",
        "HAITIAN CANE PLANTERS PROTEST SUGAR MILL CLOSURE\n",
        "  About 2,000 sugar cane planters\n",
        "  marched to Port-au-Prince to protest against the closure of\n",
        "  Haiti's largest sugar mill and second biggest employer.\n",
        "      The Haitian American Sugar Company closed...\n",
        "\n",
        "FILE:       training/3440\n",
        "CATEGORIES: ship\n",
        "SEARCH FOR BRITISH FERRY'S TOXIC CARGO CONTINUES\n",
        "  The search continued for a\n",
        "  cargo of poisonous chemical substances loaded on the Herald of\n",
        "  Free Enterprise Ferry which capsized in Zeebrugge harbour\n",
        "  Friday.\n",
        "      A total of 72 drums of various ...\n",
        "\n"
       ]
      }
     ],
     "prompt_number": 78
    },
    {
     "cell_type": "code",
     "collapsed": false,
     "input": [
      "match_text(\"\"\"Gold is a chemical element with the symbol Au and atomic number 79. It is a dense, soft, malleable and ductile metal with a bright yellow color and luster, the properties of which remain without tarnishing when exposed to air or water. Chemically, gold is a transition metal and a group 11 element. It is one of the least reactive chemical elements, and is solid under standard conditions. The metal therefore occurs often in free elemental (native) form, as nuggets or grains, in rocks, in veins and in alluvial deposits. Less commonly, it occurs in minerals as gold compounds, such as with tellurium as calaverite, sylvanite, or krennerite.\"\"\")"
     ],
     "language": "python",
     "metadata": {},
     "outputs": [
      {
       "output_type": "stream",
       "stream": "stdout",
       "text": [
        "MATCHES FOR 'Gold is a chemical element with the symbol Au and ...'\n",
        "--------------------------------------------------------------------------------\n",
        "\n",
        "FILE:       test/18489"
       ]
      },
      {
       "output_type": "stream",
       "stream": "stdout",
       "text": [
        "\n",
        "CATEGORIES: platinum, silver\n",
        "AUSTRALIA TO PRODUCE SILVER AND PLATINUM COINS\n",
        "  The Australian government has given\n",
        "  support in principle to the production of platinum and silver\n",
        "  bullion coins at the Perth Mint, Treasurer Paul Keating said.\n",
        "      This followed the success of th...\n",
        "\n",
        "FILE:       test/19152\n",
        "CATEGORIES: acq, gold\n",
        "TOTAL ERICKSON &lt;TLE.T> BUYS MINING PROPERTY\n",
        "  Total Erickson Resources Ltd and\n",
        "  Consolidated Silver Standard Mines Ltd &lt;CDS.V> said that Total\n",
        "  Erickson has purchased all Consolidated's interests in its Dome\n",
        "  Mountain property for 60,000 Tot...\n",
        "\n",
        "FILE:       training/1570\n",
        "CATEGORIES: grain, wheat\n",
        "FROST NOT EXPECTED TO DAMAGE POLAND'S WHEAT\n",
        "  Poland's winter wheat is likely to\n",
        "  survive recent frosts but the impact of the cold will not be\n",
        "  known until late April, the Polish meteorology institute said.\n",
        "      Some varieties of winter wheat sown...\n",
        "\n",
        "FILE:       test/16749\n",
        "CATEGORIES: sugar\n",
        "HAITIAN CANE PLANTERS PROTEST SUGAR MILL CLOSURE\n",
        "  About 2,000 sugar cane planters\n",
        "  marched to Port-au-Prince to protest against the closure of\n",
        "  Haiti's largest sugar mill and second biggest employer.\n",
        "      The Haitian American Sugar Company closed...\n",
        "\n",
        "FILE:       test/17457\n",
        "CATEGORIES: gold\n",
        "RENISON GC AND CITY RESOURCES SET PNG GOLD VENTURE\n",
        "  Renison Goldfields Consolidated Ltd\n",
        "  &lt;RGFJ.S> (RGC) and explorer &lt;City Resources Ltd> have agreed in\n",
        "  principle on a joint venture to re-examine the Bulolo alluvial\n",
        "  gold field in Papua Ne...\n",
        "\n",
        "FILE:       test/21178\n",
        "CATEGORIES: earn\n",
        "DENSE-PAC MICROSYSTEMS INC &lt;DPAC.O> 2ND QTR\n",
        "  Period ended August 29.\n",
        "      Shr profit one ct vs loss one ct\n",
        "      Net profit 128,112 vs loss 30,170\n",
        "      Sales 1,620,707 vs 1,325,406\n",
        "      Avg shrs 9,306,031 vs 3,499,219\n",
        "      Six Mths\n",
        "      Shr ...\n",
        "\n",
        "FILE:       test/20787\n",
        "CATEGORIES: trade\n",
        "U.S. MAY END ADDITIONAL SANCTIONS AGAINST JAPAN\n",
        "  The United States may lift an\n",
        "  additional 84 mln dlrs in trade sanctions against Japan later\n",
        "  this month, Reagan Administration officials said.\n",
        "      President Reagan imposed 300 mln dlrs in sanctio...\n",
        "\n",
        "FILE:       training/8815\n",
        "CATEGORIES: crude, nat-gas\n",
        "U.S. COURT ALLOWS OFFSHORE ALASKAN EXPLORATION\n",
        "  A unanimous Supreme Court ruled that\n",
        "  oil and gas exploration can proceed on two tracts off the\n",
        "  Alaska coast which were leased by the federal government to\n",
        "  eight major oil companies.\n",
        "      The rul...\n",
        "\n",
        "FILE:       training/12376\n",
        "CATEGORIES: carcass, livestock\n",
        "EXOTIC NEWCASTLE DISEASE IN MD/NEW YORK-USDA\n",
        "  Exotic Newcastle, a highly contagious\n",
        "  disease of pet birds and poultry, has been confirmed in two\n",
        "  pet-bird dealer facilities in Maryland, and New York, the U.S.\n",
        "  Agriculture Department said.\n",
        "      T...\n",
        "\n",
        "FILE:       training/9204\n",
        "CATEGORIES: pet-chem\n",
        "CIBA-GEIGY, PHILLIPS PETROLEUM IN JOINT VENTURE\n",
        "  Ciba-Geigy AG &lt;CIGZ.Z> said it would\n",
        "  establish a joint venture with Phillips Petroleum Co. In Europe\n",
        "  to manufacture a high performance engineering thermoplastic.\n",
        "      Initially, the Swiss chem...\n",
        "\n"
       ]
      }
     ],
     "prompt_number": 79
    },
    {
     "cell_type": "code",
     "collapsed": false,
     "input": [],
     "language": "python",
     "metadata": {},
     "outputs": []
    }
   ],
   "metadata": {}
  }
 ]
}