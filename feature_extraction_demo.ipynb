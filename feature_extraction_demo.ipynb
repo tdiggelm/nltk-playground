{
 "metadata": {
  "name": "",
  "signature": "sha256:6db94dae6ec804f63482d8de630bbfd4417865aa35516225937fd07f9ec44876"
 },
 "nbformat": 3,
 "nbformat_minor": 0,
 "worksheets": [
  {
   "cells": [
    {
     "cell_type": "code",
     "collapsed": false,
     "input": [
      "from nathan.feature_extraction import *\n",
      "from gensim.matutils import Scipy2Corpus, scipy2sparse\n",
      "from gensim.similarities import MatrixSimilarity, Similarity\n",
      "from gensim.corpora import MmCorpus"
     ],
     "language": "python",
     "metadata": {},
     "outputs": [],
     "prompt_number": 1
    },
    {
     "cell_type": "code",
     "collapsed": false,
     "input": [
      "from IPython.display import clear_output\n",
      "from sys import stdout\n",
      "def progress_map(function, iterable, num=None, step=10):\n",
      "    if num is None:\n",
      "        num = len(iterable)\n",
      "    for index, item in enumerate(iterable):\n",
      "        if index % step == 0:\n",
      "            clear_output(wait=True)\n",
      "            stdout.write(\"[\" + \"#\" * int(index/num*10) + \" \" * int((num-index)/num*10) + \"] \")\n",
      "            stdout.write(\"processing: %s of %s...\\n\" % (index, num))\n",
      "            stdout.flush()\n",
      "        yield function(item)\n",
      "    clear_output(wait=True)"
     ],
     "language": "python",
     "metadata": {},
     "outputs": [],
     "prompt_number": 2
    },
    {
     "cell_type": "code",
     "collapsed": false,
     "input": [
      "import logging\n",
      "logging.basicConfig(format='%(asctime)s : %(levelname)s : %(message)s', level=logging.INFO)"
     ],
     "language": "python",
     "metadata": {},
     "outputs": [],
     "prompt_number": 3
    },
    {
     "cell_type": "markdown",
     "metadata": {},
     "source": [
      "# TODO\n",
      "* create 3 corpora/simmats: words, categories, files\n",
      "* create class that handles the above, with possibility to save/restore content\n",
      "* create mini app: text-box for search terms, drop-down for \"terms\", \"tags\", \"document\", drop-down for \"categories\", \"files\", \"terms\""
     ]
    },
    {
     "cell_type": "code",
     "collapsed": false,
     "input": [
      "model = NathanModel(\"./reuters-cf.hnn\")"
     ],
     "language": "python",
     "metadata": {},
     "outputs": [],
     "prompt_number": 14
    },
    {
     "cell_type": "code",
     "collapsed": false,
     "input": [
      "tags = list(model.tags(\"cat:*\"))"
     ],
     "language": "python",
     "metadata": {},
     "outputs": [],
     "prompt_number": 57
    },
    {
     "cell_type": "code",
     "collapsed": false,
     "input": [
      "tags_corpus = Scipy2Corpus([model.transform_tags(tag) for tag in tags])"
     ],
     "language": "python",
     "metadata": {},
     "outputs": [],
     "prompt_number": 100
    },
    {
     "cell_type": "code",
     "collapsed": false,
     "input": [
      "tags_index = MatrixSimilarity(corpus, num_features=model.num_features())"
     ],
     "language": "python",
     "metadata": {},
     "outputs": [],
     "prompt_number": 101
    },
    {
     "cell_type": "code",
     "collapsed": false,
     "input": [
      "def match_categories(vector, topn=10):\n",
      "    sims = tags_index[scipy2sparse(vector)]\n",
      "    return sorted(list(zip(tags, sims)),key=lambda x: x[1], reverse=True)[:topn]"
     ],
     "language": "python",
     "metadata": {},
     "outputs": [],
     "prompt_number": 102
    },
    {
     "cell_type": "code",
     "collapsed": false,
     "input": [
      "import pickle\n",
      "class Matcher:\n",
      "    def __init__(self, model, index, items):\n",
      "        self.model = model\n",
      "        self.index = index\n",
      "        self.items = items\n",
      "        \n",
      "    def _match(self, vector, topn=10):\n",
      "        sims = self.index[scipy2sparse(vector)]\n",
      "        return sorted(list(zip(self.items, sims)),key=lambda x: x[1], reverse=True)[:topn]\n",
      "    \n",
      "    def match_tags(self, *tags, **kwargs):\n",
      "        return self._match(model.transform_tags(*tags), **kwargs)\n",
      "    \n",
      "    def match_words(self, *words, **kwargs):\n",
      "        return self._match(model.transform_words(*words), **kwargs)\n",
      "    \n",
      "    def match_document(self, doc, **kwargs):\n",
      "        return self._match(model.transform_document(doc), **kwargs)\n",
      "    \n",
      "    def _setup(self, prefix, model, items, function):\n",
      "        items = list(items)\n",
      "        corpus = Scipy2Corpus(progress_map(function, items))\n",
      "        index = Similarity(prefix, corpus, num_features=model.num_features())\n",
      "        self.model = model\n",
      "        self.index = index\n",
      "        self.items = items\n",
      "        self.prefix = prefix\n",
      "        \n",
      "    def save(self, prefix=None):\n",
      "        if prefix is None:\n",
      "            prefix = self.prefix\n",
      "        index.save('%s.index' % prefix)\n",
      "        with open('%s.dict' % prefix, 'wb') as f:\n",
      "            pickle.dump(items, f)\n",
      "    \n",
      "    @staticmethod\n",
      "    def load(prefix, model):\n",
      "        index = Similarity.load('%s.index' % prefix)\n",
      "        with open('%s.dict' % prefix, 'rb') as f:\n",
      "            items = pickle.load(f)\n",
      "        return Matcher(model, index, items) \n",
      "    \n",
      "class TagMatcher(Matcher):\n",
      "    def __init__(self, prefix, model, tags=None, *args, **kwargs):\n",
      "        if isinstance(tags, str):\n",
      "            tags = list(model.tags(tags, *args, **kwargs))\n",
      "        self._setup(prefix, model, tags, model.transform_tags)\n",
      "        \n",
      "class WordMatcher(Matcher):\n",
      "    def __init__(self, prefix, model, words=None, *args, **kwargs):\n",
      "        if isinstance(words, str):\n",
      "            words = list(model.tags(words, *args, **kwargs))\n",
      "        self._setup(prefix, model, words, model.transform_words)\n",
      "        "
     ],
     "language": "python",
     "metadata": {},
     "outputs": [],
     "prompt_number": 99
    },
    {
     "cell_type": "code",
     "collapsed": false,
     "input": [
      "matcher = TagMatcher(\"categories\", model, \"cat:*\", limit=5)\n",
      "matcher.match_tags(\"cat:gold\")"
     ],
     "language": "python",
     "metadata": {},
     "outputs": [
      {
       "metadata": {},
       "output_type": "pyout",
       "prompt_number": 100,
       "text": [
        "[('cat:grain', 0.0083346628),\n",
        " ('cat:tin', 0.0028341673),\n",
        " ('cat:trade', 0.0018231794),\n",
        " ('cat:tea', 0.00055677653),\n",
        " ('cat:groundnut', 0.00026031581)]"
       ]
      }
     ],
     "prompt_number": 100
    },
    {
     "cell_type": "code",
     "collapsed": false,
     "input": [
      "m2 = Matcher.load(\"words\", model)\n",
      "m2.match_tags(\"cat:gold\")"
     ],
     "language": "python",
     "metadata": {},
     "outputs": [
      {
       "metadata": {},
       "output_type": "pyout",
       "prompt_number": 90,
       "text": [
        "[('gold', 0.48531264),\n",
        " ('ton', 0.34072697),\n",
        " ('ounce', 0.27325642),\n",
        " ('ounces', 0.25282758),\n",
        " ('mine', 0.24779655),\n",
        " ('assays', 0.23391056),\n",
        " ('grading', 0.2263993),\n",
        " ('assay', 0.21157673),\n",
        " ('width', 0.2062549),\n",
        " ('hole', 0.20271613)]"
       ]
      }
     ],
     "prompt_number": 90
    },
    {
     "cell_type": "code",
     "collapsed": false,
     "input": [
      "words = list(model.words())\n",
      "try:\n",
      "    words_index = Similarity.load(\"words.index\")\n",
      "except:\n",
      "    words_corpus = Scipy2Corpus(progress_map(model.transform_words, words))\n",
      "    words_index = Similarity(\"words_index\", words_corpus, num_features=model.num_features())\n",
      "    words_index.save('words.index')"
     ],
     "language": "python",
     "metadata": {},
     "outputs": [],
     "prompt_number": 5
    },
    {
     "cell_type": "code",
     "collapsed": false,
     "input": [
      "docs = list(model.tags(\"doc:*\"))\n",
      "try:\n",
      "    docs_index = Similarity.load(\"docs.index\")\n",
      "except:\n",
      "    docs_corpus = Scipy2Corpus(progress_map(model.transform_tags, docs))\n",
      "    docs_index = Similarity(\"docs_index\", docs_corpus, num_features=model.num_features())\n",
      "    docs_index.save('docs.index')"
     ],
     "language": "python",
     "metadata": {},
     "outputs": [
      {
       "output_type": "stream",
       "stream": "stdout",
       "text": [
        "[#########] processing: 10780 of 10788...\n"
       ]
      }
     ],
     "prompt_number": 17
    },
    {
     "cell_type": "code",
     "collapsed": false,
     "input": [
      "def match(index, id2word, vector, topn=10):\n",
      "    sims = index[scipy2sparse(vector)]\n",
      "    return sorted(list(zip(id2word, sims)),key=lambda x: x[1], reverse=True)[:topn]"
     ],
     "language": "python",
     "metadata": {},
     "outputs": [],
     "prompt_number": 6
    },
    {
     "cell_type": "code",
     "collapsed": false,
     "input": [
      "match(words_index, words, model.transform_tags(\"cat:gold\",\"cat:copper\"))"
     ],
     "language": "python",
     "metadata": {},
     "outputs": [
      {
       "metadata": {},
       "output_type": "pyout",
       "prompt_number": 12,
       "text": [
        "[('copper', 0.36508036),\n",
        " ('gold', 0.34634101),\n",
        " ('ton', 0.29887879),\n",
        " ('mine', 0.25178397),\n",
        " ('ounce', 0.1908336),\n",
        " ('ounces', 0.18824695),\n",
        " ('myra', 0.1801019),\n",
        " ('platinum', 0.17635086),\n",
        " ('hole', 0.16369136),\n",
        " ('assays', 0.16321149)]"
       ]
      }
     ],
     "prompt_number": 12
    },
    {
     "cell_type": "code",
     "collapsed": false,
     "input": [
      "from nltk.corpus import reuters\n",
      "def print_doc_matches(matches):\n",
      "    for fileid, score in matches:\n",
      "        fileid = fileid[4:]\n",
      "        categories = reuters.categories(fileid)\n",
      "        text = reuters.raw(fileid)\n",
      "        print(\"FILE:       %s\" % fileid)\n",
      "        print(\"SCORE:      %0.2f\" % score)\n",
      "        print(\"CATEGORIES: %s\" % \", \".join(categories))\n",
      "        print(text[:250] + \"...\" if len(text) > 250 else \"\")\n",
      "        print()\n",
      "\n",
      "print_doc_matches(match(docs_index, docs, model.transform_words(\"gold\")))"
     ],
     "language": "python",
     "metadata": {},
     "outputs": [
      {
       "output_type": "stream",
       "stream": "stdout",
       "text": [
        "FILE:       test/19802\n",
        "SCORE:      0.53\n",
        "CATEGORIES: gold\n",
        "GUNNAR GOLD (GGG.TO) IN VENTURE AGREEMENT\n",
        "  Gunnar Gold Inc said it and Mill City\n",
        "  Gold Inc signed an option and joint venture agreement with\n",
        "  Tyranex Gold Inc on the Tyranite gold property in Ontario.\n",
        "      Gunnar said it and Mill City can earn a ...\n",
        "\n",
        "FILE:       test/19808\n",
        "SCORE:      0.52\n",
        "CATEGORIES: gold\n",
        "GUNNAR GOLD IN VENTURE AGREEMENT\n",
        "  Gunnar Gold Inc said it and Mill City\n",
        "  Gold Inc signed an option and joint venture agreement with\n",
        "  Tyranex Gold Inc on the Tyranite gold property in Ontario.\n",
        "      Gunnar said it and Mill City can earn a 50 pct in...\n",
        "\n",
        "FILE:       training/13900\n",
        "SCORE:      0.35\n",
        "CATEGORIES: earn\n",
        "GOLD FIELDS OF S. AFRICA PROFIT FALLS IN QUARTER\n",
        "  1ST QTR TO MARCH 31\n",
        "      Working profit 487.50 mln rand vs 559.59 mln\n",
        "      Tax 274.28 mln vs 302.15 mln\n",
        "      Net 264.32 mln vs 300.99 mln\n",
        "      Tonnes milled 3.74 mln vs 3.72 mln\n",
        "      Gold produc...\n",
        "\n",
        "FILE:       training/11638"
       ]
      },
      {
       "output_type": "stream",
       "stream": "stdout",
       "text": [
        "\n",
        "SCORE:      0.25\n",
        "CATEGORIES: gold\n",
        "ECHO BAY &lt;ECO> HAS NEVADA GOLD DISCOVERY\n",
        "  Echo Bay Mines Ltd said it\n",
        "  discovered a gold deposit in the Cove area near its McCoy gold\n",
        "  mine in Nevada.\n",
        "      Echo Bay said it encountered gold in 39 of 42 drill holes\n",
        "  at Cove. It said seven holes...\n",
        "\n",
        "FILE:       training/11627\n",
        "SCORE:      0.23\n",
        "CATEGORIES: gold\n",
        "ECHO BAY HAS NEVADA GOLD DISCOVERY\n",
        "  Echo Bay Mines Ltd said it\n",
        "  discovered a gold deposit in the Cove area near its McCoy gold\n",
        "  mine in Nevada.\n",
        "      Echo Bay said it encountered gold in 39 of 42 drill holes\n",
        "  at Cove. It said seven holes averaged...\n",
        "\n",
        "FILE:       test/19764\n",
        "SCORE:      0.20\n",
        "CATEGORIES: gold, lead, silver, zinc\n",
        "U.S. MINERALS &lt;USMX.O> COMMISSIONS NEW GOLD MINE\n",
        "  U.S. Minerals Exploration Co said it and\n",
        "  Pegasus Gold Inc &lt;PGUL.O> of Spokane, Wash, officially\n",
        "  commissioned a new gold, zinc and lead producing mine.\n",
        "      U.S. Minerals said the new Monta...\n",
        "\n",
        "FILE:       training/5526\n",
        "SCORE:      0.18\n",
        "CATEGORIES: gold\n",
        "LEVON RESOURCES &lt;LVNVF> GOLD ASSAYS IMPROVED\n",
        "  Levon Resources Ltd\n",
        "  said re-checked gold assays from the Howard tunnel on its\n",
        "  Congress, British Columbia property yielded higher gold grades\n",
        "  than those reported in January and February.\n",
        "      It...\n",
        "\n",
        "FILE:       training/5564\n",
        "SCORE:      0.17\n",
        "CATEGORIES: gold\n",
        "LEVON RESOURCES REPORTS IMPROVED GOLD ASSAYS\n",
        "  Levon Resources Ltd\n",
        "  said re-checked gold assays from the Howard tunnel on its\n",
        "  Congress, British Columbia property yielded higher gold grades\n",
        "  than those reported in January and February.\n",
        "      It sa...\n",
        "\n",
        "FILE:       training/1082\n",
        "SCORE:      0.15\n",
        "CATEGORIES: gold\n",
        "MORE GOLD DETECTED AT DOYON MINE\n",
        "  Lac Minerals Ltd and Cambior Inc said\n",
        "  they completed a second hole at their jointly owned Doyon mine\n",
        "  in Quebec, which showed two significant gold intersections.\n",
        "      One intersection graded 0.33 ounce gold per ...\n",
        "\n",
        "FILE:       training/1072\n",
        "SCORE:      0.14\n",
        "CATEGORIES: gold\n",
        "LAC &lt;LAC> INTERSECTS MORE GOLD AT DOYON MINE\n",
        "  Lac Minerals Ltd and &lt;Cambior Inc> said\n",
        "  they completed a second hole at their jointly owned Doyon mine\n",
        "  in Quebec, which showed two significant gold intersections.\n",
        "      One intersection graded ...\n",
        "\n"
       ]
      }
     ],
     "prompt_number": 24
    },
    {
     "cell_type": "code",
     "collapsed": false,
     "input": [
      "print_doc_matches(match(docs_index, docs, model.transform_document(\"http://en.wikipedia.org/wiki/Exxon\")))"
     ],
     "language": "python",
     "metadata": {},
     "outputs": [
      {
       "output_type": "stream",
       "stream": "stdout",
       "text": [
        "FILE:       training/2490\n",
        "SCORE:      0.31\n",
        "CATEGORIES: earn\n",
        "\n",
        "\n",
        "FILE:       training/2492\n",
        "SCORE:      0.30\n",
        "CATEGORIES: earn\n",
        "SPAR SEES SEES STRONG FIVE-YEAR GROWTH\n",
        "  &lt;Spar Aerospace Ltd>, reporting a\n",
        "  sharply lower 1986 profit, said it anticipated solid profit and\n",
        "  revenue growth during the next five years.\n",
        "      \"Looking to the longer term, Spar is confident that its...\n",
        "\n",
        "FILE:       training/1835\n",
        "SCORE:      0.20\n",
        "CATEGORIES: acq\n",
        "ROBERTSON UPS CAPITAL WIRE&lt;CWCC> STAKE TO 12 PCT\n",
        "  New York investor Julian Robertson\n",
        "  and several investment partnerships he controls said they\n",
        "  raised their stake in Capital Wire and Cable Corp to 481,800\n",
        "  shares, or 12.2 pct of the total, fr...\n",
        "\n",
        "FILE:       training/6886\n",
        "SCORE:      0.19\n",
        "CATEGORIES: acq\n",
        "GREYHOUND CORP &lt;G> COMPLETES BUS LINE SALE\n",
        "  Greyhound corp said it completed\n",
        "  the sale of its Greyhound Lines unit to Dallas-based GLI\n",
        "  Holdings Inc for 350 mln dlrs in cash, securities, royalties\n",
        "  and other considerations.\n",
        "      Greyhound sai...\n",
        "\n",
        "FILE:       training/679\n",
        "SCORE:      0.17\n",
        "CATEGORIES: acq\n",
        "&lt;PANTRY INC> INB TALKS ON BEING ACQUIRED\n",
        "  Privately-held Pantry Inc, which\n",
        "  operates 477 convenience stores in five Southeastern states,\n",
        "  said it has engaged Alex. Brown and Sons Inc &lt;ABSB> to explore\n",
        "  a possbile sale of the company.\n",
        "      ...\n",
        "\n",
        "FILE:       training/2173\n",
        "SCORE:      0.11\n",
        "CATEGORIES: earn\n",
        "NATIONAL CONVENIENCE &lt;NCS> TO HAVE 3RD QTR LOSS\n",
        "  National Convenience Stores Inc said it\n",
        "  expects to report a loss for the third quarter ending March 31\n",
        "  due to continued poor sales in Texas, especially in Houston.\n",
        "      In last year's third qu...\n",
        "\n",
        "FILE:       test/18476"
       ]
      },
      {
       "output_type": "stream",
       "stream": "stdout",
       "text": [
        "\n",
        "SCORE:      0.11\n",
        "CATEGORIES: acq\n",
        "\n",
        "\n",
        "FILE:       test/18479\n",
        "SCORE:      0.10\n",
        "CATEGORIES: acq\n",
        "DAIRY FARM BIDS 146.6 MLN STG FOR 22 PCT KWIK SAVE\n",
        "  &lt;Dairy Farm International Holdings\n",
        "  Ltd> said in a statement it is making a tender offer for 22 pct\n",
        "  of Kwik Save Discount Group Plc &lt;KWIK.L> of Britain for a total\n",
        "  146.6 mln stg.\n",
        "      D...\n",
        "\n",
        "FILE:       training/1619\n",
        "SCORE:      0.10\n",
        "CATEGORIES: nat-gas\n",
        "STANDARD OIL &lt;SRD> IN TEXAS NATURAL GAS FIND\n",
        "  Standard Oil Co said the Friendswood\n",
        "  Development Number One well in the Fostoria or Deep Wilcox\n",
        "  Field of Montgomery County, Texas, flowed 4,500,000 cubic feet\n",
        "  of natural gas per day from depths ...\n",
        "\n",
        "FILE:       test/16077"
       ]
      },
      {
       "output_type": "stream",
       "stream": "stdout",
       "text": [
        "\n",
        "SCORE:      0.08\n",
        "CATEGORIES: crude\n",
        "ECUADOR CRUDE OIL OUTPUT TO RESUME NEXT MONTH\n",
        "  Ecuador is due to resume limited crude oil\n",
        "  output on May 8 when a new 43 km pipeline to neighbouring\n",
        "  Colombia should be finished, an energy ministry spokesman said.\n",
        "      Oil output was halted on Ma...\n",
        "\n"
       ]
      }
     ],
     "prompt_number": 27
    },
    {
     "cell_type": "code",
     "collapsed": false,
     "input": [
      "match_categories(model.transform_words(\"gold\"))"
     ],
     "language": "python",
     "metadata": {},
     "outputs": [
      {
       "metadata": {},
       "output_type": "pyout",
       "prompt_number": 103,
       "text": [
        "[('cat:gold', 0.48543185),\n",
        " ('cat:silver', 0.16076617),\n",
        " ('cat:lead', 0.0653385),\n",
        " ('cat:zinc', 0.063458711),\n",
        " ('cat:platinum', 0.048324235),\n",
        " ('cat:strategic-metal', 0.02565611),\n",
        " ('cat:copper', 0.022982409),\n",
        " ('cat:palladium', 0.01983449),\n",
        " ('cat:acq', 0.018423397),\n",
        " ('cat:earn', 0.017313655)]"
       ]
      }
     ],
     "prompt_number": 103
    },
    {
     "cell_type": "code",
     "collapsed": false,
     "input": [
      "match_categories(model.transform_words(\"silver\"))"
     ],
     "language": "python",
     "metadata": {},
     "outputs": [
      {
       "metadata": {},
       "output_type": "pyout",
       "prompt_number": 65,
       "text": [
        "[('cat:silver', 0.47485849),\n",
        " ('cat:gold', 0.17068842),\n",
        " ('cat:zinc', 0.083003998),\n",
        " ('cat:lead', 0.081019141),\n",
        " ('cat:strategic-metal', 0.045570955),\n",
        " ('cat:copper', 0.035300273),\n",
        " ('cat:platinum', 0.010935821),\n",
        " ('cat:acq', 0.0090296082),\n",
        " ('cat:yen', 0.0055283601),\n",
        " ('cat:earn', 0.0051010093)]"
       ]
      }
     ],
     "prompt_number": 65
    },
    {
     "cell_type": "code",
     "collapsed": false,
     "input": [
      "match_categories(model.transform_words(\"oil\"))"
     ],
     "language": "python",
     "metadata": {},
     "outputs": [
      {
       "metadata": {},
       "output_type": "pyout",
       "prompt_number": 66,
       "text": [
        "[('cat:crude', 0.38792109),\n",
        " ('cat:nat-gas', 0.19191121),\n",
        " ('cat:veg-oil', 0.12582143),\n",
        " ('cat:palm-oil', 0.12571952),\n",
        " ('cat:heat', 0.10319392),\n",
        " ('cat:castor-oil', 0.078793652),\n",
        " ('cat:ship', 0.061252948),\n",
        " ('cat:naphtha', 0.060837615),\n",
        " ('cat:fuel', 0.059625465),\n",
        " ('cat:sun-oil', 0.051813483)]"
       ]
      }
     ],
     "prompt_number": 66
    },
    {
     "cell_type": "code",
     "collapsed": false,
     "input": [
      "match_categories(model.transform_document(\"www.ai-one.com\"))"
     ],
     "language": "python",
     "metadata": {},
     "outputs": [
      {
       "metadata": {},
       "output_type": "pyout",
       "prompt_number": 67,
       "text": [
        "[('cat:earn', 0.02761782),\n",
        " ('cat:fuel', 0.026507385),\n",
        " ('cat:acq', 0.023962541),\n",
        " ('cat:interest', 0.022536499),\n",
        " ('cat:money-fx', 0.018526217),\n",
        " ('cat:trade', 0.016187232),\n",
        " ('cat:livestock', 0.011589511),\n",
        " ('cat:gold', 0.011460977),\n",
        " ('cat:grain', 0.010338342),\n",
        " ('cat:crude', 0.0098693296)]"
       ]
      }
     ],
     "prompt_number": 67
    },
    {
     "cell_type": "code",
     "collapsed": false,
     "input": [
      "match_categories(model.transform_document(\"http://en.wikipedia.org/wiki/Gold\"))"
     ],
     "language": "python",
     "metadata": {},
     "outputs": [
      {
       "metadata": {},
       "output_type": "pyout",
       "prompt_number": 68,
       "text": [
        "[('cat:cpu', 0.094282493),\n",
        " ('cat:gold', 0.058075819),\n",
        " ('cat:palladium', 0.057740778),\n",
        " ('cat:platinum', 0.0528666),\n",
        " ('cat:silver', 0.035564471),\n",
        " ('cat:pet-chem', 0.031939033),\n",
        " ('cat:acq', 0.028731138),\n",
        " ('cat:strategic-metal', 0.027979756),\n",
        " ('cat:nickel', 0.02683121),\n",
        " ('cat:earn', 0.026633147)]"
       ]
      }
     ],
     "prompt_number": 68
    },
    {
     "cell_type": "code",
     "collapsed": false,
     "input": [
      "match_categories(model.transform_document(\"http://en.wikipedia.org/wiki/Silver\"))"
     ],
     "language": "python",
     "metadata": {},
     "outputs": [
      {
       "metadata": {},
       "output_type": "pyout",
       "prompt_number": 57,
       "text": [
        "[('cat:silver', 0.085925922),\n",
        " ('cat:gold', 0.05229824),\n",
        " ('cat:pet-chem', 0.045981113),\n",
        " ('cat:strategic-metal', 0.044819277),\n",
        " ('cat:palladium', 0.040165499),\n",
        " ('cat:zinc', 0.036112353),\n",
        " ('cat:platinum', 0.032276012),\n",
        " ('cat:copper', 0.027986165),\n",
        " ('cat:earn', 0.024882168),\n",
        " ('cat:acq', 0.023769435)]"
       ]
      }
     ],
     "prompt_number": 57
    },
    {
     "cell_type": "code",
     "collapsed": false,
     "input": [
      "match_categories(model.transform_document(\"http://en.wikipedia.org/wiki/Exxon\"))"
     ],
     "language": "python",
     "metadata": {},
     "outputs": [
      {
       "metadata": {},
       "output_type": "pyout",
       "prompt_number": 58,
       "text": [
        "[('cat:acq', 0.028629668),\n",
        " ('cat:earn', 0.019282075),\n",
        " ('cat:nat-gas', 0.01786275),\n",
        " ('cat:crude', 0.01396659),\n",
        " ('cat:sugar', 0.0096059842),\n",
        " ('cat:gas', 0.0076151756),\n",
        " ('cat:wheat', 0.0063282307),\n",
        " ('cat:fuel', 0.0056395512),\n",
        " ('cat:alum', 0.0053217313),\n",
        " ('cat:grain', 0.0053205043)]"
       ]
      }
     ],
     "prompt_number": 58
    },
    {
     "cell_type": "code",
     "collapsed": false,
     "input": [
      "match_categories(model.transform_document(\"http://en.wikipedia.org/wiki/Gazprom\"))"
     ],
     "language": "python",
     "metadata": {},
     "outputs": [
      {
       "metadata": {},
       "output_type": "pyout",
       "prompt_number": 71,
       "text": [
        "[('cat:ipi', 0.082628377),\n",
        " ('cat:nat-gas', 0.040738739),\n",
        " ('cat:crude', 0.034386523),\n",
        " ('cat:grain', 0.020760188),\n",
        " ('cat:tea', 0.020479837),\n",
        " ('cat:platinum', 0.0183871),\n",
        " ('cat:acq', 0.015861347),\n",
        " ('cat:earn', 0.011002536),\n",
        " ('cat:orange', 0.010581397),\n",
        " ('cat:ship', 0.010364946)]"
       ]
      }
     ],
     "prompt_number": 71
    },
    {
     "cell_type": "code",
     "collapsed": false,
     "input": [
      "match_categories(model.transform_document(\"http://en.wikipedia.org/wiki/Maize\"))"
     ],
     "language": "python",
     "metadata": {},
     "outputs": [
      {
       "metadata": {},
       "output_type": "pyout",
       "prompt_number": 72,
       "text": [
        "[('cat:grain', 0.063472241),\n",
        " ('cat:corn', 0.053376842),\n",
        " ('cat:sugar', 0.035971113),\n",
        " ('cat:wheat', 0.035923228),\n",
        " ('cat:livestock', 0.035258934),\n",
        " ('cat:rice', 0.035108242),\n",
        " ('cat:carcass', 0.032798246),\n",
        " ('cat:soybean', 0.030433707),\n",
        " ('cat:oilseed', 0.030061932),\n",
        " ('cat:earn', 0.027669365)]"
       ]
      }
     ],
     "prompt_number": 72
    },
    {
     "cell_type": "code",
     "collapsed": false,
     "input": [
      "import gensim\n",
      "id2word = dict(item for item in enumerate(model._vocabulary._vocab))\n",
      "lda = gensim.models.LdaModel(corpus, num_topics=10, id2word=id2word)"
     ],
     "language": "python",
     "metadata": {},
     "outputs": [
      {
       "output_type": "stream",
       "stream": "stderr",
       "text": [
        "WARNING:gensim.models.ldamodel:too few updates, training might not converge; consider increasing the number of passes or iterations to improve accuracy\n"
       ]
      }
     ],
     "prompt_number": 98
    },
    {
     "cell_type": "code",
     "collapsed": false,
     "input": [
      "lda.print_topics()"
     ],
     "language": "python",
     "metadata": {},
     "outputs": [
      {
       "metadata": {},
       "output_type": "pyout",
       "prompt_number": 99,
       "text": [
        "['0.000*weightings + 0.000*input + 0.000*completions + 0.000*romero + 0.000*aflatoxin + 0.000*ppi + 0.000*pca + 0.000*mikulic + 0.000*countertrade + 0.000*feedlot',\n",
        " '0.000*wk + 0.000*lpg + 0.000*aflatoxin + 0.000*copra + 0.000*castorseed + 0.000*tracomin + 0.000*expd + 0.000*ay + 0.000*propane + 0.000*usdaprj',\n",
        " '0.000*grantors + 0.000*instalment + 0.000*sww + 0.000*talyzin + 0.000*locals + 0.000*trail + 0.000*padding + 0.000*stockton + 0.000*fodder + 0.000*cinci',\n",
        " '0.000*mielke + 0.000*nondurable + 0.000*metallic + 0.000*mikulic + 0.000*durables + 0.000*dyke + 0.000*greenbaum + 0.000*boltz + 0.000*fabricated + 0.000*durable',\n",
        " '0.000*potato + 0.000*pmb + 0.000*cholesterol + 0.000*balletto + 0.000*mielke + 0.000*lpfa + 0.000*aflatoxin + 0.000*potatoes + 0.000*beetle + 0.000*beetles',\n",
        " '0.000*mielke + 0.000*sunoil + 0.000*jul + 0.000*linoil + 0.000*pollard + 0.000*coincident + 0.000*prev + 0.000*wk + 0.000*ay + 0.000*expd',\n",
        " '0.000*wereng + 0.000*wk + 0.000*kero + 0.000*expd + 0.000*usdaprj + 0.000*ay + 0.000*leutwiler + 0.000*prev + 0.000*avgprice + 0.000*gr',\n",
        " '0.000*expellers + 0.000*pollard + 0.000*pellets + 0.000*soyabeans + 0.000*fishoil + 0.000*soyabean + 0.000*fat + 0.000*wk + 0.000*cake + 0.000*usdaprj',\n",
        " '0.000*technigen + 0.000*palladium + 0.000*volkskas + 0.000*nicel + 0.000*periphery + 0.000*rouyn + 0.000*bayliss + 0.000*wk + 0.000*rands + 0.000*usdaprj',\n",
        " '0.000*apex + 0.000*kerosene + 0.000*mooring + 0.000*cpb + 0.000*pierson + 0.000*chronowitz + 0.000*msuya + 0.000*harbor + 0.000*jobless + 0.000*myra']"
       ]
      }
     ],
     "prompt_number": 99
    },
    {
     "cell_type": "code",
     "collapsed": false,
     "input": [],
     "language": "python",
     "metadata": {},
     "outputs": []
    }
   ],
   "metadata": {}
  }
 ]
}