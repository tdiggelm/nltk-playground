{
 "metadata": {
  "name": "",
  "signature": "sha256:65c482b914309449620996e9258f3bdb2d9f48098f89a9ca9ccd4ab45d5b6c29"
 },
 "nbformat": 3,
 "nbformat_minor": 0,
 "worksheets": [
  {
   "cells": [
    {
     "cell_type": "code",
     "collapsed": false,
     "input": [
      "from nathan.feature_extraction import *\n",
      "from gensim.matutils import Scipy2Corpus, scipy2sparse\n",
      "from gensim.similarities import MatrixSimilarity"
     ],
     "language": "python",
     "metadata": {},
     "outputs": [],
     "prompt_number": 6
    },
    {
     "cell_type": "code",
     "collapsed": false,
     "input": [
      "model = NathanModel(\"./reuters-cf.hnn\")"
     ],
     "language": "python",
     "metadata": {},
     "outputs": [],
     "prompt_number": 8
    },
    {
     "cell_type": "code",
     "collapsed": false,
     "input": [
      "tags = list(model.tags(\"cat:*\"))"
     ],
     "language": "python",
     "metadata": {},
     "outputs": [],
     "prompt_number": 41
    },
    {
     "cell_type": "code",
     "collapsed": false,
     "input": [
      "corpus = Scipy2Corpus([model.transform_tags(tag) for tag in tags])"
     ],
     "language": "python",
     "metadata": {},
     "outputs": [],
     "prompt_number": 42
    },
    {
     "cell_type": "code",
     "collapsed": false,
     "input": [
      "index = MatrixSimilarity(corpus, num_features=model.num_features())"
     ],
     "language": "python",
     "metadata": {},
     "outputs": [],
     "prompt_number": 43
    },
    {
     "cell_type": "code",
     "collapsed": false,
     "input": [
      "sims = index[scipy2sparse(model.transform_words(\"gold\"))]\n",
      "sorted(list(zip(tags, sims)),key=lambda x: x[1], reverse=True)[:10]"
     ],
     "language": "python",
     "metadata": {},
     "outputs": [
      {
       "metadata": {},
       "output_type": "pyout",
       "prompt_number": 46,
       "text": [
        "[('cat:gold', 0.48537534),\n",
        " ('cat:silver', 0.16064057),\n",
        " ('cat:lead', 0.065245166),\n",
        " ('cat:zinc', 0.063371137),\n",
        " ('cat:platinum', 0.048405185),\n",
        " ('cat:strategic-metal', 0.025649443),\n",
        " ('cat:copper', 0.022982284),\n",
        " ('cat:palladium', 0.019813031),\n",
        " ('cat:acq', 0.018433366),\n",
        " ('cat:earn', 0.017326202)]"
       ]
      }
     ],
     "prompt_number": 46
    },
    {
     "cell_type": "code",
     "collapsed": false,
     "input": [
      "sims = index[scipy2sparse(model.transform_words(\"silver\"))]\n",
      "sorted(list(zip(tags, sims)),key=lambda x: x[1], reverse=True)[:10]"
     ],
     "language": "python",
     "metadata": {},
     "outputs": [
      {
       "metadata": {},
       "output_type": "pyout",
       "prompt_number": 47,
       "text": [
        "[('cat:silver', 0.47479704),\n",
        " ('cat:gold', 0.17063645),\n",
        " ('cat:zinc', 0.082979508),\n",
        " ('cat:lead', 0.080984265),\n",
        " ('cat:strategic-metal', 0.045526411),\n",
        " ('cat:copper', 0.03527718),\n",
        " ('cat:platinum', 0.01099752),\n",
        " ('cat:acq', 0.0090283956),\n",
        " ('cat:yen', 0.0055356766),\n",
        " ('cat:earn', 0.0050958106)]"
       ]
      }
     ],
     "prompt_number": 47
    },
    {
     "cell_type": "code",
     "collapsed": false,
     "input": [
      "sims = index[scipy2sparse(model.transform_words(\"oil\"))]\n",
      "sorted(list(zip(tags, sims)),key=lambda x: x[1], reverse=True)[:10]"
     ],
     "language": "python",
     "metadata": {},
     "outputs": [
      {
       "metadata": {},
       "output_type": "pyout",
       "prompt_number": 54,
       "text": [
        "[('cat:crude', 0.38853088),\n",
        " ('cat:nat-gas', 0.19245009),\n",
        " ('cat:veg-oil', 0.12612204),\n",
        " ('cat:palm-oil', 0.12577391),\n",
        " ('cat:heat', 0.10328263),\n",
        " ('cat:castor-oil', 0.079372212),\n",
        " ('cat:ship', 0.061481778),\n",
        " ('cat:naphtha', 0.061270755),\n",
        " ('cat:fuel', 0.059849616),\n",
        " ('cat:sun-oil', 0.051509708)]"
       ]
      }
     ],
     "prompt_number": 54
    },
    {
     "cell_type": "code",
     "collapsed": false,
     "input": [
      "sims = index[scipy2sparse(model.transform_document(\"www.ai-one.com\"))]\n",
      "sorted(list(zip(tags, sims)),key=lambda x: x[1], reverse=True)[:10]"
     ],
     "language": "python",
     "metadata": {},
     "outputs": [
      {
       "metadata": {},
       "output_type": "pyout",
       "prompt_number": 55,
       "text": [
        "[('cat:earn', 0.027620191),\n",
        " ('cat:fuel', 0.026489675),\n",
        " ('cat:acq', 0.02394861),\n",
        " ('cat:interest', 0.022482071),\n",
        " ('cat:money-fx', 0.018526096),\n",
        " ('cat:trade', 0.016200598),\n",
        " ('cat:livestock', 0.011588156),\n",
        " ('cat:gold', 0.011470796),\n",
        " ('cat:grain', 0.010362006),\n",
        " ('cat:crude', 0.0098454282)]"
       ]
      }
     ],
     "prompt_number": 55
    },
    {
     "cell_type": "code",
     "collapsed": false,
     "input": [
      "sims = index[scipy2sparse(model.transform_document(\"http://en.wikipedia.org/wiki/Gold\"))]\n",
      "sorted(list(zip(tags, sims)),key=lambda x: x[1], reverse=True)[:10]"
     ],
     "language": "python",
     "metadata": {},
     "outputs": [
      {
       "metadata": {},
       "output_type": "pyout",
       "prompt_number": 56,
       "text": [
        "[('cat:cpu', 0.094282493),\n",
        " ('cat:gold', 0.058075819),\n",
        " ('cat:palladium', 0.057740778),\n",
        " ('cat:platinum', 0.0528666),\n",
        " ('cat:silver', 0.035564471),\n",
        " ('cat:pet-chem', 0.031939033),\n",
        " ('cat:acq', 0.028731138),\n",
        " ('cat:strategic-metal', 0.027979756),\n",
        " ('cat:nickel', 0.02683121),\n",
        " ('cat:earn', 0.026633147)]"
       ]
      }
     ],
     "prompt_number": 56
    },
    {
     "cell_type": "code",
     "collapsed": false,
     "input": [
      "sims = index[scipy2sparse(model.transform_document(\"http://en.wikipedia.org/wiki/Silver\"))]\n",
      "sorted(list(zip(tags, sims)),key=lambda x: x[1], reverse=True)[:10]"
     ],
     "language": "python",
     "metadata": {},
     "outputs": [
      {
       "metadata": {},
       "output_type": "pyout",
       "prompt_number": 57,
       "text": [
        "[('cat:silver', 0.085925922),\n",
        " ('cat:gold', 0.05229824),\n",
        " ('cat:pet-chem', 0.045981113),\n",
        " ('cat:strategic-metal', 0.044819277),\n",
        " ('cat:palladium', 0.040165499),\n",
        " ('cat:zinc', 0.036112353),\n",
        " ('cat:platinum', 0.032276012),\n",
        " ('cat:copper', 0.027986165),\n",
        " ('cat:earn', 0.024882168),\n",
        " ('cat:acq', 0.023769435)]"
       ]
      }
     ],
     "prompt_number": 57
    },
    {
     "cell_type": "code",
     "collapsed": false,
     "input": [
      "sims = index[scipy2sparse(model.transform_document(\"http://en.wikipedia.org/wiki/Exxon\"))]\n",
      "sorted(list(zip(tags, sims)),key=lambda x: x[1], reverse=True)[:10]"
     ],
     "language": "python",
     "metadata": {},
     "outputs": [
      {
       "metadata": {},
       "output_type": "pyout",
       "prompt_number": 58,
       "text": [
        "[('cat:acq', 0.028629668),\n",
        " ('cat:earn', 0.019282075),\n",
        " ('cat:nat-gas', 0.01786275),\n",
        " ('cat:crude', 0.01396659),\n",
        " ('cat:sugar', 0.0096059842),\n",
        " ('cat:gas', 0.0076151756),\n",
        " ('cat:wheat', 0.0063282307),\n",
        " ('cat:fuel', 0.0056395512),\n",
        " ('cat:alum', 0.0053217313),\n",
        " ('cat:grain', 0.0053205043)]"
       ]
      }
     ],
     "prompt_number": 58
    },
    {
     "cell_type": "code",
     "collapsed": false,
     "input": [
      "sims = index[scipy2sparse(model.transform_document(\"http://en.wikipedia.org/wiki/Gazprom\"))]\n",
      "sorted(list(zip(tags, sims)),key=lambda x: x[1], reverse=True)[:10]"
     ],
     "language": "python",
     "metadata": {},
     "outputs": [
      {
       "metadata": {},
       "output_type": "pyout",
       "prompt_number": 60,
       "text": [
        "[('cat:ipi', 0.082628377),\n",
        " ('cat:nat-gas', 0.040738739),\n",
        " ('cat:crude', 0.034386523),\n",
        " ('cat:grain', 0.020760188),\n",
        " ('cat:tea', 0.020479837),\n",
        " ('cat:platinum', 0.0183871),\n",
        " ('cat:acq', 0.015861347),\n",
        " ('cat:earn', 0.011002536),\n",
        " ('cat:orange', 0.010581397),\n",
        " ('cat:ship', 0.010364946)]"
       ]
      }
     ],
     "prompt_number": 60
    },
    {
     "cell_type": "code",
     "collapsed": false,
     "input": [],
     "language": "python",
     "metadata": {},
     "outputs": []
    }
   ],
   "metadata": {}
  }
 ]
}