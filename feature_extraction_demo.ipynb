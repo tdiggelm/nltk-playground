{
 "metadata": {
  "name": "",
  "signature": "sha256:a8fc8111f65f6944822b75e0f51e5452466378bffd7defa866fea2aac238c246"
 },
 "nbformat": 3,
 "nbformat_minor": 0,
 "worksheets": [
  {
   "cells": [
    {
     "cell_type": "markdown",
     "metadata": {},
     "source": [
      "# TODO\n",
      "* extract file to seperate examples repository\n",
      "* add LSI/LDA option to Matcher class"
     ]
    },
    {
     "cell_type": "code",
     "collapsed": false,
     "input": [
      "from nathan.feature_extraction import *\n",
      "from gensim.matutils import Scipy2Corpus, scipy2sparse\n",
      "from gensim.similarities import MatrixSimilarity, Similarity\n",
      "from gensim.corpora import MmCorpus"
     ],
     "language": "python",
     "metadata": {},
     "outputs": [],
     "prompt_number": 1
    },
    {
     "cell_type": "code",
     "collapsed": false,
     "input": [
      "from IPython.display import clear_output\n",
      "from sys import stdout\n",
      "def progress_map(function, iterable, num=None, step=10):\n",
      "    if num is None:\n",
      "        num = len(iterable)\n",
      "    for index, item in enumerate(iterable):\n",
      "        if index % step == 0:\n",
      "            clear_output(wait=True)\n",
      "            stdout.write(\"[\" + \"#\" * int(index/num*10) + \" \" * int((num-index)/num*10) + \"] \")\n",
      "            stdout.write(\"processing: %s of %s...\\n\" % (index, num))\n",
      "            stdout.flush()\n",
      "        yield function(item)\n",
      "    clear_output(wait=True)"
     ],
     "language": "python",
     "metadata": {},
     "outputs": [],
     "prompt_number": 2
    },
    {
     "cell_type": "code",
     "collapsed": false,
     "input": [
      "from nltk.corpus import reuters\n",
      "def print_doc_matches(matches):\n",
      "    for fileid, score in matches:\n",
      "        fileid = fileid[4:]\n",
      "        categories = reuters.categories(fileid)\n",
      "        text = reuters.raw(fileid)\n",
      "        print(\"FILE:       %s\" % fileid)\n",
      "        print(\"SCORE:      %0.2f\" % score)\n",
      "        print(\"CATEGORIES: %s\" % \", \".join(categories))\n",
      "        print(text[:250] + \"...\" if len(text) > 250 else \"\")\n",
      "        print()"
     ],
     "language": "python",
     "metadata": {},
     "outputs": [],
     "prompt_number": 3
    },
    {
     "cell_type": "code",
     "collapsed": false,
     "input": [
      "import pickle\n",
      "class Matcher:\n",
      "    def __init__(self, model, index, items):\n",
      "        self.model = model\n",
      "        self.index = index\n",
      "        self.items = items\n",
      "        \n",
      "    def match_vector(self, vector, topn=10):\n",
      "        sims = self.index[scipy2sparse(vector)]\n",
      "        return sorted(list(zip(self.items, sims)),key=lambda x: x[1], reverse=True)[:topn]\n",
      "    \n",
      "    def match_tags(self, *tags, **kwargs):\n",
      "        return self.match_vector(model.transform_tags(*tags), **kwargs)\n",
      "    \n",
      "    def match_words(self, *words, **kwargs):\n",
      "        return self.match_vector(model.transform_words(*words), **kwargs)\n",
      "    \n",
      "    def match_document(self, doc, **kwargs):\n",
      "        return self.match_vector(model.transform_document(doc), **kwargs)\n",
      "    \n",
      "    def _setup(self, prefix, model, items, function):\n",
      "        items = list(items)\n",
      "        corpus = Scipy2Corpus(progress_map(function, items))\n",
      "        index = Similarity(prefix, corpus, num_features=model.num_features())\n",
      "        self.model = model\n",
      "        self.index = index\n",
      "        self.items = items\n",
      "        self.prefix = prefix\n",
      "        \n",
      "    def save(self, prefix=None):\n",
      "        if prefix is None:\n",
      "            prefix = self.prefix\n",
      "        self.index.save('%s.index' % prefix)\n",
      "        with open('%s.dict' % prefix, 'wb') as f:\n",
      "            pickle.dump(self.items, f)\n",
      "    \n",
      "    @staticmethod\n",
      "    def load(prefix, model):\n",
      "        index = Similarity.load('%s.index' % prefix)\n",
      "        with open('%s.dict' % prefix, 'rb') as f:\n",
      "            items = pickle.load(f)\n",
      "        return Matcher(model, index, items) \n",
      "    \n",
      "class TagMatcher(Matcher):\n",
      "    def __init__(self, prefix, model, tags=None, *args, **kwargs):\n",
      "        if tags is None or isinstance(tags, str):\n",
      "            tags = list(model.tags(tags, *args, **kwargs))\n",
      "        self._setup(prefix, model, tags, model.transform_tags)\n",
      "        \n",
      "class WordMatcher(Matcher):\n",
      "    def __init__(self, prefix, model, words=None, *args, **kwargs):\n",
      "        if words is None or isinstance(words, str):\n",
      "            words = list(model.words(words, *args, **kwargs))\n",
      "        self._setup(prefix, model, words, model.transform_words)\n",
      "        "
     ],
     "language": "python",
     "metadata": {},
     "outputs": [],
     "prompt_number": 4
    },
    {
     "cell_type": "code",
     "collapsed": false,
     "input": [
      "import logging\n",
      "logging.basicConfig(format='%(asctime)s : %(levelname)s : %(message)s', level=logging.INFO)"
     ],
     "language": "python",
     "metadata": {},
     "outputs": [],
     "prompt_number": 5
    },
    {
     "cell_type": "code",
     "collapsed": false,
     "input": [
      "model = NathanModel(\"./reuters-cf.hnn\")"
     ],
     "language": "python",
     "metadata": {},
     "outputs": [],
     "prompt_number": 6
    },
    {
     "cell_type": "code",
     "collapsed": false,
     "input": [
      "try:\n",
      "    words = Matcher.load(\"words\", model)\n",
      "except:\n",
      "    words = WordMatcher(\"words\", model)\n",
      "    words.save(\"words\")\n",
      "    \n",
      "try:\n",
      "    docs = Matcher.load(\"docs\", model)\n",
      "except:\n",
      "    docs = TagMatcher(\"docs\", model, \"doc:*\")\n",
      "    docs.save(\"docs\")\n",
      "    \n",
      "try:\n",
      "    categories = Matcher.load(\"categories\", model)\n",
      "except:\n",
      "    categories = TagMatcher(\"categories\", model, \"cat:*\")\n",
      "    categories.save(\"categories\")"
     ],
     "language": "python",
     "metadata": {},
     "outputs": [],
     "prompt_number": 52
    },
    {
     "cell_type": "code",
     "collapsed": false,
     "input": [
      "docs.match_words(\"gold\")"
     ],
     "language": "python",
     "metadata": {},
     "outputs": [
      {
       "metadata": {},
       "output_type": "pyout",
       "prompt_number": 191,
       "text": [
        "[('doc:test/19802', 0.53332472),\n",
        " ('doc:test/19808', 0.5205909),\n",
        " ('doc:training/13900', 0.35225749),\n",
        " ('doc:training/11638', 0.25197756),\n",
        " ('doc:training/11627', 0.22717857),\n",
        " ('doc:test/19764', 0.20452245),\n",
        " ('doc:training/5526', 0.17891507),\n",
        " ('doc:training/5564', 0.16614971),\n",
        " ('doc:training/1082', 0.15258646),\n",
        " ('doc:training/1072', 0.14295574)]"
       ]
      }
     ],
     "prompt_number": 191
    },
    {
     "cell_type": "code",
     "collapsed": false,
     "input": [
      "categories.match_words(\"gold\")"
     ],
     "language": "python",
     "metadata": {},
     "outputs": [
      {
       "metadata": {},
       "output_type": "pyout",
       "prompt_number": 192,
       "text": [
        "[('cat:gold', 0.48531264),\n",
        " ('cat:silver', 0.16079381),\n",
        " ('cat:lead', 0.06538894),\n",
        " ('cat:zinc', 0.063433349),\n",
        " ('cat:platinum', 0.048316628),\n",
        " ('cat:strategic-metal', 0.025665855),\n",
        " ('cat:copper', 0.022991557),\n",
        " ('cat:palladium', 0.019833438),\n",
        " ('cat:acq', 0.017968873),\n",
        " ('cat:earn', 0.017126212)]"
       ]
      }
     ],
     "prompt_number": 192
    },
    {
     "cell_type": "code",
     "collapsed": false,
     "input": [
      "words.match_words(\"gold\")"
     ],
     "language": "python",
     "metadata": {},
     "outputs": [
      {
       "metadata": {},
       "output_type": "pyout",
       "prompt_number": 187,
       "text": [
        "[('gold', 0.99999928),\n",
        " ('gunnar', 0.53197294),\n",
        " ('tyranex', 0.52897632),\n",
        " ('tyranite', 0.52897632),\n",
        " ('kgs', 0.35366088),\n",
        " ('gldf', 0.35225624),\n",
        " ('cove', 0.29770964),\n",
        " ('rand', 0.28774136),\n",
        " ('echo', 0.28207663),\n",
        " ('mccoy', 0.23784229)]"
       ]
      }
     ],
     "prompt_number": 187
    },
    {
     "cell_type": "code",
     "collapsed": false,
     "input": [
      "categories.match_document(\"www.ai-one.com\")"
     ],
     "language": "python",
     "metadata": {},
     "outputs": [
      {
       "metadata": {},
       "output_type": "pyout",
       "prompt_number": 170,
       "text": [
        "[('cat:earn', 0.027476259),\n",
        " ('cat:fuel', 0.026508909),\n",
        " ('cat:acq', 0.02396844),\n",
        " ('cat:interest', 0.02277091),\n",
        " ('cat:money-fx', 0.017687384),\n",
        " ('cat:trade', 0.016391614),\n",
        " ('cat:livestock', 0.011511127),\n",
        " ('cat:gold', 0.011447676),\n",
        " ('cat:grain', 0.010181337),\n",
        " ('cat:crude', 0.0098065371)]"
       ]
      }
     ],
     "prompt_number": 170
    },
    {
     "cell_type": "code",
     "collapsed": false,
     "input": [
      "categories.match_document(\"http://en.wikipedia.org/wiki/Gold\")"
     ],
     "language": "python",
     "metadata": {},
     "outputs": [
      {
       "metadata": {},
       "output_type": "pyout",
       "prompt_number": 171,
       "text": [
        "[('cat:cpu', 0.09430632),\n",
        " ('cat:gold', 0.058245275),\n",
        " ('cat:palladium', 0.05773183),\n",
        " ('cat:platinum', 0.052888516),\n",
        " ('cat:silver', 0.03555778),\n",
        " ('cat:pet-chem', 0.032059439),\n",
        " ('cat:acq', 0.028895648),\n",
        " ('cat:strategic-metal', 0.028045064),\n",
        " ('cat:earn', 0.027131265),\n",
        " ('cat:nickel', 0.026838403)]"
       ]
      }
     ],
     "prompt_number": 171
    },
    {
     "cell_type": "code",
     "collapsed": false,
     "input": [
      "categories.match_document(\"http://en.wikipedia.org/wiki/Silver\")"
     ],
     "language": "python",
     "metadata": {},
     "outputs": [
      {
       "metadata": {},
       "output_type": "pyout",
       "prompt_number": 172,
       "text": [
        "[('cat:silver', 0.085836373),\n",
        " ('cat:gold', 0.052548636),\n",
        " ('cat:pet-chem', 0.046090052),\n",
        " ('cat:strategic-metal', 0.044834465),\n",
        " ('cat:palladium', 0.040169302),\n",
        " ('cat:zinc', 0.036089838),\n",
        " ('cat:platinum', 0.032279231),\n",
        " ('cat:copper', 0.027987489),\n",
        " ('cat:earn', 0.025127623),\n",
        " ('cat:acq', 0.02323121)]"
       ]
      }
     ],
     "prompt_number": 172
    },
    {
     "cell_type": "code",
     "collapsed": false,
     "input": [
      "categories.match_document(\"http://en.wikipedia.org/wiki/Exxon\")"
     ],
     "language": "python",
     "metadata": {},
     "outputs": [
      {
       "metadata": {},
       "output_type": "pyout",
       "prompt_number": 173,
       "text": [
        "[('cat:acq', 0.02924036),\n",
        " ('cat:earn', 0.019066261),\n",
        " ('cat:nat-gas', 0.017939547),\n",
        " ('cat:crude', 0.013867137),\n",
        " ('cat:sugar', 0.0095528644),\n",
        " ('cat:gas', 0.0076425057),\n",
        " ('cat:wheat', 0.00639096),\n",
        " ('cat:fuel', 0.0056456146),\n",
        " ('cat:grain', 0.0053711226),\n",
        " ('cat:alum', 0.0053283982)]"
       ]
      }
     ],
     "prompt_number": 173
    },
    {
     "cell_type": "code",
     "collapsed": false,
     "input": [
      "print_doc_matches(docs.match_words(\"silver\", topn=3))"
     ],
     "language": "python",
     "metadata": {},
     "outputs": [
      {
       "output_type": "stream",
       "stream": "stdout",
       "text": [
        "FILE:       training/6557\n",
        "SCORE:      0.46\n",
        "CATEGORIES: silver\n",
        "HANDY AND HARMAN SEES SUFFICIENT SILVER SUPPLIES\n",
        "  World stocks of silver are large\n",
        "  enough to accommodate any changes in the supply-demand equation\n",
        "  this year, with industrial consumption expected to again exceed\n",
        "  mine production, the dealer hous...\n",
        "\n",
        "FILE:       test/21314\n",
        "SCORE:      0.41\n",
        "CATEGORIES: gold, silver\n",
        "ARIZONA SILVER &lt;ASC> REPORTS ON BURRO CREEK\n",
        "  Arizona Silver Corp\n",
        "  said diamond drilling on its Burro Creek Mine Property, located\n",
        "  65 miles southeast of Kingman, Ariz., has begun.\n",
        "      The company said a report indicated that the Burro Creek\n",
        " ...\n",
        "\n",
        "FILE:       training/488\n",
        "SCORE:      0.40\n",
        "CATEGORIES: gold, silver\n",
        "AMAX &lt;AMX> IN GOLD, SILVER FIND\n",
        "  AMAX Incx said it has identified\n",
        "  additional gold and silver ore reserves at its AMAX Sleeper\n",
        "  Mine near Winnemucca, Nev..\n",
        "      It said as a result of recent drilling, reserves at thhe\n",
        "  mine are now estimated ...\n",
        "\n"
       ]
      }
     ],
     "prompt_number": 189
    },
    {
     "cell_type": "code",
     "collapsed": false,
     "input": [
      "categories.match_vector(model.transform_words(\"gold\")-model.transform_words(\"silver\"))"
     ],
     "language": "python",
     "metadata": {},
     "outputs": [
      {
       "metadata": {},
       "output_type": "pyout",
       "prompt_number": 208,
       "text": [
        "[('cat:gold', 0.23724321),\n",
        " ('cat:platinum', 0.028244447),\n",
        " ('cat:palladium', 0.013430276),\n",
        " ('cat:earn', 0.0091300141),\n",
        " ('cat:acq', 0.006984924),\n",
        " ('cat:nickel', 0.0056942706),\n",
        " ('cat:reserves', 0.0022875466),\n",
        " ('cat:nat-gas', 0.0021553943),\n",
        " ('cat:rand', 0.0017648508),\n",
        " ('cat:dmk', 0.001525598)]"
       ]
      }
     ],
     "prompt_number": 208
    },
    {
     "cell_type": "code",
     "collapsed": false,
     "input": [
      "term = lambda word: model.transform_words(word) "
     ],
     "language": "python",
     "metadata": {},
     "outputs": [],
     "prompt_number": 9
    },
    {
     "cell_type": "code",
     "collapsed": false,
     "input": [
      "from sklearn.preprocessing import normalize\n",
      "words.match_vector(normalize(term(\"gold\")-term(\"silver\")))"
     ],
     "language": "python",
     "metadata": {},
     "outputs": [
      {
       "metadata": {},
       "output_type": "pyout",
       "prompt_number": 15,
       "text": [
        "[('gold', 0.66189331),\n",
        " ('gunnar', 0.40257221),\n",
        " ('tyranex', 0.40032065),\n",
        " ('tyranite', 0.40032065),\n",
        " ('kgs', 0.2674419),\n",
        " ('gldf', 0.26637366),\n",
        " ('cove', 0.22383381),\n",
        " ('rand', 0.21760239),\n",
        " ('echo', 0.21272403),\n",
        " ('working', 0.17905818)]"
       ]
      }
     ],
     "prompt_number": 15
    },
    {
     "cell_type": "code",
     "collapsed": false,
     "input": [
      "from IPython.display import HTML\n",
      "HTML(\"<div><ul><li>test</li></ul></div>\")"
     ],
     "language": "python",
     "metadata": {},
     "outputs": [
      {
       "html": [
        "<div><ul><li>test</li></ul></div>"
       ],
       "metadata": {},
       "output_type": "pyout",
       "prompt_number": 17,
       "text": [
        "<IPython.core.display.HTML object>"
       ]
      }
     ],
     "prompt_number": 17
    },
    {
     "cell_type": "code",
     "collapsed": false,
     "input": [
      "def sim_as_ul(sims):\n",
      "    return \"<ul>%s</ul>\" % \"\".join(\"<li>%s (%0.2f)</li>\" % item for item in sims)"
     ],
     "language": "python",
     "metadata": {},
     "outputs": [],
     "prompt_number": 29
    },
    {
     "cell_type": "code",
     "collapsed": false,
     "input": [
      "from nltk.corpus import reuters\n",
      "def docs_as_html(matches):\n",
      "    html = \"\"\n",
      "    for fileid, score in matches:\n",
      "        fileid = fileid[4:]\n",
      "        categories = reuters.categories(fileid)\n",
      "        text = reuters.raw(fileid)\n",
      "        html += \"<h2>%s (%0.2f)</h2>\" % (fileid, score)\n",
      "        html += \"<p>Categories: %s</p>\" % \", \".join(categories)\n",
      "        html += \"<p>%s</p>\" % (text[:250] + \"...\" if len(text) > 250 else \"\")\n",
      "    return html"
     ],
     "language": "python",
     "metadata": {},
     "outputs": [],
     "prompt_number": 55
    },
    {
     "cell_type": "code",
     "collapsed": false,
     "input": [
      "def plot_similarities(vector):\n",
      "    ul_cat = sim_as_ul((term[4:], score) for term, score in categories.match_vector(vector))\n",
      "    ul_words = sim_as_ul((term, score) for term, score in words.match_vector(vector))\n",
      "    div_right = '<div style=\"float: right; width: 30%%\"><h3>similar categories</h3>%s<h3>similar words</h3>%s<div>' % (ul_cat, ul_words)\n",
      "    div_left = '<div style=\"float:left; width: 60%%\">%s</div>' % docs_as_html(docs.match_vector(vector))\n",
      "    return HTML(div_left+div_right)\n",
      "\n",
      "def plot_similarities_words(*words):\n",
      "    return plot_similarities(model.transform_words(*words))\n",
      "\n",
      "def plot_similarities_tags(*tags):\n",
      "    return plot_similarities(model.transform_tags(*tags))\n",
      "\n",
      "def plot_similarities_document(doc):\n",
      "    return plot_similarities(model.transform_document(doc))"
     ],
     "language": "python",
     "metadata": {},
     "outputs": [],
     "prompt_number": 71
    },
    {
     "cell_type": "code",
     "collapsed": false,
     "input": [
      "plot_similarities_words(\"gold\")"
     ],
     "language": "python",
     "metadata": {},
     "outputs": [
      {
       "html": [
        "<div style=\"float:left; width: 60%\"><h2>test/19802 (0.53)</h2><p>Categories: gold</p><p>GUNNAR GOLD (GGG.TO) IN VENTURE AGREEMENT\n",
        "  Gunnar Gold Inc said it and Mill City\n",
        "  Gold Inc signed an option and joint venture agreement with\n",
        "  Tyranex Gold Inc on the Tyranite gold property in Ontario.\n",
        "      Gunnar said it and Mill City can earn a ...</p><h2>test/19808 (0.52)</h2><p>Categories: gold</p><p>GUNNAR GOLD IN VENTURE AGREEMENT\n",
        "  Gunnar Gold Inc said it and Mill City\n",
        "  Gold Inc signed an option and joint venture agreement with\n",
        "  Tyranex Gold Inc on the Tyranite gold property in Ontario.\n",
        "      Gunnar said it and Mill City can earn a 50 pct in...</p><h2>training/13900 (0.35)</h2><p>Categories: earn</p><p>GOLD FIELDS OF S. AFRICA PROFIT FALLS IN QUARTER\n",
        "  1ST QTR TO MARCH 31\n",
        "      Working profit 487.50 mln rand vs 559.59 mln\n",
        "      Tax 274.28 mln vs 302.15 mln\n",
        "      Net 264.32 mln vs 300.99 mln\n",
        "      Tonnes milled 3.74 mln vs 3.72 mln\n",
        "      Gold produc...</p><h2>training/11638 (0.25)</h2><p>Categories: gold</p><p>ECHO BAY &lt;ECO> HAS NEVADA GOLD DISCOVERY\n",
        "  Echo Bay Mines Ltd said it\n",
        "  discovered a gold deposit in the Cove area near its McCoy gold\n",
        "  mine in Nevada.\n",
        "      Echo Bay said it encountered gold in 39 of 42 drill holes\n",
        "  at Cove. It said seven holes...</p><h2>training/11627 (0.23)</h2><p>Categories: gold</p><p>ECHO BAY HAS NEVADA GOLD DISCOVERY\n",
        "  Echo Bay Mines Ltd said it\n",
        "  discovered a gold deposit in the Cove area near its McCoy gold\n",
        "  mine in Nevada.\n",
        "      Echo Bay said it encountered gold in 39 of 42 drill holes\n",
        "  at Cove. It said seven holes averaged...</p><h2>test/19764 (0.20)</h2><p>Categories: gold, lead, silver, zinc</p><p>U.S. MINERALS &lt;USMX.O> COMMISSIONS NEW GOLD MINE\n",
        "  U.S. Minerals Exploration Co said it and\n",
        "  Pegasus Gold Inc &lt;PGUL.O> of Spokane, Wash, officially\n",
        "  commissioned a new gold, zinc and lead producing mine.\n",
        "      U.S. Minerals said the new Monta...</p><h2>training/5526 (0.18)</h2><p>Categories: gold</p><p>LEVON RESOURCES &lt;LVNVF> GOLD ASSAYS IMPROVED\n",
        "  Levon Resources Ltd\n",
        "  said re-checked gold assays from the Howard tunnel on its\n",
        "  Congress, British Columbia property yielded higher gold grades\n",
        "  than those reported in January and February.\n",
        "      It...</p><h2>training/5564 (0.17)</h2><p>Categories: gold</p><p>LEVON RESOURCES REPORTS IMPROVED GOLD ASSAYS\n",
        "  Levon Resources Ltd\n",
        "  said re-checked gold assays from the Howard tunnel on its\n",
        "  Congress, British Columbia property yielded higher gold grades\n",
        "  than those reported in January and February.\n",
        "      It sa...</p><h2>training/1082 (0.15)</h2><p>Categories: gold</p><p>MORE GOLD DETECTED AT DOYON MINE\n",
        "  Lac Minerals Ltd and Cambior Inc said\n",
        "  they completed a second hole at their jointly owned Doyon mine\n",
        "  in Quebec, which showed two significant gold intersections.\n",
        "      One intersection graded 0.33 ounce gold per ...</p><h2>training/1072 (0.14)</h2><p>Categories: gold</p><p>LAC &lt;LAC> INTERSECTS MORE GOLD AT DOYON MINE\n",
        "  Lac Minerals Ltd and &lt;Cambior Inc> said\n",
        "  they completed a second hole at their jointly owned Doyon mine\n",
        "  in Quebec, which showed two significant gold intersections.\n",
        "      One intersection graded ...</p></div><div style=\"float: right; width: 30%\"><h3>similar categories</h3><ul><li>gold (0.49)</li><li>silver (0.16)</li><li>lead (0.07)</li><li>zinc (0.06)</li><li>platinum (0.05)</li><li>strategic-metal (0.03)</li><li>copper (0.02)</li><li>palladium (0.02)</li><li>acq (0.02)</li><li>earn (0.02)</li></ul><h3>similar words</h3><ul><li>gold (1.00)</li><li>gunnar (0.53)</li><li>tyranex (0.53)</li><li>tyranite (0.53)</li><li>kgs (0.35)</li><li>gldf (0.35)</li><li>cove (0.30)</li><li>rand (0.29)</li><li>echo (0.28)</li><li>mccoy (0.24)</li></ul><div>"
       ],
       "metadata": {},
       "output_type": "pyout",
       "prompt_number": 77,
       "text": [
        "<IPython.core.display.HTML object>"
       ]
      }
     ],
     "prompt_number": 77
    },
    {
     "cell_type": "code",
     "collapsed": false,
     "input": [
      "plot_similarities_tags(\"cat:gold\")"
     ],
     "language": "python",
     "metadata": {},
     "outputs": [
      {
       "html": [
        "<div style=\"float:left; width: 60%\"><h2>training/5526 (0.20)</h2><p>Categories: gold</p><p>LEVON RESOURCES &lt;LVNVF> GOLD ASSAYS IMPROVED\n",
        "  Levon Resources Ltd\n",
        "  said re-checked gold assays from the Howard tunnel on its\n",
        "  Congress, British Columbia property yielded higher gold grades\n",
        "  than those reported in January and February.\n",
        "      It...</p><h2>training/1082 (0.18)</h2><p>Categories: gold</p><p>MORE GOLD DETECTED AT DOYON MINE\n",
        "  Lac Minerals Ltd and Cambior Inc said\n",
        "  they completed a second hole at their jointly owned Doyon mine\n",
        "  in Quebec, which showed two significant gold intersections.\n",
        "      One intersection graded 0.33 ounce gold per ...</p><h2>training/5564 (0.18)</h2><p>Categories: gold</p><p>LEVON RESOURCES REPORTS IMPROVED GOLD ASSAYS\n",
        "  Levon Resources Ltd\n",
        "  said re-checked gold assays from the Howard tunnel on its\n",
        "  Congress, British Columbia property yielded higher gold grades\n",
        "  than those reported in January and February.\n",
        "      It sa...</p><h2>training/1072 (0.17)</h2><p>Categories: gold</p><p>LAC &lt;LAC> INTERSECTS MORE GOLD AT DOYON MINE\n",
        "  Lac Minerals Ltd and &lt;Cambior Inc> said\n",
        "  they completed a second hole at their jointly owned Doyon mine\n",
        "  in Quebec, which showed two significant gold intersections.\n",
        "      One intersection graded ...</p><h2>training/4058 (0.16)</h2><p>Categories: acq, gold</p><p>NORTH BH SETS ONE-FOR-FIVE OFFER FOR NORGOLD FLOAT\n",
        "  North Broken Hill Holdings Ltd\n",
        "  &lt;NBHA.ME> (NBH) said it will offer one &lt;Norgold Ltd> share for\n",
        "  every five NBH shares in the float of its newly created gold\n",
        "  offshoot.\n",
        "      The 20 cent pa...</p><h2>training/3322 (0.16)</h2><p>Categories: gold</p><p>CAROLIN MINES HAS NEW GOLD ASSAY RESULTS\n",
        "  Carolin Mines Ltd\n",
        "  said recent assays of tailings at its Hope, British Columbia\n",
        "  mine ranged from 0.50 to 0.64 ounces of gold per ton. \n",
        "      There were only trace amounts of platinum and palladium,\n",
        "  the ...</p><h2>test/16589 (0.16)</h2><p>Categories: gold</p><p>HOMESTAKE &lt;HM> MULLS BUYING ORE RESERVES\n",
        "  Homestake Mining Co is considering\n",
        "  acquiring more gold ore reserves in addition to the company's\n",
        "  exploration efforts, chief executive Harry Conger told Reuters\n",
        "  in an interview.\n",
        "      \"We are looking...</p><h2>test/16604 (0.16)</h2><p>Categories: gold</p><p>HOMESTAKE MULLS BUYING ORE RESERVES\n",
        "  Homestake Mining Co is considering\n",
        "  acquiring more gold ore reserves in addition to the company's\n",
        "  exploration efforts, chief executive Harry Conger told Reuters\n",
        "  in an interview.\n",
        "      Conger said, \"the move ...</p><h2>training/2880 (0.15)</h2><p>Categories: copper, gold, nickel, palladium, platinum</p><p>TECHNIGEN PLATINUM CORP IN METALS FIND\n",
        "  Technigen Platinum corp said initial\n",
        "  results of a 13-hole drilling program on its R.M. Nicel\n",
        "  platinum property in Rouyn-Noranda, Quebec, indicate extensive\n",
        "  near-surface zones highly enriched in gold, pla...</p><h2>training/2782 (0.15)</h2><p>Categories: copper, gold, nickel, palladium, platinum</p><p>&lt;TECHNIGEN PLATINUM CORP> IN METALS FIND\n",
        "  Technigen Platinum corp said it\n",
        "  initial results of a 13-hole drilling program on its R.M. Nicel\n",
        "  platinum property in Rouyn-Noranda, Quebec, indicate\n",
        "  \"extensive\" near-surface zones \"highly\" enriched ...</p></div><div style=\"float: right; width: 30%\"><h3>similar categories</h3><ul><li>gold (1.00)</li><li>silver (0.36)</li><li>platinum (0.22)</li><li>palladium (0.14)</li><li>lead (0.10)</li><li>zinc (0.10)</li><li>nickel (0.08)</li><li>copper (0.08)</li><li>strategic-metal (0.06)</li><li>acq (0.02)</li></ul><h3>similar words</h3><ul><li>gold (0.49)</li><li>ton (0.34)</li><li>ounce (0.27)</li><li>ounces (0.25)</li><li>mine (0.25)</li><li>assays (0.23)</li><li>grading (0.23)</li><li>assay (0.21)</li><li>width (0.21)</li><li>hole (0.20)</li></ul><div>"
       ],
       "metadata": {},
       "output_type": "pyout",
       "prompt_number": 72,
       "text": [
        "<IPython.core.display.HTML object>"
       ]
      }
     ],
     "prompt_number": 72
    },
    {
     "cell_type": "code",
     "collapsed": false,
     "input": [
      "plot_similarities_document(\"http://en.wikipedia.org/wiki/Exxon\")"
     ],
     "language": "python",
     "metadata": {},
     "outputs": [
      {
       "html": [
        "<div style=\"float:left; width: 60%\"><h2>training/2490 (0.31)</h2><p>Categories: earn</p><p></p><h2>training/2492 (0.30)</h2><p>Categories: earn</p><p>SPAR SEES SEES STRONG FIVE-YEAR GROWTH\n",
        "  &lt;Spar Aerospace Ltd>, reporting a\n",
        "  sharply lower 1986 profit, said it anticipated solid profit and\n",
        "  revenue growth during the next five years.\n",
        "      \"Looking to the longer term, Spar is confident that its...</p><h2>training/1835 (0.20)</h2><p>Categories: acq</p><p>ROBERTSON UPS CAPITAL WIRE&lt;CWCC> STAKE TO 12 PCT\n",
        "  New York investor Julian Robertson\n",
        "  and several investment partnerships he controls said they\n",
        "  raised their stake in Capital Wire and Cable Corp to 481,800\n",
        "  shares, or 12.2 pct of the total, fr...</p><h2>training/6886 (0.19)</h2><p>Categories: acq</p><p>GREYHOUND CORP &lt;G> COMPLETES BUS LINE SALE\n",
        "  Greyhound corp said it completed\n",
        "  the sale of its Greyhound Lines unit to Dallas-based GLI\n",
        "  Holdings Inc for 350 mln dlrs in cash, securities, royalties\n",
        "  and other considerations.\n",
        "      Greyhound sai...</p><h2>training/679 (0.17)</h2><p>Categories: acq</p><p>&lt;PANTRY INC> INB TALKS ON BEING ACQUIRED\n",
        "  Privately-held Pantry Inc, which\n",
        "  operates 477 convenience stores in five Southeastern states,\n",
        "  said it has engaged Alex. Brown and Sons Inc &lt;ABSB> to explore\n",
        "  a possbile sale of the company.\n",
        "      ...</p><h2>training/2173 (0.11)</h2><p>Categories: earn</p><p>NATIONAL CONVENIENCE &lt;NCS> TO HAVE 3RD QTR LOSS\n",
        "  National Convenience Stores Inc said it\n",
        "  expects to report a loss for the third quarter ending March 31\n",
        "  due to continued poor sales in Texas, especially in Houston.\n",
        "      In last year's third qu...</p><h2>test/18476 (0.11)</h2><p>Categories: acq</p><p></p><h2>test/18479 (0.10)</h2><p>Categories: acq</p><p>DAIRY FARM BIDS 146.6 MLN STG FOR 22 PCT KWIK SAVE\n",
        "  &lt;Dairy Farm International Holdings\n",
        "  Ltd> said in a statement it is making a tender offer for 22 pct\n",
        "  of Kwik Save Discount Group Plc &lt;KWIK.L> of Britain for a total\n",
        "  146.6 mln stg.\n",
        "      D...</p><h2>training/1619 (0.10)</h2><p>Categories: nat-gas</p><p>STANDARD OIL &lt;SRD> IN TEXAS NATURAL GAS FIND\n",
        "  Standard Oil Co said the Friendswood\n",
        "  Development Number One well in the Fostoria or Deep Wilcox\n",
        "  Field of Montgomery County, Texas, flowed 4,500,000 cubic feet\n",
        "  of natural gas per day from depths ...</p><h2>test/16077 (0.08)</h2><p>Categories: crude</p><p>ECUADOR CRUDE OIL OUTPUT TO RESUME NEXT MONTH\n",
        "  Ecuador is due to resume limited crude oil\n",
        "  output on May 8 when a new 43 km pipeline to neighbouring\n",
        "  Colombia should be finished, an energy ministry spokesman said.\n",
        "      Oil output was halted on Ma...</p></div><div style=\"float: right; width: 30%\"><h3>similar categories</h3><ul><li>acq (0.03)</li><li>earn (0.02)</li><li>nat-gas (0.02)</li><li>crude (0.01)</li><li>sugar (0.01)</li><li>gas (0.01)</li><li>wheat (0.01)</li><li>fuel (0.01)</li><li>grain (0.01)</li><li>alum (0.01)</li></ul><h3>similar words</h3><ul><li>spar (0.30)</li><li>puma (0.28)</li><li>tiger (0.27)</li><li>dog (0.27)</li><li>logo (0.25)</li><li>connect (0.24)</li><li>running (0.23)</li><li>convenience (0.22)</li><li>inb (0.19)</li><li>gli (0.19)</li></ul><div>"
       ],
       "metadata": {},
       "output_type": "pyout",
       "prompt_number": 74,
       "text": [
        "<IPython.core.display.HTML object>"
       ]
      }
     ],
     "prompt_number": 74
    },
    {
     "cell_type": "code",
     "collapsed": false,
     "input": [],
     "language": "python",
     "metadata": {},
     "outputs": []
    }
   ],
   "metadata": {}
  }
 ]
}