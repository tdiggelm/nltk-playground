{
 "metadata": {
  "name": "",
  "signature": "sha256:710f5f94bbea6d7fa1bd06cfd634ce83c6370d206da47af63fad9452566be742"
 },
 "nbformat": 3,
 "nbformat_minor": 0,
 "worksheets": [
  {
   "cells": [
    {
     "cell_type": "code",
     "collapsed": false,
     "input": [
      "from nathan.feature_extraction import *\n",
      "from gensim.matutils import Scipy2Corpus, scipy2sparse\n",
      "from gensim.similarities import MatrixSimilarity, Similarity\n",
      "from gensim.corpora import MmCorpus"
     ],
     "language": "python",
     "metadata": {},
     "outputs": [],
     "prompt_number": 1
    },
    {
     "cell_type": "code",
     "collapsed": false,
     "input": [
      "from IPython.display import clear_output\n",
      "from sys import stdout\n",
      "def progress_map(function, iterable, num=None, step=10):\n",
      "    if num is None:\n",
      "        num = len(iterable)\n",
      "    for index, item in enumerate(iterable):\n",
      "        if index % step == 0:\n",
      "            clear_output(wait=True)\n",
      "            stdout.write(\"[\" + \"#\" * int(index/num*10) + \" \" * int((num-index)/num*10) + \"] \")\n",
      "            stdout.write(\"processing: %s of %s...\\n\" % (index, num))\n",
      "            stdout.flush()\n",
      "        yield function(item)\n",
      "    clear_output(wait=True)"
     ],
     "language": "python",
     "metadata": {},
     "outputs": [],
     "prompt_number": 2
    },
    {
     "cell_type": "code",
     "collapsed": false,
     "input": [
      "from nltk.corpus import reuters\n",
      "def print_doc_matches(matches):\n",
      "    for fileid, score in matches:\n",
      "        fileid = fileid[4:]\n",
      "        categories = reuters.categories(fileid)\n",
      "        text = reuters.raw(fileid)\n",
      "        print(\"FILE:       %s\" % fileid)\n",
      "        print(\"SCORE:      %0.2f\" % score)\n",
      "        print(\"CATEGORIES: %s\" % \", \".join(categories))\n",
      "        print(text[:250] + \"...\" if len(text) > 250 else \"\")\n",
      "        print()"
     ],
     "language": "python",
     "metadata": {},
     "outputs": [],
     "prompt_number": 3
    },
    {
     "cell_type": "code",
     "collapsed": false,
     "input": [
      "import pickle\n",
      "class Matcher:\n",
      "    def __init__(self, model, index, items):\n",
      "        self.model = model\n",
      "        self.index = index\n",
      "        self.items = items\n",
      "        \n",
      "    def match_vector(self, vector, topn=10):\n",
      "        sims = self.index[scipy2sparse(vector)]\n",
      "        return sorted(list(zip(self.items, sims)),key=lambda x: x[1], reverse=True)[:topn]\n",
      "    \n",
      "    def match_tags(self, *tags, **kwargs):\n",
      "        return self.match_vector(model.transform_tags(*tags), **kwargs)\n",
      "    \n",
      "    def match_words(self, *words, **kwargs):\n",
      "        return self.match_vector(model.transform_words(*words), **kwargs)\n",
      "    \n",
      "    def match_document(self, doc, **kwargs):\n",
      "        return self.match_vector(model.transform_document(doc), **kwargs)\n",
      "    \n",
      "    def _setup(self, prefix, model, items, function):\n",
      "        items = list(items)\n",
      "        corpus = Scipy2Corpus(progress_map(function, items))\n",
      "        index = Similarity(prefix, corpus, num_features=model.num_features())\n",
      "        self.model = model\n",
      "        self.index = index\n",
      "        self.items = items\n",
      "        self.prefix = prefix\n",
      "        \n",
      "    def save(self, prefix=None):\n",
      "        if prefix is None:\n",
      "            prefix = self.prefix\n",
      "        self.index.save('%s.index' % prefix)\n",
      "        with open('%s.dict' % prefix, 'wb') as f:\n",
      "            pickle.dump(self.items, f)\n",
      "    \n",
      "    @staticmethod\n",
      "    def load(prefix, model):\n",
      "        index = Similarity.load('%s.index' % prefix)\n",
      "        with open('%s.dict' % prefix, 'rb') as f:\n",
      "            items = pickle.load(f)\n",
      "        return Matcher(model, index, items) \n",
      "    \n",
      "class TagMatcher(Matcher):\n",
      "    def __init__(self, prefix, model, tags=None, *args, **kwargs):\n",
      "        if tags is None or isinstance(tags, str):\n",
      "            tags = list(model.tags(tags, *args, **kwargs))\n",
      "        self._setup(prefix, model, tags, model.transform_tags)\n",
      "        \n",
      "class WordMatcher(Matcher):\n",
      "    def __init__(self, prefix, model, words=None, *args, **kwargs):\n",
      "        if words is None or isinstance(words, str):\n",
      "            words = list(model.words(words, *args, **kwargs))\n",
      "        self._setup(prefix, model, words, model.transform_words)\n",
      "        "
     ],
     "language": "python",
     "metadata": {},
     "outputs": [],
     "prompt_number": 4
    },
    {
     "cell_type": "code",
     "collapsed": false,
     "input": [
      "import logging\n",
      "logging.basicConfig(format='%(asctime)s : %(levelname)s : %(message)s', level=logging.INFO)"
     ],
     "language": "python",
     "metadata": {},
     "outputs": [],
     "prompt_number": 5
    },
    {
     "cell_type": "code",
     "collapsed": false,
     "input": [
      "model = NathanModel(\"./reuters-cf.hnn\")"
     ],
     "language": "python",
     "metadata": {},
     "outputs": [],
     "prompt_number": 6
    },
    {
     "cell_type": "code",
     "collapsed": false,
     "input": [
      "try:\n",
      "    words = Matcher.load(\"words\", model)\n",
      "except:\n",
      "    words = WordMatcher(\"words\", model)\n",
      "    words.save(\"words\")\n",
      "    \n",
      "try:\n",
      "    docs = Matcher.load(\"docs\", model)\n",
      "except:\n",
      "    docs = TagMatcher(\"docs\", model, \"doc:*\")\n",
      "    docs.save(\"docs\")\n",
      "    \n",
      "try:\n",
      "    categories = Matcher.load(\"categories\", model)\n",
      "except:\n",
      "    categories = TagMatcher(\"categories\", model, \"cat:*\")\n",
      "    categories.save(\"categories\")"
     ],
     "language": "python",
     "metadata": {},
     "outputs": [],
     "prompt_number": 7
    },
    {
     "cell_type": "code",
     "collapsed": false,
     "input": [
      "docs.match_words(\"gold\")"
     ],
     "language": "python",
     "metadata": {},
     "outputs": [
      {
       "metadata": {},
       "output_type": "pyout",
       "prompt_number": 191,
       "text": [
        "[('doc:test/19802', 0.53332472),\n",
        " ('doc:test/19808', 0.5205909),\n",
        " ('doc:training/13900', 0.35225749),\n",
        " ('doc:training/11638', 0.25197756),\n",
        " ('doc:training/11627', 0.22717857),\n",
        " ('doc:test/19764', 0.20452245),\n",
        " ('doc:training/5526', 0.17891507),\n",
        " ('doc:training/5564', 0.16614971),\n",
        " ('doc:training/1082', 0.15258646),\n",
        " ('doc:training/1072', 0.14295574)]"
       ]
      }
     ],
     "prompt_number": 191
    },
    {
     "cell_type": "code",
     "collapsed": false,
     "input": [
      "categories.match_words(\"gold\")"
     ],
     "language": "python",
     "metadata": {},
     "outputs": [
      {
       "metadata": {},
       "output_type": "pyout",
       "prompt_number": 192,
       "text": [
        "[('cat:gold', 0.48531264),\n",
        " ('cat:silver', 0.16079381),\n",
        " ('cat:lead', 0.06538894),\n",
        " ('cat:zinc', 0.063433349),\n",
        " ('cat:platinum', 0.048316628),\n",
        " ('cat:strategic-metal', 0.025665855),\n",
        " ('cat:copper', 0.022991557),\n",
        " ('cat:palladium', 0.019833438),\n",
        " ('cat:acq', 0.017968873),\n",
        " ('cat:earn', 0.017126212)]"
       ]
      }
     ],
     "prompt_number": 192
    },
    {
     "cell_type": "code",
     "collapsed": false,
     "input": [
      "words.match_words(\"gold\")"
     ],
     "language": "python",
     "metadata": {},
     "outputs": [
      {
       "metadata": {},
       "output_type": "pyout",
       "prompt_number": 187,
       "text": [
        "[('gold', 0.99999928),\n",
        " ('gunnar', 0.53197294),\n",
        " ('tyranex', 0.52897632),\n",
        " ('tyranite', 0.52897632),\n",
        " ('kgs', 0.35366088),\n",
        " ('gldf', 0.35225624),\n",
        " ('cove', 0.29770964),\n",
        " ('rand', 0.28774136),\n",
        " ('echo', 0.28207663),\n",
        " ('mccoy', 0.23784229)]"
       ]
      }
     ],
     "prompt_number": 187
    },
    {
     "cell_type": "code",
     "collapsed": false,
     "input": [
      "categories.match_document(\"www.ai-one.com\")"
     ],
     "language": "python",
     "metadata": {},
     "outputs": [
      {
       "metadata": {},
       "output_type": "pyout",
       "prompt_number": 170,
       "text": [
        "[('cat:earn', 0.027476259),\n",
        " ('cat:fuel', 0.026508909),\n",
        " ('cat:acq', 0.02396844),\n",
        " ('cat:interest', 0.02277091),\n",
        " ('cat:money-fx', 0.017687384),\n",
        " ('cat:trade', 0.016391614),\n",
        " ('cat:livestock', 0.011511127),\n",
        " ('cat:gold', 0.011447676),\n",
        " ('cat:grain', 0.010181337),\n",
        " ('cat:crude', 0.0098065371)]"
       ]
      }
     ],
     "prompt_number": 170
    },
    {
     "cell_type": "code",
     "collapsed": false,
     "input": [
      "categories.match_document(\"http://en.wikipedia.org/wiki/Gold\")"
     ],
     "language": "python",
     "metadata": {},
     "outputs": [
      {
       "metadata": {},
       "output_type": "pyout",
       "prompt_number": 171,
       "text": [
        "[('cat:cpu', 0.09430632),\n",
        " ('cat:gold', 0.058245275),\n",
        " ('cat:palladium', 0.05773183),\n",
        " ('cat:platinum', 0.052888516),\n",
        " ('cat:silver', 0.03555778),\n",
        " ('cat:pet-chem', 0.032059439),\n",
        " ('cat:acq', 0.028895648),\n",
        " ('cat:strategic-metal', 0.028045064),\n",
        " ('cat:earn', 0.027131265),\n",
        " ('cat:nickel', 0.026838403)]"
       ]
      }
     ],
     "prompt_number": 171
    },
    {
     "cell_type": "code",
     "collapsed": false,
     "input": [
      "categories.match_document(\"http://en.wikipedia.org/wiki/Silver\")"
     ],
     "language": "python",
     "metadata": {},
     "outputs": [
      {
       "metadata": {},
       "output_type": "pyout",
       "prompt_number": 172,
       "text": [
        "[('cat:silver', 0.085836373),\n",
        " ('cat:gold', 0.052548636),\n",
        " ('cat:pet-chem', 0.046090052),\n",
        " ('cat:strategic-metal', 0.044834465),\n",
        " ('cat:palladium', 0.040169302),\n",
        " ('cat:zinc', 0.036089838),\n",
        " ('cat:platinum', 0.032279231),\n",
        " ('cat:copper', 0.027987489),\n",
        " ('cat:earn', 0.025127623),\n",
        " ('cat:acq', 0.02323121)]"
       ]
      }
     ],
     "prompt_number": 172
    },
    {
     "cell_type": "code",
     "collapsed": false,
     "input": [
      "categories.match_document(\"http://en.wikipedia.org/wiki/Exxon\")"
     ],
     "language": "python",
     "metadata": {},
     "outputs": [
      {
       "metadata": {},
       "output_type": "pyout",
       "prompt_number": 173,
       "text": [
        "[('cat:acq', 0.02924036),\n",
        " ('cat:earn', 0.019066261),\n",
        " ('cat:nat-gas', 0.017939547),\n",
        " ('cat:crude', 0.013867137),\n",
        " ('cat:sugar', 0.0095528644),\n",
        " ('cat:gas', 0.0076425057),\n",
        " ('cat:wheat', 0.00639096),\n",
        " ('cat:fuel', 0.0056456146),\n",
        " ('cat:grain', 0.0053711226),\n",
        " ('cat:alum', 0.0053283982)]"
       ]
      }
     ],
     "prompt_number": 173
    },
    {
     "cell_type": "code",
     "collapsed": false,
     "input": [
      "print_doc_matches(docs.match_words(\"silver\", topn=3))"
     ],
     "language": "python",
     "metadata": {},
     "outputs": [
      {
       "output_type": "stream",
       "stream": "stdout",
       "text": [
        "FILE:       training/6557\n",
        "SCORE:      0.46\n",
        "CATEGORIES: silver\n",
        "HANDY AND HARMAN SEES SUFFICIENT SILVER SUPPLIES\n",
        "  World stocks of silver are large\n",
        "  enough to accommodate any changes in the supply-demand equation\n",
        "  this year, with industrial consumption expected to again exceed\n",
        "  mine production, the dealer hous...\n",
        "\n",
        "FILE:       test/21314\n",
        "SCORE:      0.41\n",
        "CATEGORIES: gold, silver\n",
        "ARIZONA SILVER &lt;ASC> REPORTS ON BURRO CREEK\n",
        "  Arizona Silver Corp\n",
        "  said diamond drilling on its Burro Creek Mine Property, located\n",
        "  65 miles southeast of Kingman, Ariz., has begun.\n",
        "      The company said a report indicated that the Burro Creek\n",
        " ...\n",
        "\n",
        "FILE:       training/488\n",
        "SCORE:      0.40\n",
        "CATEGORIES: gold, silver\n",
        "AMAX &lt;AMX> IN GOLD, SILVER FIND\n",
        "  AMAX Incx said it has identified\n",
        "  additional gold and silver ore reserves at its AMAX Sleeper\n",
        "  Mine near Winnemucca, Nev..\n",
        "      It said as a result of recent drilling, reserves at thhe\n",
        "  mine are now estimated ...\n",
        "\n"
       ]
      }
     ],
     "prompt_number": 189
    },
    {
     "cell_type": "code",
     "collapsed": false,
     "input": [
      "categories.match_vector(model.transform_words(\"gold\")-model.transform_words(\"silver\"))"
     ],
     "language": "python",
     "metadata": {},
     "outputs": [
      {
       "metadata": {},
       "output_type": "pyout",
       "prompt_number": 208,
       "text": [
        "[('cat:gold', 0.23724321),\n",
        " ('cat:platinum', 0.028244447),\n",
        " ('cat:palladium', 0.013430276),\n",
        " ('cat:earn', 0.0091300141),\n",
        " ('cat:acq', 0.006984924),\n",
        " ('cat:nickel', 0.0056942706),\n",
        " ('cat:reserves', 0.0022875466),\n",
        " ('cat:nat-gas', 0.0021553943),\n",
        " ('cat:rand', 0.0017648508),\n",
        " ('cat:dmk', 0.001525598)]"
       ]
      }
     ],
     "prompt_number": 208
    },
    {
     "cell_type": "code",
     "collapsed": false,
     "input": [
      "term = lambda word: model.transform_words(word) "
     ],
     "language": "python",
     "metadata": {},
     "outputs": [],
     "prompt_number": 9
    },
    {
     "cell_type": "code",
     "collapsed": false,
     "input": [
      "from sklearn.preprocessing import normalize\n",
      "words.match_vector(normalize(term(\"king\")-term(\"man\")+term(\"woman\")))"
     ],
     "language": "python",
     "metadata": {},
     "outputs": [
      {
       "metadata": {},
       "output_type": "pyout",
       "prompt_number": 12,
       "text": [
        "[('king', 0.70710564),\n",
        " ('kwp', 0.40837672),\n",
        " ('burger', 0.37630966),\n",
        " ('fahd', 0.37235323),\n",
        " ('productions', 0.26124674),\n",
        " ('pillsbury', 0.19881219),\n",
        " ('psy', 0.10038999),\n",
        " ('distron', 0.099459775),\n",
        " ('quikwok', 0.099459775),\n",
        " ('grill', 0.099459775)]"
       ]
      }
     ],
     "prompt_number": 12
    },
    {
     "cell_type": "code",
     "collapsed": false,
     "input": [],
     "language": "python",
     "metadata": {},
     "outputs": []
    }
   ],
   "metadata": {}
  }
 ]
}