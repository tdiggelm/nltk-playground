{
 "metadata": {
  "name": "",
  "signature": "sha256:42a8f531de009ee8e419470527f5b648902fe91cff9974a18ea0275c5438d309"
 },
 "nbformat": 3,
 "nbformat_minor": 0,
 "worksheets": [
  {
   "cells": [
    {
     "cell_type": "code",
     "collapsed": false,
     "input": [
      "from nathan.feature_extraction import *\n",
      "from gensim.matutils import Scipy2Corpus, scipy2sparse\n",
      "from gensim.similarities import MatrixSimilarity"
     ],
     "language": "python",
     "metadata": {},
     "outputs": [],
     "prompt_number": 6
    },
    {
     "cell_type": "code",
     "collapsed": false,
     "input": [
      "model = NathanModel(\"./reuters-cf.hnn\")"
     ],
     "language": "python",
     "metadata": {},
     "outputs": [],
     "prompt_number": 8
    },
    {
     "cell_type": "code",
     "collapsed": false,
     "input": [
      "tags = list(model.tags(\"cat:*\"))"
     ],
     "language": "python",
     "metadata": {},
     "outputs": [],
     "prompt_number": 41
    },
    {
     "cell_type": "code",
     "collapsed": false,
     "input": [
      "corpus = Scipy2Corpus([model.transform_tags(tag) for tag in tags])"
     ],
     "language": "python",
     "metadata": {},
     "outputs": [],
     "prompt_number": 42
    },
    {
     "cell_type": "code",
     "collapsed": false,
     "input": [
      "index = MatrixSimilarity(corpus, num_features=model.num_features())"
     ],
     "language": "python",
     "metadata": {},
     "outputs": [],
     "prompt_number": 43
    },
    {
     "cell_type": "code",
     "collapsed": false,
     "input": [
      "def match_features(vector, topn=10):\n",
      "    sims = index[scipy2sparse(vector)]\n",
      "    return sorted(list(zip(tags, sims)),key=lambda x: x[1], reverse=True)[:topn]"
     ],
     "language": "python",
     "metadata": {},
     "outputs": [],
     "prompt_number": 63
    },
    {
     "cell_type": "code",
     "collapsed": false,
     "input": [
      "match_features(model.transform_words(\"gold\"))"
     ],
     "language": "python",
     "metadata": {},
     "outputs": [
      {
       "metadata": {},
       "output_type": "pyout",
       "prompt_number": 64,
       "text": [
        "[('cat:gold', 0.48543185),\n",
        " ('cat:silver', 0.16076617),\n",
        " ('cat:lead', 0.0653385),\n",
        " ('cat:zinc', 0.063458711),\n",
        " ('cat:platinum', 0.048324235),\n",
        " ('cat:strategic-metal', 0.02565611),\n",
        " ('cat:copper', 0.022982409),\n",
        " ('cat:palladium', 0.01983449),\n",
        " ('cat:acq', 0.018423397),\n",
        " ('cat:earn', 0.017313655)]"
       ]
      }
     ],
     "prompt_number": 64
    },
    {
     "cell_type": "code",
     "collapsed": false,
     "input": [
      "match_features(model.transform_words(\"silver\"))"
     ],
     "language": "python",
     "metadata": {},
     "outputs": [
      {
       "metadata": {},
       "output_type": "pyout",
       "prompt_number": 65,
       "text": [
        "[('cat:silver', 0.47485849),\n",
        " ('cat:gold', 0.17068842),\n",
        " ('cat:zinc', 0.083003998),\n",
        " ('cat:lead', 0.081019141),\n",
        " ('cat:strategic-metal', 0.045570955),\n",
        " ('cat:copper', 0.035300273),\n",
        " ('cat:platinum', 0.010935821),\n",
        " ('cat:acq', 0.0090296082),\n",
        " ('cat:yen', 0.0055283601),\n",
        " ('cat:earn', 0.0051010093)]"
       ]
      }
     ],
     "prompt_number": 65
    },
    {
     "cell_type": "code",
     "collapsed": false,
     "input": [
      "match_features(model.transform_words(\"oil\"))"
     ],
     "language": "python",
     "metadata": {},
     "outputs": [
      {
       "metadata": {},
       "output_type": "pyout",
       "prompt_number": 66,
       "text": [
        "[('cat:crude', 0.38792109),\n",
        " ('cat:nat-gas', 0.19191121),\n",
        " ('cat:veg-oil', 0.12582143),\n",
        " ('cat:palm-oil', 0.12571952),\n",
        " ('cat:heat', 0.10319392),\n",
        " ('cat:castor-oil', 0.078793652),\n",
        " ('cat:ship', 0.061252948),\n",
        " ('cat:naphtha', 0.060837615),\n",
        " ('cat:fuel', 0.059625465),\n",
        " ('cat:sun-oil', 0.051813483)]"
       ]
      }
     ],
     "prompt_number": 66
    },
    {
     "cell_type": "code",
     "collapsed": false,
     "input": [
      "match_features(model.transform_document(\"www.ai-one.com\"))"
     ],
     "language": "python",
     "metadata": {},
     "outputs": [
      {
       "metadata": {},
       "output_type": "pyout",
       "prompt_number": 67,
       "text": [
        "[('cat:earn', 0.02761782),\n",
        " ('cat:fuel', 0.026507385),\n",
        " ('cat:acq', 0.023962541),\n",
        " ('cat:interest', 0.022536499),\n",
        " ('cat:money-fx', 0.018526217),\n",
        " ('cat:trade', 0.016187232),\n",
        " ('cat:livestock', 0.011589511),\n",
        " ('cat:gold', 0.011460977),\n",
        " ('cat:grain', 0.010338342),\n",
        " ('cat:crude', 0.0098693296)]"
       ]
      }
     ],
     "prompt_number": 67
    },
    {
     "cell_type": "code",
     "collapsed": false,
     "input": [
      "match_features(model.transform_document(\"http://en.wikipedia.org/wiki/Gold\"))"
     ],
     "language": "python",
     "metadata": {},
     "outputs": [
      {
       "metadata": {},
       "output_type": "pyout",
       "prompt_number": 68,
       "text": [
        "[('cat:cpu', 0.094282493),\n",
        " ('cat:gold', 0.058075819),\n",
        " ('cat:palladium', 0.057740778),\n",
        " ('cat:platinum', 0.0528666),\n",
        " ('cat:silver', 0.035564471),\n",
        " ('cat:pet-chem', 0.031939033),\n",
        " ('cat:acq', 0.028731138),\n",
        " ('cat:strategic-metal', 0.027979756),\n",
        " ('cat:nickel', 0.02683121),\n",
        " ('cat:earn', 0.026633147)]"
       ]
      }
     ],
     "prompt_number": 68
    },
    {
     "cell_type": "code",
     "collapsed": false,
     "input": [
      "match_features(model.transform_document(\"http://en.wikipedia.org/wiki/Silver\"))"
     ],
     "language": "python",
     "metadata": {},
     "outputs": [
      {
       "metadata": {},
       "output_type": "pyout",
       "prompt_number": 57,
       "text": [
        "[('cat:silver', 0.085925922),\n",
        " ('cat:gold', 0.05229824),\n",
        " ('cat:pet-chem', 0.045981113),\n",
        " ('cat:strategic-metal', 0.044819277),\n",
        " ('cat:palladium', 0.040165499),\n",
        " ('cat:zinc', 0.036112353),\n",
        " ('cat:platinum', 0.032276012),\n",
        " ('cat:copper', 0.027986165),\n",
        " ('cat:earn', 0.024882168),\n",
        " ('cat:acq', 0.023769435)]"
       ]
      }
     ],
     "prompt_number": 57
    },
    {
     "cell_type": "code",
     "collapsed": false,
     "input": [
      "match_features(model.transform_document(\"http://en.wikipedia.org/wiki/Exxon\"))"
     ],
     "language": "python",
     "metadata": {},
     "outputs": [
      {
       "metadata": {},
       "output_type": "pyout",
       "prompt_number": 58,
       "text": [
        "[('cat:acq', 0.028629668),\n",
        " ('cat:earn', 0.019282075),\n",
        " ('cat:nat-gas', 0.01786275),\n",
        " ('cat:crude', 0.01396659),\n",
        " ('cat:sugar', 0.0096059842),\n",
        " ('cat:gas', 0.0076151756),\n",
        " ('cat:wheat', 0.0063282307),\n",
        " ('cat:fuel', 0.0056395512),\n",
        " ('cat:alum', 0.0053217313),\n",
        " ('cat:grain', 0.0053205043)]"
       ]
      }
     ],
     "prompt_number": 58
    },
    {
     "cell_type": "code",
     "collapsed": false,
     "input": [
      "match_features(model.transform_document(\"http://en.wikipedia.org/wiki/Gazprom\"))"
     ],
     "language": "python",
     "metadata": {},
     "outputs": [
      {
       "metadata": {},
       "output_type": "pyout",
       "prompt_number": 69,
       "text": [
        "[('cat:ipi', 0.082628377),\n",
        " ('cat:nat-gas', 0.040738739),\n",
        " ('cat:crude', 0.034386523),\n",
        " ('cat:grain', 0.020760188),\n",
        " ('cat:tea', 0.020479837),\n",
        " ('cat:platinum', 0.0183871),\n",
        " ('cat:acq', 0.015861347),\n",
        " ('cat:earn', 0.011002536),\n",
        " ('cat:orange', 0.010581397),\n",
        " ('cat:ship', 0.010364946)]"
       ]
      }
     ],
     "prompt_number": 69
    },
    {
     "cell_type": "code",
     "collapsed": false,
     "input": [],
     "language": "python",
     "metadata": {},
     "outputs": []
    }
   ],
   "metadata": {}
  }
 ]
}